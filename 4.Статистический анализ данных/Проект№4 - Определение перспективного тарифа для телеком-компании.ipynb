{
 "cells": [
  {
   "cell_type": "markdown",
   "id": "d8910f69",
   "metadata": {},
   "source": [
    "# Определение перспективного тарифа для телеком компании"
   ]
  },
  {
   "cell_type": "markdown",
   "id": "33613ebc",
   "metadata": {},
   "source": [
    "**Цель**: Определить выгодный тарифный план для корректировки рекламного бюджета.\n",
    "\n",
    "**Выборка**. Данные 500 пользователей тарифных планов «Смарт» и «Ультра»: кто они, откуда, каким тарифом пользуются, сколько звонков и сообщений каждый отправил за 2018 год.\n",
    "\n",
    "**Примечание**: «Мегалайн» всегда округляет секунды до минут, а мегабайты — до гигабайт:\n",
    "\n",
    "* Каждый звонок округляется отдельно: даже если он длился всего 1 секунду, будет засчитан как 1 минута. \n",
    "* Для веб-трафика отдельные сессии не считаются. Вместо этого общая сумма за месяц округляется в бо́льшую сторону. Если абонент использует 1025 мегабайт в этом месяце, с него возьмут плату за 2 гигабайта."
   ]
  },
  {
   "cell_type": "markdown",
   "id": "52327cc6",
   "metadata": {},
   "source": [
    "##  Обзор данных"
   ]
  },
  {
   "cell_type": "code",
   "execution_count": 25,
   "id": "50d16da8",
   "metadata": {},
   "outputs": [],
   "source": [
    "import pandas as pd\n",
    "import matplotlib.pyplot as plt\n",
    "import numpy as np    \n",
    "from scipy import stats as st\n",
    "import seaborn as sns\n",
    "%matplotlib inline\n",
    "pd.options.display.float_format = '{:.3f}'.format"
   ]
  },
  {
   "cell_type": "code",
   "execution_count": 26,
   "id": "dc3bbf64",
   "metadata": {},
   "outputs": [],
   "source": [
    "df_users = pd.read_csv('/datasets/users.csv')\n",
    "df_calls = pd.read_csv('/datasets/calls.csv')\n",
    "df_messages = pd.read_csv('/datasets/messages.csv')\n",
    "df_internet = pd.read_csv('/datasets/internet.csv')\n",
    "df_tariffs = pd.read_csv('/datasets/tariffs.csv')"
   ]
  },
  {
   "cell_type": "markdown",
   "id": "a83946aa",
   "metadata": {},
   "source": [
    "## Предобработка данных"
   ]
  },
  {
   "cell_type": "code",
   "execution_count": 27,
   "id": "0f0db8ed",
   "metadata": {},
   "outputs": [],
   "source": [
    "#Напишем функцию для получения первичной информации о датафрейме\n",
    "def first_look(df):\n",
    "    print('---------------------------Первые 5 строк----------------------------')\n",
    "    display(df.head())\n",
    "    print(' ')\n",
    "    print(' ')\n",
    "    print('--------------Общая информация--------------')\n",
    "    print(' ')\n",
    "    print(df.info())\n",
    "    print(' ')\n",
    "    print(' ')\n",
    "    print('-------------Пропуски------------- ')\n",
    "    count=0\n",
    "    for element in df.columns:\n",
    "        if df[element].isna().sum() > 0:\n",
    "            print(element, ' - ', df[element].isna().sum(), 'пропусков')\n",
    "            count = +1\n",
    "    if count == 0:\n",
    "        print('Пропусков НЕТ')\n",
    "    print(' ')\n",
    "    print(' ')\n",
    "    print('-------------Дубликаты------------ ')\n",
    "    if df.duplicated().sum() > 0:\n",
    "        print('Дубликатов: ', df.duplicated().sum())\n",
    "    else:\n",
    "        print('Дубликатов НЕТ')\n",
    "    print(' ')          "
   ]
  },
  {
   "cell_type": "markdown",
   "id": "0985d440",
   "metadata": {},
   "source": [
    "Рассмотрим таблицу **df_users**"
   ]
  },
  {
   "cell_type": "code",
   "execution_count": 28,
   "id": "90e6f2c3",
   "metadata": {},
   "outputs": [
    {
     "name": "stdout",
     "output_type": "stream",
     "text": [
      "---------------------------Первые 5 строк----------------------------\n"
     ]
    },
    {
     "data": {
      "text/html": [
       "<div>\n",
       "<style scoped>\n",
       "    .dataframe tbody tr th:only-of-type {\n",
       "        vertical-align: middle;\n",
       "    }\n",
       "\n",
       "    .dataframe tbody tr th {\n",
       "        vertical-align: top;\n",
       "    }\n",
       "\n",
       "    .dataframe thead th {\n",
       "        text-align: right;\n",
       "    }\n",
       "</style>\n",
       "<table border=\"1\" class=\"dataframe\">\n",
       "  <thead>\n",
       "    <tr style=\"text-align: right;\">\n",
       "      <th></th>\n",
       "      <th>user_id</th>\n",
       "      <th>age</th>\n",
       "      <th>churn_date</th>\n",
       "      <th>city</th>\n",
       "      <th>first_name</th>\n",
       "      <th>last_name</th>\n",
       "      <th>reg_date</th>\n",
       "      <th>tariff</th>\n",
       "    </tr>\n",
       "  </thead>\n",
       "  <tbody>\n",
       "    <tr>\n",
       "      <th>0</th>\n",
       "      <td>1000</td>\n",
       "      <td>52</td>\n",
       "      <td>NaN</td>\n",
       "      <td>Краснодар</td>\n",
       "      <td>Рафаил</td>\n",
       "      <td>Верещагин</td>\n",
       "      <td>2018-05-25</td>\n",
       "      <td>ultra</td>\n",
       "    </tr>\n",
       "    <tr>\n",
       "      <th>1</th>\n",
       "      <td>1001</td>\n",
       "      <td>41</td>\n",
       "      <td>NaN</td>\n",
       "      <td>Москва</td>\n",
       "      <td>Иван</td>\n",
       "      <td>Ежов</td>\n",
       "      <td>2018-11-01</td>\n",
       "      <td>smart</td>\n",
       "    </tr>\n",
       "    <tr>\n",
       "      <th>2</th>\n",
       "      <td>1002</td>\n",
       "      <td>59</td>\n",
       "      <td>NaN</td>\n",
       "      <td>Стерлитамак</td>\n",
       "      <td>Евгений</td>\n",
       "      <td>Абрамович</td>\n",
       "      <td>2018-06-17</td>\n",
       "      <td>smart</td>\n",
       "    </tr>\n",
       "    <tr>\n",
       "      <th>3</th>\n",
       "      <td>1003</td>\n",
       "      <td>23</td>\n",
       "      <td>NaN</td>\n",
       "      <td>Москва</td>\n",
       "      <td>Белла</td>\n",
       "      <td>Белякова</td>\n",
       "      <td>2018-08-17</td>\n",
       "      <td>ultra</td>\n",
       "    </tr>\n",
       "    <tr>\n",
       "      <th>4</th>\n",
       "      <td>1004</td>\n",
       "      <td>68</td>\n",
       "      <td>NaN</td>\n",
       "      <td>Новокузнецк</td>\n",
       "      <td>Татьяна</td>\n",
       "      <td>Авдеенко</td>\n",
       "      <td>2018-05-14</td>\n",
       "      <td>ultra</td>\n",
       "    </tr>\n",
       "  </tbody>\n",
       "</table>\n",
       "</div>"
      ],
      "text/plain": [
       "   user_id  age churn_date         city first_name  last_name    reg_date  \\\n",
       "0     1000   52        NaN    Краснодар     Рафаил  Верещагин  2018-05-25   \n",
       "1     1001   41        NaN       Москва       Иван       Ежов  2018-11-01   \n",
       "2     1002   59        NaN  Стерлитамак    Евгений  Абрамович  2018-06-17   \n",
       "3     1003   23        NaN       Москва      Белла   Белякова  2018-08-17   \n",
       "4     1004   68        NaN  Новокузнецк    Татьяна   Авдеенко  2018-05-14   \n",
       "\n",
       "  tariff  \n",
       "0  ultra  \n",
       "1  smart  \n",
       "2  smart  \n",
       "3  ultra  \n",
       "4  ultra  "
      ]
     },
     "metadata": {},
     "output_type": "display_data"
    },
    {
     "name": "stdout",
     "output_type": "stream",
     "text": [
      " \n",
      " \n",
      "--------------Общая информация--------------\n",
      " \n",
      "<class 'pandas.core.frame.DataFrame'>\n",
      "RangeIndex: 500 entries, 0 to 499\n",
      "Data columns (total 8 columns):\n",
      " #   Column      Non-Null Count  Dtype \n",
      "---  ------      --------------  ----- \n",
      " 0   user_id     500 non-null    int64 \n",
      " 1   age         500 non-null    int64 \n",
      " 2   churn_date  38 non-null     object\n",
      " 3   city        500 non-null    object\n",
      " 4   first_name  500 non-null    object\n",
      " 5   last_name   500 non-null    object\n",
      " 6   reg_date    500 non-null    object\n",
      " 7   tariff      500 non-null    object\n",
      "dtypes: int64(2), object(6)\n",
      "memory usage: 31.4+ KB\n",
      "None\n",
      " \n",
      " \n",
      "-------------Пропуски------------- \n",
      "churn_date  -  462 пропусков\n",
      " \n",
      " \n",
      "-------------Дубликаты------------ \n",
      "Дубликатов НЕТ\n",
      " \n"
     ]
    }
   ],
   "source": [
    "first_look(df_users)"
   ]
  },
  {
   "cell_type": "code",
   "execution_count": 29,
   "id": "1a2db6f9",
   "metadata": {},
   "outputs": [
    {
     "data": {
      "image/png": "[encoded data removed]",
      "text/plain": [
       "<Figure size 432x288 with 1 Axes>"
      ]
     },
     "metadata": {
      "needs_background": "light"
     },
     "output_type": "display_data"
    }
   ],
   "source": [
    "df_users.plot(kind='hist', y='age', bins=100)\n",
    "plt.title('Возраст пользователей', fontsize=18)\n",
    "plt.xlabel('Возраст')\n",
    "plt.ylabel('Количество')\n",
    "\n",
    "plt.show()"
   ]
  },
  {
   "cell_type": "markdown",
   "id": "493c77d2",
   "metadata": {},
   "source": [
    "В таблице 500 строк и 8 столбцов. Пропуски только в столбце churn_date, в котором по условию, если есть пропуски, то тариф ещё действовал на момент выгрузки данных. В столбцах churn_date и reg_date изменим тип на datetime"
   ]
  },
  {
   "cell_type": "code",
   "execution_count": 30,
   "id": "a94b1ed0",
   "metadata": {},
   "outputs": [
    {
     "name": "stdout",
     "output_type": "stream",
     "text": [
      "<class 'pandas.core.frame.DataFrame'>\n",
      "RangeIndex: 500 entries, 0 to 499\n",
      "Data columns (total 8 columns):\n",
      " #   Column      Non-Null Count  Dtype         \n",
      "---  ------      --------------  -----         \n",
      " 0   user_id     500 non-null    int64         \n",
      " 1   age         500 non-null    int64         \n",
      " 2   churn_date  38 non-null     datetime64[ns]\n",
      " 3   city        500 non-null    object        \n",
      " 4   first_name  500 non-null    object        \n",
      " 5   last_name   500 non-null    object        \n",
      " 6   reg_date    500 non-null    datetime64[ns]\n",
      " 7   tariff      500 non-null    object        \n",
      "dtypes: datetime64[ns](2), int64(2), object(4)\n",
      "memory usage: 31.4+ KB\n"
     ]
    }
   ],
   "source": [
    "df_users['churn_date'] = pd.to_datetime(df_users['churn_date'], format='%Y-%m-%d')\n",
    "df_users['reg_date'] = pd.to_datetime(df_users['reg_date'], format='%Y-%m-%d')\n",
    "df_users.info()"
   ]
  },
  {
   "cell_type": "markdown",
   "id": "6d0a1a22",
   "metadata": {},
   "source": [
    "Рассмотрим таблицу **df_calls**"
   ]
  },
  {
   "cell_type": "code",
   "execution_count": 31,
   "id": "49bb2b50",
   "metadata": {},
   "outputs": [
    {
     "name": "stdout",
     "output_type": "stream",
     "text": [
      "---------------------------Первые 5 строк----------------------------\n"
     ]
    },
    {
     "data": {
      "text/html": [
       "<div>\n",
       "<style scoped>\n",
       "    .dataframe tbody tr th:only-of-type {\n",
       "        vertical-align: middle;\n",
       "    }\n",
       "\n",
       "    .dataframe tbody tr th {\n",
       "        vertical-align: top;\n",
       "    }\n",
       "\n",
       "    .dataframe thead th {\n",
       "        text-align: right;\n",
       "    }\n",
       "</style>\n",
       "<table border=\"1\" class=\"dataframe\">\n",
       "  <thead>\n",
       "    <tr style=\"text-align: right;\">\n",
       "      <th></th>\n",
       "      <th>id</th>\n",
       "      <th>call_date</th>\n",
       "      <th>duration</th>\n",
       "      <th>user_id</th>\n",
       "    </tr>\n",
       "  </thead>\n",
       "  <tbody>\n",
       "    <tr>\n",
       "      <th>0</th>\n",
       "      <td>1000_0</td>\n",
       "      <td>2018-07-25</td>\n",
       "      <td>0.000</td>\n",
       "      <td>1000</td>\n",
       "    </tr>\n",
       "    <tr>\n",
       "      <th>1</th>\n",
       "      <td>1000_1</td>\n",
       "      <td>2018-08-17</td>\n",
       "      <td>0.000</td>\n",
       "      <td>1000</td>\n",
       "    </tr>\n",
       "    <tr>\n",
       "      <th>2</th>\n",
       "      <td>1000_2</td>\n",
       "      <td>2018-06-11</td>\n",
       "      <td>2.850</td>\n",
       "      <td>1000</td>\n",
       "    </tr>\n",
       "    <tr>\n",
       "      <th>3</th>\n",
       "      <td>1000_3</td>\n",
       "      <td>2018-09-21</td>\n",
       "      <td>13.800</td>\n",
       "      <td>1000</td>\n",
       "    </tr>\n",
       "    <tr>\n",
       "      <th>4</th>\n",
       "      <td>1000_4</td>\n",
       "      <td>2018-12-15</td>\n",
       "      <td>5.180</td>\n",
       "      <td>1000</td>\n",
       "    </tr>\n",
       "  </tbody>\n",
       "</table>\n",
       "</div>"
      ],
      "text/plain": [
       "       id   call_date  duration  user_id\n",
       "0  1000_0  2018-07-25     0.000     1000\n",
       "1  1000_1  2018-08-17     0.000     1000\n",
       "2  1000_2  2018-06-11     2.850     1000\n",
       "3  1000_3  2018-09-21    13.800     1000\n",
       "4  1000_4  2018-12-15     5.180     1000"
      ]
     },
     "metadata": {},
     "output_type": "display_data"
    },
    {
     "name": "stdout",
     "output_type": "stream",
     "text": [
      " \n",
      " \n",
      "--------------Общая информация--------------\n",
      " \n",
      "<class 'pandas.core.frame.DataFrame'>\n",
      "RangeIndex: 202607 entries, 0 to 202606\n",
      "Data columns (total 4 columns):\n",
      " #   Column     Non-Null Count   Dtype  \n",
      "---  ------     --------------   -----  \n",
      " 0   id         202607 non-null  object \n",
      " 1   call_date  202607 non-null  object \n",
      " 2   duration   202607 non-null  float64\n",
      " 3   user_id    202607 non-null  int64  \n",
      "dtypes: float64(1), int64(1), object(2)\n",
      "memory usage: 6.2+ MB\n",
      "None\n",
      " \n",
      " \n",
      "-------------Пропуски------------- \n",
      "Пропусков НЕТ\n",
      " \n",
      " \n",
      "-------------Дубликаты------------ \n",
      "Дубликатов НЕТ\n",
      " \n"
     ]
    }
   ],
   "source": [
    "first_look(df_calls)"
   ]
  },
  {
   "cell_type": "markdown",
   "id": "9878582e",
   "metadata": {},
   "source": [
    "В таблице 202607 строк и 4 столбца, пропуски отсутствуют. Столбец call_date переведём в datetime. По условию \"Мегалайн\" всегда округляет секунды до минуты, поэтому обработаем столбец duration и переведём его в int"
   ]
  },
  {
   "cell_type": "code",
   "execution_count": 32,
   "id": "1760bdc6",
   "metadata": {},
   "outputs": [
    {
     "name": "stdout",
     "output_type": "stream",
     "text": [
      "<class 'pandas.core.frame.DataFrame'>\n",
      "RangeIndex: 202607 entries, 0 to 202606\n",
      "Data columns (total 4 columns):\n",
      " #   Column     Non-Null Count   Dtype         \n",
      "---  ------     --------------   -----         \n",
      " 0   id         202607 non-null  object        \n",
      " 1   call_date  202607 non-null  datetime64[ns]\n",
      " 2   duration   202607 non-null  int64         \n",
      " 3   user_id    202607 non-null  int64         \n",
      "dtypes: datetime64[ns](1), int64(2), object(1)\n",
      "memory usage: 6.2+ MB\n"
     ]
    },
    {
     "data": {
      "text/html": [
       "<div>\n",
       "<style scoped>\n",
       "    .dataframe tbody tr th:only-of-type {\n",
       "        vertical-align: middle;\n",
       "    }\n",
       "\n",
       "    .dataframe tbody tr th {\n",
       "        vertical-align: top;\n",
       "    }\n",
       "\n",
       "    .dataframe thead th {\n",
       "        text-align: right;\n",
       "    }\n",
       "</style>\n",
       "<table border=\"1\" class=\"dataframe\">\n",
       "  <thead>\n",
       "    <tr style=\"text-align: right;\">\n",
       "      <th></th>\n",
       "      <th>id</th>\n",
       "      <th>call_date</th>\n",
       "      <th>duration</th>\n",
       "      <th>user_id</th>\n",
       "    </tr>\n",
       "  </thead>\n",
       "  <tbody>\n",
       "    <tr>\n",
       "      <th>98677</th>\n",
       "      <td>1251_39</td>\n",
       "      <td>2018-08-21</td>\n",
       "      <td>9</td>\n",
       "      <td>1251</td>\n",
       "    </tr>\n",
       "    <tr>\n",
       "      <th>71389</th>\n",
       "      <td>1178_149</td>\n",
       "      <td>2018-05-31</td>\n",
       "      <td>6</td>\n",
       "      <td>1178</td>\n",
       "    </tr>\n",
       "    <tr>\n",
       "      <th>2847</th>\n",
       "      <td>1007_50</td>\n",
       "      <td>2018-07-27</td>\n",
       "      <td>16</td>\n",
       "      <td>1007</td>\n",
       "    </tr>\n",
       "    <tr>\n",
       "      <th>146106</th>\n",
       "      <td>1372_284</td>\n",
       "      <td>2018-07-03</td>\n",
       "      <td>6</td>\n",
       "      <td>1372</td>\n",
       "    </tr>\n",
       "    <tr>\n",
       "      <th>22792</th>\n",
       "      <td>1058_161</td>\n",
       "      <td>2018-11-20</td>\n",
       "      <td>6</td>\n",
       "      <td>1058</td>\n",
       "    </tr>\n",
       "    <tr>\n",
       "      <th>113043</th>\n",
       "      <td>1290_221</td>\n",
       "      <td>2018-12-08</td>\n",
       "      <td>4</td>\n",
       "      <td>1290</td>\n",
       "    </tr>\n",
       "    <tr>\n",
       "      <th>132939</th>\n",
       "      <td>1341_169</td>\n",
       "      <td>2018-12-16</td>\n",
       "      <td>0</td>\n",
       "      <td>1341</td>\n",
       "    </tr>\n",
       "    <tr>\n",
       "      <th>114770</th>\n",
       "      <td>1294_110</td>\n",
       "      <td>2018-05-05</td>\n",
       "      <td>13</td>\n",
       "      <td>1294</td>\n",
       "    </tr>\n",
       "    <tr>\n",
       "      <th>70094</th>\n",
       "      <td>1175_243</td>\n",
       "      <td>2018-12-26</td>\n",
       "      <td>1</td>\n",
       "      <td>1175</td>\n",
       "    </tr>\n",
       "    <tr>\n",
       "      <th>112702</th>\n",
       "      <td>1289_560</td>\n",
       "      <td>2018-11-02</td>\n",
       "      <td>15</td>\n",
       "      <td>1289</td>\n",
       "    </tr>\n",
       "  </tbody>\n",
       "</table>\n",
       "</div>"
      ],
      "text/plain": [
       "              id  call_date  duration  user_id\n",
       "98677    1251_39 2018-08-21         9     1251\n",
       "71389   1178_149 2018-05-31         6     1178\n",
       "2847     1007_50 2018-07-27        16     1007\n",
       "146106  1372_284 2018-07-03         6     1372\n",
       "22792   1058_161 2018-11-20         6     1058\n",
       "113043  1290_221 2018-12-08         4     1290\n",
       "132939  1341_169 2018-12-16         0     1341\n",
       "114770  1294_110 2018-05-05        13     1294\n",
       "70094   1175_243 2018-12-26         1     1175\n",
       "112702  1289_560 2018-11-02        15     1289"
      ]
     },
     "execution_count": 32,
     "metadata": {},
     "output_type": "execute_result"
    }
   ],
   "source": [
    "df_calls['call_date'] = pd.to_datetime(df_calls['call_date'], format='%Y-%m-%d')\n",
    "df_calls['duration'] = df_calls['duration'].apply(np.ceil)\n",
    "df_calls['duration'] = df_calls['duration'].astype('int')\n",
    "df_calls.info()\n",
    "df_calls.sample(10)"
   ]
  },
  {
   "cell_type": "markdown",
   "id": "68d4f37d",
   "metadata": {},
   "source": [
    "<div class=\"alert alert-block alert-info\">\n",
    "<b>💾 Fixed:</b> \n",
    "Добавлена гистограмма:"
   ]
  },
  {
   "cell_type": "code",
   "execution_count": 33,
   "id": "27d53f29",
   "metadata": {},
   "outputs": [
    {
     "data": {
      "image/png": "[encoded data removed]",
      "text/plain": [
       "<Figure size 432x288 with 1 Axes>"
      ]
     },
     "metadata": {
      "needs_background": "light"
     },
     "output_type": "display_data"
    }
   ],
   "source": [
    "df_calls.plot(kind='hist', y='duration', bins=30)\n",
    "plt.title('Длительность звонков', fontsize=18)\n",
    "plt.xlabel('Минуты')\n",
    "plt.ylabel('Количество')\n",
    "\n",
    "plt.show()"
   ]
  },
  {
   "cell_type": "code",
   "execution_count": 34,
   "id": "b502f122",
   "metadata": {},
   "outputs": [
    {
     "data": {
      "text/plain": [
       "0     39613\n",
       "7     11510\n",
       "6     11457\n",
       "5     11411\n",
       "8     11272\n",
       "9     10973\n",
       "4     10918\n",
       "3     10362\n",
       "10    10186\n",
       "11     9385\n",
       "2      9194\n",
       "12     8448\n",
       "1      8402\n",
       "13     7486\n",
       "14     6554\n",
       "15     5505\n",
       "16     4551\n",
       "17     3671\n",
       "18     2984\n",
       "19     2411\n",
       "20     1806\n",
       "21     1304\n",
       "22      975\n",
       "23      720\n",
       "24      468\n",
       "25      363\n",
       "26      257\n",
       "27      151\n",
       "28      104\n",
       "29       56\n",
       "30       39\n",
       "31       30\n",
       "32       17\n",
       "33       10\n",
       "35        5\n",
       "34        3\n",
       "36        2\n",
       "37        2\n",
       "38        2\n",
       "Name: duration, dtype: int64"
      ]
     },
     "execution_count": 34,
     "metadata": {},
     "output_type": "execute_result"
    }
   ],
   "source": [
    "df_calls['duration'].value_counts()"
   ]
  },
  {
   "cell_type": "markdown",
   "id": "28ae29a7",
   "metadata": {},
   "source": [
    "Очень много значений с нулевой продолжительностью звонка - 39613. По условию это не ошибки, а пропущенные звонки, оставляем как есть. "
   ]
  },
  {
   "cell_type": "markdown",
   "id": "c639e690",
   "metadata": {},
   "source": [
    "Рассмотрим таблицу **df_messages**"
   ]
  },
  {
   "cell_type": "code",
   "execution_count": 35,
   "id": "7ce237bb",
   "metadata": {},
   "outputs": [
    {
     "name": "stdout",
     "output_type": "stream",
     "text": [
      "---------------------------Первые 5 строк----------------------------\n"
     ]
    },
    {
     "data": {
      "text/html": [
       "<div>\n",
       "<style scoped>\n",
       "    .dataframe tbody tr th:only-of-type {\n",
       "        vertical-align: middle;\n",
       "    }\n",
       "\n",
       "    .dataframe tbody tr th {\n",
       "        vertical-align: top;\n",
       "    }\n",
       "\n",
       "    .dataframe thead th {\n",
       "        text-align: right;\n",
       "    }\n",
       "</style>\n",
       "<table border=\"1\" class=\"dataframe\">\n",
       "  <thead>\n",
       "    <tr style=\"text-align: right;\">\n",
       "      <th></th>\n",
       "      <th>id</th>\n",
       "      <th>message_date</th>\n",
       "      <th>user_id</th>\n",
       "    </tr>\n",
       "  </thead>\n",
       "  <tbody>\n",
       "    <tr>\n",
       "      <th>0</th>\n",
       "      <td>1000_0</td>\n",
       "      <td>2018-06-27</td>\n",
       "      <td>1000</td>\n",
       "    </tr>\n",
       "    <tr>\n",
       "      <th>1</th>\n",
       "      <td>1000_1</td>\n",
       "      <td>2018-10-08</td>\n",
       "      <td>1000</td>\n",
       "    </tr>\n",
       "    <tr>\n",
       "      <th>2</th>\n",
       "      <td>1000_2</td>\n",
       "      <td>2018-08-04</td>\n",
       "      <td>1000</td>\n",
       "    </tr>\n",
       "    <tr>\n",
       "      <th>3</th>\n",
       "      <td>1000_3</td>\n",
       "      <td>2018-06-16</td>\n",
       "      <td>1000</td>\n",
       "    </tr>\n",
       "    <tr>\n",
       "      <th>4</th>\n",
       "      <td>1000_4</td>\n",
       "      <td>2018-12-05</td>\n",
       "      <td>1000</td>\n",
       "    </tr>\n",
       "  </tbody>\n",
       "</table>\n",
       "</div>"
      ],
      "text/plain": [
       "       id message_date  user_id\n",
       "0  1000_0   2018-06-27     1000\n",
       "1  1000_1   2018-10-08     1000\n",
       "2  1000_2   2018-08-04     1000\n",
       "3  1000_3   2018-06-16     1000\n",
       "4  1000_4   2018-12-05     1000"
      ]
     },
     "metadata": {},
     "output_type": "display_data"
    },
    {
     "name": "stdout",
     "output_type": "stream",
     "text": [
      " \n",
      " \n",
      "--------------Общая информация--------------\n",
      " \n",
      "<class 'pandas.core.frame.DataFrame'>\n",
      "RangeIndex: 123036 entries, 0 to 123035\n",
      "Data columns (total 3 columns):\n",
      " #   Column        Non-Null Count   Dtype \n",
      "---  ------        --------------   ----- \n",
      " 0   id            123036 non-null  object\n",
      " 1   message_date  123036 non-null  object\n",
      " 2   user_id       123036 non-null  int64 \n",
      "dtypes: int64(1), object(2)\n",
      "memory usage: 2.8+ MB\n",
      "None\n",
      " \n",
      " \n",
      "-------------Пропуски------------- \n",
      "Пропусков НЕТ\n",
      " \n",
      " \n",
      "-------------Дубликаты------------ \n",
      "Дубликатов НЕТ\n",
      " \n"
     ]
    }
   ],
   "source": [
    "first_look(df_messages)"
   ]
  },
  {
   "cell_type": "markdown",
   "id": "46cfb263",
   "metadata": {},
   "source": [
    "В таблице 123036 строк и 3 столбца, пропуски отсутствуют. Столбец message_date переведём в datetime."
   ]
  },
  {
   "cell_type": "code",
   "execution_count": 36,
   "id": "3ba25a8b",
   "metadata": {},
   "outputs": [
    {
     "name": "stdout",
     "output_type": "stream",
     "text": [
      "<class 'pandas.core.frame.DataFrame'>\n",
      "RangeIndex: 123036 entries, 0 to 123035\n",
      "Data columns (total 3 columns):\n",
      " #   Column        Non-Null Count   Dtype         \n",
      "---  ------        --------------   -----         \n",
      " 0   id            123036 non-null  object        \n",
      " 1   message_date  123036 non-null  datetime64[ns]\n",
      " 2   user_id       123036 non-null  int64         \n",
      "dtypes: datetime64[ns](1), int64(1), object(1)\n",
      "memory usage: 2.8+ MB\n"
     ]
    }
   ],
   "source": [
    "df_messages['message_date'] = pd.to_datetime(df_messages['message_date'], format='%Y-%m-%d')\n",
    "df_messages.info()"
   ]
  },
  {
   "cell_type": "markdown",
   "id": "59f54876",
   "metadata": {},
   "source": [
    "Рассмотрим таблицу **df_internet**"
   ]
  },
  {
   "cell_type": "code",
   "execution_count": 37,
   "id": "9d8cf156",
   "metadata": {},
   "outputs": [
    {
     "name": "stdout",
     "output_type": "stream",
     "text": [
      "---------------------------Первые 5 строк----------------------------\n"
     ]
    },
    {
     "data": {
      "text/html": [
       "<div>\n",
       "<style scoped>\n",
       "    .dataframe tbody tr th:only-of-type {\n",
       "        vertical-align: middle;\n",
       "    }\n",
       "\n",
       "    .dataframe tbody tr th {\n",
       "        vertical-align: top;\n",
       "    }\n",
       "\n",
       "    .dataframe thead th {\n",
       "        text-align: right;\n",
       "    }\n",
       "</style>\n",
       "<table border=\"1\" class=\"dataframe\">\n",
       "  <thead>\n",
       "    <tr style=\"text-align: right;\">\n",
       "      <th></th>\n",
       "      <th>Unnamed: 0</th>\n",
       "      <th>id</th>\n",
       "      <th>mb_used</th>\n",
       "      <th>session_date</th>\n",
       "      <th>user_id</th>\n",
       "    </tr>\n",
       "  </thead>\n",
       "  <tbody>\n",
       "    <tr>\n",
       "      <th>0</th>\n",
       "      <td>0</td>\n",
       "      <td>1000_0</td>\n",
       "      <td>112.950</td>\n",
       "      <td>2018-11-25</td>\n",
       "      <td>1000</td>\n",
       "    </tr>\n",
       "    <tr>\n",
       "      <th>1</th>\n",
       "      <td>1</td>\n",
       "      <td>1000_1</td>\n",
       "      <td>1052.810</td>\n",
       "      <td>2018-09-07</td>\n",
       "      <td>1000</td>\n",
       "    </tr>\n",
       "    <tr>\n",
       "      <th>2</th>\n",
       "      <td>2</td>\n",
       "      <td>1000_2</td>\n",
       "      <td>1197.260</td>\n",
       "      <td>2018-06-25</td>\n",
       "      <td>1000</td>\n",
       "    </tr>\n",
       "    <tr>\n",
       "      <th>3</th>\n",
       "      <td>3</td>\n",
       "      <td>1000_3</td>\n",
       "      <td>550.270</td>\n",
       "      <td>2018-08-22</td>\n",
       "      <td>1000</td>\n",
       "    </tr>\n",
       "    <tr>\n",
       "      <th>4</th>\n",
       "      <td>4</td>\n",
       "      <td>1000_4</td>\n",
       "      <td>302.560</td>\n",
       "      <td>2018-09-24</td>\n",
       "      <td>1000</td>\n",
       "    </tr>\n",
       "  </tbody>\n",
       "</table>\n",
       "</div>"
      ],
      "text/plain": [
       "   Unnamed: 0      id  mb_used session_date  user_id\n",
       "0           0  1000_0  112.950   2018-11-25     1000\n",
       "1           1  1000_1 1052.810   2018-09-07     1000\n",
       "2           2  1000_2 1197.260   2018-06-25     1000\n",
       "3           3  1000_3  550.270   2018-08-22     1000\n",
       "4           4  1000_4  302.560   2018-09-24     1000"
      ]
     },
     "metadata": {},
     "output_type": "display_data"
    },
    {
     "name": "stdout",
     "output_type": "stream",
     "text": [
      " \n",
      " \n",
      "--------------Общая информация--------------\n",
      " \n",
      "<class 'pandas.core.frame.DataFrame'>\n",
      "RangeIndex: 149396 entries, 0 to 149395\n",
      "Data columns (total 5 columns):\n",
      " #   Column        Non-Null Count   Dtype  \n",
      "---  ------        --------------   -----  \n",
      " 0   Unnamed: 0    149396 non-null  int64  \n",
      " 1   id            149396 non-null  object \n",
      " 2   mb_used       149396 non-null  float64\n",
      " 3   session_date  149396 non-null  object \n",
      " 4   user_id       149396 non-null  int64  \n",
      "dtypes: float64(1), int64(2), object(2)\n",
      "memory usage: 5.7+ MB\n",
      "None\n",
      " \n",
      " \n",
      "-------------Пропуски------------- \n",
      "Пропусков НЕТ\n",
      " \n",
      " \n",
      "-------------Дубликаты------------ \n",
      "Дубликатов НЕТ\n",
      " \n"
     ]
    }
   ],
   "source": [
    "first_look(df_internet)"
   ]
  },
  {
   "cell_type": "markdown",
   "id": "114b7d2f",
   "metadata": {},
   "source": [
    "В таблице 149396 строк и 5 столбцов(в описании приведено только 4), пропуски отсутствуют. Посколько столбца Unnamed:0 нет в описании и его значения дублируют индексы, удалим его. Столбец session_date переведём в datetime. Значения в mb_used округлим по условию в большую сторону до целых и поменяем тип на int."
   ]
  },
  {
   "cell_type": "code",
   "execution_count": 38,
   "id": "4f12144f",
   "metadata": {},
   "outputs": [
    {
     "name": "stdout",
     "output_type": "stream",
     "text": [
      "<class 'pandas.core.frame.DataFrame'>\n",
      "RangeIndex: 149396 entries, 0 to 149395\n",
      "Data columns (total 4 columns):\n",
      " #   Column        Non-Null Count   Dtype         \n",
      "---  ------        --------------   -----         \n",
      " 0   id            149396 non-null  object        \n",
      " 1   mb_used       149396 non-null  int64         \n",
      " 2   session_date  149396 non-null  datetime64[ns]\n",
      " 3   user_id       149396 non-null  int64         \n",
      "dtypes: datetime64[ns](1), int64(2), object(1)\n",
      "memory usage: 4.6+ MB\n"
     ]
    },
    {
     "data": {
      "text/html": [
       "<div>\n",
       "<style scoped>\n",
       "    .dataframe tbody tr th:only-of-type {\n",
       "        vertical-align: middle;\n",
       "    }\n",
       "\n",
       "    .dataframe tbody tr th {\n",
       "        vertical-align: top;\n",
       "    }\n",
       "\n",
       "    .dataframe thead th {\n",
       "        text-align: right;\n",
       "    }\n",
       "</style>\n",
       "<table border=\"1\" class=\"dataframe\">\n",
       "  <thead>\n",
       "    <tr style=\"text-align: right;\">\n",
       "      <th></th>\n",
       "      <th>id</th>\n",
       "      <th>mb_used</th>\n",
       "      <th>session_date</th>\n",
       "      <th>user_id</th>\n",
       "    </tr>\n",
       "  </thead>\n",
       "  <tbody>\n",
       "    <tr>\n",
       "      <th>0</th>\n",
       "      <td>1000_0</td>\n",
       "      <td>112</td>\n",
       "      <td>2018-11-25</td>\n",
       "      <td>1000</td>\n",
       "    </tr>\n",
       "    <tr>\n",
       "      <th>1</th>\n",
       "      <td>1000_1</td>\n",
       "      <td>1052</td>\n",
       "      <td>2018-09-07</td>\n",
       "      <td>1000</td>\n",
       "    </tr>\n",
       "    <tr>\n",
       "      <th>2</th>\n",
       "      <td>1000_2</td>\n",
       "      <td>1197</td>\n",
       "      <td>2018-06-25</td>\n",
       "      <td>1000</td>\n",
       "    </tr>\n",
       "    <tr>\n",
       "      <th>3</th>\n",
       "      <td>1000_3</td>\n",
       "      <td>550</td>\n",
       "      <td>2018-08-22</td>\n",
       "      <td>1000</td>\n",
       "    </tr>\n",
       "    <tr>\n",
       "      <th>4</th>\n",
       "      <td>1000_4</td>\n",
       "      <td>302</td>\n",
       "      <td>2018-09-24</td>\n",
       "      <td>1000</td>\n",
       "    </tr>\n",
       "  </tbody>\n",
       "</table>\n",
       "</div>"
      ],
      "text/plain": [
       "       id  mb_used session_date  user_id\n",
       "0  1000_0      112   2018-11-25     1000\n",
       "1  1000_1     1052   2018-09-07     1000\n",
       "2  1000_2     1197   2018-06-25     1000\n",
       "3  1000_3      550   2018-08-22     1000\n",
       "4  1000_4      302   2018-09-24     1000"
      ]
     },
     "execution_count": 38,
     "metadata": {},
     "output_type": "execute_result"
    }
   ],
   "source": [
    "df_internet.drop('Unnamed: 0', axis=1, inplace=True)\n",
    "df_internet['session_date'] = pd.to_datetime(df_internet['session_date'], format='%Y-%m-%d')\n",
    "df_internet['mb_used'] = df_internet['mb_used'].astype('int')\n",
    "df_internet.info()\n",
    "df_internet.head()"
   ]
  },
  {
   "cell_type": "code",
   "execution_count": 39,
   "id": "852dcee3",
   "metadata": {},
   "outputs": [
    {
     "data": {
      "image/png": "[encoded data removed]",
      "text/plain": [
       "<Figure size 432x288 with 1 Axes>"
      ]
     },
     "metadata": {
      "needs_background": "light"
     },
     "output_type": "display_data"
    }
   ],
   "source": [
    "df_internet.plot(kind='hist', y='mb_used', bins=50)\n",
    "plt.title('Использованный трафик', fontsize=18)\n",
    "plt.xlabel('Мб')\n",
    "plt.ylabel('Частотность')\n",
    "\n",
    "plt.show()"
   ]
  },
  {
   "cell_type": "code",
   "execution_count": 40,
   "id": "95f34a85",
   "metadata": {},
   "outputs": [
    {
     "data": {
      "text/html": [
       "<div>\n",
       "<style scoped>\n",
       "    .dataframe tbody tr th:only-of-type {\n",
       "        vertical-align: middle;\n",
       "    }\n",
       "\n",
       "    .dataframe tbody tr th {\n",
       "        vertical-align: top;\n",
       "    }\n",
       "\n",
       "    .dataframe thead th {\n",
       "        text-align: right;\n",
       "    }\n",
       "</style>\n",
       "<table border=\"1\" class=\"dataframe\">\n",
       "  <thead>\n",
       "    <tr style=\"text-align: right;\">\n",
       "      <th></th>\n",
       "      <th>id</th>\n",
       "      <th>mb_used</th>\n",
       "      <th>session_date</th>\n",
       "      <th>user_id</th>\n",
       "    </tr>\n",
       "  </thead>\n",
       "  <tbody>\n",
       "    <tr>\n",
       "      <th>11</th>\n",
       "      <td>1000_11</td>\n",
       "      <td>0</td>\n",
       "      <td>2018-08-28</td>\n",
       "      <td>1000</td>\n",
       "    </tr>\n",
       "    <tr>\n",
       "      <th>38</th>\n",
       "      <td>1000_38</td>\n",
       "      <td>0</td>\n",
       "      <td>2018-11-27</td>\n",
       "      <td>1000</td>\n",
       "    </tr>\n",
       "    <tr>\n",
       "      <th>46</th>\n",
       "      <td>1000_46</td>\n",
       "      <td>0</td>\n",
       "      <td>2018-06-30</td>\n",
       "      <td>1000</td>\n",
       "    </tr>\n",
       "    <tr>\n",
       "      <th>67</th>\n",
       "      <td>1000_67</td>\n",
       "      <td>0</td>\n",
       "      <td>2018-06-16</td>\n",
       "      <td>1000</td>\n",
       "    </tr>\n",
       "    <tr>\n",
       "      <th>72</th>\n",
       "      <td>1000_72</td>\n",
       "      <td>0</td>\n",
       "      <td>2018-06-15</td>\n",
       "      <td>1000</td>\n",
       "    </tr>\n",
       "    <tr>\n",
       "      <th>...</th>\n",
       "      <td>...</td>\n",
       "      <td>...</td>\n",
       "      <td>...</td>\n",
       "      <td>...</td>\n",
       "    </tr>\n",
       "    <tr>\n",
       "      <th>149380</th>\n",
       "      <td>1499_141</td>\n",
       "      <td>0</td>\n",
       "      <td>2018-12-11</td>\n",
       "      <td>1499</td>\n",
       "    </tr>\n",
       "    <tr>\n",
       "      <th>149381</th>\n",
       "      <td>1499_142</td>\n",
       "      <td>0</td>\n",
       "      <td>2018-11-01</td>\n",
       "      <td>1499</td>\n",
       "    </tr>\n",
       "    <tr>\n",
       "      <th>149383</th>\n",
       "      <td>1499_144</td>\n",
       "      <td>0</td>\n",
       "      <td>2018-11-27</td>\n",
       "      <td>1499</td>\n",
       "    </tr>\n",
       "    <tr>\n",
       "      <th>149386</th>\n",
       "      <td>1499_147</td>\n",
       "      <td>0</td>\n",
       "      <td>2018-10-21</td>\n",
       "      <td>1499</td>\n",
       "    </tr>\n",
       "    <tr>\n",
       "      <th>149393</th>\n",
       "      <td>1499_154</td>\n",
       "      <td>0</td>\n",
       "      <td>2018-10-27</td>\n",
       "      <td>1499</td>\n",
       "    </tr>\n",
       "  </tbody>\n",
       "</table>\n",
       "<p>19699 rows × 4 columns</p>\n",
       "</div>"
      ],
      "text/plain": [
       "              id  mb_used session_date  user_id\n",
       "11       1000_11        0   2018-08-28     1000\n",
       "38       1000_38        0   2018-11-27     1000\n",
       "46       1000_46        0   2018-06-30     1000\n",
       "67       1000_67        0   2018-06-16     1000\n",
       "72       1000_72        0   2018-06-15     1000\n",
       "...          ...      ...          ...      ...\n",
       "149380  1499_141        0   2018-12-11     1499\n",
       "149381  1499_142        0   2018-11-01     1499\n",
       "149383  1499_144        0   2018-11-27     1499\n",
       "149386  1499_147        0   2018-10-21     1499\n",
       "149393  1499_154        0   2018-10-27     1499\n",
       "\n",
       "[19699 rows x 4 columns]"
      ]
     },
     "execution_count": 40,
     "metadata": {},
     "output_type": "execute_result"
    }
   ],
   "source": [
    "df_internet.query('mb_used == 0')"
   ]
  },
  {
   "cell_type": "markdown",
   "id": "aa59ea15",
   "metadata": {},
   "source": [
    "Очень много значений = 0 в объёме потраченного за сессию интернет-трафика, но поскольку при агрегировании трафика, мы будем суммировать мегабайты, эти нули не внесут отрицательного эффекта."
   ]
  },
  {
   "cell_type": "markdown",
   "id": "83a4e37f",
   "metadata": {},
   "source": [
    "Рассмотрим таблицу **df_tariffs**"
   ]
  },
  {
   "cell_type": "code",
   "execution_count": 41,
   "id": "8cfa5da4",
   "metadata": {},
   "outputs": [
    {
     "name": "stdout",
     "output_type": "stream",
     "text": [
      "---------------------------Первые 5 строк----------------------------\n"
     ]
    },
    {
     "data": {
      "text/html": [
       "<div>\n",
       "<style scoped>\n",
       "    .dataframe tbody tr th:only-of-type {\n",
       "        vertical-align: middle;\n",
       "    }\n",
       "\n",
       "    .dataframe tbody tr th {\n",
       "        vertical-align: top;\n",
       "    }\n",
       "\n",
       "    .dataframe thead th {\n",
       "        text-align: right;\n",
       "    }\n",
       "</style>\n",
       "<table border=\"1\" class=\"dataframe\">\n",
       "  <thead>\n",
       "    <tr style=\"text-align: right;\">\n",
       "      <th></th>\n",
       "      <th>messages_included</th>\n",
       "      <th>mb_per_month_included</th>\n",
       "      <th>minutes_included</th>\n",
       "      <th>rub_monthly_fee</th>\n",
       "      <th>rub_per_gb</th>\n",
       "      <th>rub_per_message</th>\n",
       "      <th>rub_per_minute</th>\n",
       "      <th>tariff_name</th>\n",
       "    </tr>\n",
       "  </thead>\n",
       "  <tbody>\n",
       "    <tr>\n",
       "      <th>0</th>\n",
       "      <td>50</td>\n",
       "      <td>15360</td>\n",
       "      <td>500</td>\n",
       "      <td>550</td>\n",
       "      <td>200</td>\n",
       "      <td>3</td>\n",
       "      <td>3</td>\n",
       "      <td>smart</td>\n",
       "    </tr>\n",
       "    <tr>\n",
       "      <th>1</th>\n",
       "      <td>1000</td>\n",
       "      <td>30720</td>\n",
       "      <td>3000</td>\n",
       "      <td>1950</td>\n",
       "      <td>150</td>\n",
       "      <td>1</td>\n",
       "      <td>1</td>\n",
       "      <td>ultra</td>\n",
       "    </tr>\n",
       "  </tbody>\n",
       "</table>\n",
       "</div>"
      ],
      "text/plain": [
       "   messages_included  mb_per_month_included  minutes_included  \\\n",
       "0                 50                  15360               500   \n",
       "1               1000                  30720              3000   \n",
       "\n",
       "   rub_monthly_fee  rub_per_gb  rub_per_message  rub_per_minute tariff_name  \n",
       "0              550         200                3               3       smart  \n",
       "1             1950         150                1               1       ultra  "
      ]
     },
     "metadata": {},
     "output_type": "display_data"
    },
    {
     "name": "stdout",
     "output_type": "stream",
     "text": [
      " \n",
      " \n",
      "--------------Общая информация--------------\n",
      " \n",
      "<class 'pandas.core.frame.DataFrame'>\n",
      "RangeIndex: 2 entries, 0 to 1\n",
      "Data columns (total 8 columns):\n",
      " #   Column                 Non-Null Count  Dtype \n",
      "---  ------                 --------------  ----- \n",
      " 0   messages_included      2 non-null      int64 \n",
      " 1   mb_per_month_included  2 non-null      int64 \n",
      " 2   minutes_included       2 non-null      int64 \n",
      " 3   rub_monthly_fee        2 non-null      int64 \n",
      " 4   rub_per_gb             2 non-null      int64 \n",
      " 5   rub_per_message        2 non-null      int64 \n",
      " 6   rub_per_minute         2 non-null      int64 \n",
      " 7   tariff_name            2 non-null      object\n",
      "dtypes: int64(7), object(1)\n",
      "memory usage: 256.0+ bytes\n",
      "None\n",
      " \n",
      " \n",
      "-------------Пропуски------------- \n",
      "Пропусков НЕТ\n",
      " \n",
      " \n",
      "-------------Дубликаты------------ \n",
      "Дубликатов НЕТ\n",
      " \n"
     ]
    }
   ],
   "source": [
    "first_look(df_tariffs)"
   ]
  },
  {
   "cell_type": "code",
   "execution_count": 42,
   "id": "f24adf5c",
   "metadata": {},
   "outputs": [
    {
     "data": {
      "image/png": "[encoded data removed]",
      "text/plain": [
       "<Figure size 432x288 with 1 Axes>"
      ]
     },
     "metadata": {
      "needs_background": "light"
     },
     "output_type": "display_data"
    }
   ],
   "source": [
    "# Гистограмма длительности звонков. #ревьюер_код_ит\n",
    "\n",
    "df_calls.plot(kind='hist', y='duration', bins=30)\n",
    "plt.title('Гистограмма длительности звонков')\n",
    "plt.xlabel('Минуты')\n",
    "plt.ylabel('Частотность')\n",
    "\n",
    "plt.show()"
   ]
  },
  {
   "cell_type": "markdown",
   "id": "1f371ef7",
   "metadata": {},
   "source": [
    "Корректная таблица."
   ]
  },
  {
   "cell_type": "markdown",
   "id": "e59f3e1a",
   "metadata": {},
   "source": [
    "### Подсчитаем значения для каждого пользователя "
   ]
  },
  {
   "cell_type": "markdown",
   "id": "a008ab9b",
   "metadata": {},
   "source": [
    "**Количество сделанных звонков и израсходованных минут по месяцам**"
   ]
  },
  {
   "cell_type": "code",
   "execution_count": 43,
   "id": "1fd742a3",
   "metadata": {},
   "outputs": [
    {
     "data": {
      "text/html": [
       "<div>\n",
       "<style scoped>\n",
       "    .dataframe tbody tr th:only-of-type {\n",
       "        vertical-align: middle;\n",
       "    }\n",
       "\n",
       "    .dataframe tbody tr th {\n",
       "        vertical-align: top;\n",
       "    }\n",
       "\n",
       "    .dataframe thead th {\n",
       "        text-align: right;\n",
       "    }\n",
       "</style>\n",
       "<table border=\"1\" class=\"dataframe\">\n",
       "  <thead>\n",
       "    <tr style=\"text-align: right;\">\n",
       "      <th></th>\n",
       "      <th>user_id</th>\n",
       "      <th>month</th>\n",
       "      <th>calls</th>\n",
       "      <th>min</th>\n",
       "    </tr>\n",
       "  </thead>\n",
       "  <tbody>\n",
       "    <tr>\n",
       "      <th>0</th>\n",
       "      <td>1000</td>\n",
       "      <td>5</td>\n",
       "      <td>22</td>\n",
       "      <td>159</td>\n",
       "    </tr>\n",
       "    <tr>\n",
       "      <th>1</th>\n",
       "      <td>1000</td>\n",
       "      <td>6</td>\n",
       "      <td>43</td>\n",
       "      <td>172</td>\n",
       "    </tr>\n",
       "    <tr>\n",
       "      <th>2</th>\n",
       "      <td>1000</td>\n",
       "      <td>7</td>\n",
       "      <td>47</td>\n",
       "      <td>340</td>\n",
       "    </tr>\n",
       "    <tr>\n",
       "      <th>3</th>\n",
       "      <td>1000</td>\n",
       "      <td>8</td>\n",
       "      <td>52</td>\n",
       "      <td>408</td>\n",
       "    </tr>\n",
       "    <tr>\n",
       "      <th>4</th>\n",
       "      <td>1000</td>\n",
       "      <td>9</td>\n",
       "      <td>58</td>\n",
       "      <td>466</td>\n",
       "    </tr>\n",
       "  </tbody>\n",
       "</table>\n",
       "</div>"
      ],
      "text/plain": [
       "   user_id  month  calls  min\n",
       "0     1000      5     22  159\n",
       "1     1000      6     43  172\n",
       "2     1000      7     47  340\n",
       "3     1000      8     52  408\n",
       "4     1000      9     58  466"
      ]
     },
     "metadata": {},
     "output_type": "display_data"
    }
   ],
   "source": [
    "df_calls['month'] = pd.DatetimeIndex(df_calls['call_date']).month\n",
    "df_calls = df_calls.groupby(['user_id', 'month'])['duration'].agg(['count','sum']).reset_index()\n",
    "df_calls.columns = ['user_id', 'month', 'calls', 'min']\n",
    "display(df_calls.head())"
   ]
  },
  {
   "cell_type": "markdown",
   "id": "13f3141a",
   "metadata": {},
   "source": [
    "**Количество отправленных сообщений по месяцам**"
   ]
  },
  {
   "cell_type": "code",
   "execution_count": 44,
   "id": "02d5a9f0",
   "metadata": {},
   "outputs": [
    {
     "data": {
      "text/html": [
       "<div>\n",
       "<style scoped>\n",
       "    .dataframe tbody tr th:only-of-type {\n",
       "        vertical-align: middle;\n",
       "    }\n",
       "\n",
       "    .dataframe tbody tr th {\n",
       "        vertical-align: top;\n",
       "    }\n",
       "\n",
       "    .dataframe thead th {\n",
       "        text-align: right;\n",
       "    }\n",
       "</style>\n",
       "<table border=\"1\" class=\"dataframe\">\n",
       "  <thead>\n",
       "    <tr style=\"text-align: right;\">\n",
       "      <th></th>\n",
       "      <th>user_id</th>\n",
       "      <th>month</th>\n",
       "      <th>mes</th>\n",
       "    </tr>\n",
       "  </thead>\n",
       "  <tbody>\n",
       "    <tr>\n",
       "      <th>0</th>\n",
       "      <td>1000</td>\n",
       "      <td>5</td>\n",
       "      <td>22</td>\n",
       "    </tr>\n",
       "    <tr>\n",
       "      <th>1</th>\n",
       "      <td>1000</td>\n",
       "      <td>6</td>\n",
       "      <td>60</td>\n",
       "    </tr>\n",
       "    <tr>\n",
       "      <th>2</th>\n",
       "      <td>1000</td>\n",
       "      <td>7</td>\n",
       "      <td>75</td>\n",
       "    </tr>\n",
       "    <tr>\n",
       "      <th>3</th>\n",
       "      <td>1000</td>\n",
       "      <td>8</td>\n",
       "      <td>81</td>\n",
       "    </tr>\n",
       "    <tr>\n",
       "      <th>4</th>\n",
       "      <td>1000</td>\n",
       "      <td>9</td>\n",
       "      <td>57</td>\n",
       "    </tr>\n",
       "  </tbody>\n",
       "</table>\n",
       "</div>"
      ],
      "text/plain": [
       "   user_id  month  mes\n",
       "0     1000      5   22\n",
       "1     1000      6   60\n",
       "2     1000      7   75\n",
       "3     1000      8   81\n",
       "4     1000      9   57"
      ]
     },
     "metadata": {},
     "output_type": "display_data"
    }
   ],
   "source": [
    "df_messages['month'] = pd.DatetimeIndex(df_messages['message_date']).month\n",
    "df_messages = df_messages.groupby(['user_id', 'month'])['id'].count().reset_index()\n",
    "df_messages.columns = ['user_id', 'month', 'mes']\n",
    "display(df_messages.head())"
   ]
  },
  {
   "cell_type": "markdown",
   "id": "564464e6",
   "metadata": {},
   "source": [
    "**Объём израссходованного интернет трафика по месяцам**"
   ]
  },
  {
   "cell_type": "code",
   "execution_count": 45,
   "id": "28402159",
   "metadata": {},
   "outputs": [
    {
     "data": {
      "text/html": [
       "<div>\n",
       "<style scoped>\n",
       "    .dataframe tbody tr th:only-of-type {\n",
       "        vertical-align: middle;\n",
       "    }\n",
       "\n",
       "    .dataframe tbody tr th {\n",
       "        vertical-align: top;\n",
       "    }\n",
       "\n",
       "    .dataframe thead th {\n",
       "        text-align: right;\n",
       "    }\n",
       "</style>\n",
       "<table border=\"1\" class=\"dataframe\">\n",
       "  <thead>\n",
       "    <tr style=\"text-align: right;\">\n",
       "      <th></th>\n",
       "      <th>user_id</th>\n",
       "      <th>month</th>\n",
       "      <th>mb</th>\n",
       "    </tr>\n",
       "  </thead>\n",
       "  <tbody>\n",
       "    <tr>\n",
       "      <th>0</th>\n",
       "      <td>1000</td>\n",
       "      <td>5</td>\n",
       "      <td>2252</td>\n",
       "    </tr>\n",
       "    <tr>\n",
       "      <th>1</th>\n",
       "      <td>1000</td>\n",
       "      <td>6</td>\n",
       "      <td>23213</td>\n",
       "    </tr>\n",
       "    <tr>\n",
       "      <th>2</th>\n",
       "      <td>1000</td>\n",
       "      <td>7</td>\n",
       "      <td>13988</td>\n",
       "    </tr>\n",
       "    <tr>\n",
       "      <th>3</th>\n",
       "      <td>1000</td>\n",
       "      <td>8</td>\n",
       "      <td>14043</td>\n",
       "    </tr>\n",
       "    <tr>\n",
       "      <th>4</th>\n",
       "      <td>1000</td>\n",
       "      <td>9</td>\n",
       "      <td>14556</td>\n",
       "    </tr>\n",
       "  </tbody>\n",
       "</table>\n",
       "</div>"
      ],
      "text/plain": [
       "   user_id  month     mb\n",
       "0     1000      5   2252\n",
       "1     1000      6  23213\n",
       "2     1000      7  13988\n",
       "3     1000      8  14043\n",
       "4     1000      9  14556"
      ]
     },
     "metadata": {},
     "output_type": "display_data"
    }
   ],
   "source": [
    "df_internet['month'] = pd.DatetimeIndex(df_internet['session_date']).month\n",
    "df_internet = df_internet.groupby(['user_id', 'month'])['mb_used'].sum().reset_index()\n",
    "df_internet.columns = ['user_id', 'month', 'mb']\n",
    "display(df_internet.head())"
   ]
  },
  {
   "cell_type": "markdown",
   "id": "46ad8ee4",
   "metadata": {},
   "source": [
    "**Объединим данные в одной таблице**"
   ]
  },
  {
   "cell_type": "code",
   "execution_count": 46,
   "id": "108221ae",
   "metadata": {},
   "outputs": [
    {
     "data": {
      "text/html": [
       "<div>\n",
       "<style scoped>\n",
       "    .dataframe tbody tr th:only-of-type {\n",
       "        vertical-align: middle;\n",
       "    }\n",
       "\n",
       "    .dataframe tbody tr th {\n",
       "        vertical-align: top;\n",
       "    }\n",
       "\n",
       "    .dataframe thead th {\n",
       "        text-align: right;\n",
       "    }\n",
       "</style>\n",
       "<table border=\"1\" class=\"dataframe\">\n",
       "  <thead>\n",
       "    <tr style=\"text-align: right;\">\n",
       "      <th></th>\n",
       "      <th>user_id</th>\n",
       "      <th>first_name</th>\n",
       "      <th>last_name</th>\n",
       "      <th>tariff</th>\n",
       "      <th>city</th>\n",
       "      <th>month</th>\n",
       "      <th>calls</th>\n",
       "      <th>min</th>\n",
       "      <th>mes</th>\n",
       "      <th>mb</th>\n",
       "    </tr>\n",
       "  </thead>\n",
       "  <tbody>\n",
       "    <tr>\n",
       "      <th>3078</th>\n",
       "      <td>1481</td>\n",
       "      <td>Клавдия</td>\n",
       "      <td>Чижова</td>\n",
       "      <td>smart</td>\n",
       "      <td>Москва</td>\n",
       "      <td>11.000</td>\n",
       "      <td>44.000</td>\n",
       "      <td>297.000</td>\n",
       "      <td>19.000</td>\n",
       "      <td>19899.000</td>\n",
       "    </tr>\n",
       "    <tr>\n",
       "      <th>1192</th>\n",
       "      <td>1188</td>\n",
       "      <td>Габриэль</td>\n",
       "      <td>Соколов</td>\n",
       "      <td>smart</td>\n",
       "      <td>Санкт-Петербург</td>\n",
       "      <td>4.000</td>\n",
       "      <td>3.000</td>\n",
       "      <td>35.000</td>\n",
       "      <td>5.000</td>\n",
       "      <td>8908.000</td>\n",
       "    </tr>\n",
       "    <tr>\n",
       "      <th>2874</th>\n",
       "      <td>1453</td>\n",
       "      <td>Кузьма</td>\n",
       "      <td>Акуленко</td>\n",
       "      <td>ultra</td>\n",
       "      <td>Москва</td>\n",
       "      <td>11.000</td>\n",
       "      <td>123.000</td>\n",
       "      <td>973.000</td>\n",
       "      <td>57.000</td>\n",
       "      <td>24027.000</td>\n",
       "    </tr>\n",
       "    <tr>\n",
       "      <th>1129</th>\n",
       "      <td>1178</td>\n",
       "      <td>Наталья</td>\n",
       "      <td>Жарова</td>\n",
       "      <td>smart</td>\n",
       "      <td>Москва</td>\n",
       "      <td>12.000</td>\n",
       "      <td>76.000</td>\n",
       "      <td>611.000</td>\n",
       "      <td>18.000</td>\n",
       "      <td>15175.000</td>\n",
       "    </tr>\n",
       "    <tr>\n",
       "      <th>3169</th>\n",
       "      <td>1498</td>\n",
       "      <td>Всеволод</td>\n",
       "      <td>Акимчин</td>\n",
       "      <td>smart</td>\n",
       "      <td>Владикавказ</td>\n",
       "      <td>8.000</td>\n",
       "      <td>57.000</td>\n",
       "      <td>400.000</td>\n",
       "      <td>62.000</td>\n",
       "      <td>24206.000</td>\n",
       "    </tr>\n",
       "  </tbody>\n",
       "</table>\n",
       "</div>"
      ],
      "text/plain": [
       "      user_id first_name last_name tariff             city  month   calls  \\\n",
       "3078     1481    Клавдия    Чижова  smart           Москва 11.000  44.000   \n",
       "1192     1188   Габриэль   Соколов  smart  Санкт-Петербург  4.000   3.000   \n",
       "2874     1453     Кузьма  Акуленко  ultra           Москва 11.000 123.000   \n",
       "1129     1178    Наталья    Жарова  smart           Москва 12.000  76.000   \n",
       "3169     1498   Всеволод   Акимчин  smart      Владикавказ  8.000  57.000   \n",
       "\n",
       "         min    mes        mb  \n",
       "3078 297.000 19.000 19899.000  \n",
       "1192  35.000  5.000  8908.000  \n",
       "2874 973.000 57.000 24027.000  \n",
       "1129 611.000 18.000 15175.000  \n",
       "3169 400.000 62.000 24206.000  "
      ]
     },
     "metadata": {},
     "output_type": "display_data"
    },
    {
     "name": "stdout",
     "output_type": "stream",
     "text": [
      "Количество абонентов в базе: 500\n",
      "\n",
      "<class 'pandas.core.frame.DataFrame'>\n",
      "Int64Index: 3216 entries, 0 to 3215\n",
      "Data columns (total 10 columns):\n",
      " #   Column      Non-Null Count  Dtype  \n",
      "---  ------      --------------  -----  \n",
      " 0   user_id     3216 non-null   int64  \n",
      " 1   first_name  3216 non-null   object \n",
      " 2   last_name   3216 non-null   object \n",
      " 3   tariff      3216 non-null   object \n",
      " 4   city        3216 non-null   object \n",
      " 5   month       3214 non-null   float64\n",
      " 6   calls       3174 non-null   float64\n",
      " 7   min         3174 non-null   float64\n",
      " 8   mes         2717 non-null   float64\n",
      " 9   mb          3203 non-null   float64\n",
      "dtypes: float64(5), int64(1), object(4)\n",
      "memory usage: 276.4+ KB\n"
     ]
    }
   ],
   "source": [
    "abonents1 = df_users.loc[:,['user_id', 'city', 'tariff', 'first_name', 'last_name']]\n",
    "abonents2 = pd.merge(df_calls, df_messages, how='outer', on=['user_id', 'month']) \n",
    "abonents3 = pd.merge(abonents2, df_internet, how='outer', on=['user_id', 'month'])\n",
    "basa_abonents = pd.merge(abonents3, abonents1, how='outer', on=['user_id'])\n",
    "basa_abonents = basa_abonents[['user_id', 'first_name', 'last_name', 'tariff', 'city', 'month', 'calls', 'min', 'mes', 'mb']]\n",
    "display(basa_abonents.sample(5))\n",
    "print('Количество абонентов в базе:', basa_abonents['user_id'].nunique())\n",
    "print('')\n",
    "basa_abonents.info()"
   ]
  },
  {
   "cell_type": "code",
   "execution_count": 47,
   "id": "ee3c3779",
   "metadata": {},
   "outputs": [
    {
     "data": {
      "text/plain": [
       "user_id         0\n",
       "first_name      0\n",
       "last_name       0\n",
       "tariff          0\n",
       "city            0\n",
       "month           2\n",
       "calls          42\n",
       "min            42\n",
       "mes           499\n",
       "mb             13\n",
       "dtype: int64"
      ]
     },
     "execution_count": 47,
     "metadata": {},
     "output_type": "execute_result"
    }
   ],
   "source": [
    "basa_abonents.isna().sum()"
   ]
  },
  {
   "cell_type": "markdown",
   "id": "2e966436",
   "metadata": {},
   "source": [
    "Есть пропуски в 'calls', 'min', 'mes' и 'mb', т.к. количество небольшое, заполним их '0'. "
   ]
  },
  {
   "cell_type": "code",
   "execution_count": 48,
   "id": "506bc342",
   "metadata": {},
   "outputs": [],
   "source": [
    "basa_abonents.loc[:,['calls', 'min', 'mes', 'mb']] = basa_abonents.loc[:,['calls', 'min', 'mes', 'mb']].fillna(0)"
   ]
  },
  {
   "cell_type": "code",
   "execution_count": 49,
   "id": "0478480b",
   "metadata": {},
   "outputs": [
    {
     "data": {
      "text/html": [
       "<div>\n",
       "<style scoped>\n",
       "    .dataframe tbody tr th:only-of-type {\n",
       "        vertical-align: middle;\n",
       "    }\n",
       "\n",
       "    .dataframe tbody tr th {\n",
       "        vertical-align: top;\n",
       "    }\n",
       "\n",
       "    .dataframe thead th {\n",
       "        text-align: right;\n",
       "    }\n",
       "</style>\n",
       "<table border=\"1\" class=\"dataframe\">\n",
       "  <thead>\n",
       "    <tr style=\"text-align: right;\">\n",
       "      <th></th>\n",
       "      <th>user_id</th>\n",
       "      <th>first_name</th>\n",
       "      <th>last_name</th>\n",
       "      <th>tariff</th>\n",
       "      <th>city</th>\n",
       "      <th>month</th>\n",
       "      <th>calls</th>\n",
       "      <th>min</th>\n",
       "      <th>mes</th>\n",
       "      <th>mb</th>\n",
       "    </tr>\n",
       "  </thead>\n",
       "  <tbody>\n",
       "    <tr>\n",
       "      <th>3211</th>\n",
       "      <td>1489</td>\n",
       "      <td>Павел</td>\n",
       "      <td>Гончаров</td>\n",
       "      <td>smart</td>\n",
       "      <td>Санкт-Петербург</td>\n",
       "      <td>10.000</td>\n",
       "      <td>0.000</td>\n",
       "      <td>0.000</td>\n",
       "      <td>21.000</td>\n",
       "      <td>19538.000</td>\n",
       "    </tr>\n",
       "    <tr>\n",
       "      <th>3212</th>\n",
       "      <td>1489</td>\n",
       "      <td>Павел</td>\n",
       "      <td>Гончаров</td>\n",
       "      <td>smart</td>\n",
       "      <td>Санкт-Петербург</td>\n",
       "      <td>11.000</td>\n",
       "      <td>0.000</td>\n",
       "      <td>0.000</td>\n",
       "      <td>20.000</td>\n",
       "      <td>17471.000</td>\n",
       "    </tr>\n",
       "    <tr>\n",
       "      <th>3213</th>\n",
       "      <td>1489</td>\n",
       "      <td>Павел</td>\n",
       "      <td>Гончаров</td>\n",
       "      <td>smart</td>\n",
       "      <td>Санкт-Петербург</td>\n",
       "      <td>12.000</td>\n",
       "      <td>0.000</td>\n",
       "      <td>0.000</td>\n",
       "      <td>35.000</td>\n",
       "      <td>17298.000</td>\n",
       "    </tr>\n",
       "    <tr>\n",
       "      <th>3214</th>\n",
       "      <td>1128</td>\n",
       "      <td>Ксения</td>\n",
       "      <td>Агаева</td>\n",
       "      <td>ultra</td>\n",
       "      <td>Волжский</td>\n",
       "      <td>NaN</td>\n",
       "      <td>0.000</td>\n",
       "      <td>0.000</td>\n",
       "      <td>0.000</td>\n",
       "      <td>0.000</td>\n",
       "    </tr>\n",
       "    <tr>\n",
       "      <th>3215</th>\n",
       "      <td>1371</td>\n",
       "      <td>Ириней</td>\n",
       "      <td>Трофимов</td>\n",
       "      <td>smart</td>\n",
       "      <td>Омск</td>\n",
       "      <td>NaN</td>\n",
       "      <td>0.000</td>\n",
       "      <td>0.000</td>\n",
       "      <td>0.000</td>\n",
       "      <td>0.000</td>\n",
       "    </tr>\n",
       "  </tbody>\n",
       "</table>\n",
       "</div>"
      ],
      "text/plain": [
       "      user_id first_name last_name tariff             city  month  calls  \\\n",
       "3211     1489      Павел  Гончаров  smart  Санкт-Петербург 10.000  0.000   \n",
       "3212     1489      Павел  Гончаров  smart  Санкт-Петербург 11.000  0.000   \n",
       "3213     1489      Павел  Гончаров  smart  Санкт-Петербург 12.000  0.000   \n",
       "3214     1128     Ксения    Агаева  ultra         Волжский    NaN  0.000   \n",
       "3215     1371     Ириней  Трофимов  smart             Омск    NaN  0.000   \n",
       "\n",
       "       min    mes        mb  \n",
       "3211 0.000 21.000 19538.000  \n",
       "3212 0.000 20.000 17471.000  \n",
       "3213 0.000 35.000 17298.000  \n",
       "3214 0.000  0.000     0.000  \n",
       "3215 0.000  0.000     0.000  "
      ]
     },
     "metadata": {},
     "output_type": "display_data"
    }
   ],
   "source": [
    "basa_abonents['month'].isna()\n",
    "display(basa_abonents.tail())"
   ]
  },
  {
   "cell_type": "markdown",
   "id": "69b5a0a1",
   "metadata": {},
   "source": [
    "<div class=\"alert alert-block alert-info\">\n",
    "<b>💾 Fixed:</b> \n",
    "Агаеву и Трофимова не стоит включать в расчёт, т.к. 23 и 30 декабря соответственно они прекратили пользоваться тарифом, не пользуясь им."
   ]
  },
  {
   "cell_type": "code",
   "execution_count": 50,
   "id": "569833c4",
   "metadata": {},
   "outputs": [
    {
     "data": {
      "text/html": [
       "<div>\n",
       "<style scoped>\n",
       "    .dataframe tbody tr th:only-of-type {\n",
       "        vertical-align: middle;\n",
       "    }\n",
       "\n",
       "    .dataframe tbody tr th {\n",
       "        vertical-align: top;\n",
       "    }\n",
       "\n",
       "    .dataframe thead th {\n",
       "        text-align: right;\n",
       "    }\n",
       "</style>\n",
       "<table border=\"1\" class=\"dataframe\">\n",
       "  <thead>\n",
       "    <tr style=\"text-align: right;\">\n",
       "      <th></th>\n",
       "      <th>user_id</th>\n",
       "      <th>first_name</th>\n",
       "      <th>last_name</th>\n",
       "      <th>tariff</th>\n",
       "      <th>city</th>\n",
       "      <th>month</th>\n",
       "      <th>calls</th>\n",
       "      <th>min</th>\n",
       "      <th>mes</th>\n",
       "      <th>mb</th>\n",
       "    </tr>\n",
       "  </thead>\n",
       "  <tbody>\n",
       "    <tr>\n",
       "      <th>3214</th>\n",
       "      <td>1128</td>\n",
       "      <td>Ксения</td>\n",
       "      <td>Агаева</td>\n",
       "      <td>ultra</td>\n",
       "      <td>Волжский</td>\n",
       "      <td>NaN</td>\n",
       "      <td>0.000</td>\n",
       "      <td>0.000</td>\n",
       "      <td>0.000</td>\n",
       "      <td>0.000</td>\n",
       "    </tr>\n",
       "    <tr>\n",
       "      <th>3215</th>\n",
       "      <td>1371</td>\n",
       "      <td>Ириней</td>\n",
       "      <td>Трофимов</td>\n",
       "      <td>smart</td>\n",
       "      <td>Омск</td>\n",
       "      <td>NaN</td>\n",
       "      <td>0.000</td>\n",
       "      <td>0.000</td>\n",
       "      <td>0.000</td>\n",
       "      <td>0.000</td>\n",
       "    </tr>\n",
       "  </tbody>\n",
       "</table>\n",
       "</div>"
      ],
      "text/plain": [
       "      user_id first_name last_name tariff      city  month  calls   min   mes  \\\n",
       "3214     1128     Ксения    Агаева  ultra  Волжский    NaN  0.000 0.000 0.000   \n",
       "3215     1371     Ириней  Трофимов  smart      Омск    NaN  0.000 0.000 0.000   \n",
       "\n",
       "        mb  \n",
       "3214 0.000  \n",
       "3215 0.000  "
      ]
     },
     "execution_count": 50,
     "metadata": {},
     "output_type": "execute_result"
    }
   ],
   "source": [
    "# ревьюер_код_ит\n",
    "basa_abonents[basa_abonents['month'].isna() == True]"
   ]
  },
  {
   "cell_type": "code",
   "execution_count": 51,
   "id": "381af287",
   "metadata": {},
   "outputs": [
    {
     "data": {
      "text/html": [
       "<div>\n",
       "<style scoped>\n",
       "    .dataframe tbody tr th:only-of-type {\n",
       "        vertical-align: middle;\n",
       "    }\n",
       "\n",
       "    .dataframe tbody tr th {\n",
       "        vertical-align: top;\n",
       "    }\n",
       "\n",
       "    .dataframe thead th {\n",
       "        text-align: right;\n",
       "    }\n",
       "</style>\n",
       "<table border=\"1\" class=\"dataframe\">\n",
       "  <thead>\n",
       "    <tr style=\"text-align: right;\">\n",
       "      <th></th>\n",
       "      <th>user_id</th>\n",
       "      <th>age</th>\n",
       "      <th>churn_date</th>\n",
       "      <th>city</th>\n",
       "      <th>first_name</th>\n",
       "      <th>last_name</th>\n",
       "      <th>reg_date</th>\n",
       "      <th>tariff</th>\n",
       "    </tr>\n",
       "  </thead>\n",
       "  <tbody>\n",
       "    <tr>\n",
       "      <th>128</th>\n",
       "      <td>1128</td>\n",
       "      <td>51</td>\n",
       "      <td>2018-12-23</td>\n",
       "      <td>Волжский</td>\n",
       "      <td>Ксения</td>\n",
       "      <td>Агаева</td>\n",
       "      <td>2018-12-15</td>\n",
       "      <td>ultra</td>\n",
       "    </tr>\n",
       "    <tr>\n",
       "      <th>371</th>\n",
       "      <td>1371</td>\n",
       "      <td>50</td>\n",
       "      <td>2018-12-30</td>\n",
       "      <td>Омск</td>\n",
       "      <td>Ириней</td>\n",
       "      <td>Трофимов</td>\n",
       "      <td>2018-12-25</td>\n",
       "      <td>smart</td>\n",
       "    </tr>\n",
       "  </tbody>\n",
       "</table>\n",
       "</div>"
      ],
      "text/plain": [
       "     user_id  age churn_date      city first_name last_name   reg_date tariff\n",
       "128     1128   51 2018-12-23  Волжский     Ксения    Агаева 2018-12-15  ultra\n",
       "371     1371   50 2018-12-30      Омск     Ириней  Трофимов 2018-12-25  smart"
      ]
     },
     "execution_count": 51,
     "metadata": {},
     "output_type": "execute_result"
    }
   ],
   "source": [
    "# ревьюер_код_ит\n",
    "df_users.query('user_id == 1128 or user_id == 1371')"
   ]
  },
  {
   "cell_type": "markdown",
   "id": "fadea9e9",
   "metadata": {},
   "source": [
    "2 Абонента без данных о пользовании услугами(видимо подключившиеся в конце года). Заменим NaN на последний месяц."
   ]
  },
  {
   "cell_type": "code",
   "execution_count": 52,
   "id": "c789d80f",
   "metadata": {},
   "outputs": [
    {
     "name": "stdout",
     "output_type": "stream",
     "text": [
      "<class 'pandas.core.frame.DataFrame'>\n",
      "Int64Index: 3216 entries, 0 to 3215\n",
      "Data columns (total 10 columns):\n",
      " #   Column      Non-Null Count  Dtype  \n",
      "---  ------      --------------  -----  \n",
      " 0   user_id     3216 non-null   int64  \n",
      " 1   first_name  3216 non-null   object \n",
      " 2   last_name   3216 non-null   object \n",
      " 3   tariff      3216 non-null   object \n",
      " 4   city        3216 non-null   object \n",
      " 5   month       3216 non-null   float64\n",
      " 6   calls       3216 non-null   float64\n",
      " 7   min         3216 non-null   float64\n",
      " 8   mes         3216 non-null   float64\n",
      " 9   mb          3216 non-null   float64\n",
      "dtypes: float64(5), int64(1), object(4)\n",
      "memory usage: 276.4+ KB\n"
     ]
    }
   ],
   "source": [
    "basa_abonents.loc[:,['month']] = basa_abonents.loc[:,['month']].fillna(12)\n",
    "basa_abonents.info()"
   ]
  },
  {
   "cell_type": "markdown",
   "id": "ea5a3e1d",
   "metadata": {},
   "source": [
    "**Определим помесячную выручку с каждого пользователя**"
   ]
  },
  {
   "cell_type": "code",
   "execution_count": 53,
   "id": "85eaa22d",
   "metadata": {},
   "outputs": [
    {
     "data": {
      "text/html": [
       "<div>\n",
       "<style scoped>\n",
       "    .dataframe tbody tr th:only-of-type {\n",
       "        vertical-align: middle;\n",
       "    }\n",
       "\n",
       "    .dataframe tbody tr th {\n",
       "        vertical-align: top;\n",
       "    }\n",
       "\n",
       "    .dataframe thead th {\n",
       "        text-align: right;\n",
       "    }\n",
       "</style>\n",
       "<table border=\"1\" class=\"dataframe\">\n",
       "  <thead>\n",
       "    <tr style=\"text-align: right;\">\n",
       "      <th></th>\n",
       "      <th>user_id</th>\n",
       "      <th>first_name</th>\n",
       "      <th>last_name</th>\n",
       "      <th>tariff</th>\n",
       "      <th>city</th>\n",
       "      <th>month</th>\n",
       "      <th>calls</th>\n",
       "      <th>min</th>\n",
       "      <th>mes</th>\n",
       "      <th>mb</th>\n",
       "      <th>gb</th>\n",
       "    </tr>\n",
       "  </thead>\n",
       "  <tbody>\n",
       "    <tr>\n",
       "      <th>0</th>\n",
       "      <td>1000</td>\n",
       "      <td>Рафаил</td>\n",
       "      <td>Верещагин</td>\n",
       "      <td>ultra</td>\n",
       "      <td>Краснодар</td>\n",
       "      <td>5.000</td>\n",
       "      <td>22.000</td>\n",
       "      <td>159.000</td>\n",
       "      <td>22.000</td>\n",
       "      <td>2252.000</td>\n",
       "      <td>3</td>\n",
       "    </tr>\n",
       "    <tr>\n",
       "      <th>1</th>\n",
       "      <td>1000</td>\n",
       "      <td>Рафаил</td>\n",
       "      <td>Верещагин</td>\n",
       "      <td>ultra</td>\n",
       "      <td>Краснодар</td>\n",
       "      <td>6.000</td>\n",
       "      <td>43.000</td>\n",
       "      <td>172.000</td>\n",
       "      <td>60.000</td>\n",
       "      <td>23213.000</td>\n",
       "      <td>23</td>\n",
       "    </tr>\n",
       "    <tr>\n",
       "      <th>2</th>\n",
       "      <td>1000</td>\n",
       "      <td>Рафаил</td>\n",
       "      <td>Верещагин</td>\n",
       "      <td>ultra</td>\n",
       "      <td>Краснодар</td>\n",
       "      <td>7.000</td>\n",
       "      <td>47.000</td>\n",
       "      <td>340.000</td>\n",
       "      <td>75.000</td>\n",
       "      <td>13988.000</td>\n",
       "      <td>14</td>\n",
       "    </tr>\n",
       "    <tr>\n",
       "      <th>3</th>\n",
       "      <td>1000</td>\n",
       "      <td>Рафаил</td>\n",
       "      <td>Верещагин</td>\n",
       "      <td>ultra</td>\n",
       "      <td>Краснодар</td>\n",
       "      <td>8.000</td>\n",
       "      <td>52.000</td>\n",
       "      <td>408.000</td>\n",
       "      <td>81.000</td>\n",
       "      <td>14043.000</td>\n",
       "      <td>14</td>\n",
       "    </tr>\n",
       "    <tr>\n",
       "      <th>4</th>\n",
       "      <td>1000</td>\n",
       "      <td>Рафаил</td>\n",
       "      <td>Верещагин</td>\n",
       "      <td>ultra</td>\n",
       "      <td>Краснодар</td>\n",
       "      <td>9.000</td>\n",
       "      <td>58.000</td>\n",
       "      <td>466.000</td>\n",
       "      <td>57.000</td>\n",
       "      <td>14556.000</td>\n",
       "      <td>15</td>\n",
       "    </tr>\n",
       "  </tbody>\n",
       "</table>\n",
       "</div>"
      ],
      "text/plain": [
       "   user_id first_name  last_name tariff       city  month  calls     min  \\\n",
       "0     1000     Рафаил  Верещагин  ultra  Краснодар  5.000 22.000 159.000   \n",
       "1     1000     Рафаил  Верещагин  ultra  Краснодар  6.000 43.000 172.000   \n",
       "2     1000     Рафаил  Верещагин  ultra  Краснодар  7.000 47.000 340.000   \n",
       "3     1000     Рафаил  Верещагин  ultra  Краснодар  8.000 52.000 408.000   \n",
       "4     1000     Рафаил  Верещагин  ultra  Краснодар  9.000 58.000 466.000   \n",
       "\n",
       "     mes        mb  gb  \n",
       "0 22.000  2252.000   3  \n",
       "1 60.000 23213.000  23  \n",
       "2 75.000 13988.000  14  \n",
       "3 81.000 14043.000  14  \n",
       "4 57.000 14556.000  15  "
      ]
     },
     "execution_count": 53,
     "metadata": {},
     "output_type": "execute_result"
    }
   ],
   "source": [
    "basa_abonents['gb'] = basa_abonents['mb'] / 1024\n",
    "basa_abonents['gb'] = np.ceil(basa_abonents['gb']).astype('Int64')\n",
    "basa_abonents.head()"
   ]
  },
  {
   "cell_type": "code",
   "execution_count": 57,
   "id": "701aae3d",
   "metadata": {},
   "outputs": [
    {
     "data": {
      "text/html": [
       "<div>\n",
       "<style scoped>\n",
       "    .dataframe tbody tr th:only-of-type {\n",
       "        vertical-align: middle;\n",
       "    }\n",
       "\n",
       "    .dataframe tbody tr th {\n",
       "        vertical-align: top;\n",
       "    }\n",
       "\n",
       "    .dataframe thead th {\n",
       "        text-align: right;\n",
       "    }\n",
       "</style>\n",
       "<table border=\"1\" class=\"dataframe\">\n",
       "  <thead>\n",
       "    <tr style=\"text-align: right;\">\n",
       "      <th></th>\n",
       "      <th>user_id</th>\n",
       "      <th>first_name</th>\n",
       "      <th>last_name</th>\n",
       "      <th>tariff</th>\n",
       "      <th>city</th>\n",
       "      <th>month</th>\n",
       "      <th>calls</th>\n",
       "      <th>min</th>\n",
       "      <th>mes</th>\n",
       "      <th>mb</th>\n",
       "      <th>gb</th>\n",
       "      <th>price_month</th>\n",
       "    </tr>\n",
       "  </thead>\n",
       "  <tbody>\n",
       "    <tr>\n",
       "      <th>0</th>\n",
       "      <td>1000</td>\n",
       "      <td>Рафаил</td>\n",
       "      <td>Верещагин</td>\n",
       "      <td>ultra</td>\n",
       "      <td>Краснодар</td>\n",
       "      <td>5.000</td>\n",
       "      <td>22.000</td>\n",
       "      <td>159.000</td>\n",
       "      <td>22.000</td>\n",
       "      <td>2252.000</td>\n",
       "      <td>3</td>\n",
       "      <td>1950.000</td>\n",
       "    </tr>\n",
       "    <tr>\n",
       "      <th>1</th>\n",
       "      <td>1000</td>\n",
       "      <td>Рафаил</td>\n",
       "      <td>Верещагин</td>\n",
       "      <td>ultra</td>\n",
       "      <td>Краснодар</td>\n",
       "      <td>6.000</td>\n",
       "      <td>43.000</td>\n",
       "      <td>172.000</td>\n",
       "      <td>60.000</td>\n",
       "      <td>23213.000</td>\n",
       "      <td>23</td>\n",
       "      <td>1950.000</td>\n",
       "    </tr>\n",
       "    <tr>\n",
       "      <th>2</th>\n",
       "      <td>1000</td>\n",
       "      <td>Рафаил</td>\n",
       "      <td>Верещагин</td>\n",
       "      <td>ultra</td>\n",
       "      <td>Краснодар</td>\n",
       "      <td>7.000</td>\n",
       "      <td>47.000</td>\n",
       "      <td>340.000</td>\n",
       "      <td>75.000</td>\n",
       "      <td>13988.000</td>\n",
       "      <td>14</td>\n",
       "      <td>1950.000</td>\n",
       "    </tr>\n",
       "    <tr>\n",
       "      <th>3</th>\n",
       "      <td>1000</td>\n",
       "      <td>Рафаил</td>\n",
       "      <td>Верещагин</td>\n",
       "      <td>ultra</td>\n",
       "      <td>Краснодар</td>\n",
       "      <td>8.000</td>\n",
       "      <td>52.000</td>\n",
       "      <td>408.000</td>\n",
       "      <td>81.000</td>\n",
       "      <td>14043.000</td>\n",
       "      <td>14</td>\n",
       "      <td>1950.000</td>\n",
       "    </tr>\n",
       "    <tr>\n",
       "      <th>4</th>\n",
       "      <td>1000</td>\n",
       "      <td>Рафаил</td>\n",
       "      <td>Верещагин</td>\n",
       "      <td>ultra</td>\n",
       "      <td>Краснодар</td>\n",
       "      <td>9.000</td>\n",
       "      <td>58.000</td>\n",
       "      <td>466.000</td>\n",
       "      <td>57.000</td>\n",
       "      <td>14556.000</td>\n",
       "      <td>15</td>\n",
       "      <td>1950.000</td>\n",
       "    </tr>\n",
       "    <tr>\n",
       "      <th>5</th>\n",
       "      <td>1000</td>\n",
       "      <td>Рафаил</td>\n",
       "      <td>Верещагин</td>\n",
       "      <td>ultra</td>\n",
       "      <td>Краснодар</td>\n",
       "      <td>10.000</td>\n",
       "      <td>57.000</td>\n",
       "      <td>350.000</td>\n",
       "      <td>73.000</td>\n",
       "      <td>14690.000</td>\n",
       "      <td>15</td>\n",
       "      <td>1950.000</td>\n",
       "    </tr>\n",
       "    <tr>\n",
       "      <th>6</th>\n",
       "      <td>1000</td>\n",
       "      <td>Рафаил</td>\n",
       "      <td>Верещагин</td>\n",
       "      <td>ultra</td>\n",
       "      <td>Краснодар</td>\n",
       "      <td>11.000</td>\n",
       "      <td>43.000</td>\n",
       "      <td>338.000</td>\n",
       "      <td>58.000</td>\n",
       "      <td>14745.000</td>\n",
       "      <td>15</td>\n",
       "      <td>1950.000</td>\n",
       "    </tr>\n",
       "    <tr>\n",
       "      <th>7</th>\n",
       "      <td>1000</td>\n",
       "      <td>Рафаил</td>\n",
       "      <td>Верещагин</td>\n",
       "      <td>ultra</td>\n",
       "      <td>Краснодар</td>\n",
       "      <td>12.000</td>\n",
       "      <td>46.000</td>\n",
       "      <td>333.000</td>\n",
       "      <td>70.000</td>\n",
       "      <td>9808.000</td>\n",
       "      <td>10</td>\n",
       "      <td>1950.000</td>\n",
       "    </tr>\n",
       "    <tr>\n",
       "      <th>8</th>\n",
       "      <td>1001</td>\n",
       "      <td>Иван</td>\n",
       "      <td>Ежов</td>\n",
       "      <td>smart</td>\n",
       "      <td>Москва</td>\n",
       "      <td>11.000</td>\n",
       "      <td>59.000</td>\n",
       "      <td>430.000</td>\n",
       "      <td>0.000</td>\n",
       "      <td>18405.000</td>\n",
       "      <td>18</td>\n",
       "      <td>1150.000</td>\n",
       "    </tr>\n",
       "    <tr>\n",
       "      <th>9</th>\n",
       "      <td>1001</td>\n",
       "      <td>Иван</td>\n",
       "      <td>Ежов</td>\n",
       "      <td>smart</td>\n",
       "      <td>Москва</td>\n",
       "      <td>12.000</td>\n",
       "      <td>63.000</td>\n",
       "      <td>414.000</td>\n",
       "      <td>0.000</td>\n",
       "      <td>14018.000</td>\n",
       "      <td>14</td>\n",
       "      <td>550.000</td>\n",
       "    </tr>\n",
       "    <tr>\n",
       "      <th>10</th>\n",
       "      <td>1002</td>\n",
       "      <td>Евгений</td>\n",
       "      <td>Абрамович</td>\n",
       "      <td>smart</td>\n",
       "      <td>Стерлитамак</td>\n",
       "      <td>6.000</td>\n",
       "      <td>15.000</td>\n",
       "      <td>117.000</td>\n",
       "      <td>4.000</td>\n",
       "      <td>10844.000</td>\n",
       "      <td>11</td>\n",
       "      <td>550.000</td>\n",
       "    </tr>\n",
       "    <tr>\n",
       "      <th>11</th>\n",
       "      <td>1002</td>\n",
       "      <td>Евгений</td>\n",
       "      <td>Абрамович</td>\n",
       "      <td>smart</td>\n",
       "      <td>Стерлитамак</td>\n",
       "      <td>7.000</td>\n",
       "      <td>26.000</td>\n",
       "      <td>214.000</td>\n",
       "      <td>11.000</td>\n",
       "      <td>17557.000</td>\n",
       "      <td>18</td>\n",
       "      <td>1150.000</td>\n",
       "    </tr>\n",
       "    <tr>\n",
       "      <th>12</th>\n",
       "      <td>1002</td>\n",
       "      <td>Евгений</td>\n",
       "      <td>Абрамович</td>\n",
       "      <td>smart</td>\n",
       "      <td>Стерлитамак</td>\n",
       "      <td>8.000</td>\n",
       "      <td>42.000</td>\n",
       "      <td>289.000</td>\n",
       "      <td>13.000</td>\n",
       "      <td>20298.000</td>\n",
       "      <td>20</td>\n",
       "      <td>1550.000</td>\n",
       "    </tr>\n",
       "    <tr>\n",
       "      <th>13</th>\n",
       "      <td>1002</td>\n",
       "      <td>Евгений</td>\n",
       "      <td>Абрамович</td>\n",
       "      <td>smart</td>\n",
       "      <td>Стерлитамак</td>\n",
       "      <td>9.000</td>\n",
       "      <td>36.000</td>\n",
       "      <td>206.000</td>\n",
       "      <td>4.000</td>\n",
       "      <td>16669.000</td>\n",
       "      <td>17</td>\n",
       "      <td>950.000</td>\n",
       "    </tr>\n",
       "    <tr>\n",
       "      <th>14</th>\n",
       "      <td>1002</td>\n",
       "      <td>Евгений</td>\n",
       "      <td>Абрамович</td>\n",
       "      <td>smart</td>\n",
       "      <td>Стерлитамак</td>\n",
       "      <td>10.000</td>\n",
       "      <td>33.000</td>\n",
       "      <td>212.000</td>\n",
       "      <td>10.000</td>\n",
       "      <td>13869.000</td>\n",
       "      <td>14</td>\n",
       "      <td>550.000</td>\n",
       "    </tr>\n",
       "    <tr>\n",
       "      <th>15</th>\n",
       "      <td>1002</td>\n",
       "      <td>Евгений</td>\n",
       "      <td>Абрамович</td>\n",
       "      <td>smart</td>\n",
       "      <td>Стерлитамак</td>\n",
       "      <td>11.000</td>\n",
       "      <td>32.000</td>\n",
       "      <td>243.000</td>\n",
       "      <td>16.000</td>\n",
       "      <td>18566.000</td>\n",
       "      <td>19</td>\n",
       "      <td>1350.000</td>\n",
       "    </tr>\n",
       "    <tr>\n",
       "      <th>16</th>\n",
       "      <td>1002</td>\n",
       "      <td>Евгений</td>\n",
       "      <td>Абрамович</td>\n",
       "      <td>smart</td>\n",
       "      <td>Стерлитамак</td>\n",
       "      <td>12.000</td>\n",
       "      <td>33.000</td>\n",
       "      <td>236.000</td>\n",
       "      <td>12.000</td>\n",
       "      <td>18087.000</td>\n",
       "      <td>18</td>\n",
       "      <td>1150.000</td>\n",
       "    </tr>\n",
       "    <tr>\n",
       "      <th>17</th>\n",
       "      <td>1003</td>\n",
       "      <td>Белла</td>\n",
       "      <td>Белякова</td>\n",
       "      <td>ultra</td>\n",
       "      <td>Москва</td>\n",
       "      <td>8.000</td>\n",
       "      <td>55.000</td>\n",
       "      <td>380.000</td>\n",
       "      <td>37.000</td>\n",
       "      <td>8557.000</td>\n",
       "      <td>9</td>\n",
       "      <td>1950.000</td>\n",
       "    </tr>\n",
       "    <tr>\n",
       "      <th>18</th>\n",
       "      <td>1003</td>\n",
       "      <td>Белла</td>\n",
       "      <td>Белякова</td>\n",
       "      <td>ultra</td>\n",
       "      <td>Москва</td>\n",
       "      <td>9.000</td>\n",
       "      <td>134.000</td>\n",
       "      <td>961.000</td>\n",
       "      <td>91.000</td>\n",
       "      <td>12457.000</td>\n",
       "      <td>13</td>\n",
       "      <td>1950.000</td>\n",
       "    </tr>\n",
       "    <tr>\n",
       "      <th>19</th>\n",
       "      <td>1003</td>\n",
       "      <td>Белла</td>\n",
       "      <td>Белякова</td>\n",
       "      <td>ultra</td>\n",
       "      <td>Москва</td>\n",
       "      <td>10.000</td>\n",
       "      <td>108.000</td>\n",
       "      <td>855.000</td>\n",
       "      <td>83.000</td>\n",
       "      <td>14754.000</td>\n",
       "      <td>15</td>\n",
       "      <td>1950.000</td>\n",
       "    </tr>\n",
       "  </tbody>\n",
       "</table>\n",
       "</div>"
      ],
      "text/plain": [
       "    user_id first_name  last_name tariff         city  month   calls     min  \\\n",
       "0      1000     Рафаил  Верещагин  ultra    Краснодар  5.000  22.000 159.000   \n",
       "1      1000     Рафаил  Верещагин  ultra    Краснодар  6.000  43.000 172.000   \n",
       "2      1000     Рафаил  Верещагин  ultra    Краснодар  7.000  47.000 340.000   \n",
       "3      1000     Рафаил  Верещагин  ultra    Краснодар  8.000  52.000 408.000   \n",
       "4      1000     Рафаил  Верещагин  ultra    Краснодар  9.000  58.000 466.000   \n",
       "5      1000     Рафаил  Верещагин  ultra    Краснодар 10.000  57.000 350.000   \n",
       "6      1000     Рафаил  Верещагин  ultra    Краснодар 11.000  43.000 338.000   \n",
       "7      1000     Рафаил  Верещагин  ultra    Краснодар 12.000  46.000 333.000   \n",
       "8      1001       Иван       Ежов  smart       Москва 11.000  59.000 430.000   \n",
       "9      1001       Иван       Ежов  smart       Москва 12.000  63.000 414.000   \n",
       "10     1002    Евгений  Абрамович  smart  Стерлитамак  6.000  15.000 117.000   \n",
       "11     1002    Евгений  Абрамович  smart  Стерлитамак  7.000  26.000 214.000   \n",
       "12     1002    Евгений  Абрамович  smart  Стерлитамак  8.000  42.000 289.000   \n",
       "13     1002    Евгений  Абрамович  smart  Стерлитамак  9.000  36.000 206.000   \n",
       "14     1002    Евгений  Абрамович  smart  Стерлитамак 10.000  33.000 212.000   \n",
       "15     1002    Евгений  Абрамович  smart  Стерлитамак 11.000  32.000 243.000   \n",
       "16     1002    Евгений  Абрамович  smart  Стерлитамак 12.000  33.000 236.000   \n",
       "17     1003      Белла   Белякова  ultra       Москва  8.000  55.000 380.000   \n",
       "18     1003      Белла   Белякова  ultra       Москва  9.000 134.000 961.000   \n",
       "19     1003      Белла   Белякова  ultra       Москва 10.000 108.000 855.000   \n",
       "\n",
       "      mes        mb  gb  price_month  \n",
       "0  22.000  2252.000   3     1950.000  \n",
       "1  60.000 23213.000  23     1950.000  \n",
       "2  75.000 13988.000  14     1950.000  \n",
       "3  81.000 14043.000  14     1950.000  \n",
       "4  57.000 14556.000  15     1950.000  \n",
       "5  73.000 14690.000  15     1950.000  \n",
       "6  58.000 14745.000  15     1950.000  \n",
       "7  70.000  9808.000  10     1950.000  \n",
       "8   0.000 18405.000  18     1150.000  \n",
       "9   0.000 14018.000  14      550.000  \n",
       "10  4.000 10844.000  11      550.000  \n",
       "11 11.000 17557.000  18     1150.000  \n",
       "12 13.000 20298.000  20     1550.000  \n",
       "13  4.000 16669.000  17      950.000  \n",
       "14 10.000 13869.000  14      550.000  \n",
       "15 16.000 18566.000  19     1350.000  \n",
       "16 12.000 18087.000  18     1150.000  \n",
       "17 37.000  8557.000   9     1950.000  \n",
       "18 91.000 12457.000  13     1950.000  \n",
       "19 83.000 14754.000  15     1950.000  "
      ]
     },
     "execution_count": 57,
     "metadata": {},
     "output_type": "execute_result"
    }
   ],
   "source": [
    "def revenue(basa_abonents):\n",
    "    sum_min = basa_abonents['min']\n",
    "    sum_mes = basa_abonents['mes']\n",
    "    sum_gb = basa_abonents['gb']\n",
    "    tariff = basa_abonents['tariff']\n",
    "    if tariff == 'smart':\n",
    "        if sum_min > 500:\n",
    "            price_min = (sum_min - 500)*3 \n",
    "        else:\n",
    "            price_min = 0\n",
    "        if sum_mes > 50:\n",
    "            price_mes = (sum_mes-50)*3 \n",
    "        else:\n",
    "            price_mes = 0\n",
    "        if sum_gb > 15:\n",
    "            price_gb = (sum_gb - 15)*200 \n",
    "        else:\n",
    "            price_gb = 0\n",
    "        return 550 + price_min + price_mes + price_gb  \n",
    "    elif tariff == 'ultra':\n",
    "        if sum_min > 3000:\n",
    "            price_min = (sum_minut - 3000)*1 \n",
    "        else:\n",
    "            price_min = 0\n",
    "        if sum_mes > 1000:\n",
    "            price_mes = (sum_mes - 1000)*1 \n",
    "        else:\n",
    "            price_mes = 0\n",
    "        if sum_gb > 30:\n",
    "            price_gb = (sum_gb - 30)*150 \n",
    "        else:\n",
    "            price_gb = 0\n",
    "        return  1950 + price_min + price_mes + price_gb  \n",
    "    \n",
    "basa_abonents['price_month'] =  basa_abonents.apply(revenue, axis=1)  \n",
    "basa_abonents.head(20)"
   ]
  },
  {
   "cell_type": "code",
   "execution_count": 55,
   "id": "66104fe4",
   "metadata": {},
   "outputs": [
    {
     "data": {
      "text/html": [
       "<div>\n",
       "<style scoped>\n",
       "    .dataframe tbody tr th:only-of-type {\n",
       "        vertical-align: middle;\n",
       "    }\n",
       "\n",
       "    .dataframe tbody tr th {\n",
       "        vertical-align: top;\n",
       "    }\n",
       "\n",
       "    .dataframe thead th {\n",
       "        text-align: right;\n",
       "    }\n",
       "</style>\n",
       "<table border=\"1\" class=\"dataframe\">\n",
       "  <thead>\n",
       "    <tr style=\"text-align: right;\">\n",
       "      <th></th>\n",
       "      <th>user_id</th>\n",
       "      <th>first_name</th>\n",
       "      <th>last_name</th>\n",
       "      <th>tariff</th>\n",
       "      <th>city</th>\n",
       "      <th>month</th>\n",
       "      <th>calls</th>\n",
       "      <th>min</th>\n",
       "      <th>mes</th>\n",
       "      <th>mb</th>\n",
       "      <th>gb</th>\n",
       "      <th>price_month</th>\n",
       "    </tr>\n",
       "  </thead>\n",
       "  <tbody>\n",
       "    <tr>\n",
       "      <th>8</th>\n",
       "      <td>1001</td>\n",
       "      <td>Иван</td>\n",
       "      <td>Ежов</td>\n",
       "      <td>smart</td>\n",
       "      <td>Москва</td>\n",
       "      <td>11.000</td>\n",
       "      <td>59.000</td>\n",
       "      <td>430.000</td>\n",
       "      <td>0.000</td>\n",
       "      <td>18405.000</td>\n",
       "      <td>18</td>\n",
       "      <td>1150.000</td>\n",
       "    </tr>\n",
       "  </tbody>\n",
       "</table>\n",
       "</div>"
      ],
      "text/plain": [
       "   user_id first_name last_name tariff    city  month  calls     min   mes  \\\n",
       "8     1001       Иван      Ежов  smart  Москва 11.000 59.000 430.000 0.000   \n",
       "\n",
       "         mb  gb  price_month  \n",
       "8 18405.000  18     1150.000  "
      ]
     },
     "execution_count": 55,
     "metadata": {},
     "output_type": "execute_result"
    }
   ],
   "source": [
    "basa_abonents.query('user_id == 1001 & month == 11')"
   ]
  },
  {
   "cell_type": "code",
   "execution_count": 59,
   "id": "388e3da4",
   "metadata": {},
   "outputs": [
    {
     "name": "stdout",
     "output_type": "stream",
     "text": [
      "Дисперсия -  58610.62422636043\n",
      "Отклонение -  242.09631188095457\n",
      "Среднее -  450.9642412935323\n"
     ]
    }
   ],
   "source": [
    "variance = np.var(basa_abonents['min'], ddof=1)\n",
    "print('Дисперсия - ', variance)\n",
    "print('Отклонение - ', np.sqrt(variance))\n",
    "print('Среднее - ', basa_abonents['min'].mean())"
   ]
  },
  {
   "cell_type": "markdown",
   "id": "f0d23db6",
   "metadata": {},
   "source": [
    "## Анализ данных"
   ]
  },
  {
   "cell_type": "code",
   "execution_count": 64,
   "id": "19cecb12",
   "metadata": {},
   "outputs": [],
   "source": [
    "#Функция для анализа поведения клиентов:\n",
    "def hist_maker_and_table(df, name,x_1_smart,x_2_ultra):\n",
    "    cd = df.groupby(df.tariff)[name]\n",
    "    cd_desc = cd.describe(percentiles = [.01,.25,.75,.99])\n",
    "    cd_desc['var']= [np.var(cd.get_group('smart'), ddof=1), np.var(cd.get_group('ultra'), ddof=1)]\n",
    "    display(cd_desc)\n",
    "    smart = df.query('tariff == \"smart\"')[name]\n",
    "    ultra = df.query('tariff == \"ultra\"')[name]\n",
    "    plt.figure(figsize=(10,6))\n",
    "    plt.hist(smart, bins=50, color='blue', edgecolor='grey', alpha=0.5, label = 'Смарт', density = False)\n",
    "    plt.hist(ultra, bins=50, color='orange', edgecolor='grey', alpha=0.5,label = 'Ультра', density = False)\n",
    "    plt.axvline(cd_desc['mean'][0], color='blue', linestyle='dashed', linewidth=3, label='Среднее Смарт: {:.2f}'.format(cd_desc['mean'][0]))\n",
    "    \n",
    "    plt.axvline(cd_desc['mean'][1], color='orange', linestyle='dashed', linewidth=3, label='Среднее Ультра: {:.2f}'.format(cd_desc['mean'][1]))\n",
    "\n",
    "    plt.axvline(x_1_smart, color='blue', linestyle='solid', linewidth=3, label='Включено в тариф Смарт')\n",
    "    plt.axvline(x_2_ultra, color='orange', linestyle='solid', linewidth=3, label='Включено в тариф Ультра')\n",
    "    plt.legend()\n",
    "    plt.title('Распределение {} по месяцам для Смарт & Ультра'.format(name))"
   ]
  },
  {
   "cell_type": "code",
   "execution_count": 65,
   "id": "bed6285a",
   "metadata": {},
   "outputs": [
    {
     "name": "stderr",
     "output_type": "stream",
     "text": [
      "/tmp/ipykernel_36/2875906058.py:1: FutureWarning: Indexing with multiple keys (implicitly converted to a tuple of keys) will be deprecated, use a list instead.\n",
      "  clients_month = basa_abonents.groupby(['tariff', 'month'])['min', 'mes', 'gb', 'price_month'].sum().reset_index()\n"
     ]
    },
    {
     "data": {
      "text/html": [
       "<div>\n",
       "<style scoped>\n",
       "    .dataframe tbody tr th:only-of-type {\n",
       "        vertical-align: middle;\n",
       "    }\n",
       "\n",
       "    .dataframe tbody tr th {\n",
       "        vertical-align: top;\n",
       "    }\n",
       "\n",
       "    .dataframe thead th {\n",
       "        text-align: right;\n",
       "    }\n",
       "</style>\n",
       "<table border=\"1\" class=\"dataframe\">\n",
       "  <thead>\n",
       "    <tr style=\"text-align: right;\">\n",
       "      <th></th>\n",
       "      <th>tariff</th>\n",
       "      <th>month</th>\n",
       "      <th>min</th>\n",
       "      <th>mes</th>\n",
       "      <th>gb</th>\n",
       "      <th>price_month</th>\n",
       "    </tr>\n",
       "  </thead>\n",
       "  <tbody>\n",
       "    <tr>\n",
       "      <th>0</th>\n",
       "      <td>smart</td>\n",
       "      <td>1.000</td>\n",
       "      <td>6931.000</td>\n",
       "      <td>620.000</td>\n",
       "      <td>297</td>\n",
       "      <td>24525.000</td>\n",
       "    </tr>\n",
       "    <tr>\n",
       "      <th>1</th>\n",
       "      <td>smart</td>\n",
       "      <td>2.000</td>\n",
       "      <td>17324.000</td>\n",
       "      <td>1397.000</td>\n",
       "      <td>687</td>\n",
       "      <td>48001.000</td>\n",
       "    </tr>\n",
       "    <tr>\n",
       "      <th>2</th>\n",
       "      <td>smart</td>\n",
       "      <td>3.000</td>\n",
       "      <td>30034.000</td>\n",
       "      <td>2453.000</td>\n",
       "      <td>1172</td>\n",
       "      <td>89476.000</td>\n",
       "    </tr>\n",
       "    <tr>\n",
       "      <th>3</th>\n",
       "      <td>smart</td>\n",
       "      <td>4.000</td>\n",
       "      <td>41119.000</td>\n",
       "      <td>3443.000</td>\n",
       "      <td>1524</td>\n",
       "      <td>107466.000</td>\n",
       "    </tr>\n",
       "    <tr>\n",
       "      <th>4</th>\n",
       "      <td>smart</td>\n",
       "      <td>5.000</td>\n",
       "      <td>54618.000</td>\n",
       "      <td>4762.000</td>\n",
       "      <td>2241</td>\n",
       "      <td>168649.000</td>\n",
       "    </tr>\n",
       "    <tr>\n",
       "      <th>5</th>\n",
       "      <td>smart</td>\n",
       "      <td>6.000</td>\n",
       "      <td>64885.000</td>\n",
       "      <td>5478.000</td>\n",
       "      <td>2614</td>\n",
       "      <td>197259.000</td>\n",
       "    </tr>\n",
       "    <tr>\n",
       "      <th>6</th>\n",
       "      <td>smart</td>\n",
       "      <td>7.000</td>\n",
       "      <td>82079.000</td>\n",
       "      <td>6784.000</td>\n",
       "      <td>3184</td>\n",
       "      <td>244814.000</td>\n",
       "    </tr>\n",
       "    <tr>\n",
       "      <th>7</th>\n",
       "      <td>smart</td>\n",
       "      <td>8.000</td>\n",
       "      <td>99045.000</td>\n",
       "      <td>7905.000</td>\n",
       "      <td>3925</td>\n",
       "      <td>309140.000</td>\n",
       "    </tr>\n",
       "    <tr>\n",
       "      <th>8</th>\n",
       "      <td>smart</td>\n",
       "      <td>9.000</td>\n",
       "      <td>111439.000</td>\n",
       "      <td>8746.000</td>\n",
       "      <td>4259</td>\n",
       "      <td>324386.000</td>\n",
       "    </tr>\n",
       "    <tr>\n",
       "      <th>9</th>\n",
       "      <td>smart</td>\n",
       "      <td>10.000</td>\n",
       "      <td>125284.000</td>\n",
       "      <td>9927.000</td>\n",
       "      <td>4955</td>\n",
       "      <td>399667.000</td>\n",
       "    </tr>\n",
       "    <tr>\n",
       "      <th>10</th>\n",
       "      <td>smart</td>\n",
       "      <td>11.000</td>\n",
       "      <td>137544.000</td>\n",
       "      <td>10768.000</td>\n",
       "      <td>5367</td>\n",
       "      <td>423403.000</td>\n",
       "    </tr>\n",
       "    <tr>\n",
       "      <th>11</th>\n",
       "      <td>smart</td>\n",
       "      <td>12.000</td>\n",
       "      <td>161275.000</td>\n",
       "      <td>12130.000</td>\n",
       "      <td>6127</td>\n",
       "      <td>531515.000</td>\n",
       "    </tr>\n",
       "  </tbody>\n",
       "</table>\n",
       "</div>"
      ],
      "text/plain": [
       "   tariff  month        min       mes    gb  price_month\n",
       "0   smart  1.000   6931.000   620.000   297    24525.000\n",
       "1   smart  2.000  17324.000  1397.000   687    48001.000\n",
       "2   smart  3.000  30034.000  2453.000  1172    89476.000\n",
       "3   smart  4.000  41119.000  3443.000  1524   107466.000\n",
       "4   smart  5.000  54618.000  4762.000  2241   168649.000\n",
       "5   smart  6.000  64885.000  5478.000  2614   197259.000\n",
       "6   smart  7.000  82079.000  6784.000  3184   244814.000\n",
       "7   smart  8.000  99045.000  7905.000  3925   309140.000\n",
       "8   smart  9.000 111439.000  8746.000  4259   324386.000\n",
       "9   smart 10.000 125284.000  9927.000  4955   399667.000\n",
       "10  smart 11.000 137544.000 10768.000  5367   423403.000\n",
       "11  smart 12.000 161275.000 12130.000  6127   531515.000"
      ]
     },
     "metadata": {},
     "output_type": "display_data"
    },
    {
     "data": {
      "text/html": [
       "<div>\n",
       "<style scoped>\n",
       "    .dataframe tbody tr th:only-of-type {\n",
       "        vertical-align: middle;\n",
       "    }\n",
       "\n",
       "    .dataframe tbody tr th {\n",
       "        vertical-align: top;\n",
       "    }\n",
       "\n",
       "    .dataframe thead th {\n",
       "        text-align: right;\n",
       "    }\n",
       "</style>\n",
       "<table border=\"1\" class=\"dataframe\">\n",
       "  <thead>\n",
       "    <tr style=\"text-align: right;\">\n",
       "      <th></th>\n",
       "      <th>tariff</th>\n",
       "      <th>month</th>\n",
       "      <th>min</th>\n",
       "      <th>mes</th>\n",
       "      <th>gb</th>\n",
       "      <th>price_month</th>\n",
       "    </tr>\n",
       "  </thead>\n",
       "  <tbody>\n",
       "    <tr>\n",
       "      <th>0</th>\n",
       "      <td>ultra</td>\n",
       "      <td>1.000</td>\n",
       "      <td>3853.000</td>\n",
       "      <td>304.000</td>\n",
       "      <td>119</td>\n",
       "      <td>17550.000</td>\n",
       "    </tr>\n",
       "    <tr>\n",
       "      <th>1</th>\n",
       "      <td>ultra</td>\n",
       "      <td>2.000</td>\n",
       "      <td>7131.000</td>\n",
       "      <td>527.000</td>\n",
       "      <td>287</td>\n",
       "      <td>47400.000</td>\n",
       "    </tr>\n",
       "    <tr>\n",
       "      <th>2</th>\n",
       "      <td>ultra</td>\n",
       "      <td>3.000</td>\n",
       "      <td>18117.000</td>\n",
       "      <td>1195.000</td>\n",
       "      <td>651</td>\n",
       "      <td>74550.000</td>\n",
       "    </tr>\n",
       "    <tr>\n",
       "      <th>3</th>\n",
       "      <td>ultra</td>\n",
       "      <td>4.000</td>\n",
       "      <td>25191.000</td>\n",
       "      <td>1736.000</td>\n",
       "      <td>931</td>\n",
       "      <td>110100.000</td>\n",
       "    </tr>\n",
       "    <tr>\n",
       "      <th>4</th>\n",
       "      <td>ultra</td>\n",
       "      <td>5.000</td>\n",
       "      <td>34192.000</td>\n",
       "      <td>2536.000</td>\n",
       "      <td>1298</td>\n",
       "      <td>138000.000</td>\n",
       "    </tr>\n",
       "    <tr>\n",
       "      <th>5</th>\n",
       "      <td>ultra</td>\n",
       "      <td>6.000</td>\n",
       "      <td>40295.000</td>\n",
       "      <td>3505.000</td>\n",
       "      <td>1591</td>\n",
       "      <td>171300.000</td>\n",
       "    </tr>\n",
       "    <tr>\n",
       "      <th>6</th>\n",
       "      <td>ultra</td>\n",
       "      <td>7.000</td>\n",
       "      <td>49667.000</td>\n",
       "      <td>4536.000</td>\n",
       "      <td>1865</td>\n",
       "      <td>192600.000</td>\n",
       "    </tr>\n",
       "    <tr>\n",
       "      <th>7</th>\n",
       "      <td>ultra</td>\n",
       "      <td>8.000</td>\n",
       "      <td>54653.000</td>\n",
       "      <td>5183.000</td>\n",
       "      <td>2096</td>\n",
       "      <td>222750.000</td>\n",
       "    </tr>\n",
       "    <tr>\n",
       "      <th>8</th>\n",
       "      <td>ultra</td>\n",
       "      <td>9.000</td>\n",
       "      <td>62036.000</td>\n",
       "      <td>6013.000</td>\n",
       "      <td>2211</td>\n",
       "      <td>232650.000</td>\n",
       "    </tr>\n",
       "    <tr>\n",
       "      <th>9</th>\n",
       "      <td>ultra</td>\n",
       "      <td>10.000</td>\n",
       "      <td>68644.000</td>\n",
       "      <td>7187.000</td>\n",
       "      <td>2467</td>\n",
       "      <td>254100.000</td>\n",
       "    </tr>\n",
       "    <tr>\n",
       "      <th>10</th>\n",
       "      <td>ultra</td>\n",
       "      <td>11.000</td>\n",
       "      <td>72545.000</td>\n",
       "      <td>7476.000</td>\n",
       "      <td>2653</td>\n",
       "      <td>280200.000</td>\n",
       "    </tr>\n",
       "    <tr>\n",
       "      <th>11</th>\n",
       "      <td>ultra</td>\n",
       "      <td>12.000</td>\n",
       "      <td>82400.000</td>\n",
       "      <td>8425.000</td>\n",
       "      <td>3018</td>\n",
       "      <td>299250.000</td>\n",
       "    </tr>\n",
       "  </tbody>\n",
       "</table>\n",
       "</div>"
      ],
      "text/plain": [
       "   tariff  month       min      mes    gb  price_month\n",
       "0   ultra  1.000  3853.000  304.000   119    17550.000\n",
       "1   ultra  2.000  7131.000  527.000   287    47400.000\n",
       "2   ultra  3.000 18117.000 1195.000   651    74550.000\n",
       "3   ultra  4.000 25191.000 1736.000   931   110100.000\n",
       "4   ultra  5.000 34192.000 2536.000  1298   138000.000\n",
       "5   ultra  6.000 40295.000 3505.000  1591   171300.000\n",
       "6   ultra  7.000 49667.000 4536.000  1865   192600.000\n",
       "7   ultra  8.000 54653.000 5183.000  2096   222750.000\n",
       "8   ultra  9.000 62036.000 6013.000  2211   232650.000\n",
       "9   ultra 10.000 68644.000 7187.000  2467   254100.000\n",
       "10  ultra 11.000 72545.000 7476.000  2653   280200.000\n",
       "11  ultra 12.000 82400.000 8425.000  3018   299250.000"
      ]
     },
     "metadata": {},
     "output_type": "display_data"
    }
   ],
   "source": [
    "clients_month = basa_abonents.groupby(['tariff', 'month'])['min', 'mes', 'gb', 'price_month'].sum().reset_index()\n",
    "smart_clients_month = clients_month.query(' tariff==\"smart\" ').reset_index(drop=True)\n",
    "ultra_clients_month = clients_month.query(' tariff==\"ultra\" ').reset_index(drop=True)\n",
    "display(smart_clients_month)\n",
    "display(ultra_clients_month)"
   ]
  },
  {
   "cell_type": "markdown",
   "id": "feeba4be",
   "metadata": {},
   "source": [
    "С мая месяца наблюдается значительный рост выручки по тарифу **Smart**. К концу года выручка **Smart** выше выручки **Ultra** на 76%."
   ]
  },
  {
   "cell_type": "code",
   "execution_count": 66,
   "id": "28ed3b87",
   "metadata": {},
   "outputs": [
    {
     "data": {
      "text/html": [
       "<div>\n",
       "<style scoped>\n",
       "    .dataframe tbody tr th:only-of-type {\n",
       "        vertical-align: middle;\n",
       "    }\n",
       "\n",
       "    .dataframe tbody tr th {\n",
       "        vertical-align: top;\n",
       "    }\n",
       "\n",
       "    .dataframe thead th {\n",
       "        text-align: right;\n",
       "    }\n",
       "</style>\n",
       "<table border=\"1\" class=\"dataframe\">\n",
       "  <thead>\n",
       "    <tr style=\"text-align: right;\">\n",
       "      <th></th>\n",
       "      <th>messages_included</th>\n",
       "      <th>mb_per_month_included</th>\n",
       "      <th>minutes_included</th>\n",
       "      <th>rub_monthly_fee</th>\n",
       "      <th>rub_per_gb</th>\n",
       "      <th>rub_per_message</th>\n",
       "      <th>rub_per_minute</th>\n",
       "      <th>tariff_name</th>\n",
       "    </tr>\n",
       "  </thead>\n",
       "  <tbody>\n",
       "    <tr>\n",
       "      <th>0</th>\n",
       "      <td>50</td>\n",
       "      <td>15360</td>\n",
       "      <td>500</td>\n",
       "      <td>550</td>\n",
       "      <td>200</td>\n",
       "      <td>3</td>\n",
       "      <td>3</td>\n",
       "      <td>smart</td>\n",
       "    </tr>\n",
       "    <tr>\n",
       "      <th>1</th>\n",
       "      <td>1000</td>\n",
       "      <td>30720</td>\n",
       "      <td>3000</td>\n",
       "      <td>1950</td>\n",
       "      <td>150</td>\n",
       "      <td>1</td>\n",
       "      <td>1</td>\n",
       "      <td>ultra</td>\n",
       "    </tr>\n",
       "  </tbody>\n",
       "</table>\n",
       "</div>"
      ],
      "text/plain": [
       "   messages_included  mb_per_month_included  minutes_included  \\\n",
       "0                 50                  15360               500   \n",
       "1               1000                  30720              3000   \n",
       "\n",
       "   rub_monthly_fee  rub_per_gb  rub_per_message  rub_per_minute tariff_name  \n",
       "0              550         200                3               3       smart  \n",
       "1             1950         150                1               1       ultra  "
      ]
     },
     "execution_count": 66,
     "metadata": {},
     "output_type": "execute_result"
    }
   ],
   "source": [
    "df_tariffs"
   ]
  },
  {
   "cell_type": "code",
   "execution_count": 67,
   "id": "b3ce3071",
   "metadata": {},
   "outputs": [
    {
     "data": {
      "text/html": [
       "<div>\n",
       "<style scoped>\n",
       "    .dataframe tbody tr th:only-of-type {\n",
       "        vertical-align: middle;\n",
       "    }\n",
       "\n",
       "    .dataframe tbody tr th {\n",
       "        vertical-align: top;\n",
       "    }\n",
       "\n",
       "    .dataframe thead th {\n",
       "        text-align: right;\n",
       "    }\n",
       "</style>\n",
       "<table border=\"1\" class=\"dataframe\">\n",
       "  <thead>\n",
       "    <tr style=\"text-align: right;\">\n",
       "      <th></th>\n",
       "      <th>count</th>\n",
       "      <th>mean</th>\n",
       "      <th>std</th>\n",
       "      <th>min</th>\n",
       "      <th>1%</th>\n",
       "      <th>25%</th>\n",
       "      <th>50%</th>\n",
       "      <th>75%</th>\n",
       "      <th>99%</th>\n",
       "      <th>max</th>\n",
       "      <th>var</th>\n",
       "    </tr>\n",
       "    <tr>\n",
       "      <th>tariff</th>\n",
       "      <th></th>\n",
       "      <th></th>\n",
       "      <th></th>\n",
       "      <th></th>\n",
       "      <th></th>\n",
       "      <th></th>\n",
       "      <th></th>\n",
       "      <th></th>\n",
       "      <th></th>\n",
       "      <th></th>\n",
       "      <th></th>\n",
       "    </tr>\n",
       "  </thead>\n",
       "  <tbody>\n",
       "    <tr>\n",
       "      <th>smart</th>\n",
       "      <td>2230.000</td>\n",
       "      <td>1286.234</td>\n",
       "      <td>816.489</td>\n",
       "      <td>550.000</td>\n",
       "      <td>550.000</td>\n",
       "      <td>550.000</td>\n",
       "      <td>1016.500</td>\n",
       "      <td>1750.000</td>\n",
       "      <td>3773.710</td>\n",
       "      <td>6770.000</td>\n",
       "      <td>666653.982</td>\n",
       "    </tr>\n",
       "    <tr>\n",
       "      <th>ultra</th>\n",
       "      <td>986.000</td>\n",
       "      <td>2069.422</td>\n",
       "      <td>374.506</td>\n",
       "      <td>1950.000</td>\n",
       "      <td>1950.000</td>\n",
       "      <td>1950.000</td>\n",
       "      <td>1950.000</td>\n",
       "      <td>1950.000</td>\n",
       "      <td>3772.500</td>\n",
       "      <td>4800.000</td>\n",
       "      <td>140254.386</td>\n",
       "    </tr>\n",
       "  </tbody>\n",
       "</table>\n",
       "</div>"
      ],
      "text/plain": [
       "          count     mean     std      min       1%      25%      50%      75%  \\\n",
       "tariff                                                                          \n",
       "smart  2230.000 1286.234 816.489  550.000  550.000  550.000 1016.500 1750.000   \n",
       "ultra   986.000 2069.422 374.506 1950.000 1950.000 1950.000 1950.000 1950.000   \n",
       "\n",
       "            99%      max        var  \n",
       "tariff                               \n",
       "smart  3773.710 6770.000 666653.982  \n",
       "ultra  3772.500 4800.000 140254.386  "
      ]
     },
     "metadata": {},
     "output_type": "display_data"
    },
    {
     "data": {
      "image/png": "[encoded data removed]",
      "text/plain": [
       "<Figure size 720x432 with 1 Axes>"
      ]
     },
     "metadata": {
      "needs_background": "light"
     },
     "output_type": "display_data"
    }
   ],
   "source": [
    "hist_maker_and_table(basa_abonents,'price_month',100,1000)"
   ]
  },
  {
   "cell_type": "markdown",
   "id": "651cabb5",
   "metadata": {},
   "source": [
    "- Пользователи тарифа Смарт в среднем в месяц тратят меньше денег, чем пользователи тарифа Ультра, за счёт меньшей абоненсткой платы (1286 руб./2069 руб. ) .\n",
    "- На тарифе Смарт пользователи очень часто доплачивают за трафик.\n",
    "- Дисперсия и стандартное отклонение выше на тарифе Смарт, но пользователи этого тарифа часто не укладываются в установленные лимиты.\n",
    "- Абонентская плата У тарифа Ультра выше, но его пользователи значительно реже доплачивают за услуги."
   ]
  },
  {
   "cell_type": "code",
   "execution_count": 76,
   "id": "0bcbbabc",
   "metadata": {},
   "outputs": [
    {
     "data": {
      "text/html": [
       "<div>\n",
       "<style scoped>\n",
       "    .dataframe tbody tr th:only-of-type {\n",
       "        vertical-align: middle;\n",
       "    }\n",
       "\n",
       "    .dataframe tbody tr th {\n",
       "        vertical-align: top;\n",
       "    }\n",
       "\n",
       "    .dataframe thead th {\n",
       "        text-align: right;\n",
       "    }\n",
       "</style>\n",
       "<table border=\"1\" class=\"dataframe\">\n",
       "  <thead>\n",
       "    <tr style=\"text-align: right;\">\n",
       "      <th></th>\n",
       "      <th>count</th>\n",
       "      <th>mean</th>\n",
       "      <th>std</th>\n",
       "      <th>min</th>\n",
       "      <th>1%</th>\n",
       "      <th>25%</th>\n",
       "      <th>50%</th>\n",
       "      <th>75%</th>\n",
       "      <th>99%</th>\n",
       "      <th>max</th>\n",
       "      <th>var</th>\n",
       "    </tr>\n",
       "    <tr>\n",
       "      <th>tariff</th>\n",
       "      <th></th>\n",
       "      <th></th>\n",
       "      <th></th>\n",
       "      <th></th>\n",
       "      <th></th>\n",
       "      <th></th>\n",
       "      <th></th>\n",
       "      <th></th>\n",
       "      <th></th>\n",
       "      <th></th>\n",
       "      <th></th>\n",
       "    </tr>\n",
       "  </thead>\n",
       "  <tbody>\n",
       "    <tr>\n",
       "      <th>smart</th>\n",
       "      <td>2230.000</td>\n",
       "      <td>417.748</td>\n",
       "      <td>190.477</td>\n",
       "      <td>0.000</td>\n",
       "      <td>13.580</td>\n",
       "      <td>282.000</td>\n",
       "      <td>421.500</td>\n",
       "      <td>545.000</td>\n",
       "      <td>872.710</td>\n",
       "      <td>1435.000</td>\n",
       "      <td>36281.394</td>\n",
       "    </tr>\n",
       "    <tr>\n",
       "      <th>ultra</th>\n",
       "      <td>986.000</td>\n",
       "      <td>526.089</td>\n",
       "      <td>317.888</td>\n",
       "      <td>0.000</td>\n",
       "      <td>0.000</td>\n",
       "      <td>282.500</td>\n",
       "      <td>518.000</td>\n",
       "      <td>751.750</td>\n",
       "      <td>1291.050</td>\n",
       "      <td>1673.000</td>\n",
       "      <td>101052.494</td>\n",
       "    </tr>\n",
       "  </tbody>\n",
       "</table>\n",
       "</div>"
      ],
      "text/plain": [
       "          count    mean     std   min     1%     25%     50%     75%      99%  \\\n",
       "tariff                                                                          \n",
       "smart  2230.000 417.748 190.477 0.000 13.580 282.000 421.500 545.000  872.710   \n",
       "ultra   986.000 526.089 317.888 0.000  0.000 282.500 518.000 751.750 1291.050   \n",
       "\n",
       "            max        var  \n",
       "tariff                      \n",
       "smart  1435.000  36281.394  \n",
       "ultra  1673.000 101052.494  "
      ]
     },
     "metadata": {},
     "output_type": "display_data"
    },
    {
     "data": {
      "image/png": "[encoded data removed]",
      "text/plain": [
       "<Figure size 720x432 with 1 Axes>"
      ]
     },
     "metadata": {
      "needs_background": "light"
     },
     "output_type": "display_data"
    }
   ],
   "source": [
    "hist_maker_and_table(basa_abonents,'min',500,1500)"
   ]
  },
  {
   "cell_type": "markdown",
   "id": "824593ab",
   "metadata": {},
   "source": [
    "<div class=\"alert alert-success\">\n",
    "<h2> Комментарий ревьюера <a class=\"tocSkip\"> </h2>\n",
    "\n",
    "<b>Все отлично! 👍:</b> \n",
    "    \n",
    "Обожаю красивые графики.\n",
    "    \n",
    "Тем более, если они еще и информативны\n",
    "</div>"
   ]
  },
  {
   "cell_type": "markdown",
   "id": "e1fa3e98",
   "metadata": {},
   "source": [
    "- Пользователи тарифа Smart в среднем в месяц тратят меньше минут разговора, чем пользователи тарифа Ultra.\n",
    "- На тарифе Smart пользователи часто не укладываются в лимиты и доплачивают за звонки.\n",
    "- Дисперсия и стандартное отклонение выше на тарифе Ultra, но пользователи этого тарифа всегда укладываются в установленные лимиты.\n",
    "- Максимальное число минут разговора в месяц более чем в 2 раза меньше заложенных в него 3000."
   ]
  },
  {
   "cell_type": "code",
   "execution_count": 69,
   "id": "93079f15",
   "metadata": {},
   "outputs": [
    {
     "data": {
      "text/html": [
       "<div>\n",
       "<style scoped>\n",
       "    .dataframe tbody tr th:only-of-type {\n",
       "        vertical-align: middle;\n",
       "    }\n",
       "\n",
       "    .dataframe tbody tr th {\n",
       "        vertical-align: top;\n",
       "    }\n",
       "\n",
       "    .dataframe thead th {\n",
       "        text-align: right;\n",
       "    }\n",
       "</style>\n",
       "<table border=\"1\" class=\"dataframe\">\n",
       "  <thead>\n",
       "    <tr style=\"text-align: right;\">\n",
       "      <th></th>\n",
       "      <th>count</th>\n",
       "      <th>mean</th>\n",
       "      <th>std</th>\n",
       "      <th>min</th>\n",
       "      <th>1%</th>\n",
       "      <th>25%</th>\n",
       "      <th>50%</th>\n",
       "      <th>75%</th>\n",
       "      <th>99%</th>\n",
       "      <th>max</th>\n",
       "      <th>var</th>\n",
       "    </tr>\n",
       "    <tr>\n",
       "      <th>tariff</th>\n",
       "      <th></th>\n",
       "      <th></th>\n",
       "      <th></th>\n",
       "      <th></th>\n",
       "      <th></th>\n",
       "      <th></th>\n",
       "      <th></th>\n",
       "      <th></th>\n",
       "      <th></th>\n",
       "      <th></th>\n",
       "      <th></th>\n",
       "    </tr>\n",
       "  </thead>\n",
       "  <tbody>\n",
       "    <tr>\n",
       "      <th>smart</th>\n",
       "      <td>2230.000</td>\n",
       "      <td>33.369</td>\n",
       "      <td>28.230</td>\n",
       "      <td>0.000</td>\n",
       "      <td>0.000</td>\n",
       "      <td>10.000</td>\n",
       "      <td>28.000</td>\n",
       "      <td>51.000</td>\n",
       "      <td>108.000</td>\n",
       "      <td>143.000</td>\n",
       "      <td>796.955</td>\n",
       "    </tr>\n",
       "    <tr>\n",
       "      <th>ultra</th>\n",
       "      <td>986.000</td>\n",
       "      <td>49.313</td>\n",
       "      <td>47.806</td>\n",
       "      <td>0.000</td>\n",
       "      <td>0.000</td>\n",
       "      <td>6.000</td>\n",
       "      <td>38.000</td>\n",
       "      <td>78.750</td>\n",
       "      <td>183.300</td>\n",
       "      <td>224.000</td>\n",
       "      <td>2285.417</td>\n",
       "    </tr>\n",
       "  </tbody>\n",
       "</table>\n",
       "</div>"
      ],
      "text/plain": [
       "          count   mean    std   min    1%    25%    50%    75%     99%  \\\n",
       "tariff                                                                   \n",
       "smart  2230.000 33.369 28.230 0.000 0.000 10.000 28.000 51.000 108.000   \n",
       "ultra   986.000 49.313 47.806 0.000 0.000  6.000 38.000 78.750 183.300   \n",
       "\n",
       "           max      var  \n",
       "tariff                   \n",
       "smart  143.000  796.955  \n",
       "ultra  224.000 2285.417  "
      ]
     },
     "metadata": {},
     "output_type": "display_data"
    },
    {
     "data": {
      "image/png": "[encoded data removed]",
      "text/plain": [
       "<Figure size 720x432 with 1 Axes>"
      ]
     },
     "metadata": {
      "needs_background": "light"
     },
     "output_type": "display_data"
    }
   ],
   "source": [
    "hist_maker_and_table(basa_abonents,'mes',50,200)"
   ]
  },
  {
   "cell_type": "markdown",
   "id": "a5e170d2",
   "metadata": {},
   "source": [
    "- Пользователи тарифа Smart в среднем в месяц пишут меньше сообщений, чем пользователи тарифа Ultra.\n",
    "- На тарифе Ultra пользователи часто не укладываются в лимиты и доплачивают за отправленые сообщения.\n",
    "- Дисперсия и стандартное отклонение выше на тарифе Ultra, но пользователи этого тарифа всегда укладываются в установленные лимиты отправки сообщений.\n",
    "- Максимальное число сообщений в Ultra в месяц значительно меньше заложенных в него 1000."
   ]
  },
  {
   "cell_type": "code",
   "execution_count": 70,
   "id": "88fd31d8",
   "metadata": {},
   "outputs": [
    {
     "data": {
      "text/html": [
       "<div>\n",
       "<style scoped>\n",
       "    .dataframe tbody tr th:only-of-type {\n",
       "        vertical-align: middle;\n",
       "    }\n",
       "\n",
       "    .dataframe tbody tr th {\n",
       "        vertical-align: top;\n",
       "    }\n",
       "\n",
       "    .dataframe thead th {\n",
       "        text-align: right;\n",
       "    }\n",
       "</style>\n",
       "<table border=\"1\" class=\"dataframe\">\n",
       "  <thead>\n",
       "    <tr style=\"text-align: right;\">\n",
       "      <th></th>\n",
       "      <th>count</th>\n",
       "      <th>mean</th>\n",
       "      <th>std</th>\n",
       "      <th>min</th>\n",
       "      <th>1%</th>\n",
       "      <th>25%</th>\n",
       "      <th>50%</th>\n",
       "      <th>75%</th>\n",
       "      <th>99%</th>\n",
       "      <th>max</th>\n",
       "      <th>var</th>\n",
       "    </tr>\n",
       "    <tr>\n",
       "      <th>tariff</th>\n",
       "      <th></th>\n",
       "      <th></th>\n",
       "      <th></th>\n",
       "      <th></th>\n",
       "      <th></th>\n",
       "      <th></th>\n",
       "      <th></th>\n",
       "      <th></th>\n",
       "      <th></th>\n",
       "      <th></th>\n",
       "      <th></th>\n",
       "    </tr>\n",
       "  </thead>\n",
       "  <tbody>\n",
       "    <tr>\n",
       "      <th>smart</th>\n",
       "      <td>2230.000</td>\n",
       "      <td>16.301</td>\n",
       "      <td>5.748</td>\n",
       "      <td>0.000</td>\n",
       "      <td>2.000</td>\n",
       "      <td>13.000</td>\n",
       "      <td>17.000</td>\n",
       "      <td>20.000</td>\n",
       "      <td>29.000</td>\n",
       "      <td>38.000</td>\n",
       "      <td>33.036</td>\n",
       "    </tr>\n",
       "    <tr>\n",
       "      <th>ultra</th>\n",
       "      <td>986.000</td>\n",
       "      <td>19.459</td>\n",
       "      <td>9.862</td>\n",
       "      <td>0.000</td>\n",
       "      <td>0.000</td>\n",
       "      <td>12.000</td>\n",
       "      <td>19.000</td>\n",
       "      <td>27.000</td>\n",
       "      <td>42.150</td>\n",
       "      <td>49.000</td>\n",
       "      <td>97.256</td>\n",
       "    </tr>\n",
       "  </tbody>\n",
       "</table>\n",
       "</div>"
      ],
      "text/plain": [
       "          count   mean   std   min    1%    25%    50%    75%    99%    max  \\\n",
       "tariff                                                                        \n",
       "smart  2230.000 16.301 5.748 0.000 2.000 13.000 17.000 20.000 29.000 38.000   \n",
       "ultra   986.000 19.459 9.862 0.000 0.000 12.000 19.000 27.000 42.150 49.000   \n",
       "\n",
       "          var  \n",
       "tariff         \n",
       "smart  33.036  \n",
       "ultra  97.256  "
      ]
     },
     "metadata": {},
     "output_type": "display_data"
    },
    {
     "data": {
      "image/png": "[encoded data removed]",
      "text/plain": [
       "<Figure size 720x432 with 1 Axes>"
      ]
     },
     "metadata": {
      "needs_background": "light"
     },
     "output_type": "display_data"
    }
   ],
   "source": [
    "hist_maker_and_table(basa_abonents,'gb',15,30)"
   ]
  },
  {
   "cell_type": "markdown",
   "id": "b59e0ed1",
   "metadata": {},
   "source": [
    "- Пользователи тарифа Smart в среднем в месяц тратят меньше трафика мобильного интернета, чем пользователи тарифа Ultra.\n",
    "- На тарифе Smart пользователи очень часто не укладываются в лимит 15 Гб и доплачивают за трафик.\n",
    "- Дисперсия и стандартное отклонение выше на тарифе Ultra, но пользователи этого тарифа часто не укладываются в установленные лимиты трафика.\n",
    "- Максимальный трафик в Ultra значительно больше заложенных в него 30 Гб."
   ]
  },
  {
   "cell_type": "markdown",
   "id": "8a79a775",
   "metadata": {},
   "source": [
    "**Анализ тарифа \"Ultra\"**"
   ]
  },
  {
   "cell_type": "code",
   "execution_count": 71,
   "id": "1673cfe9",
   "metadata": {},
   "outputs": [
    {
     "data": {
      "text/html": [
       "<div>\n",
       "<style scoped>\n",
       "    .dataframe tbody tr th:only-of-type {\n",
       "        vertical-align: middle;\n",
       "    }\n",
       "\n",
       "    .dataframe tbody tr th {\n",
       "        vertical-align: top;\n",
       "    }\n",
       "\n",
       "    .dataframe thead th {\n",
       "        text-align: right;\n",
       "    }\n",
       "</style>\n",
       "<table border=\"1\" class=\"dataframe\">\n",
       "  <thead>\n",
       "    <tr style=\"text-align: right;\">\n",
       "      <th></th>\n",
       "      <th>month</th>\n",
       "      <th>min</th>\n",
       "      <th>mes</th>\n",
       "      <th>gb</th>\n",
       "      <th>price_month</th>\n",
       "    </tr>\n",
       "  </thead>\n",
       "  <tbody>\n",
       "    <tr>\n",
       "      <th>count</th>\n",
       "      <td>12.000</td>\n",
       "      <td>12.000</td>\n",
       "      <td>12.000</td>\n",
       "      <td>12.000</td>\n",
       "      <td>12.000</td>\n",
       "    </tr>\n",
       "    <tr>\n",
       "      <th>mean</th>\n",
       "      <td>6.500</td>\n",
       "      <td>43227.000</td>\n",
       "      <td>4051.917</td>\n",
       "      <td>1598.917</td>\n",
       "      <td>170037.500</td>\n",
       "    </tr>\n",
       "    <tr>\n",
       "      <th>std</th>\n",
       "      <td>3.606</td>\n",
       "      <td>26050.945</td>\n",
       "      <td>2838.549</td>\n",
       "      <td>949.524</td>\n",
       "      <td>92998.976</td>\n",
       "    </tr>\n",
       "    <tr>\n",
       "      <th>min</th>\n",
       "      <td>1.000</td>\n",
       "      <td>3853.000</td>\n",
       "      <td>304.000</td>\n",
       "      <td>119.000</td>\n",
       "      <td>17550.000</td>\n",
       "    </tr>\n",
       "    <tr>\n",
       "      <th>25%</th>\n",
       "      <td>3.750</td>\n",
       "      <td>23422.500</td>\n",
       "      <td>1600.750</td>\n",
       "      <td>861.000</td>\n",
       "      <td>101212.500</td>\n",
       "    </tr>\n",
       "    <tr>\n",
       "      <th>50%</th>\n",
       "      <td>6.500</td>\n",
       "      <td>44981.000</td>\n",
       "      <td>4020.500</td>\n",
       "      <td>1728.000</td>\n",
       "      <td>181950.000</td>\n",
       "    </tr>\n",
       "    <tr>\n",
       "      <th>75%</th>\n",
       "      <td>9.250</td>\n",
       "      <td>63688.000</td>\n",
       "      <td>6306.500</td>\n",
       "      <td>2275.000</td>\n",
       "      <td>238012.500</td>\n",
       "    </tr>\n",
       "    <tr>\n",
       "      <th>max</th>\n",
       "      <td>12.000</td>\n",
       "      <td>82400.000</td>\n",
       "      <td>8425.000</td>\n",
       "      <td>3018.000</td>\n",
       "      <td>299250.000</td>\n",
       "    </tr>\n",
       "  </tbody>\n",
       "</table>\n",
       "</div>"
      ],
      "text/plain": [
       "       month       min      mes       gb  price_month\n",
       "count 12.000    12.000   12.000   12.000       12.000\n",
       "mean   6.500 43227.000 4051.917 1598.917   170037.500\n",
       "std    3.606 26050.945 2838.549  949.524    92998.976\n",
       "min    1.000  3853.000  304.000  119.000    17550.000\n",
       "25%    3.750 23422.500 1600.750  861.000   101212.500\n",
       "50%    6.500 44981.000 4020.500 1728.000   181950.000\n",
       "75%    9.250 63688.000 6306.500 2275.000   238012.500\n",
       "max   12.000 82400.000 8425.000 3018.000   299250.000"
      ]
     },
     "execution_count": 71,
     "metadata": {},
     "output_type": "execute_result"
    }
   ],
   "source": [
    "ultra_clients_month.describe()"
   ]
  },
  {
   "cell_type": "code",
   "execution_count": 72,
   "id": "930fee80",
   "metadata": {},
   "outputs": [
    {
     "name": "stdout",
     "output_type": "stream",
     "text": [
      "Для: min\n",
      "--------------------------\n",
      "Дисперсия -  678651712.3636364\n",
      "Стандартное отклонение -  26050.944557993218\n",
      "Среднее -  43227.0\n",
      "\n",
      "Выручка за 2018 год:  2040450.0\n",
      "Для: mes\n",
      "--------------------------\n",
      "Дисперсия -  8057360.628787881\n",
      "Стандартное отклонение -  2838.549035825853\n",
      "Среднее -  4051.9166666666665\n",
      "\n",
      "Выручка за 2018 год:  2040450.0\n",
      "Для: gb\n",
      "--------------------------\n",
      "Дисперсия -  901595.1742424242\n",
      "Стандартное отклонение -  949.5236564943625\n",
      "Среднее -  1598.9166666666667\n",
      "\n",
      "Выручка за 2018 год:  2040450.0\n",
      "Для: price_month\n",
      "--------------------------\n",
      "Дисперсия -  8648809602.272728\n",
      "Стандартное отклонение -  92998.97635067135\n",
      "Среднее -  170037.5\n",
      "\n",
      "Выручка за 2018 год:  2040450.0\n"
     ]
    }
   ],
   "source": [
    "for values in ['min', 'mes', 'gb', 'price_month']:\n",
    "    variance = np.var(ultra_clients_month[values], ddof=1)\n",
    "    print('Для:', values)\n",
    "    print('--------------------------')\n",
    "    print('Дисперсия - ', variance)\n",
    "    print('Стандартное отклонение - ', np.sqrt(variance))\n",
    "    print('Среднее - ', ultra_clients_month[values].mean())\n",
    "    print('')  \n",
    "    print('Выручка за 2018 год: ',ultra_clients_month['price_month'].sum())"
   ]
  },
  {
   "cell_type": "markdown",
   "id": "07a33e9d",
   "metadata": {},
   "source": [
    "**Анализ тарифа \"Smart\"**"
   ]
  },
  {
   "cell_type": "code",
   "execution_count": 73,
   "id": "94ab250f",
   "metadata": {},
   "outputs": [
    {
     "data": {
      "text/html": [
       "<div>\n",
       "<style scoped>\n",
       "    .dataframe tbody tr th:only-of-type {\n",
       "        vertical-align: middle;\n",
       "    }\n",
       "\n",
       "    .dataframe tbody tr th {\n",
       "        vertical-align: top;\n",
       "    }\n",
       "\n",
       "    .dataframe thead th {\n",
       "        text-align: right;\n",
       "    }\n",
       "</style>\n",
       "<table border=\"1\" class=\"dataframe\">\n",
       "  <thead>\n",
       "    <tr style=\"text-align: right;\">\n",
       "      <th></th>\n",
       "      <th>month</th>\n",
       "      <th>min</th>\n",
       "      <th>mes</th>\n",
       "      <th>gb</th>\n",
       "      <th>price_month</th>\n",
       "    </tr>\n",
       "  </thead>\n",
       "  <tbody>\n",
       "    <tr>\n",
       "      <th>count</th>\n",
       "      <td>12.000</td>\n",
       "      <td>12.000</td>\n",
       "      <td>12.000</td>\n",
       "      <td>12.000</td>\n",
       "      <td>12.000</td>\n",
       "    </tr>\n",
       "    <tr>\n",
       "      <th>mean</th>\n",
       "      <td>6.500</td>\n",
       "      <td>77631.417</td>\n",
       "      <td>6201.083</td>\n",
       "      <td>3029.333</td>\n",
       "      <td>239025.083</td>\n",
       "    </tr>\n",
       "    <tr>\n",
       "      <th>std</th>\n",
       "      <td>3.606</td>\n",
       "      <td>49912.745</td>\n",
       "      <td>3790.990</td>\n",
       "      <td>1920.428</td>\n",
       "      <td>161374.183</td>\n",
       "    </tr>\n",
       "    <tr>\n",
       "      <th>min</th>\n",
       "      <td>1.000</td>\n",
       "      <td>6931.000</td>\n",
       "      <td>620.000</td>\n",
       "      <td>297.000</td>\n",
       "      <td>24525.000</td>\n",
       "    </tr>\n",
       "    <tr>\n",
       "      <th>25%</th>\n",
       "      <td>3.750</td>\n",
       "      <td>38347.750</td>\n",
       "      <td>3195.500</td>\n",
       "      <td>1436.000</td>\n",
       "      <td>102968.500</td>\n",
       "    </tr>\n",
       "    <tr>\n",
       "      <th>50%</th>\n",
       "      <td>6.500</td>\n",
       "      <td>73482.000</td>\n",
       "      <td>6131.000</td>\n",
       "      <td>2899.000</td>\n",
       "      <td>221036.500</td>\n",
       "    </tr>\n",
       "    <tr>\n",
       "      <th>75%</th>\n",
       "      <td>9.250</td>\n",
       "      <td>114900.250</td>\n",
       "      <td>9041.250</td>\n",
       "      <td>4433.000</td>\n",
       "      <td>343206.250</td>\n",
       "    </tr>\n",
       "    <tr>\n",
       "      <th>max</th>\n",
       "      <td>12.000</td>\n",
       "      <td>161275.000</td>\n",
       "      <td>12130.000</td>\n",
       "      <td>6127.000</td>\n",
       "      <td>531515.000</td>\n",
       "    </tr>\n",
       "  </tbody>\n",
       "</table>\n",
       "</div>"
      ],
      "text/plain": [
       "       month        min       mes       gb  price_month\n",
       "count 12.000     12.000    12.000   12.000       12.000\n",
       "mean   6.500  77631.417  6201.083 3029.333   239025.083\n",
       "std    3.606  49912.745  3790.990 1920.428   161374.183\n",
       "min    1.000   6931.000   620.000  297.000    24525.000\n",
       "25%    3.750  38347.750  3195.500 1436.000   102968.500\n",
       "50%    6.500  73482.000  6131.000 2899.000   221036.500\n",
       "75%    9.250 114900.250  9041.250 4433.000   343206.250\n",
       "max   12.000 161275.000 12130.000 6127.000   531515.000"
      ]
     },
     "execution_count": 73,
     "metadata": {},
     "output_type": "execute_result"
    }
   ],
   "source": [
    "smart_clients_month.describe()"
   ]
  },
  {
   "cell_type": "code",
   "execution_count": 74,
   "id": "90aa44d1",
   "metadata": {},
   "outputs": [
    {
     "name": "stdout",
     "output_type": "stream",
     "text": [
      "Для: min\n",
      "--------------------------\n",
      "Дисперсия -  2491282105.7196965\n",
      "Стандартное отклонение -  49912.74492271184\n",
      "Среднее -  77631.41666666667\n",
      "\n",
      "Выручка за 2018 год:  2868301.0\n",
      "Для: mes\n",
      "--------------------------\n",
      "Дисперсия -  14371602.81060606\n",
      "Стандартное отклонение -  3790.989687483476\n",
      "Среднее -  6201.083333333333\n",
      "\n",
      "Выручка за 2018 год:  2868301.0\n",
      "Для: gb\n",
      "--------------------------\n",
      "Дисперсия -  3688044.96969697\n",
      "Стандартное отклонение -  1920.4283297475515\n",
      "Среднее -  3029.3333333333335\n",
      "\n",
      "Выручка за 2018 год:  2868301.0\n"
     ]
    }
   ],
   "source": [
    "for values in ['min', 'mes', 'gb']:\n",
    "    variance = np.var(smart_clients_month[values], ddof=1)\n",
    "    print('Для:', values)\n",
    "    print('--------------------------')\n",
    "    print('Дисперсия - ', variance)\n",
    "    print('Стандартное отклонение - ', np.sqrt(variance))\n",
    "    print('Среднее - ', smart_clients_month[values].mean())\n",
    "    print('') \n",
    "    print('Выручка за 2018 год: ',smart_clients_month['price_month'].sum())"
   ]
  },
  {
   "cell_type": "markdown",
   "id": "844d6bc9",
   "metadata": {},
   "source": [
    "## Проверка гипотез"
   ]
  },
  {
   "cell_type": "markdown",
   "id": "9d95c49a",
   "metadata": {},
   "source": [
    "### Средняя выручка пользователей тарифов Ultra и Smart различаются"
   ]
  },
  {
   "cell_type": "markdown",
   "id": "e9f89675",
   "metadata": {},
   "source": [
    "**Н0** - Средняя выручка пользователей тарифов «Ультра» и «Смарт» **равны**, т.е. средние значения равны.\n",
    "\n",
    "**Н1** - Средняя выручка пользователей тарифов «Ультра» и «Смарт» **не равны**, т.е. средние значения не равны.\n",
    "\n",
    "Дисперсии выборок были расчитаны выше, они отличаются более чем на 5%"
   ]
  },
  {
   "cell_type": "code",
   "execution_count": 44,
   "id": "fe0d8fd6",
   "metadata": {},
   "outputs": [
    {
     "name": "stdout",
     "output_type": "stream",
     "text": [
      "p-значение:  1.5359815168867794e-162\n",
      "Отвергаем нулевую гипотезу\n"
     ]
    }
   ],
   "source": [
    "basa_ultra = basa_abonents.query('tariff == \"ultra\"')['price_month'] \n",
    "basa_smart = basa_abonents.query('tariff == \"smart\"')['price_month'] \n",
    "results = st.ttest_ind( basa_ultra, basa_smart)\n",
    "alpha = 0.05\n",
    "\n",
    "print('p-значение: ', results.pvalue)\n",
    "if results.pvalue < alpha:\n",
    "    print('Отвергаем нулевую гипотезу')\n",
    "else:\n",
    "    print('Не получилось отвергнуть нулевую гипотез')"
   ]
  },
  {
   "cell_type": "markdown",
   "id": "39464343",
   "metadata": {},
   "source": [
    "p-значение достаточно мало, что дает основание отвергнуть предположение об отсутствии различий между выручками у разных тарифных планов, т.е. маловероятна случайность результатов теста гипотезы."
   ]
  },
  {
   "cell_type": "markdown",
   "id": "26daa053",
   "metadata": {},
   "source": [
    "### Средняя выручка пользователей из Москвы отличается от выручки пользователей из других регионов"
   ]
  },
  {
   "cell_type": "markdown",
   "id": "ca342fac",
   "metadata": {},
   "source": [
    "**Н0** - Средняя выручка пользователей из Москвы и пользователей из других регионов **равны**.\n",
    "\n",
    "**Н1** - Средняя выручка пользователей из Москвы и пользователей из других регионов **не равны**.\n"
   ]
  },
  {
   "cell_type": "code",
   "execution_count": 45,
   "id": "7a36f8dd",
   "metadata": {},
   "outputs": [
    {
     "name": "stdout",
     "output_type": "stream",
     "text": [
      "p-значение: 0.5318623146051247\n",
      "Не получилось отвергнуть нулевую гипотезу\n"
     ]
    }
   ],
   "source": [
    "basa_msk = basa_abonents.query('city == \"Москва\"')['price_month']\n",
    "basa_another_city = basa_abonents.query('city != \"Москва\"')['price_month']\n",
    "results = st.ttest_ind(basa_msk, basa_another_city)\n",
    "alpha = 0.05\n",
    "\n",
    "print('p-значение:', results.pvalue)\n",
    "if results.pvalue < alpha:\n",
    "    print('Отвергаем нулевую гипотезу')\n",
    "else:\n",
    "    print('Не получилось отвергнуть нулевую гипотезу') "
   ]
  },
  {
   "cell_type": "markdown",
   "id": "c3359191",
   "metadata": {},
   "source": [
    "Средняя выручка пользователей из Москвы практически не отличается от выручки пользователей из других регионов, так как значение статистической  значимости больше критического уровня статистической значимости."
   ]
  },
  {
   "cell_type": "markdown",
   "id": "f17f94f1",
   "metadata": {},
   "source": [
    "# Общий вывод"
   ]
  },
  {
   "cell_type": "markdown",
   "id": "3e57d99d",
   "metadata": {},
   "source": [
    "- За 2018 год выручка от 500 пользователей составила **4908751 рублей**. Из них тарифом **Смарт** пользуется 351(~70%) абонент и приносит приблизительно 60% выручки - **2868301 рублей**. Тарифом **Ультра** пользуется 149(~30%) абонентов и приносят приблизительно 40% выручки - **2040450 рублей**, . С мая месяца наблюдается значительный рост выручки по тарифу **Смарт**. К концу года выручка **Смарт** выше выручки **Ультра** на 76%.\n",
    "- Хотя абонентская плата тарифа **Смарт** практически в 4 раза меньше чем у тарифа **Ультра**, пользователи **Смарт** значительно превышают лимиты по минутам, сообщениям и трафику интернет(средний трафик  по месяцам больше назначенного лимита), что приводит к серьёзным переплатам сверх абонентской платы. Максимальные показатели выручки за месяц по тарифу **Смарт** - 6770 руб., по тарифу **Ультра** - 4800 руб. Использование сообщений СМС практически заканчивается на значении ~ 100 шт., что превышает лимит **Смарт**(50-СМС) и хорошо вписывается в тариф **Ультра**(1000-СМС).\n",
    "- **В итоге проанализировав данные из выборки по 500 абонентам в 2018 году, мы выяснили, что 70% потребителей делают 60% всей выручки, пользуясь тарифом \"Смарт\". Если оператор \"Мегалайн\" не собирается вводить новый(промежуточный между Смарт и Ультра) тариф, то следует вложиться в рекламный бюджет тарифа \"Смарт\", т.к. он пользуется большей популярностью и приносит больше денег.**"
   ]
  }
 ],
 "metadata": {
  "ExecuteTimeLog": [
   {
    "duration": 181,
    "start_time": "2022-03-24T10:46:58.195Z"
   },
   {
    "duration": 489,
    "start_time": "2022-03-24T10:47:15.428Z"
   },
   {
    "duration": 74,
    "start_time": "2022-03-24T10:48:58.259Z"
   },
   {
    "duration": 27,
    "start_time": "2022-03-24T10:55:29.936Z"
   },
   {
    "duration": 11,
    "start_time": "2022-03-24T10:55:37.970Z"
   },
   {
    "duration": 11,
    "start_time": "2022-03-24T10:57:39.369Z"
   },
   {
    "duration": 12,
    "start_time": "2022-03-24T10:57:48.248Z"
   },
   {
    "duration": 11,
    "start_time": "2022-03-24T10:58:07.458Z"
   },
   {
    "duration": 12,
    "start_time": "2022-03-24T10:58:45.344Z"
   },
   {
    "duration": 21,
    "start_time": "2022-03-24T10:59:13.632Z"
   },
   {
    "duration": 19,
    "start_time": "2022-03-24T11:00:11.417Z"
   },
   {
    "duration": 20,
    "start_time": "2022-03-24T11:00:24.080Z"
   },
   {
    "duration": 22,
    "start_time": "2022-03-24T11:00:32.751Z"
   },
   {
    "duration": 14,
    "start_time": "2022-03-24T11:14:30.044Z"
   },
   {
    "duration": 21,
    "start_time": "2022-03-24T11:14:39.195Z"
   },
   {
    "duration": 19,
    "start_time": "2022-03-24T11:18:05.095Z"
   },
   {
    "duration": 14,
    "start_time": "2022-03-24T11:18:41.345Z"
   },
   {
    "duration": 14,
    "start_time": "2022-03-24T11:18:54.945Z"
   },
   {
    "duration": 24,
    "start_time": "2022-03-24T11:19:11.329Z"
   },
   {
    "duration": 19,
    "start_time": "2022-03-24T11:20:08.226Z"
   },
   {
    "duration": 89,
    "start_time": "2022-03-24T14:19:52.627Z"
   },
   {
    "duration": 29,
    "start_time": "2022-03-24T14:33:12.098Z"
   },
   {
    "duration": 4,
    "start_time": "2022-03-24T14:38:08.712Z"
   },
   {
    "duration": 26,
    "start_time": "2022-03-24T15:08:53.408Z"
   },
   {
    "duration": 5,
    "start_time": "2022-03-24T15:15:44.968Z"
   },
   {
    "duration": 5,
    "start_time": "2022-03-24T15:23:37.849Z"
   },
   {
    "duration": 8,
    "start_time": "2022-03-24T15:26:35.625Z"
   },
   {
    "duration": 6,
    "start_time": "2022-03-24T15:28:02.264Z"
   },
   {
    "duration": 7,
    "start_time": "2022-03-24T15:32:18.585Z"
   },
   {
    "duration": 170,
    "start_time": "2022-03-24T15:55:53.278Z"
   },
   {
    "duration": 167,
    "start_time": "2022-03-24T15:59:15.043Z"
   },
   {
    "duration": 4,
    "start_time": "2022-03-24T15:59:20.732Z"
   },
   {
    "duration": 5,
    "start_time": "2022-03-24T16:00:24.971Z"
   },
   {
    "duration": 166,
    "start_time": "2022-03-24T16:06:15.573Z"
   },
   {
    "duration": 166,
    "start_time": "2022-03-24T16:08:44.491Z"
   },
   {
    "duration": 5,
    "start_time": "2022-03-24T16:10:02.750Z"
   },
   {
    "duration": 6,
    "start_time": "2022-03-24T16:10:12.387Z"
   },
   {
    "duration": 5,
    "start_time": "2022-03-24T16:14:42.372Z"
   },
   {
    "duration": 8,
    "start_time": "2022-03-24T16:15:59.116Z"
   },
   {
    "duration": 6,
    "start_time": "2022-03-24T16:16:02.931Z"
   },
   {
    "duration": 89,
    "start_time": "2022-03-24T16:16:13.075Z"
   },
   {
    "duration": 30,
    "start_time": "2022-03-24T16:16:14.868Z"
   },
   {
    "duration": 3,
    "start_time": "2022-03-24T16:16:15.540Z"
   },
   {
    "duration": 3,
    "start_time": "2022-03-24T16:16:20.891Z"
   },
   {
    "duration": 5,
    "start_time": "2022-03-24T16:16:22.827Z"
   },
   {
    "duration": 8,
    "start_time": "2022-03-24T16:16:23.914Z"
   },
   {
    "duration": 6,
    "start_time": "2022-03-24T16:16:24.515Z"
   },
   {
    "duration": 7,
    "start_time": "2022-03-24T16:16:25.923Z"
   },
   {
    "duration": 4,
    "start_time": "2022-03-24T16:16:28.419Z"
   },
   {
    "duration": 166,
    "start_time": "2022-03-24T17:01:41.826Z"
   },
   {
    "duration": 174,
    "start_time": "2022-03-24T17:01:53.275Z"
   },
   {
    "duration": 161,
    "start_time": "2022-03-24T17:02:04.618Z"
   },
   {
    "duration": 8,
    "start_time": "2022-03-24T17:02:53.746Z"
   },
   {
    "duration": 165,
    "start_time": "2022-03-24T17:05:25.187Z"
   },
   {
    "duration": 76,
    "start_time": "2022-03-24T18:32:07.149Z"
   },
   {
    "duration": 8,
    "start_time": "2022-03-24T18:32:23.647Z"
   },
   {
    "duration": 565,
    "start_time": "2022-03-24T18:32:30.802Z"
   },
   {
    "duration": 34,
    "start_time": "2022-03-24T18:32:31.635Z"
   },
   {
    "duration": 3,
    "start_time": "2022-03-24T18:32:32.049Z"
   },
   {
    "duration": 6,
    "start_time": "2022-03-24T18:32:32.698Z"
   },
   {
    "duration": 14,
    "start_time": "2022-03-24T18:32:33.185Z"
   },
   {
    "duration": 7,
    "start_time": "2022-03-24T18:32:33.657Z"
   },
   {
    "duration": 10,
    "start_time": "2022-03-24T18:32:34.161Z"
   },
   {
    "duration": 6,
    "start_time": "2022-03-24T18:32:34.689Z"
   },
   {
    "duration": 10,
    "start_time": "2022-03-24T18:32:35.225Z"
   },
   {
    "duration": 8,
    "start_time": "2022-03-24T18:32:35.769Z"
   },
   {
    "duration": 10,
    "start_time": "2022-03-24T18:34:09.947Z"
   },
   {
    "duration": 21,
    "start_time": "2022-03-24T18:35:39.521Z"
   },
   {
    "duration": 14,
    "start_time": "2022-03-24T18:37:25.769Z"
   },
   {
    "duration": 7,
    "start_time": "2022-03-24T18:37:50.593Z"
   },
   {
    "duration": 10,
    "start_time": "2022-03-24T18:37:54.392Z"
   },
   {
    "duration": 10,
    "start_time": "2022-03-24T18:37:58.408Z"
   },
   {
    "duration": 7,
    "start_time": "2022-03-24T18:38:00.361Z"
   },
   {
    "duration": 95,
    "start_time": "2022-03-24T18:38:09.841Z"
   },
   {
    "duration": 47,
    "start_time": "2022-03-24T18:38:10.601Z"
   },
   {
    "duration": 4,
    "start_time": "2022-03-24T18:38:10.937Z"
   },
   {
    "duration": 6,
    "start_time": "2022-03-24T18:38:11.600Z"
   },
   {
    "duration": 10,
    "start_time": "2022-03-24T18:38:12.120Z"
   },
   {
    "duration": 7,
    "start_time": "2022-03-24T18:38:12.880Z"
   },
   {
    "duration": 8,
    "start_time": "2022-03-24T18:38:13.544Z"
   },
   {
    "duration": 6,
    "start_time": "2022-03-24T18:38:14.176Z"
   },
   {
    "duration": 12,
    "start_time": "2022-03-24T18:38:14.816Z"
   },
   {
    "duration": 7,
    "start_time": "2022-03-24T18:38:16.352Z"
   },
   {
    "duration": 8,
    "start_time": "2022-03-24T18:46:39.679Z"
   },
   {
    "duration": 154,
    "start_time": "2022-03-24T18:47:36.215Z"
   },
   {
    "duration": 5,
    "start_time": "2022-03-24T18:48:32.791Z"
   },
   {
    "duration": 13,
    "start_time": "2022-03-24T18:52:11.310Z"
   },
   {
    "duration": 16,
    "start_time": "2022-03-24T18:56:19.591Z"
   },
   {
    "duration": 13,
    "start_time": "2022-03-24T18:56:26.976Z"
   },
   {
    "duration": 13,
    "start_time": "2022-03-24T18:56:43.534Z"
   },
   {
    "duration": 153,
    "start_time": "2022-03-24T18:56:55.661Z"
   },
   {
    "duration": 149,
    "start_time": "2022-03-24T18:57:01.421Z"
   },
   {
    "duration": 316,
    "start_time": "2022-03-24T18:57:13.527Z"
   },
   {
    "duration": 165,
    "start_time": "2022-03-24T18:57:32.221Z"
   },
   {
    "duration": 11,
    "start_time": "2022-03-24T18:57:43.118Z"
   },
   {
    "duration": 12,
    "start_time": "2022-03-24T18:58:01.997Z"
   },
   {
    "duration": 82,
    "start_time": "2022-03-24T18:58:16.565Z"
   },
   {
    "duration": 26,
    "start_time": "2022-03-24T18:58:25.308Z"
   },
   {
    "duration": 19,
    "start_time": "2022-03-24T19:01:04.622Z"
   },
   {
    "duration": 7,
    "start_time": "2022-03-24T19:03:46.868Z"
   },
   {
    "duration": 980,
    "start_time": "2022-03-25T09:34:17.344Z"
   },
   {
    "duration": 43,
    "start_time": "2022-03-25T09:34:18.933Z"
   },
   {
    "duration": 5,
    "start_time": "2022-03-25T09:34:19.308Z"
   },
   {
    "duration": 7,
    "start_time": "2022-03-25T09:34:20.045Z"
   },
   {
    "duration": 16,
    "start_time": "2022-03-25T09:34:20.636Z"
   },
   {
    "duration": 7,
    "start_time": "2022-03-25T09:34:21.236Z"
   },
   {
    "duration": 9,
    "start_time": "2022-03-25T09:34:21.807Z"
   },
   {
    "duration": 6,
    "start_time": "2022-03-25T09:34:22.411Z"
   },
   {
    "duration": 11,
    "start_time": "2022-03-25T09:34:23.027Z"
   },
   {
    "duration": 8,
    "start_time": "2022-03-25T09:34:23.722Z"
   },
   {
    "duration": 9,
    "start_time": "2022-03-25T09:34:24.468Z"
   },
   {
    "duration": 7,
    "start_time": "2022-03-25T09:34:25.139Z"
   },
   {
    "duration": 23,
    "start_time": "2022-03-25T09:34:26.662Z"
   },
   {
    "duration": 10,
    "start_time": "2022-03-25T09:34:28.277Z"
   },
   {
    "duration": 14,
    "start_time": "2022-03-25T10:08:43.798Z"
   },
   {
    "duration": 108,
    "start_time": "2022-03-25T10:09:01.830Z"
   },
   {
    "duration": 16,
    "start_time": "2022-03-25T10:09:24.206Z"
   },
   {
    "duration": 16,
    "start_time": "2022-03-25T10:09:31.791Z"
   },
   {
    "duration": 16,
    "start_time": "2022-03-25T10:09:44.679Z"
   },
   {
    "duration": 18,
    "start_time": "2022-03-25T10:10:06.206Z"
   },
   {
    "duration": 15,
    "start_time": "2022-03-25T10:10:16.848Z"
   },
   {
    "duration": 16,
    "start_time": "2022-03-25T10:10:45.855Z"
   },
   {
    "duration": 101,
    "start_time": "2022-03-25T10:11:02.703Z"
   },
   {
    "duration": 41,
    "start_time": "2022-03-25T10:11:03.325Z"
   },
   {
    "duration": 5,
    "start_time": "2022-03-25T10:11:03.663Z"
   },
   {
    "duration": 7,
    "start_time": "2022-03-25T10:11:04.373Z"
   },
   {
    "duration": 12,
    "start_time": "2022-03-25T10:11:04.908Z"
   },
   {
    "duration": 8,
    "start_time": "2022-03-25T10:11:06.885Z"
   },
   {
    "duration": 16,
    "start_time": "2022-03-25T10:11:30.895Z"
   },
   {
    "duration": 15,
    "start_time": "2022-03-25T10:11:40.839Z"
   },
   {
    "duration": 110,
    "start_time": "2022-03-25T10:13:29.735Z"
   },
   {
    "duration": 16,
    "start_time": "2022-03-25T10:13:36.397Z"
   },
   {
    "duration": 22,
    "start_time": "2022-03-25T10:13:43.887Z"
   },
   {
    "duration": 13,
    "start_time": "2022-03-25T10:13:50.221Z"
   },
   {
    "duration": 13,
    "start_time": "2022-03-25T10:14:50.998Z"
   },
   {
    "duration": 13,
    "start_time": "2022-03-25T10:14:57.046Z"
   },
   {
    "duration": 16,
    "start_time": "2022-03-25T10:15:22.021Z"
   },
   {
    "duration": 302,
    "start_time": "2022-03-25T10:15:38.364Z"
   },
   {
    "duration": 39,
    "start_time": "2022-03-25T10:15:39.197Z"
   },
   {
    "duration": 5,
    "start_time": "2022-03-25T10:15:40.235Z"
   },
   {
    "duration": 7,
    "start_time": "2022-03-25T10:15:41.475Z"
   },
   {
    "duration": 12,
    "start_time": "2022-03-25T10:15:43.140Z"
   },
   {
    "duration": 8,
    "start_time": "2022-03-25T10:15:44.148Z"
   },
   {
    "duration": 9,
    "start_time": "2022-03-25T10:15:56.270Z"
   },
   {
    "duration": 13,
    "start_time": "2022-03-25T10:16:19.101Z"
   },
   {
    "duration": 12,
    "start_time": "2022-03-25T10:16:36.669Z"
   },
   {
    "duration": 100,
    "start_time": "2022-03-25T10:16:42.402Z"
   },
   {
    "duration": 39,
    "start_time": "2022-03-25T10:16:42.899Z"
   },
   {
    "duration": 4,
    "start_time": "2022-03-25T10:16:43.267Z"
   },
   {
    "duration": 7,
    "start_time": "2022-03-25T10:16:44.082Z"
   },
   {
    "duration": 10,
    "start_time": "2022-03-25T10:16:45.732Z"
   },
   {
    "duration": 15,
    "start_time": "2022-03-25T10:16:50.696Z"
   },
   {
    "duration": 10,
    "start_time": "2022-03-25T10:17:17.046Z"
   },
   {
    "duration": 17,
    "start_time": "2022-03-25T10:17:24.821Z"
   },
   {
    "duration": 19,
    "start_time": "2022-03-25T10:17:27.191Z"
   },
   {
    "duration": 19,
    "start_time": "2022-03-25T10:17:40.412Z"
   },
   {
    "duration": 98,
    "start_time": "2022-03-25T10:17:45.817Z"
   },
   {
    "duration": 46,
    "start_time": "2022-03-25T10:17:46.441Z"
   },
   {
    "duration": 5,
    "start_time": "2022-03-25T10:17:46.879Z"
   },
   {
    "duration": 7,
    "start_time": "2022-03-25T10:17:47.799Z"
   },
   {
    "duration": 11,
    "start_time": "2022-03-25T10:17:48.808Z"
   },
   {
    "duration": 18,
    "start_time": "2022-03-25T10:17:50.185Z"
   },
   {
    "duration": 10,
    "start_time": "2022-03-25T10:18:18.588Z"
   },
   {
    "duration": 17,
    "start_time": "2022-03-25T10:18:49.316Z"
   },
   {
    "duration": 96,
    "start_time": "2022-03-25T10:19:19.723Z"
   },
   {
    "duration": 48,
    "start_time": "2022-03-25T10:19:20.275Z"
   },
   {
    "duration": 4,
    "start_time": "2022-03-25T10:19:20.637Z"
   },
   {
    "duration": 6,
    "start_time": "2022-03-25T10:19:21.451Z"
   },
   {
    "duration": 12,
    "start_time": "2022-03-25T10:19:22.083Z"
   },
   {
    "duration": 8,
    "start_time": "2022-03-25T10:19:23.237Z"
   },
   {
    "duration": 152,
    "start_time": "2022-03-25T10:23:10.493Z"
   },
   {
    "duration": 13,
    "start_time": "2022-03-25T10:23:30.740Z"
   },
   {
    "duration": 10,
    "start_time": "2022-03-25T10:23:57.197Z"
   },
   {
    "duration": 10,
    "start_time": "2022-03-25T10:24:00.419Z"
   },
   {
    "duration": 16,
    "start_time": "2022-03-25T10:26:42.658Z"
   },
   {
    "duration": 21,
    "start_time": "2022-03-25T10:26:45.171Z"
   },
   {
    "duration": 115,
    "start_time": "2022-03-25T10:26:51.641Z"
   },
   {
    "duration": 39,
    "start_time": "2022-03-25T10:26:52.131Z"
   },
   {
    "duration": 4,
    "start_time": "2022-03-25T10:26:52.450Z"
   },
   {
    "duration": 6,
    "start_time": "2022-03-25T10:26:53.148Z"
   },
   {
    "duration": 10,
    "start_time": "2022-03-25T10:26:53.970Z"
   },
   {
    "duration": 7,
    "start_time": "2022-03-25T10:26:55.212Z"
   },
   {
    "duration": 12,
    "start_time": "2022-03-25T10:40:54.770Z"
   },
   {
    "duration": 22,
    "start_time": "2022-03-25T10:43:16.024Z"
   },
   {
    "duration": 51,
    "start_time": "2022-03-25T10:44:21.198Z"
   },
   {
    "duration": 14,
    "start_time": "2022-03-25T10:58:24.333Z"
   },
   {
    "duration": 8,
    "start_time": "2022-03-25T10:59:06.558Z"
   },
   {
    "duration": 1563,
    "start_time": "2022-03-25T11:04:23.725Z"
   },
   {
    "duration": 99,
    "start_time": "2022-03-25T11:04:30.867Z"
   },
   {
    "duration": 41,
    "start_time": "2022-03-25T11:04:31.373Z"
   },
   {
    "duration": 5,
    "start_time": "2022-03-25T11:04:31.731Z"
   },
   {
    "duration": 6,
    "start_time": "2022-03-25T11:04:32.604Z"
   },
   {
    "duration": 39,
    "start_time": "2022-03-25T11:04:33.276Z"
   },
   {
    "duration": 12,
    "start_time": "2022-03-25T11:04:34.363Z"
   },
   {
    "duration": 8,
    "start_time": "2022-03-25T11:04:38.715Z"
   },
   {
    "duration": 7,
    "start_time": "2022-03-25T11:04:42.700Z"
   },
   {
    "duration": 111,
    "start_time": "2022-03-25T11:08:33.686Z"
   },
   {
    "duration": 99,
    "start_time": "2022-03-25T11:08:47.389Z"
   },
   {
    "duration": 131,
    "start_time": "2022-03-25T11:09:04.773Z"
   },
   {
    "duration": 167,
    "start_time": "2022-03-25T11:09:29.997Z"
   },
   {
    "duration": 8,
    "start_time": "2022-03-25T11:09:39.093Z"
   },
   {
    "duration": 8,
    "start_time": "2022-03-25T11:09:53.885Z"
   },
   {
    "duration": 13,
    "start_time": "2022-03-25T11:10:02.556Z"
   },
   {
    "duration": 392,
    "start_time": "2022-03-25T11:14:38.765Z"
   },
   {
    "duration": 11,
    "start_time": "2022-03-25T11:15:08.873Z"
   },
   {
    "duration": 25,
    "start_time": "2022-03-25T11:15:48.084Z"
   },
   {
    "duration": 21,
    "start_time": "2022-03-25T11:19:28.781Z"
   },
   {
    "duration": 28,
    "start_time": "2022-03-25T11:19:51.863Z"
   },
   {
    "duration": 91,
    "start_time": "2022-03-25T11:19:57.922Z"
   },
   {
    "duration": 40,
    "start_time": "2022-03-25T11:19:58.402Z"
   },
   {
    "duration": 5,
    "start_time": "2022-03-25T11:19:58.746Z"
   },
   {
    "duration": 6,
    "start_time": "2022-03-25T11:19:59.548Z"
   },
   {
    "duration": 40,
    "start_time": "2022-03-25T11:20:00.499Z"
   },
   {
    "duration": 22,
    "start_time": "2022-03-25T11:20:02.156Z"
   },
   {
    "duration": 19,
    "start_time": "2022-03-25T11:20:29.102Z"
   },
   {
    "duration": 16,
    "start_time": "2022-03-25T11:20:40.460Z"
   },
   {
    "duration": 92,
    "start_time": "2022-03-25T11:20:43.849Z"
   },
   {
    "duration": 41,
    "start_time": "2022-03-25T11:20:44.323Z"
   },
   {
    "duration": 5,
    "start_time": "2022-03-25T11:20:45.018Z"
   },
   {
    "duration": 7,
    "start_time": "2022-03-25T11:20:47.042Z"
   },
   {
    "duration": 38,
    "start_time": "2022-03-25T11:20:49.343Z"
   },
   {
    "duration": 16,
    "start_time": "2022-03-25T11:20:51.459Z"
   },
   {
    "duration": 477,
    "start_time": "2022-03-25T11:23:29.837Z"
   },
   {
    "duration": 28,
    "start_time": "2022-03-25T11:23:48.107Z"
   },
   {
    "duration": 28,
    "start_time": "2022-03-25T11:24:29.619Z"
   },
   {
    "duration": 12,
    "start_time": "2022-03-25T11:24:47.338Z"
   },
   {
    "duration": 8,
    "start_time": "2022-03-25T11:24:48.738Z"
   },
   {
    "duration": 8,
    "start_time": "2022-03-25T11:24:54.875Z"
   },
   {
    "duration": 371,
    "start_time": "2022-03-25T11:24:57.106Z"
   },
   {
    "duration": 30,
    "start_time": "2022-03-25T11:32:48.001Z"
   },
   {
    "duration": 27,
    "start_time": "2022-03-25T11:33:38.193Z"
   },
   {
    "duration": 16,
    "start_time": "2022-03-25T11:38:02.681Z"
   },
   {
    "duration": 24,
    "start_time": "2022-03-25T11:38:20.320Z"
   },
   {
    "duration": 12,
    "start_time": "2022-03-25T11:39:15.303Z"
   },
   {
    "duration": 29,
    "start_time": "2022-03-25T11:40:49.722Z"
   },
   {
    "duration": 44,
    "start_time": "2022-03-25T11:41:04.408Z"
   },
   {
    "duration": 6,
    "start_time": "2022-03-25T12:53:31.556Z"
   },
   {
    "duration": 5,
    "start_time": "2022-03-25T12:58:45.835Z"
   },
   {
    "duration": 7,
    "start_time": "2022-03-25T12:59:16.130Z"
   },
   {
    "duration": 7,
    "start_time": "2022-03-25T12:59:25.049Z"
   },
   {
    "duration": 22,
    "start_time": "2022-03-25T13:00:39.954Z"
   },
   {
    "duration": 22,
    "start_time": "2022-03-25T13:04:03.074Z"
   },
   {
    "duration": 207,
    "start_time": "2022-03-25T13:14:33.062Z"
   },
   {
    "duration": 9,
    "start_time": "2022-03-25T13:17:03.254Z"
   },
   {
    "duration": 8,
    "start_time": "2022-03-25T13:17:37.495Z"
   },
   {
    "duration": 16,
    "start_time": "2022-03-25T13:18:00.736Z"
   },
   {
    "duration": 8,
    "start_time": "2022-03-25T13:41:35.349Z"
   },
   {
    "duration": 9,
    "start_time": "2022-03-25T13:41:43.084Z"
   },
   {
    "duration": 9,
    "start_time": "2022-03-25T13:44:09.228Z"
   },
   {
    "duration": 73,
    "start_time": "2022-03-25T14:12:58.598Z"
   },
   {
    "duration": 9,
    "start_time": "2022-03-25T14:13:24.018Z"
   },
   {
    "duration": 10,
    "start_time": "2022-03-25T14:13:31.359Z"
   },
   {
    "duration": 805,
    "start_time": "2022-03-25T14:14:05.577Z"
   },
   {
    "duration": 44,
    "start_time": "2022-03-25T14:14:06.385Z"
   },
   {
    "duration": 6,
    "start_time": "2022-03-25T14:14:06.432Z"
   },
   {
    "duration": 7,
    "start_time": "2022-03-25T14:14:07.012Z"
   },
   {
    "duration": 53,
    "start_time": "2022-03-25T14:14:07.361Z"
   },
   {
    "duration": 481,
    "start_time": "2022-03-25T14:14:07.526Z"
   },
   {
    "duration": 11,
    "start_time": "2022-03-25T14:14:08.009Z"
   },
   {
    "duration": 9,
    "start_time": "2022-03-25T14:14:08.195Z"
   },
   {
    "duration": 9,
    "start_time": "2022-03-25T14:14:08.533Z"
   },
   {
    "duration": 480,
    "start_time": "2022-03-25T14:14:08.885Z"
   },
   {
    "duration": 17,
    "start_time": "2022-03-25T14:14:09.368Z"
   },
   {
    "duration": 23,
    "start_time": "2022-03-25T14:14:09.577Z"
   },
   {
    "duration": 12,
    "start_time": "2022-03-25T14:14:10.924Z"
   },
   {
    "duration": 14,
    "start_time": "2022-03-25T14:14:11.498Z"
   },
   {
    "duration": 25,
    "start_time": "2022-03-25T14:14:11.893Z"
   },
   {
    "duration": 9,
    "start_time": "2022-03-25T14:14:12.343Z"
   },
   {
    "duration": 13,
    "start_time": "2022-03-25T14:14:12.750Z"
   },
   {
    "duration": 8,
    "start_time": "2022-03-25T14:14:13.139Z"
   },
   {
    "duration": 7,
    "start_time": "2022-03-25T14:14:13.671Z"
   },
   {
    "duration": 7,
    "start_time": "2022-03-25T14:14:14.220Z"
   },
   {
    "duration": 9,
    "start_time": "2022-03-25T14:14:14.781Z"
   },
   {
    "duration": 24,
    "start_time": "2022-03-25T14:14:15.340Z"
   },
   {
    "duration": 25,
    "start_time": "2022-03-25T14:14:16.696Z"
   },
   {
    "duration": 48,
    "start_time": "2022-03-25T14:14:18.374Z"
   },
   {
    "duration": 13,
    "start_time": "2022-03-25T14:16:42.398Z"
   },
   {
    "duration": 42,
    "start_time": "2022-03-25T14:16:51.045Z"
   },
   {
    "duration": 10,
    "start_time": "2022-03-25T14:26:15.565Z"
   },
   {
    "duration": 11,
    "start_time": "2022-03-25T14:26:29.938Z"
   },
   {
    "duration": 9,
    "start_time": "2022-03-25T14:26:53.869Z"
   },
   {
    "duration": 9,
    "start_time": "2022-03-25T14:27:10.277Z"
   },
   {
    "duration": 11,
    "start_time": "2022-03-25T14:29:25.780Z"
   },
   {
    "duration": 10,
    "start_time": "2022-03-25T14:29:41.131Z"
   },
   {
    "duration": 14,
    "start_time": "2022-03-25T14:31:32.354Z"
   },
   {
    "duration": 12,
    "start_time": "2022-03-25T14:34:43.227Z"
   },
   {
    "duration": 0,
    "start_time": "2022-03-25T14:41:22.901Z"
   },
   {
    "duration": 16,
    "start_time": "2022-03-25T14:45:15.523Z"
   },
   {
    "duration": 16,
    "start_time": "2022-03-25T14:46:24.194Z"
   },
   {
    "duration": 92,
    "start_time": "2022-03-25T14:46:30.977Z"
   },
   {
    "duration": 42,
    "start_time": "2022-03-25T14:46:31.526Z"
   },
   {
    "duration": 5,
    "start_time": "2022-03-25T14:46:31.903Z"
   },
   {
    "duration": 7,
    "start_time": "2022-03-25T14:46:32.670Z"
   },
   {
    "duration": 39,
    "start_time": "2022-03-25T14:46:33.049Z"
   },
   {
    "duration": 550,
    "start_time": "2022-03-25T14:46:33.284Z"
   },
   {
    "duration": 12,
    "start_time": "2022-03-25T14:46:33.838Z"
   },
   {
    "duration": 8,
    "start_time": "2022-03-25T14:46:34.088Z"
   },
   {
    "duration": 8,
    "start_time": "2022-03-25T14:46:34.510Z"
   },
   {
    "duration": 425,
    "start_time": "2022-03-25T14:46:34.928Z"
   },
   {
    "duration": 8,
    "start_time": "2022-03-25T14:46:35.355Z"
   },
   {
    "duration": 22,
    "start_time": "2022-03-25T14:46:35.735Z"
   },
   {
    "duration": 11,
    "start_time": "2022-03-25T14:46:36.191Z"
   },
   {
    "duration": 11,
    "start_time": "2022-03-25T14:46:36.981Z"
   },
   {
    "duration": 26,
    "start_time": "2022-03-25T14:46:37.630Z"
   },
   {
    "duration": 8,
    "start_time": "2022-03-25T14:46:38.198Z"
   },
   {
    "duration": 12,
    "start_time": "2022-03-25T14:46:38.701Z"
   },
   {
    "duration": 8,
    "start_time": "2022-03-25T14:46:39.206Z"
   },
   {
    "duration": 7,
    "start_time": "2022-03-25T14:46:40.102Z"
   },
   {
    "duration": 6,
    "start_time": "2022-03-25T14:46:41.229Z"
   },
   {
    "duration": 10,
    "start_time": "2022-03-25T14:46:43.125Z"
   },
   {
    "duration": 24,
    "start_time": "2022-03-25T14:46:45.013Z"
   },
   {
    "duration": 23,
    "start_time": "2022-03-25T14:46:49.733Z"
   },
   {
    "duration": 28,
    "start_time": "2022-03-25T14:46:51.790Z"
   },
   {
    "duration": 16,
    "start_time": "2022-03-25T14:47:03.478Z"
   },
   {
    "duration": 11,
    "start_time": "2022-03-25T14:47:20.122Z"
   },
   {
    "duration": 97,
    "start_time": "2022-03-25T14:47:47.017Z"
   },
   {
    "duration": 41,
    "start_time": "2022-03-25T14:47:47.472Z"
   },
   {
    "duration": 5,
    "start_time": "2022-03-25T14:47:47.754Z"
   },
   {
    "duration": 7,
    "start_time": "2022-03-25T14:47:48.337Z"
   },
   {
    "duration": 46,
    "start_time": "2022-03-25T14:47:48.646Z"
   },
   {
    "duration": 511,
    "start_time": "2022-03-25T14:47:48.804Z"
   },
   {
    "duration": 11,
    "start_time": "2022-03-25T14:47:49.318Z"
   },
   {
    "duration": 9,
    "start_time": "2022-03-25T14:47:49.432Z"
   },
   {
    "duration": 8,
    "start_time": "2022-03-25T14:47:49.735Z"
   },
   {
    "duration": 391,
    "start_time": "2022-03-25T14:47:50.049Z"
   },
   {
    "duration": 8,
    "start_time": "2022-03-25T14:47:50.443Z"
   },
   {
    "duration": 21,
    "start_time": "2022-03-25T14:47:50.712Z"
   },
   {
    "duration": 13,
    "start_time": "2022-03-25T14:47:51.057Z"
   },
   {
    "duration": 11,
    "start_time": "2022-03-25T14:47:51.568Z"
   },
   {
    "duration": 28,
    "start_time": "2022-03-25T14:47:51.936Z"
   },
   {
    "duration": 8,
    "start_time": "2022-03-25T14:47:52.280Z"
   },
   {
    "duration": 11,
    "start_time": "2022-03-25T14:47:52.648Z"
   },
   {
    "duration": 9,
    "start_time": "2022-03-25T14:47:53.056Z"
   },
   {
    "duration": 6,
    "start_time": "2022-03-25T14:47:53.633Z"
   },
   {
    "duration": 7,
    "start_time": "2022-03-25T14:47:54.176Z"
   },
   {
    "duration": 9,
    "start_time": "2022-03-25T14:47:54.719Z"
   },
   {
    "duration": 24,
    "start_time": "2022-03-25T14:47:55.208Z"
   },
   {
    "duration": 25,
    "start_time": "2022-03-25T14:47:57.088Z"
   },
   {
    "duration": 29,
    "start_time": "2022-03-25T14:47:58.024Z"
   },
   {
    "duration": 14,
    "start_time": "2022-03-25T14:48:04.249Z"
   },
   {
    "duration": 11,
    "start_time": "2022-03-25T14:49:58.739Z"
   },
   {
    "duration": 10,
    "start_time": "2022-03-25T14:50:13.017Z"
   },
   {
    "duration": 98,
    "start_time": "2022-03-25T14:50:27.783Z"
   },
   {
    "duration": 45,
    "start_time": "2022-03-25T14:50:27.893Z"
   },
   {
    "duration": 5,
    "start_time": "2022-03-25T14:50:27.976Z"
   },
   {
    "duration": 6,
    "start_time": "2022-03-25T14:50:28.090Z"
   },
   {
    "duration": 39,
    "start_time": "2022-03-25T14:50:28.162Z"
   },
   {
    "duration": 492,
    "start_time": "2022-03-25T14:50:28.217Z"
   },
   {
    "duration": 11,
    "start_time": "2022-03-25T14:50:28.712Z"
   },
   {
    "duration": 9,
    "start_time": "2022-03-25T14:50:28.725Z"
   },
   {
    "duration": 12,
    "start_time": "2022-03-25T14:50:28.737Z"
   },
   {
    "duration": 433,
    "start_time": "2022-03-25T14:50:28.751Z"
   },
   {
    "duration": 8,
    "start_time": "2022-03-25T14:50:29.186Z"
   },
   {
    "duration": 25,
    "start_time": "2022-03-25T14:50:29.197Z"
   },
   {
    "duration": 11,
    "start_time": "2022-03-25T14:50:29.225Z"
   },
   {
    "duration": 10,
    "start_time": "2022-03-25T14:50:29.424Z"
   },
   {
    "duration": 25,
    "start_time": "2022-03-25T14:50:29.688Z"
   },
   {
    "duration": 9,
    "start_time": "2022-03-25T14:50:29.935Z"
   },
   {
    "duration": 10,
    "start_time": "2022-03-25T14:50:30.183Z"
   },
   {
    "duration": 8,
    "start_time": "2022-03-25T14:50:30.448Z"
   },
   {
    "duration": 7,
    "start_time": "2022-03-25T14:50:30.871Z"
   },
   {
    "duration": 6,
    "start_time": "2022-03-25T14:50:31.303Z"
   },
   {
    "duration": 9,
    "start_time": "2022-03-25T14:50:31.703Z"
   },
   {
    "duration": 24,
    "start_time": "2022-03-25T14:50:32.111Z"
   },
   {
    "duration": 22,
    "start_time": "2022-03-25T14:50:32.880Z"
   },
   {
    "duration": 28,
    "start_time": "2022-03-25T14:50:33.336Z"
   },
   {
    "duration": 15,
    "start_time": "2022-03-25T14:50:33.495Z"
   },
   {
    "duration": 1339,
    "start_time": "2022-04-27T19:24:49.188Z"
   },
   {
    "duration": 380,
    "start_time": "2022-04-27T19:24:50.529Z"
   },
   {
    "duration": 5,
    "start_time": "2022-04-27T19:24:50.911Z"
   },
   {
    "duration": 39,
    "start_time": "2022-04-27T19:24:50.918Z"
   },
   {
    "duration": 18,
    "start_time": "2022-04-27T19:24:50.959Z"
   },
   {
    "duration": 222,
    "start_time": "2022-04-27T19:24:51.105Z"
   },
   {
    "duration": 95,
    "start_time": "2022-04-27T19:24:51.731Z"
   },
   {
    "duration": 9,
    "start_time": "2022-04-27T19:24:52.025Z"
   },
   {
    "duration": 112,
    "start_time": "2022-04-27T19:24:57.423Z"
   },
   {
    "duration": 33,
    "start_time": "2022-04-27T19:24:58.261Z"
   },
   {
    "duration": 95,
    "start_time": "2022-04-27T19:24:59.027Z"
   },
   {
    "duration": 50,
    "start_time": "2022-04-27T19:24:59.771Z"
   },
   {
    "duration": 23,
    "start_time": "2022-04-27T19:25:00.093Z"
   },
   {
    "duration": 20,
    "start_time": "2022-04-27T19:25:01.071Z"
   },
   {
    "duration": 51,
    "start_time": "2022-04-27T19:25:02.960Z"
   },
   {
    "duration": 33,
    "start_time": "2022-04-27T19:25:03.661Z"
   },
   {
    "duration": 30,
    "start_time": "2022-04-27T19:25:04.277Z"
   },
   {
    "duration": 34,
    "start_time": "2022-04-27T19:25:04.883Z"
   },
   {
    "duration": 7,
    "start_time": "2022-04-27T19:25:05.892Z"
   },
   {
    "duration": 6,
    "start_time": "2022-04-27T19:25:06.460Z"
   },
   {
    "duration": 10,
    "start_time": "2022-04-27T19:25:06.823Z"
   },
   {
    "duration": 13,
    "start_time": "2022-04-27T19:25:07.471Z"
   },
   {
    "duration": 13,
    "start_time": "2022-04-27T19:25:08.101Z"
   },
   {
    "duration": 61,
    "start_time": "2022-04-27T19:25:08.418Z"
   },
   {
    "duration": 6,
    "start_time": "2022-04-27T19:25:08.721Z"
   },
   {
    "duration": 7,
    "start_time": "2022-04-27T19:25:09.338Z"
   },
   {
    "duration": 551,
    "start_time": "2022-04-27T19:25:09.675Z"
   },
   {
    "duration": 460,
    "start_time": "2022-04-27T19:25:10.377Z"
   },
   {
    "duration": 403,
    "start_time": "2022-04-27T19:25:11.046Z"
   },
   {
    "duration": 24,
    "start_time": "2022-04-27T19:25:11.743Z"
   },
   {
    "duration": 20,
    "start_time": "2022-04-27T19:25:12.426Z"
   },
   {
    "duration": 10,
    "start_time": "2022-04-27T19:25:12.830Z"
   },
   {
    "duration": 20,
    "start_time": "2022-04-27T19:25:13.884Z"
   },
   {
    "duration": 8,
    "start_time": "2022-04-27T19:25:14.350Z"
   },
   {
    "duration": 11,
    "start_time": "2022-04-27T19:25:16.072Z"
   },
   {
    "duration": 11,
    "start_time": "2022-04-27T19:25:17.561Z"
   },
   {
    "duration": 6,
    "start_time": "2022-04-27T19:27:14.544Z"
   },
   {
    "duration": 545,
    "start_time": "2022-04-27T19:27:15.186Z"
   },
   {
    "duration": 7,
    "start_time": "2022-04-27T19:27:18.118Z"
   },
   {
    "duration": 142,
    "start_time": "2022-04-27T19:28:59.560Z"
   },
   {
    "duration": 24,
    "start_time": "2022-04-27T19:29:09.368Z"
   },
   {
    "duration": 15,
    "start_time": "2022-04-27T19:29:11.352Z"
   },
   {
    "duration": 161,
    "start_time": "2022-04-27T19:29:12.149Z"
   },
   {
    "duration": 64,
    "start_time": "2022-04-27T19:29:13.001Z"
   },
   {
    "duration": 7,
    "start_time": "2022-04-27T19:29:13.629Z"
   },
   {
    "duration": 76,
    "start_time": "2022-04-27T19:29:15.678Z"
   },
   {
    "duration": 33,
    "start_time": "2022-04-27T19:29:16.674Z"
   },
   {
    "duration": 106,
    "start_time": "2022-04-27T19:29:17.107Z"
   },
   {
    "duration": 50,
    "start_time": "2022-04-27T19:29:17.939Z"
   },
   {
    "duration": 18,
    "start_time": "2022-04-27T19:29:18.151Z"
   },
   {
    "duration": 22,
    "start_time": "2022-04-27T19:29:27.088Z"
   },
   {
    "duration": 203,
    "start_time": "2022-04-27T19:30:06.715Z"
   },
   {
    "duration": 5,
    "start_time": "2022-04-27T19:30:26.702Z"
   },
   {
    "duration": 398,
    "start_time": "2022-04-27T19:30:27.063Z"
   },
   {
    "duration": 6,
    "start_time": "2022-04-27T19:30:27.674Z"
   },
   {
    "duration": 23,
    "start_time": "2022-04-27T19:30:28.546Z"
   },
   {
    "duration": 15,
    "start_time": "2022-04-27T19:30:29.101Z"
   },
   {
    "duration": 183,
    "start_time": "2022-04-27T19:30:39.564Z"
   },
   {
    "duration": 67,
    "start_time": "2022-04-27T19:30:41.100Z"
   },
   {
    "duration": 8,
    "start_time": "2022-04-27T19:30:42.114Z"
   },
   {
    "duration": 120,
    "start_time": "2022-04-27T19:30:43.911Z"
   },
   {
    "duration": 171,
    "start_time": "2022-04-27T19:30:44.823Z"
   },
   {
    "duration": 160,
    "start_time": "2022-04-27T19:30:46.212Z"
   },
   {
    "duration": 80,
    "start_time": "2022-04-27T19:30:46.955Z"
   },
   {
    "duration": 25,
    "start_time": "2022-04-27T19:30:47.545Z"
   },
   {
    "duration": 20,
    "start_time": "2022-04-27T19:30:49.864Z"
   },
   {
    "duration": 186,
    "start_time": "2022-04-27T19:30:51.101Z"
   },
   {
    "duration": 5,
    "start_time": "2022-04-27T19:32:16.160Z"
   },
   {
    "duration": 361,
    "start_time": "2022-04-27T19:32:16.448Z"
   },
   {
    "duration": 5,
    "start_time": "2022-04-27T19:32:16.957Z"
   },
   {
    "duration": 24,
    "start_time": "2022-04-27T19:32:17.614Z"
   },
   {
    "duration": 14,
    "start_time": "2022-04-27T19:32:18.061Z"
   },
   {
    "duration": 226,
    "start_time": "2022-04-27T19:32:18.583Z"
   },
   {
    "duration": 105,
    "start_time": "2022-04-27T19:32:19.462Z"
   },
   {
    "duration": 9,
    "start_time": "2022-04-27T19:32:20.063Z"
   },
   {
    "duration": 128,
    "start_time": "2022-04-27T19:32:21.531Z"
   },
   {
    "duration": 51,
    "start_time": "2022-04-27T19:32:22.279Z"
   },
   {
    "duration": 156,
    "start_time": "2022-04-27T19:32:23.071Z"
   },
   {
    "duration": 75,
    "start_time": "2022-04-27T19:32:23.878Z"
   },
   {
    "duration": 26,
    "start_time": "2022-04-27T19:32:24.284Z"
   },
   {
    "duration": 20,
    "start_time": "2022-04-27T19:32:25.707Z"
   },
   {
    "duration": 183,
    "start_time": "2022-04-27T19:32:26.807Z"
   },
   {
    "duration": 43,
    "start_time": "2022-04-27T19:32:36.748Z"
   },
   {
    "duration": 33,
    "start_time": "2022-04-27T19:35:14.704Z"
   },
   {
    "duration": 109,
    "start_time": "2022-04-27T19:35:15.904Z"
   },
   {
    "duration": 2797,
    "start_time": "2022-04-27T19:35:23.113Z"
   },
   {
    "duration": 0,
    "start_time": "2022-04-27T19:35:25.912Z"
   },
   {
    "duration": 2202,
    "start_time": "2022-04-27T19:35:26.866Z"
   },
   {
    "duration": 20,
    "start_time": "2022-04-27T19:35:29.546Z"
   },
   {
    "duration": 5,
    "start_time": "2022-04-27T19:35:42.183Z"
   },
   {
    "duration": 425,
    "start_time": "2022-04-27T19:35:42.589Z"
   },
   {
    "duration": 8,
    "start_time": "2022-04-27T19:35:43.505Z"
   },
   {
    "duration": 26,
    "start_time": "2022-04-27T19:35:44.946Z"
   },
   {
    "duration": 19,
    "start_time": "2022-04-27T19:35:45.798Z"
   },
   {
    "duration": 171,
    "start_time": "2022-04-27T19:35:46.703Z"
   },
   {
    "duration": 62,
    "start_time": "2022-04-27T19:35:47.533Z"
   },
   {
    "duration": 6,
    "start_time": "2022-04-27T19:35:47.957Z"
   },
   {
    "duration": 76,
    "start_time": "2022-04-27T19:35:49.085Z"
   },
   {
    "duration": 30,
    "start_time": "2022-04-27T19:35:49.892Z"
   },
   {
    "duration": 94,
    "start_time": "2022-04-27T19:35:50.627Z"
   },
   {
    "duration": 51,
    "start_time": "2022-04-27T19:35:51.428Z"
   },
   {
    "duration": 16,
    "start_time": "2022-04-27T19:35:52.254Z"
   },
   {
    "duration": 21,
    "start_time": "2022-04-27T19:35:53.555Z"
   },
   {
    "duration": 184,
    "start_time": "2022-04-27T19:35:54.465Z"
   },
   {
    "duration": 42,
    "start_time": "2022-04-27T19:35:56.330Z"
   },
   {
    "duration": 33,
    "start_time": "2022-04-27T19:35:57.625Z"
   },
   {
    "duration": 29,
    "start_time": "2022-04-27T19:35:58.843Z"
   },
   {
    "duration": 34,
    "start_time": "2022-04-27T19:36:00.095Z"
   },
   {
    "duration": 41,
    "start_time": "2022-04-27T19:37:31.581Z"
   },
   {
    "duration": 43,
    "start_time": "2022-04-27T19:37:40.373Z"
   },
   {
    "duration": 8,
    "start_time": "2022-04-27T19:39:18.672Z"
   },
   {
    "duration": 7,
    "start_time": "2022-04-27T19:39:19.760Z"
   },
   {
    "duration": 11,
    "start_time": "2022-04-27T19:39:20.222Z"
   },
   {
    "duration": 14,
    "start_time": "2022-04-27T19:39:31.578Z"
   },
   {
    "duration": 12,
    "start_time": "2022-04-27T19:40:29.846Z"
   },
   {
    "duration": 14,
    "start_time": "2022-04-27T19:40:31.144Z"
   },
   {
    "duration": 8,
    "start_time": "2022-04-27T19:41:43.433Z"
   },
   {
    "duration": 10,
    "start_time": "2022-04-27T19:41:52.979Z"
   },
   {
    "duration": 6,
    "start_time": "2022-04-27T20:01:58.160Z"
   },
   {
    "duration": 9,
    "start_time": "2022-04-27T20:02:12.235Z"
   },
   {
    "duration": 4,
    "start_time": "2022-04-27T20:02:16.028Z"
   },
   {
    "duration": 10,
    "start_time": "2022-04-27T20:02:24.126Z"
   },
   {
    "duration": 5,
    "start_time": "2022-04-27T20:02:54.915Z"
   },
   {
    "duration": 528,
    "start_time": "2022-04-27T20:02:55.091Z"
   },
   {
    "duration": 7,
    "start_time": "2022-04-27T20:02:55.622Z"
   },
   {
    "duration": 32,
    "start_time": "2022-04-27T20:02:55.854Z"
   },
   {
    "duration": 20,
    "start_time": "2022-04-27T20:02:56.143Z"
   },
   {
    "duration": 172,
    "start_time": "2022-04-27T20:02:56.472Z"
   },
   {
    "duration": 66,
    "start_time": "2022-04-27T20:02:56.783Z"
   },
   {
    "duration": 9,
    "start_time": "2022-04-27T20:02:56.940Z"
   },
   {
    "duration": 126,
    "start_time": "2022-04-27T20:02:57.441Z"
   },
   {
    "duration": 51,
    "start_time": "2022-04-27T20:02:57.775Z"
   },
   {
    "duration": 111,
    "start_time": "2022-04-27T20:02:58.118Z"
   },
   {
    "duration": 51,
    "start_time": "2022-04-27T20:02:58.436Z"
   },
   {
    "duration": 18,
    "start_time": "2022-04-27T20:02:58.760Z"
   },
   {
    "duration": 20,
    "start_time": "2022-04-27T20:02:59.285Z"
   },
   {
    "duration": 191,
    "start_time": "2022-04-27T20:02:59.625Z"
   },
   {
    "duration": 39,
    "start_time": "2022-04-27T20:03:00.330Z"
   },
   {
    "duration": 35,
    "start_time": "2022-04-27T20:03:00.684Z"
   },
   {
    "duration": 32,
    "start_time": "2022-04-27T20:03:01.392Z"
   },
   {
    "duration": 36,
    "start_time": "2022-04-27T20:03:02.493Z"
   },
   {
    "duration": 6,
    "start_time": "2022-04-27T20:03:03.702Z"
   },
   {
    "duration": 9,
    "start_time": "2022-04-27T20:03:04.287Z"
   },
   {
    "duration": 12,
    "start_time": "2022-04-27T20:03:10.567Z"
   },
   {
    "duration": 9,
    "start_time": "2022-04-27T20:03:46.021Z"
   },
   {
    "duration": 20,
    "start_time": "2022-04-27T20:03:52.923Z"
   },
   {
    "duration": 14,
    "start_time": "2022-04-27T20:03:59.413Z"
   },
   {
    "duration": 11,
    "start_time": "2022-04-27T20:04:31.685Z"
   },
   {
    "duration": 11,
    "start_time": "2022-04-27T20:04:33.601Z"
   },
   {
    "duration": 13,
    "start_time": "2022-04-27T20:05:39.301Z"
   },
   {
    "duration": 12,
    "start_time": "2022-04-27T20:06:01.135Z"
   },
   {
    "duration": 14,
    "start_time": "2022-04-27T20:08:38.077Z"
   },
   {
    "duration": 11,
    "start_time": "2022-04-27T20:08:41.182Z"
   },
   {
    "duration": 9,
    "start_time": "2022-04-27T20:08:42.076Z"
   },
   {
    "duration": 13,
    "start_time": "2022-04-27T20:08:42.515Z"
   },
   {
    "duration": 14,
    "start_time": "2022-04-27T20:08:43.542Z"
   },
   {
    "duration": 20,
    "start_time": "2022-04-27T20:08:45.109Z"
   },
   {
    "duration": 106,
    "start_time": "2022-04-27T20:08:46.156Z"
   },
   {
    "duration": 6,
    "start_time": "2022-04-27T20:09:10.870Z"
   },
   {
    "duration": 103,
    "start_time": "2022-04-27T20:09:23.173Z"
   },
   {
    "duration": 102,
    "start_time": "2022-04-27T20:09:31.282Z"
   },
   {
    "duration": 22,
    "start_time": "2022-04-27T20:10:47.520Z"
   },
   {
    "duration": 5,
    "start_time": "2022-04-27T20:16:25.530Z"
   },
   {
    "duration": 5,
    "start_time": "2022-04-27T20:16:26.145Z"
   },
   {
    "duration": 6,
    "start_time": "2022-04-27T20:16:26.883Z"
   },
   {
    "duration": 5,
    "start_time": "2022-04-27T20:16:27.993Z"
   },
   {
    "duration": 13,
    "start_time": "2022-04-27T20:16:28.655Z"
   },
   {
    "duration": 7,
    "start_time": "2022-04-27T20:16:34.714Z"
   },
   {
    "duration": 502,
    "start_time": "2022-04-27T20:16:35.581Z"
   },
   {
    "duration": 22,
    "start_time": "2022-04-27T20:19:48.491Z"
   },
   {
    "duration": 9,
    "start_time": "2022-04-27T20:19:49.101Z"
   },
   {
    "duration": 12,
    "start_time": "2022-04-27T20:19:54.169Z"
   },
   {
    "duration": 13,
    "start_time": "2022-04-27T20:20:01.710Z"
   },
   {
    "duration": 131,
    "start_time": "2022-04-27T20:24:43.366Z"
   },
   {
    "duration": 8,
    "start_time": "2022-04-27T20:26:25.557Z"
   },
   {
    "duration": 5,
    "start_time": "2022-04-27T20:26:34.173Z"
   },
   {
    "duration": 370,
    "start_time": "2022-04-27T20:26:34.490Z"
   },
   {
    "duration": 5,
    "start_time": "2022-04-27T20:26:35.030Z"
   },
   {
    "duration": 26,
    "start_time": "2022-04-27T20:26:35.826Z"
   },
   {
    "duration": 14,
    "start_time": "2022-04-27T20:26:36.209Z"
   },
   {
    "duration": 199,
    "start_time": "2022-04-27T20:26:36.582Z"
   },
   {
    "duration": 104,
    "start_time": "2022-04-27T20:26:36.972Z"
   },
   {
    "duration": 7,
    "start_time": "2022-04-27T20:26:37.156Z"
   },
   {
    "duration": 77,
    "start_time": "2022-04-27T20:26:37.671Z"
   },
   {
    "duration": 33,
    "start_time": "2022-04-27T20:26:38.005Z"
   },
   {
    "duration": 98,
    "start_time": "2022-04-27T20:26:38.340Z"
   },
   {
    "duration": 51,
    "start_time": "2022-04-27T20:26:38.673Z"
   },
   {
    "duration": 19,
    "start_time": "2022-04-27T20:26:39.022Z"
   },
   {
    "duration": 19,
    "start_time": "2022-04-27T20:26:39.547Z"
   },
   {
    "duration": 186,
    "start_time": "2022-04-27T20:26:39.914Z"
   },
   {
    "duration": 39,
    "start_time": "2022-04-27T20:26:40.618Z"
   },
   {
    "duration": 33,
    "start_time": "2022-04-27T20:26:40.973Z"
   },
   {
    "duration": 33,
    "start_time": "2022-04-27T20:26:41.322Z"
   },
   {
    "duration": 36,
    "start_time": "2022-04-27T20:26:41.678Z"
   },
   {
    "duration": 8,
    "start_time": "2022-04-27T20:26:42.032Z"
   },
   {
    "duration": 7,
    "start_time": "2022-04-27T20:26:42.396Z"
   },
   {
    "duration": 11,
    "start_time": "2022-04-27T20:26:42.754Z"
   },
   {
    "duration": 10,
    "start_time": "2022-04-27T20:26:43.117Z"
   },
   {
    "duration": 12,
    "start_time": "2022-04-27T20:26:43.294Z"
   },
   {
    "duration": 180,
    "start_time": "2022-04-27T20:26:43.669Z"
   },
   {
    "duration": 14,
    "start_time": "2022-04-27T20:26:44.036Z"
   },
   {
    "duration": 64,
    "start_time": "2022-04-27T20:26:44.212Z"
   },
   {
    "duration": 15,
    "start_time": "2022-04-27T20:26:44.389Z"
   },
   {
    "duration": 5,
    "start_time": "2022-04-27T20:26:44.749Z"
   },
   {
    "duration": 7,
    "start_time": "2022-04-27T20:26:45.116Z"
   },
   {
    "duration": 497,
    "start_time": "2022-04-27T20:26:45.298Z"
   },
   {
    "duration": 442,
    "start_time": "2022-04-27T20:26:45.848Z"
   },
   {
    "duration": 468,
    "start_time": "2022-04-27T20:26:46.292Z"
   },
   {
    "duration": 26,
    "start_time": "2022-04-27T20:26:46.762Z"
   },
   {
    "duration": 20,
    "start_time": "2022-04-27T20:26:46.919Z"
   },
   {
    "duration": 7,
    "start_time": "2022-04-27T20:26:47.095Z"
   },
   {
    "duration": 20,
    "start_time": "2022-04-27T20:26:47.640Z"
   },
   {
    "duration": 9,
    "start_time": "2022-04-27T20:26:47.819Z"
   },
   {
    "duration": 11,
    "start_time": "2022-04-27T20:26:48.551Z"
   },
   {
    "duration": 12,
    "start_time": "2022-04-27T20:26:49.281Z"
   },
   {
    "duration": 1611,
    "start_time": "2022-05-01T08:30:56.571Z"
   },
   {
    "duration": 460,
    "start_time": "2022-05-01T08:30:58.185Z"
   },
   {
    "duration": 8,
    "start_time": "2022-05-01T08:30:58.647Z"
   },
   {
    "duration": 40,
    "start_time": "2022-05-01T08:30:58.776Z"
   },
   {
    "duration": 452,
    "start_time": "2022-05-01T08:30:59.245Z"
   },
   {
    "duration": 20,
    "start_time": "2022-05-01T08:30:59.700Z"
   },
   {
    "duration": 218,
    "start_time": "2022-05-01T08:31:00.057Z"
   },
   {
    "duration": 91,
    "start_time": "2022-05-01T08:31:00.470Z"
   },
   {
    "duration": 307,
    "start_time": "2022-05-01T08:31:00.907Z"
   },
   {
    "duration": 10,
    "start_time": "2022-05-01T08:31:01.217Z"
   },
   {
    "duration": 116,
    "start_time": "2022-05-01T08:31:19.137Z"
   },
   {
    "duration": 44,
    "start_time": "2022-05-01T08:31:21.061Z"
   },
   {
    "duration": 157,
    "start_time": "2022-05-01T08:31:22.163Z"
   },
   {
    "duration": 70,
    "start_time": "2022-05-01T08:31:28.461Z"
   },
   {
    "duration": 331,
    "start_time": "2022-05-01T08:31:36.311Z"
   },
   {
    "duration": 115,
    "start_time": "2022-05-01T08:32:00.999Z"
   },
   {
    "duration": 29,
    "start_time": "2022-05-01T08:32:16.551Z"
   },
   {
    "duration": 29,
    "start_time": "2022-05-01T08:32:18.090Z"
   },
   {
    "duration": 304,
    "start_time": "2022-05-01T08:32:18.610Z"
   },
   {
    "duration": 60,
    "start_time": "2022-05-01T08:32:21.468Z"
   },
   {
    "duration": 45,
    "start_time": "2022-05-01T08:32:22.473Z"
   },
   {
    "duration": 44,
    "start_time": "2022-05-01T08:32:23.418Z"
   },
   {
    "duration": 50,
    "start_time": "2022-05-01T08:32:28.056Z"
   },
   {
    "duration": 156,
    "start_time": "2022-05-01T08:34:54.022Z"
   },
   {
    "duration": 7,
    "start_time": "2022-05-01T08:36:01.321Z"
   },
   {
    "duration": 474,
    "start_time": "2022-05-01T08:36:01.481Z"
   },
   {
    "duration": 8,
    "start_time": "2022-05-01T08:36:01.957Z"
   },
   {
    "duration": 35,
    "start_time": "2022-05-01T08:36:02.553Z"
   },
   {
    "duration": 508,
    "start_time": "2022-05-01T08:36:03.022Z"
   },
   {
    "duration": 30,
    "start_time": "2022-05-01T08:36:03.533Z"
   },
   {
    "duration": 188,
    "start_time": "2022-05-01T08:36:03.856Z"
   },
   {
    "duration": 84,
    "start_time": "2022-05-01T08:36:04.222Z"
   },
   {
    "duration": 297,
    "start_time": "2022-05-01T08:36:04.597Z"
   },
   {
    "duration": 9,
    "start_time": "2022-05-01T08:36:04.897Z"
   },
   {
    "duration": 99,
    "start_time": "2022-05-01T08:36:05.295Z"
   },
   {
    "duration": 43,
    "start_time": "2022-05-01T08:36:05.672Z"
   },
   {
    "duration": 159,
    "start_time": "2022-05-01T08:36:06.045Z"
   },
   {
    "duration": 76,
    "start_time": "2022-05-01T08:36:06.971Z"
   },
   {
    "duration": 341,
    "start_time": "2022-05-01T08:36:07.936Z"
   },
   {
    "duration": 24,
    "start_time": "2022-05-01T08:36:08.509Z"
   },
   {
    "duration": 27,
    "start_time": "2022-05-01T08:36:16.259Z"
   },
   {
    "duration": 312,
    "start_time": "2022-05-01T08:36:20.442Z"
   },
   {
    "duration": 60,
    "start_time": "2022-05-01T08:36:23.094Z"
   },
   {
    "duration": 47,
    "start_time": "2022-05-01T08:36:23.953Z"
   },
   {
    "duration": 44,
    "start_time": "2022-05-01T08:36:24.737Z"
   },
   {
    "duration": 53,
    "start_time": "2022-05-01T08:36:27.351Z"
   },
   {
    "duration": 9,
    "start_time": "2022-05-01T08:36:28.082Z"
   },
   {
    "duration": 9,
    "start_time": "2022-05-01T08:36:29.419Z"
   },
   {
    "duration": 16,
    "start_time": "2022-05-01T08:36:30.000Z"
   },
   {
    "duration": 16,
    "start_time": "2022-05-01T08:36:30.666Z"
   },
   {
    "duration": 18,
    "start_time": "2022-05-01T08:36:30.840Z"
   },
   {
    "duration": 19,
    "start_time": "2022-05-01T08:36:31.193Z"
   },
   {
    "duration": 20,
    "start_time": "2022-05-01T08:36:31.719Z"
   },
   {
    "duration": 107,
    "start_time": "2022-05-01T08:36:31.996Z"
   },
   {
    "duration": 21,
    "start_time": "2022-05-01T08:36:32.105Z"
   },
   {
    "duration": 97,
    "start_time": "2022-05-01T08:37:00.538Z"
   },
   {
    "duration": 107,
    "start_time": "2022-05-01T08:37:04.577Z"
   },
   {
    "duration": 99,
    "start_time": "2022-05-01T08:38:02.411Z"
   },
   {
    "duration": 7,
    "start_time": "2022-05-01T08:38:38.968Z"
   },
   {
    "duration": 11,
    "start_time": "2022-05-01T08:38:39.691Z"
   },
   {
    "duration": 40,
    "start_time": "2022-05-01T08:38:40.135Z"
   },
   {
    "duration": 12,
    "start_time": "2022-05-01T08:38:41.109Z"
   },
   {
    "duration": 775,
    "start_time": "2022-05-01T08:38:41.515Z"
   },
   {
    "duration": 10,
    "start_time": "2022-05-01T08:41:21.600Z"
   },
   {
    "duration": 38,
    "start_time": "2022-05-01T08:41:22.278Z"
   },
   {
    "duration": 11,
    "start_time": "2022-05-01T08:41:23.438Z"
   },
   {
    "duration": 731,
    "start_time": "2022-05-01T08:41:23.920Z"
   },
   {
    "duration": 723,
    "start_time": "2022-05-01T08:41:25.473Z"
   },
   {
    "duration": 823,
    "start_time": "2022-05-01T08:41:28.418Z"
   },
   {
    "duration": 699,
    "start_time": "2022-05-01T08:41:30.147Z"
   },
   {
    "duration": 31,
    "start_time": "2022-05-01T08:41:31.688Z"
   },
   {
    "duration": 15,
    "start_time": "2022-05-01T08:41:31.964Z"
   },
   {
    "duration": 29,
    "start_time": "2022-05-01T08:41:33.415Z"
   },
   {
    "duration": 14,
    "start_time": "2022-05-01T08:41:33.781Z"
   },
   {
    "duration": 737,
    "start_time": "2022-05-01T08:41:55.302Z"
   },
   {
    "duration": 749,
    "start_time": "2022-05-01T08:42:06.323Z"
   },
   {
    "duration": 83,
    "start_time": "2022-05-01T08:43:04.645Z"
   }
  ],
  "kernelspec": {
   "display_name": "Python 3 (ipykernel)",
   "language": "python",
   "name": "python3"
  },
  "language_info": {
   "codemirror_mode": {
    "name": "ipython",
    "version": 3
   },
   "file_extension": ".py",
   "mimetype": "text/x-python",
   "name": "python",
   "nbconvert_exporter": "python",
   "pygments_lexer": "ipython3",
   "version": "3.9.12"
  },
  "toc": {
   "base_numbering": 1,
   "nav_menu": {},
   "number_sections": true,
   "sideBar": true,
   "skip_h1_title": true,
   "title_cell": "Table of Contents",
   "title_sidebar": "Contents",
   "toc_cell": false,
   "toc_position": {},
   "toc_section_display": true,
   "toc_window_display": false
  }
 },
 "nbformat": 4,
 "nbformat_minor": 5
}
