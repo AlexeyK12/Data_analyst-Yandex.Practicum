{
 "cells": [
  {
   "cell_type": "markdown",
   "id": "a618e1e1",
   "metadata": {},
   "source": [
    "# Выпускной проект - SQL"
   ]
  },
  {
   "cell_type": "markdown",
   "id": "01ab1dcb",
   "metadata": {},
   "source": [
    "## Описание проекта\n",
    "\n",
    "Коронавирус застал мир врасплох, изменив привычный порядок вещей. В свободное время жители городов больше не выходят на улицу, не посещают кафе и торговые центры. Зато стало больше времени для книг. Это заметили стартаперы — и бросились создавать приложения для тех, кто любит читать.\n",
    "\n",
    "Ваша компания решила быть на волне и купила крупный сервис для чтения книг по подписке. Ваша первая задача как аналитика — проанализировать базу данных.\n",
    "В ней — информация о книгах, издательствах, авторах, а также пользовательские обзоры книг. Эти данные помогут сформулировать ценностное предложение для нового продукта."
   ]
  },
  {
   "cell_type": "markdown",
   "id": "aa11b5b8",
   "metadata": {},
   "source": [
    "### Описание данных"
   ]
  },
  {
   "cell_type": "markdown",
   "id": "f9b1cd95",
   "metadata": {},
   "source": [
    "![jupyter](https://concrete-web-bad.notion.site/image/https%3A%2F%2Fs3-us-west-2.amazonaws.com%2Fsecure.notion-static.com%2F069818d1-0e5c-4d87-a461-0de584ab9c33%2FUntitled_(33).png?table=block&id=bd53c8db-b4fd-49eb-8cc9-572ebb3c9163&spaceId=9e4bd47b-c6e6-4ca3-bcee-279794b47315&width=2000&userId=&cache=v2)"
   ]
  },
  {
   "cell_type": "markdown",
   "id": "7e52dfdb",
   "metadata": {},
   "source": [
    "**Таблица `books`**\n",
    "\n",
    "Содержит данные о книгах:\n",
    "\n",
    "- `book_id` — идентификатор книги;\n",
    "- `author_id` — идентификатор автора;\n",
    "- `title` — название книги;\n",
    "- `num_pages` — количество страниц;\n",
    "- `publication_date` — дата публикации книги;\n",
    "- `publisher_id` — идентификатор издателя.\n",
    "\n",
    "**Таблица `authors`**\n",
    "\n",
    "Содержит данные об авторах:\n",
    "\n",
    "- `author_id` — идентификатор автора;\n",
    "- `author` — имя автора.\n",
    "\n",
    "**Таблица `publishers`**\n",
    "\n",
    "Содержит данные об издательствах:\n",
    "\n",
    "- `publisher_id` — идентификатор издательства;\n",
    "- `publisher` — название издательства;\n",
    "\n",
    "**Таблица `ratings`**\n",
    "\n",
    "Содержит данные о пользовательских оценках книг:\n",
    "\n",
    "- `rating_id` — идентификатор оценки;\n",
    "- `book_id` — идентификатор книги;\n",
    "- `username` — имя пользователя, оставившего оценку;\n",
    "- `rating` — оценка книги.\n",
    "\n",
    "**Таблица `reviews`**\n",
    "\n",
    "Содержит данные о пользовательских обзорах на книги:\n",
    "\n",
    "- `review_id` — идентификатор обзора;\n",
    "- `book_id` — идентификатор книги;\n",
    "- `username` — имя пользователя, написавшего обзор;\n",
    "- `text` — текст обзора."
   ]
  },
  {
   "cell_type": "markdown",
   "id": "529858fb",
   "metadata": {},
   "source": [
    "### Задания\n",
    "\n",
    "- Посчитайте, сколько книг вышло после 1 января 2000 года;\n",
    "- Для каждой книги посчитайте количество обзоров и среднюю оценку;\n",
    "- Определите издательство, которое выпустило наибольшее число книг толще 50 страниц — так вы исключите из анализа брошюры;\n",
    "- Определите автора с самой высокой средней оценкой книг — учитывайте только книги с 50 и более оценками;\n",
    "- Посчитайте среднее количество обзоров от пользователей, которые поставили больше 50 оценок."
   ]
  },
  {
   "cell_type": "markdown",
   "id": "b7f32496",
   "metadata": {},
   "source": [
    "## Подключение к БД"
   ]
  },
  {
   "cell_type": "code",
   "execution_count": 1,
   "id": "294d5f9e",
   "metadata": {},
   "outputs": [],
   "source": [
    "# импортируем библиотеки\n",
    "import pandas as pd\n",
    "from sqlalchemy import create_engine"
   ]
  },
  {
   "cell_type": "code",
   "execution_count": 2,
   "id": "c0fe3d5e",
   "metadata": {},
   "outputs": [],
   "source": [
    "# устанавливаем параметры\n",
    "db_config = {'user': 'praktikum_student', # имя пользователя\n",
    "'pwd': 'Sdf4$2;d-d30pp', # пароль\n",
    "'host': 'rc1b-wcoijxj3yxfsf3fs.mdb.yandexcloud.net',\n",
    "'port': 6432, # порт подключения\n",
    "'db': 'data-analyst-final-project-db'} # название базы данных\n",
    "connection_string = 'postgresql://{}:{}@{}:{}/{}'.format(db_config['user'],\n",
    " db_config['pwd'],\n",
    " db_config['host'],\n",
    " db_config['port'],\n",
    " db_config['db'])\n",
    "\n",
    "# сохраняем коннектор\n",
    "engine = create_engine(connection_string, connect_args={'sslmode':'require'}) "
   ]
  },
  {
   "cell_type": "code",
   "execution_count": 3,
   "id": "21eb1d28",
   "metadata": {},
   "outputs": [],
   "source": [
    "query_books = ''' SELECT *\n",
    "                  FROM books;\n",
    "              '''"
   ]
  },
  {
   "cell_type": "code",
   "execution_count": 4,
   "id": "a17bbb1d",
   "metadata": {},
   "outputs": [
    {
     "data": {
      "text/html": [
       "<div>\n",
       "<style scoped>\n",
       "    .dataframe tbody tr th:only-of-type {\n",
       "        vertical-align: middle;\n",
       "    }\n",
       "\n",
       "    .dataframe tbody tr th {\n",
       "        vertical-align: top;\n",
       "    }\n",
       "\n",
       "    .dataframe thead th {\n",
       "        text-align: right;\n",
       "    }\n",
       "</style>\n",
       "<table border=\"1\" class=\"dataframe\">\n",
       "  <thead>\n",
       "    <tr style=\"text-align: right;\">\n",
       "      <th></th>\n",
       "      <th>book_id</th>\n",
       "      <th>author_id</th>\n",
       "      <th>title</th>\n",
       "      <th>num_pages</th>\n",
       "      <th>publication_date</th>\n",
       "      <th>publisher_id</th>\n",
       "    </tr>\n",
       "  </thead>\n",
       "  <tbody>\n",
       "    <tr>\n",
       "      <th>0</th>\n",
       "      <td>1</td>\n",
       "      <td>546</td>\n",
       "      <td>'Salem's Lot</td>\n",
       "      <td>594</td>\n",
       "      <td>2005-11-01</td>\n",
       "      <td>93</td>\n",
       "    </tr>\n",
       "    <tr>\n",
       "      <th>1</th>\n",
       "      <td>2</td>\n",
       "      <td>465</td>\n",
       "      <td>1 000 Places to See Before You Die</td>\n",
       "      <td>992</td>\n",
       "      <td>2003-05-22</td>\n",
       "      <td>336</td>\n",
       "    </tr>\n",
       "    <tr>\n",
       "      <th>2</th>\n",
       "      <td>3</td>\n",
       "      <td>407</td>\n",
       "      <td>13 Little Blue Envelopes (Little Blue Envelope...</td>\n",
       "      <td>322</td>\n",
       "      <td>2010-12-21</td>\n",
       "      <td>135</td>\n",
       "    </tr>\n",
       "    <tr>\n",
       "      <th>3</th>\n",
       "      <td>4</td>\n",
       "      <td>82</td>\n",
       "      <td>1491: New Revelations of the Americas Before C...</td>\n",
       "      <td>541</td>\n",
       "      <td>2006-10-10</td>\n",
       "      <td>309</td>\n",
       "    </tr>\n",
       "    <tr>\n",
       "      <th>4</th>\n",
       "      <td>5</td>\n",
       "      <td>125</td>\n",
       "      <td>1776</td>\n",
       "      <td>386</td>\n",
       "      <td>2006-07-04</td>\n",
       "      <td>268</td>\n",
       "    </tr>\n",
       "  </tbody>\n",
       "</table>\n",
       "</div>"
      ],
      "text/plain": [
       "   book_id  author_id                                              title  \\\n",
       "0        1        546                                       'Salem's Lot   \n",
       "1        2        465                 1 000 Places to See Before You Die   \n",
       "2        3        407  13 Little Blue Envelopes (Little Blue Envelope...   \n",
       "3        4         82  1491: New Revelations of the Americas Before C...   \n",
       "4        5        125                                               1776   \n",
       "\n",
       "   num_pages publication_date  publisher_id  \n",
       "0        594       2005-11-01            93  \n",
       "1        992       2003-05-22           336  \n",
       "2        322       2010-12-21           135  \n",
       "3        541       2006-10-10           309  \n",
       "4        386       2006-07-04           268  "
      ]
     },
     "execution_count": 4,
     "metadata": {},
     "output_type": "execute_result"
    }
   ],
   "source": [
    "books = pd.io.sql.read_sql(query_books, con = engine) \n",
    "books.head()"
   ]
  },
  {
   "cell_type": "code",
   "execution_count": 5,
   "id": "c008906f",
   "metadata": {},
   "outputs": [],
   "source": [
    "query_authors = ''' SELECT *\n",
    "                    FROM authors;\n",
    "                '''"
   ]
  },
  {
   "cell_type": "code",
   "execution_count": 6,
   "id": "6ff4074a",
   "metadata": {},
   "outputs": [
    {
     "data": {
      "text/html": [
       "<div>\n",
       "<style scoped>\n",
       "    .dataframe tbody tr th:only-of-type {\n",
       "        vertical-align: middle;\n",
       "    }\n",
       "\n",
       "    .dataframe tbody tr th {\n",
       "        vertical-align: top;\n",
       "    }\n",
       "\n",
       "    .dataframe thead th {\n",
       "        text-align: right;\n",
       "    }\n",
       "</style>\n",
       "<table border=\"1\" class=\"dataframe\">\n",
       "  <thead>\n",
       "    <tr style=\"text-align: right;\">\n",
       "      <th></th>\n",
       "      <th>author_id</th>\n",
       "      <th>author</th>\n",
       "    </tr>\n",
       "  </thead>\n",
       "  <tbody>\n",
       "    <tr>\n",
       "      <th>0</th>\n",
       "      <td>1</td>\n",
       "      <td>A.S. Byatt</td>\n",
       "    </tr>\n",
       "    <tr>\n",
       "      <th>1</th>\n",
       "      <td>2</td>\n",
       "      <td>Aesop/Laura Harris/Laura Gibbs</td>\n",
       "    </tr>\n",
       "    <tr>\n",
       "      <th>2</th>\n",
       "      <td>3</td>\n",
       "      <td>Agatha Christie</td>\n",
       "    </tr>\n",
       "    <tr>\n",
       "      <th>3</th>\n",
       "      <td>4</td>\n",
       "      <td>Alan Brennert</td>\n",
       "    </tr>\n",
       "    <tr>\n",
       "      <th>4</th>\n",
       "      <td>5</td>\n",
       "      <td>Alan Moore/David   Lloyd</td>\n",
       "    </tr>\n",
       "  </tbody>\n",
       "</table>\n",
       "</div>"
      ],
      "text/plain": [
       "   author_id                          author\n",
       "0          1                      A.S. Byatt\n",
       "1          2  Aesop/Laura Harris/Laura Gibbs\n",
       "2          3                 Agatha Christie\n",
       "3          4                   Alan Brennert\n",
       "4          5        Alan Moore/David   Lloyd"
      ]
     },
     "execution_count": 6,
     "metadata": {},
     "output_type": "execute_result"
    }
   ],
   "source": [
    "authors = pd.io.sql.read_sql(query_authors, con = engine) \n",
    "authors.head()"
   ]
  },
  {
   "cell_type": "code",
   "execution_count": 7,
   "id": "8d778b35",
   "metadata": {},
   "outputs": [],
   "source": [
    "query_publishers = ''' SELECT *\n",
    "                       FROM publishers;\n",
    "                   '''"
   ]
  },
  {
   "cell_type": "code",
   "execution_count": 8,
   "id": "57efe5f4",
   "metadata": {},
   "outputs": [
    {
     "data": {
      "text/html": [
       "<div>\n",
       "<style scoped>\n",
       "    .dataframe tbody tr th:only-of-type {\n",
       "        vertical-align: middle;\n",
       "    }\n",
       "\n",
       "    .dataframe tbody tr th {\n",
       "        vertical-align: top;\n",
       "    }\n",
       "\n",
       "    .dataframe thead th {\n",
       "        text-align: right;\n",
       "    }\n",
       "</style>\n",
       "<table border=\"1\" class=\"dataframe\">\n",
       "  <thead>\n",
       "    <tr style=\"text-align: right;\">\n",
       "      <th></th>\n",
       "      <th>publisher_id</th>\n",
       "      <th>publisher</th>\n",
       "    </tr>\n",
       "  </thead>\n",
       "  <tbody>\n",
       "    <tr>\n",
       "      <th>0</th>\n",
       "      <td>1</td>\n",
       "      <td>Ace</td>\n",
       "    </tr>\n",
       "    <tr>\n",
       "      <th>1</th>\n",
       "      <td>2</td>\n",
       "      <td>Ace Book</td>\n",
       "    </tr>\n",
       "    <tr>\n",
       "      <th>2</th>\n",
       "      <td>3</td>\n",
       "      <td>Ace Books</td>\n",
       "    </tr>\n",
       "    <tr>\n",
       "      <th>3</th>\n",
       "      <td>4</td>\n",
       "      <td>Ace Hardcover</td>\n",
       "    </tr>\n",
       "    <tr>\n",
       "      <th>4</th>\n",
       "      <td>5</td>\n",
       "      <td>Addison Wesley Publishing Company</td>\n",
       "    </tr>\n",
       "  </tbody>\n",
       "</table>\n",
       "</div>"
      ],
      "text/plain": [
       "   publisher_id                          publisher\n",
       "0             1                                Ace\n",
       "1             2                           Ace Book\n",
       "2             3                          Ace Books\n",
       "3             4                      Ace Hardcover\n",
       "4             5  Addison Wesley Publishing Company"
      ]
     },
     "execution_count": 8,
     "metadata": {},
     "output_type": "execute_result"
    }
   ],
   "source": [
    "publishers = pd.io.sql.read_sql(query_publishers, con = engine) \n",
    "publishers.head()"
   ]
  },
  {
   "cell_type": "code",
   "execution_count": 9,
   "id": "638dad84",
   "metadata": {},
   "outputs": [],
   "source": [
    "query_ratings = ''' SELECT *\n",
    "                    FROM ratings;\n",
    "                '''"
   ]
  },
  {
   "cell_type": "code",
   "execution_count": 10,
   "id": "c1730a52",
   "metadata": {},
   "outputs": [
    {
     "data": {
      "text/html": [
       "<div>\n",
       "<style scoped>\n",
       "    .dataframe tbody tr th:only-of-type {\n",
       "        vertical-align: middle;\n",
       "    }\n",
       "\n",
       "    .dataframe tbody tr th {\n",
       "        vertical-align: top;\n",
       "    }\n",
       "\n",
       "    .dataframe thead th {\n",
       "        text-align: right;\n",
       "    }\n",
       "</style>\n",
       "<table border=\"1\" class=\"dataframe\">\n",
       "  <thead>\n",
       "    <tr style=\"text-align: right;\">\n",
       "      <th></th>\n",
       "      <th>rating_id</th>\n",
       "      <th>book_id</th>\n",
       "      <th>username</th>\n",
       "      <th>rating</th>\n",
       "    </tr>\n",
       "  </thead>\n",
       "  <tbody>\n",
       "    <tr>\n",
       "      <th>0</th>\n",
       "      <td>1</td>\n",
       "      <td>1</td>\n",
       "      <td>ryanfranco</td>\n",
       "      <td>4</td>\n",
       "    </tr>\n",
       "    <tr>\n",
       "      <th>1</th>\n",
       "      <td>2</td>\n",
       "      <td>1</td>\n",
       "      <td>grantpatricia</td>\n",
       "      <td>2</td>\n",
       "    </tr>\n",
       "    <tr>\n",
       "      <th>2</th>\n",
       "      <td>3</td>\n",
       "      <td>1</td>\n",
       "      <td>brandtandrea</td>\n",
       "      <td>5</td>\n",
       "    </tr>\n",
       "    <tr>\n",
       "      <th>3</th>\n",
       "      <td>4</td>\n",
       "      <td>2</td>\n",
       "      <td>lorichen</td>\n",
       "      <td>3</td>\n",
       "    </tr>\n",
       "    <tr>\n",
       "      <th>4</th>\n",
       "      <td>5</td>\n",
       "      <td>2</td>\n",
       "      <td>mariokeller</td>\n",
       "      <td>2</td>\n",
       "    </tr>\n",
       "  </tbody>\n",
       "</table>\n",
       "</div>"
      ],
      "text/plain": [
       "   rating_id  book_id       username  rating\n",
       "0          1        1     ryanfranco       4\n",
       "1          2        1  grantpatricia       2\n",
       "2          3        1   brandtandrea       5\n",
       "3          4        2       lorichen       3\n",
       "4          5        2    mariokeller       2"
      ]
     },
     "execution_count": 10,
     "metadata": {},
     "output_type": "execute_result"
    }
   ],
   "source": [
    "ratings = pd.io.sql.read_sql(query_ratings, con = engine) \n",
    "ratings.head()"
   ]
  },
  {
   "cell_type": "code",
   "execution_count": 11,
   "id": "83fca2ce",
   "metadata": {},
   "outputs": [],
   "source": [
    "query_reviews = ''' SELECT *\n",
    "                    FROM reviews;\n",
    "                '''"
   ]
  },
  {
   "cell_type": "code",
   "execution_count": 12,
   "id": "29b61f7f",
   "metadata": {},
   "outputs": [
    {
     "data": {
      "text/html": [
       "<div>\n",
       "<style scoped>\n",
       "    .dataframe tbody tr th:only-of-type {\n",
       "        vertical-align: middle;\n",
       "    }\n",
       "\n",
       "    .dataframe tbody tr th {\n",
       "        vertical-align: top;\n",
       "    }\n",
       "\n",
       "    .dataframe thead th {\n",
       "        text-align: right;\n",
       "    }\n",
       "</style>\n",
       "<table border=\"1\" class=\"dataframe\">\n",
       "  <thead>\n",
       "    <tr style=\"text-align: right;\">\n",
       "      <th></th>\n",
       "      <th>review_id</th>\n",
       "      <th>book_id</th>\n",
       "      <th>username</th>\n",
       "      <th>text</th>\n",
       "    </tr>\n",
       "  </thead>\n",
       "  <tbody>\n",
       "    <tr>\n",
       "      <th>0</th>\n",
       "      <td>1</td>\n",
       "      <td>1</td>\n",
       "      <td>brandtandrea</td>\n",
       "      <td>Mention society tell send professor analysis. ...</td>\n",
       "    </tr>\n",
       "    <tr>\n",
       "      <th>1</th>\n",
       "      <td>2</td>\n",
       "      <td>1</td>\n",
       "      <td>ryanfranco</td>\n",
       "      <td>Foot glass pretty audience hit themselves. Amo...</td>\n",
       "    </tr>\n",
       "    <tr>\n",
       "      <th>2</th>\n",
       "      <td>3</td>\n",
       "      <td>2</td>\n",
       "      <td>lorichen</td>\n",
       "      <td>Listen treat keep worry. Miss husband tax but ...</td>\n",
       "    </tr>\n",
       "    <tr>\n",
       "      <th>3</th>\n",
       "      <td>4</td>\n",
       "      <td>3</td>\n",
       "      <td>johnsonamanda</td>\n",
       "      <td>Finally month interesting blue could nature cu...</td>\n",
       "    </tr>\n",
       "    <tr>\n",
       "      <th>4</th>\n",
       "      <td>5</td>\n",
       "      <td>3</td>\n",
       "      <td>scotttamara</td>\n",
       "      <td>Nation purpose heavy give wait song will. List...</td>\n",
       "    </tr>\n",
       "  </tbody>\n",
       "</table>\n",
       "</div>"
      ],
      "text/plain": [
       "   review_id  book_id       username  \\\n",
       "0          1        1   brandtandrea   \n",
       "1          2        1     ryanfranco   \n",
       "2          3        2       lorichen   \n",
       "3          4        3  johnsonamanda   \n",
       "4          5        3    scotttamara   \n",
       "\n",
       "                                                text  \n",
       "0  Mention society tell send professor analysis. ...  \n",
       "1  Foot glass pretty audience hit themselves. Amo...  \n",
       "2  Listen treat keep worry. Miss husband tax but ...  \n",
       "3  Finally month interesting blue could nature cu...  \n",
       "4  Nation purpose heavy give wait song will. List...  "
      ]
     },
     "execution_count": 12,
     "metadata": {},
     "output_type": "execute_result"
    }
   ],
   "source": [
    "reviews = pd.io.sql.read_sql(query_reviews, con = engine) \n",
    "reviews.head()"
   ]
  },
  {
   "cell_type": "code",
   "execution_count": 13,
   "id": "c446382f",
   "metadata": {},
   "outputs": [
    {
     "data": {
      "text/html": [
       "<div>\n",
       "<style scoped>\n",
       "    .dataframe tbody tr th:only-of-type {\n",
       "        vertical-align: middle;\n",
       "    }\n",
       "\n",
       "    .dataframe tbody tr th {\n",
       "        vertical-align: top;\n",
       "    }\n",
       "\n",
       "    .dataframe thead th {\n",
       "        text-align: right;\n",
       "    }\n",
       "</style>\n",
       "<table border=\"1\" class=\"dataframe\">\n",
       "  <thead>\n",
       "    <tr style=\"text-align: right;\">\n",
       "      <th></th>\n",
       "      <th>book_id</th>\n",
       "      <th>author_id</th>\n",
       "      <th>title</th>\n",
       "      <th>num_pages</th>\n",
       "      <th>publication_date</th>\n",
       "      <th>publisher_id</th>\n",
       "    </tr>\n",
       "  </thead>\n",
       "  <tbody>\n",
       "    <tr>\n",
       "      <th>0</th>\n",
       "      <td>1</td>\n",
       "      <td>546</td>\n",
       "      <td>'Salem's Lot</td>\n",
       "      <td>594</td>\n",
       "      <td>2005-11-01</td>\n",
       "      <td>93</td>\n",
       "    </tr>\n",
       "  </tbody>\n",
       "</table>\n",
       "</div>"
      ],
      "text/plain": [
       "   book_id  author_id         title  num_pages publication_date  publisher_id\n",
       "0        1        546  'Salem's Lot        594       2005-11-01            93"
      ]
     },
     "metadata": {},
     "output_type": "display_data"
    },
    {
     "data": {
      "text/html": [
       "<div>\n",
       "<style scoped>\n",
       "    .dataframe tbody tr th:only-of-type {\n",
       "        vertical-align: middle;\n",
       "    }\n",
       "\n",
       "    .dataframe tbody tr th {\n",
       "        vertical-align: top;\n",
       "    }\n",
       "\n",
       "    .dataframe thead th {\n",
       "        text-align: right;\n",
       "    }\n",
       "</style>\n",
       "<table border=\"1\" class=\"dataframe\">\n",
       "  <thead>\n",
       "    <tr style=\"text-align: right;\">\n",
       "      <th></th>\n",
       "      <th>count</th>\n",
       "    </tr>\n",
       "  </thead>\n",
       "  <tbody>\n",
       "    <tr>\n",
       "      <th>0</th>\n",
       "      <td>1000</td>\n",
       "    </tr>\n",
       "  </tbody>\n",
       "</table>\n",
       "</div>"
      ],
      "text/plain": [
       "   count\n",
       "0   1000"
      ]
     },
     "metadata": {},
     "output_type": "display_data"
    }
   ],
   "source": [
    "# ячейка ревьюера: загружаем енсколько строк:\n",
    "display(pd.io.sql.read_sql(\n",
    "    ''' SELECT *\n",
    "    FROM books\n",
    "    LIMIT 1\n",
    "    '''\n",
    ", con = engine)) \n",
    "\n",
    "# смотрим на объем данных:\n",
    "display(pd.io.sql.read_sql(\n",
    "    ''' SELECT COUNT(*)\n",
    "    FROM books\n",
    "    LIMIT 1\n",
    "    '''\n",
    ", con = engine))                "
   ]
  },
  {
   "cell_type": "code",
   "execution_count": 14,
   "id": "e9e58697",
   "metadata": {
    "scrolled": true
   },
   "outputs": [
    {
     "data": {
      "text/html": [
       "<div>\n",
       "<style scoped>\n",
       "    .dataframe tbody tr th:only-of-type {\n",
       "        vertical-align: middle;\n",
       "    }\n",
       "\n",
       "    .dataframe tbody tr th {\n",
       "        vertical-align: top;\n",
       "    }\n",
       "\n",
       "    .dataframe thead th {\n",
       "        text-align: right;\n",
       "    }\n",
       "</style>\n",
       "<table border=\"1\" class=\"dataframe\">\n",
       "  <thead>\n",
       "    <tr style=\"text-align: right;\">\n",
       "      <th></th>\n",
       "      <th>book_id</th>\n",
       "      <th>author_id</th>\n",
       "      <th>title</th>\n",
       "      <th>num_pages</th>\n",
       "      <th>publication_date</th>\n",
       "      <th>publisher_id</th>\n",
       "      <th>table_size</th>\n",
       "    </tr>\n",
       "  </thead>\n",
       "  <tbody>\n",
       "    <tr>\n",
       "      <th>0</th>\n",
       "      <td>1</td>\n",
       "      <td>546</td>\n",
       "      <td>'Salem's Lot</td>\n",
       "      <td>594</td>\n",
       "      <td>2005-11-01</td>\n",
       "      <td>93</td>\n",
       "      <td>1000</td>\n",
       "    </tr>\n",
       "  </tbody>\n",
       "</table>\n",
       "</div>"
      ],
      "text/plain": [
       "   book_id  author_id         title  num_pages publication_date  publisher_id  \\\n",
       "0        1        546  'Salem's Lot        594       2005-11-01            93   \n",
       "\n",
       "   table_size  \n",
       "0        1000  "
      ]
     },
     "execution_count": 14,
     "metadata": {},
     "output_type": "execute_result"
    }
   ],
   "source": [
    "# можно подсчитать количество строк сразу с использованием небольшой оконной функции:\n",
    "\n",
    "pd.io.sql.read_sql('''\n",
    "SELECT *,\n",
    "       COUNT(*) OVER() AS table_size\n",
    "FROM books \n",
    "LIMIT 1        \n",
    "'''\n",
    ", con = engine)"
   ]
  },
  {
   "cell_type": "markdown",
   "id": "b57f2b1d",
   "metadata": {},
   "source": [
    "### Задача №1\n",
    "\n",
    "- **Посчитайте, сколько книг вышло после 1 января 2000 года**"
   ]
  },
  {
   "cell_type": "code",
   "execution_count": 15,
   "id": "7e6f10b6",
   "metadata": {},
   "outputs": [
    {
     "data": {
      "text/html": [
       "<div>\n",
       "<style scoped>\n",
       "    .dataframe tbody tr th:only-of-type {\n",
       "        vertical-align: middle;\n",
       "    }\n",
       "\n",
       "    .dataframe tbody tr th {\n",
       "        vertical-align: top;\n",
       "    }\n",
       "\n",
       "    .dataframe thead th {\n",
       "        text-align: right;\n",
       "    }\n",
       "</style>\n",
       "<table border=\"1\" class=\"dataframe\">\n",
       "  <thead>\n",
       "    <tr style=\"text-align: right;\">\n",
       "      <th></th>\n",
       "      <th>count</th>\n",
       "    </tr>\n",
       "  </thead>\n",
       "  <tbody>\n",
       "    <tr>\n",
       "      <th>0</th>\n",
       "      <td>819</td>\n",
       "    </tr>\n",
       "  </tbody>\n",
       "</table>\n",
       "</div>"
      ],
      "text/plain": [
       "   count\n",
       "0    819"
      ]
     },
     "execution_count": 15,
     "metadata": {},
     "output_type": "execute_result"
    }
   ],
   "source": [
    "sql_1 = '''SELECT COUNT(book_id)\n",
    "           FROM books\n",
    "           WHERE publication_date > '2000-01-01';\n",
    "        '''\n",
    "\n",
    "pd.read_sql(sql_1, con = engine)"
   ]
  },
  {
   "cell_type": "markdown",
   "id": "31da67a6",
   "metadata": {},
   "source": [
    "### Вывод: \n",
    "\n",
    "- **После 1 января 2000 года вышло 819 книг.**"
   ]
  },
  {
   "cell_type": "markdown",
   "id": "94bff2be",
   "metadata": {},
   "source": [
    "### Задача №2\n",
    "- **Для каждой книги посчитайте количество обзоров и среднюю оценку**"
   ]
  },
  {
   "cell_type": "code",
   "execution_count": 16,
   "id": "81a2af03",
   "metadata": {},
   "outputs": [
    {
     "data": {
      "text/html": [
       "<div>\n",
       "<style scoped>\n",
       "    .dataframe tbody tr th:only-of-type {\n",
       "        vertical-align: middle;\n",
       "    }\n",
       "\n",
       "    .dataframe tbody tr th {\n",
       "        vertical-align: top;\n",
       "    }\n",
       "\n",
       "    .dataframe thead th {\n",
       "        text-align: right;\n",
       "    }\n",
       "</style>\n",
       "<table border=\"1\" class=\"dataframe\">\n",
       "  <thead>\n",
       "    <tr style=\"text-align: right;\">\n",
       "      <th></th>\n",
       "      <th>book_id</th>\n",
       "      <th>title</th>\n",
       "      <th>count_review</th>\n",
       "      <th>avg_ratings</th>\n",
       "    </tr>\n",
       "  </thead>\n",
       "  <tbody>\n",
       "    <tr>\n",
       "      <th>0</th>\n",
       "      <td>948</td>\n",
       "      <td>Twilight (Twilight  #1)</td>\n",
       "      <td>7</td>\n",
       "      <td>3.662500</td>\n",
       "    </tr>\n",
       "    <tr>\n",
       "      <th>1</th>\n",
       "      <td>302</td>\n",
       "      <td>Harry Potter and the Prisoner of Azkaban (Harr...</td>\n",
       "      <td>6</td>\n",
       "      <td>4.414634</td>\n",
       "    </tr>\n",
       "    <tr>\n",
       "      <th>2</th>\n",
       "      <td>299</td>\n",
       "      <td>Harry Potter and the Chamber of Secrets (Harry...</td>\n",
       "      <td>6</td>\n",
       "      <td>4.287500</td>\n",
       "    </tr>\n",
       "    <tr>\n",
       "      <th>3</th>\n",
       "      <td>656</td>\n",
       "      <td>The Book Thief</td>\n",
       "      <td>6</td>\n",
       "      <td>4.264151</td>\n",
       "    </tr>\n",
       "    <tr>\n",
       "      <th>4</th>\n",
       "      <td>734</td>\n",
       "      <td>The Glass Castle</td>\n",
       "      <td>6</td>\n",
       "      <td>4.206897</td>\n",
       "    </tr>\n",
       "    <tr>\n",
       "      <th>...</th>\n",
       "      <td>...</td>\n",
       "      <td>...</td>\n",
       "      <td>...</td>\n",
       "      <td>...</td>\n",
       "    </tr>\n",
       "    <tr>\n",
       "      <th>995</th>\n",
       "      <td>191</td>\n",
       "      <td>Disney's Beauty and the Beast (A Little Golden...</td>\n",
       "      <td>0</td>\n",
       "      <td>4.000000</td>\n",
       "    </tr>\n",
       "    <tr>\n",
       "      <th>996</th>\n",
       "      <td>387</td>\n",
       "      <td>Leonardo's Notebooks</td>\n",
       "      <td>0</td>\n",
       "      <td>4.000000</td>\n",
       "    </tr>\n",
       "    <tr>\n",
       "      <th>997</th>\n",
       "      <td>221</td>\n",
       "      <td>Essential Tales and Poems</td>\n",
       "      <td>0</td>\n",
       "      <td>4.000000</td>\n",
       "    </tr>\n",
       "    <tr>\n",
       "      <th>998</th>\n",
       "      <td>83</td>\n",
       "      <td>Anne Rice's The Vampire Lestat: A Graphic Novel</td>\n",
       "      <td>0</td>\n",
       "      <td>3.666667</td>\n",
       "    </tr>\n",
       "    <tr>\n",
       "      <th>999</th>\n",
       "      <td>808</td>\n",
       "      <td>The Natural Way to Draw</td>\n",
       "      <td>0</td>\n",
       "      <td>3.000000</td>\n",
       "    </tr>\n",
       "  </tbody>\n",
       "</table>\n",
       "<p>1000 rows × 4 columns</p>\n",
       "</div>"
      ],
      "text/plain": [
       "     book_id                                              title  count_review  \\\n",
       "0        948                            Twilight (Twilight  #1)             7   \n",
       "1        302  Harry Potter and the Prisoner of Azkaban (Harr...             6   \n",
       "2        299  Harry Potter and the Chamber of Secrets (Harry...             6   \n",
       "3        656                                     The Book Thief             6   \n",
       "4        734                                   The Glass Castle             6   \n",
       "..       ...                                                ...           ...   \n",
       "995      191  Disney's Beauty and the Beast (A Little Golden...             0   \n",
       "996      387                               Leonardo's Notebooks             0   \n",
       "997      221                          Essential Tales and Poems             0   \n",
       "998       83    Anne Rice's The Vampire Lestat: A Graphic Novel             0   \n",
       "999      808                            The Natural Way to Draw             0   \n",
       "\n",
       "     avg_ratings  \n",
       "0       3.662500  \n",
       "1       4.414634  \n",
       "2       4.287500  \n",
       "3       4.264151  \n",
       "4       4.206897  \n",
       "..           ...  \n",
       "995     4.000000  \n",
       "996     4.000000  \n",
       "997     4.000000  \n",
       "998     3.666667  \n",
       "999     3.000000  \n",
       "\n",
       "[1000 rows x 4 columns]"
      ]
     },
     "execution_count": 16,
     "metadata": {},
     "output_type": "execute_result"
    }
   ],
   "source": [
    "sql_2 = '''SELECT books.book_id,\n",
    "                  books.title, \n",
    "                  COUNT(DISTINCT reviews.review_id) AS count_review,  \n",
    "                  AVG(ratings.rating) AS avg_ratings         \n",
    "           FROM books\n",
    "           LEFT JOIN ratings ON ratings.book_id = books.book_id \n",
    "           LEFT JOIN reviews ON reviews.book_id = books.book_id \n",
    "           GROUP BY books.book_id\n",
    "           ORDER BY count_review DESC,avg_ratings DESC;\n",
    "        '''   \n",
    "\n",
    "pd.read_sql(sql_2, con = engine)"
   ]
  },
  {
   "cell_type": "markdown",
   "id": "8bb92914",
   "metadata": {},
   "source": [
    "### Вывод: \n",
    "\n",
    "- **Максимальное количество обзоров у Twilight(Twilight#1) -7, средняя оценка - 3.6625.**"
   ]
  },
  {
   "cell_type": "markdown",
   "id": "6c9e0495",
   "metadata": {},
   "source": [
    "### Задача №3\n",
    "\n",
    "- **Определите издательство, которое выпустило наибольшее число книг толще 50 страниц — так вы исключите из анализа брошюры**"
   ]
  },
  {
   "cell_type": "code",
   "execution_count": 17,
   "id": "fcf29096",
   "metadata": {},
   "outputs": [
    {
     "data": {
      "text/html": [
       "<div>\n",
       "<style scoped>\n",
       "    .dataframe tbody tr th:only-of-type {\n",
       "        vertical-align: middle;\n",
       "    }\n",
       "\n",
       "    .dataframe tbody tr th {\n",
       "        vertical-align: top;\n",
       "    }\n",
       "\n",
       "    .dataframe thead th {\n",
       "        text-align: right;\n",
       "    }\n",
       "</style>\n",
       "<table border=\"1\" class=\"dataframe\">\n",
       "  <thead>\n",
       "    <tr style=\"text-align: right;\">\n",
       "      <th></th>\n",
       "      <th>publisher</th>\n",
       "      <th>count_books</th>\n",
       "    </tr>\n",
       "  </thead>\n",
       "  <tbody>\n",
       "    <tr>\n",
       "      <th>0</th>\n",
       "      <td>Penguin Books</td>\n",
       "      <td>42</td>\n",
       "    </tr>\n",
       "  </tbody>\n",
       "</table>\n",
       "</div>"
      ],
      "text/plain": [
       "       publisher  count_books\n",
       "0  Penguin Books           42"
      ]
     },
     "execution_count": 17,
     "metadata": {},
     "output_type": "execute_result"
    }
   ],
   "source": [
    "sql_3 = '''SELECT publishers.publisher,\n",
    "                  COUNT(books.book_id) AS count_books\n",
    "           FROM publishers\n",
    "           LEFT JOIN books ON publishers.publisher_id = books.publisher_id\n",
    "           WHERE num_pages > 50\n",
    "           GROUP BY publishers.publisher\n",
    "           ORDER BY count_books DESC\n",
    "           LIMIT 1;\n",
    "        '''   \n",
    "\n",
    "pd.read_sql(sql_3, con = engine)"
   ]
  },
  {
   "cell_type": "markdown",
   "id": "25d087f3",
   "metadata": {},
   "source": [
    "### Вывод: \n",
    "\n",
    "- **Издательство Penguin Books выпустило 42 книги толще 50 страниц.**"
   ]
  },
  {
   "cell_type": "markdown",
   "id": "48ae10c8",
   "metadata": {},
   "source": [
    "### Задача №4\n",
    "- **- Определите автора с самой высокой средней оценкой книг — учитывайте только книги с 50 и более оценками**"
   ]
  },
  {
   "cell_type": "code",
   "execution_count": 18,
   "id": "279ce57c",
   "metadata": {},
   "outputs": [
    {
     "data": {
      "text/html": [
       "<div>\n",
       "<style scoped>\n",
       "    .dataframe tbody tr th:only-of-type {\n",
       "        vertical-align: middle;\n",
       "    }\n",
       "\n",
       "    .dataframe tbody tr th {\n",
       "        vertical-align: top;\n",
       "    }\n",
       "\n",
       "    .dataframe thead th {\n",
       "        text-align: right;\n",
       "    }\n",
       "</style>\n",
       "<table border=\"1\" class=\"dataframe\">\n",
       "  <thead>\n",
       "    <tr style=\"text-align: right;\">\n",
       "      <th></th>\n",
       "      <th>author</th>\n",
       "      <th>avg_rat</th>\n",
       "      <th>count_rat</th>\n",
       "    </tr>\n",
       "  </thead>\n",
       "  <tbody>\n",
       "    <tr>\n",
       "      <th>0</th>\n",
       "      <td>J.K. Rowling/Mary GrandPré</td>\n",
       "      <td>4.287097</td>\n",
       "      <td>310</td>\n",
       "    </tr>\n",
       "  </tbody>\n",
       "</table>\n",
       "</div>"
      ],
      "text/plain": [
       "                       author   avg_rat  count_rat\n",
       "0  J.K. Rowling/Mary GrandPré  4.287097        310"
      ]
     },
     "execution_count": 18,
     "metadata": {},
     "output_type": "execute_result"
    }
   ],
   "source": [
    "sql_4 = '''SELECT authors.author,\n",
    "                  AVG(ratings.rating) AS avg_rat,\n",
    "                  COUNT(ratings.rating) AS count_rat\n",
    "           FROM authors\n",
    "           LEFT JOIN books ON authors.author_id = books.author_id\n",
    "           LEFT JOIN ratings ON books.book_id = ratings.book_id\n",
    "           WHERE books.book_id IN\n",
    "                 (SELECT books.book_id\n",
    "                 FROM books    \n",
    "                 LEFT JOIN ratings ON ratings.book_id = books.book_id     \n",
    "                 GROUP BY books.book_id\n",
    "                 HAVING COUNT(ratings.rating_id) >= 50)\n",
    "           GROUP BY authors.author  \n",
    "           ORDER BY avg_rat DESC\n",
    "           LIMIT 1;\n",
    "        '''   \n",
    "\n",
    "pd.read_sql(sql_4, con = engine)"
   ]
  },
  {
   "cell_type": "markdown",
   "id": "be90d1cc",
   "metadata": {},
   "source": [
    "### Вывод: \n",
    "-  **J.K. Rowling - автор с самой высокой средней оценкой книг - 4.88.**"
   ]
  },
  {
   "cell_type": "code",
   "execution_count": 19,
   "id": "83aecea8",
   "metadata": {},
   "outputs": [
    {
     "data": {
      "text/html": [
       "<div>\n",
       "<style scoped>\n",
       "    .dataframe tbody tr th:only-of-type {\n",
       "        vertical-align: middle;\n",
       "    }\n",
       "\n",
       "    .dataframe tbody tr th {\n",
       "        vertical-align: top;\n",
       "    }\n",
       "\n",
       "    .dataframe thead th {\n",
       "        text-align: right;\n",
       "    }\n",
       "</style>\n",
       "<table border=\"1\" class=\"dataframe\">\n",
       "  <thead>\n",
       "    <tr style=\"text-align: right;\">\n",
       "      <th></th>\n",
       "      <th>author</th>\n",
       "      <th>best_raiting</th>\n",
       "    </tr>\n",
       "  </thead>\n",
       "  <tbody>\n",
       "    <tr>\n",
       "      <th>0</th>\n",
       "      <td>J.K. Rowling/Mary GrandPré</td>\n",
       "      <td>4.283844</td>\n",
       "    </tr>\n",
       "    <tr>\n",
       "      <th>1</th>\n",
       "      <td>Markus Zusak/Cao Xuân Việt Khương</td>\n",
       "      <td>4.264151</td>\n",
       "    </tr>\n",
       "    <tr>\n",
       "      <th>2</th>\n",
       "      <td>J.R.R. Tolkien</td>\n",
       "      <td>4.258446</td>\n",
       "    </tr>\n",
       "    <tr>\n",
       "      <th>3</th>\n",
       "      <td>Louisa May Alcott</td>\n",
       "      <td>4.192308</td>\n",
       "    </tr>\n",
       "    <tr>\n",
       "      <th>4</th>\n",
       "      <td>Rick Riordan</td>\n",
       "      <td>4.080645</td>\n",
       "    </tr>\n",
       "    <tr>\n",
       "      <th>5</th>\n",
       "      <td>William Golding</td>\n",
       "      <td>3.901408</td>\n",
       "    </tr>\n",
       "    <tr>\n",
       "      <th>6</th>\n",
       "      <td>J.D. Salinger</td>\n",
       "      <td>3.825581</td>\n",
       "    </tr>\n",
       "    <tr>\n",
       "      <th>7</th>\n",
       "      <td>Paulo Coelho/Alan R. Clarke/Özdemir İnce</td>\n",
       "      <td>3.789474</td>\n",
       "    </tr>\n",
       "    <tr>\n",
       "      <th>8</th>\n",
       "      <td>William Shakespeare/Paul Werstine/Barbara A. M...</td>\n",
       "      <td>3.787879</td>\n",
       "    </tr>\n",
       "    <tr>\n",
       "      <th>9</th>\n",
       "      <td>Dan Brown</td>\n",
       "      <td>3.754540</td>\n",
       "    </tr>\n",
       "    <tr>\n",
       "      <th>10</th>\n",
       "      <td>Lois Lowry</td>\n",
       "      <td>3.750000</td>\n",
       "    </tr>\n",
       "    <tr>\n",
       "      <th>11</th>\n",
       "      <td>George Orwell/Boris Grabnar/Peter Škerl</td>\n",
       "      <td>3.729730</td>\n",
       "    </tr>\n",
       "    <tr>\n",
       "      <th>12</th>\n",
       "      <td>Stephenie Meyer</td>\n",
       "      <td>3.662500</td>\n",
       "    </tr>\n",
       "    <tr>\n",
       "      <th>13</th>\n",
       "      <td>John Steinbeck</td>\n",
       "      <td>3.622951</td>\n",
       "    </tr>\n",
       "  </tbody>\n",
       "</table>\n",
       "</div>"
      ],
      "text/plain": [
       "                                               author  best_raiting\n",
       "0                          J.K. Rowling/Mary GrandPré      4.283844\n",
       "1                   Markus Zusak/Cao Xuân Việt Khương      4.264151\n",
       "2                                      J.R.R. Tolkien      4.258446\n",
       "3                                   Louisa May Alcott      4.192308\n",
       "4                                        Rick Riordan      4.080645\n",
       "5                                     William Golding      3.901408\n",
       "6                                       J.D. Salinger      3.825581\n",
       "7            Paulo Coelho/Alan R. Clarke/Özdemir İnce      3.789474\n",
       "8   William Shakespeare/Paul Werstine/Barbara A. M...      3.787879\n",
       "9                                           Dan Brown      3.754540\n",
       "10                                         Lois Lowry      3.750000\n",
       "11            George Orwell/Boris Grabnar/Peter Škerl      3.729730\n",
       "12                                    Stephenie Meyer      3.662500\n",
       "13                                     John Steinbeck      3.622951"
      ]
     },
     "execution_count": 19,
     "metadata": {},
     "output_type": "execute_result"
    }
   ],
   "source": [
    "query = ''' \n",
    "    WITH book_rating AS\n",
    "      (SELECT book_id,\n",
    "              AVG(rating) AS avg_rating\n",
    "       FROM ratings\n",
    "       WHERE book_id IN\n",
    "           (SELECT book_id\n",
    "            FROM ratings\n",
    "            GROUP BY book_id\n",
    "            HAVING COUNT(rating_id) >=50)\n",
    "       GROUP BY book_id)\n",
    "    SELECT a.author AS author,\n",
    "           AVG(book_rating.avg_rating) AS best_raiting\n",
    "    FROM authors AS a\n",
    "    JOIN books AS b ON b.author_id = a.author_id\n",
    "    JOIN book_rating ON book_rating.book_id = b.book_id\n",
    "    GROUP BY a.author_id,\n",
    "             a.author\n",
    "    ORDER BY best_raiting DESC\n",
    "        '''\n",
    "pd.io.sql.read_sql(query, con = engine)\n"
   ]
  },
  {
   "cell_type": "markdown",
   "id": "ce41797c",
   "metadata": {},
   "source": [
    "### Задача №5\n",
    "\n",
    "- **Посчитайте среднее количество обзоров от пользователей, которые поставили больше 50 оценок**"
   ]
  },
  {
   "cell_type": "code",
   "execution_count": 20,
   "id": "b63a6f73",
   "metadata": {},
   "outputs": [
    {
     "data": {
      "text/html": [
       "<div>\n",
       "<style scoped>\n",
       "    .dataframe tbody tr th:only-of-type {\n",
       "        vertical-align: middle;\n",
       "    }\n",
       "\n",
       "    .dataframe tbody tr th {\n",
       "        vertical-align: top;\n",
       "    }\n",
       "\n",
       "    .dataframe thead th {\n",
       "        text-align: right;\n",
       "    }\n",
       "</style>\n",
       "<table border=\"1\" class=\"dataframe\">\n",
       "  <thead>\n",
       "    <tr style=\"text-align: right;\">\n",
       "      <th></th>\n",
       "      <th>avg_count_reviews</th>\n",
       "    </tr>\n",
       "  </thead>\n",
       "  <tbody>\n",
       "    <tr>\n",
       "      <th>0</th>\n",
       "      <td>24.333333</td>\n",
       "    </tr>\n",
       "  </tbody>\n",
       "</table>\n",
       "</div>"
      ],
      "text/plain": [
       "   avg_count_reviews\n",
       "0          24.333333"
      ]
     },
     "execution_count": 20,
     "metadata": {},
     "output_type": "execute_result"
    }
   ],
   "source": [
    "sql_5 = '''WITH\n",
    "               tab_ratings AS \n",
    "               (SELECT ratings.username,\n",
    "                       COUNT(rating_id) AS count_ratings\n",
    "                FROM ratings\n",
    "                GROUP BY ratings.username\n",
    "                HAVING COUNT(rating_id) > 50),\n",
    "               tab_reviews AS \n",
    "               (SELECT reviews.username,\n",
    "                       COUNT(review_id) AS count_reviews\n",
    "                FROM reviews\n",
    "                GROUP BY reviews.username)\n",
    "           SELECT AVG(count_reviews) as avg_count_reviews\n",
    "           FROM tab_ratings\n",
    "           LEFT JOIN tab_reviews ON tab_ratings.username = tab_reviews.username\n",
    "        '''\n",
    "\n",
    "pd.read_sql(sql_5, con = engine)"
   ]
  },
  {
   "cell_type": "markdown",
   "id": "a62e1823",
   "metadata": {},
   "source": [
    "### Вывод:\n",
    "- **среднее количество обзоров от пользователей, которые поставили больше 50 оценок - 24.**"
   ]
  },
  {
   "cell_type": "markdown",
   "id": "fb518cf4",
   "metadata": {},
   "source": [
    "## Общие выводы:\n",
    "\n",
    "**В ходе проекта мы проанализировали базу данных крупного сервиса для чтения книг**\n",
    "\n",
    "\n",
    "- После 1 января 2000 года было выпущено 819 книг;\n",
    "- Максимальное количество обзоров у Twilight(Twilight#1) -7, со средней оценкой - 3.66;\n",
    "- Наибольшее число книг толще 50 страниц выпустило издательство **Penguin Books** - 42 книги;\n",
    "- Самые высокие оценки у автора Д. Роулинг - 4.28 балла;\n",
    "- Среднее количество обзоров от пользователей, которые поставили больше 50 оценок - 24."
   ]
  }
 ],
 "metadata": {
  "ExecuteTimeLog": [
   {
    "duration": 10858,
    "start_time": "2022-09-08T14:27:41.619Z"
   },
   {
    "duration": 3,
    "start_time": "2022-09-08T14:27:52.478Z"
   },
   {
    "duration": 91,
    "start_time": "2022-09-08T14:27:52.482Z"
   },
   {
    "duration": 3,
    "start_time": "2022-09-08T14:27:52.575Z"
   },
   {
    "duration": 20,
    "start_time": "2022-09-08T14:27:52.579Z"
   },
   {
    "duration": 9,
    "start_time": "2022-09-08T14:27:52.600Z"
   },
   {
    "duration": 35,
    "start_time": "2022-09-08T14:27:52.610Z"
   },
   {
    "duration": 24,
    "start_time": "2022-09-08T14:27:52.646Z"
   },
   {
    "duration": 59,
    "start_time": "2022-09-08T14:27:52.671Z"
   },
   {
    "duration": 2,
    "start_time": "2022-09-08T14:27:52.733Z"
   },
   {
    "duration": 33,
    "start_time": "2022-09-08T14:27:52.737Z"
   },
   {
    "duration": 10,
    "start_time": "2022-09-08T14:27:52.772Z"
   },
   {
    "duration": 34,
    "start_time": "2022-09-08T14:27:52.783Z"
   },
   {
    "duration": 14,
    "start_time": "2022-09-08T14:27:52.819Z"
   },
   {
    "duration": 17,
    "start_time": "2022-09-08T14:27:52.835Z"
   },
   {
    "duration": 13,
    "start_time": "2022-09-08T14:27:52.854Z"
   },
   {
    "duration": 13,
    "start_time": "2022-09-08T15:08:28.317Z"
   },
   {
    "duration": 24,
    "start_time": "2022-09-08T15:08:50.911Z"
   },
   {
    "duration": 111,
    "start_time": "2022-09-08T15:13:01.414Z"
   },
   {
    "duration": 28,
    "start_time": "2022-09-08T15:14:00.664Z"
   },
   {
    "duration": 17,
    "start_time": "2022-09-08T15:14:25.940Z"
   },
   {
    "duration": 16,
    "start_time": "2022-09-08T15:14:40.970Z"
   },
   {
    "duration": 163,
    "start_time": "2022-09-08T15:17:23.042Z"
   },
   {
    "duration": 147,
    "start_time": "2022-09-08T15:17:50.349Z"
   },
   {
    "duration": 105,
    "start_time": "2022-09-08T15:18:56.575Z"
   },
   {
    "duration": 104,
    "start_time": "2022-09-08T15:19:02.544Z"
   },
   {
    "duration": 128,
    "start_time": "2022-09-08T15:19:16.667Z"
   },
   {
    "duration": 107,
    "start_time": "2022-09-08T15:19:31.393Z"
   },
   {
    "duration": 17,
    "start_time": "2022-09-08T15:20:14.145Z"
   },
   {
    "duration": 169,
    "start_time": "2022-09-08T15:20:37.993Z"
   },
   {
    "duration": 149,
    "start_time": "2022-09-08T15:20:43.419Z"
   },
   {
    "duration": 19,
    "start_time": "2022-09-08T15:20:48.119Z"
   },
   {
    "duration": 15,
    "start_time": "2022-09-08T15:21:14.444Z"
   },
   {
    "duration": 16,
    "start_time": "2022-09-08T15:21:33.294Z"
   },
   {
    "duration": 511,
    "start_time": "2022-09-08T17:29:03.208Z"
   },
   {
    "duration": 523,
    "start_time": "2022-09-08T17:29:16.580Z"
   },
   {
    "duration": 6101,
    "start_time": "2022-09-08T17:29:17.105Z"
   },
   {
    "duration": 2,
    "start_time": "2022-09-08T17:29:23.207Z"
   },
   {
    "duration": 281,
    "start_time": "2022-09-08T17:29:23.210Z"
   },
   {
    "duration": 3,
    "start_time": "2022-09-08T17:29:23.492Z"
   },
   {
    "duration": 74,
    "start_time": "2022-09-08T17:29:23.496Z"
   },
   {
    "duration": 2,
    "start_time": "2022-09-08T17:29:23.572Z"
   },
   {
    "duration": 74,
    "start_time": "2022-09-08T17:29:23.575Z"
   },
   {
    "duration": 3,
    "start_time": "2022-09-08T17:29:23.650Z"
   },
   {
    "duration": 118,
    "start_time": "2022-09-08T17:29:23.654Z"
   },
   {
    "duration": 2,
    "start_time": "2022-09-08T17:29:23.774Z"
   },
   {
    "duration": 92,
    "start_time": "2022-09-08T17:29:23.778Z"
   },
   {
    "duration": 143,
    "start_time": "2022-09-08T17:29:23.872Z"
   },
   {
    "duration": 73,
    "start_time": "2022-09-08T17:29:24.018Z"
   },
   {
    "duration": 71,
    "start_time": "2022-09-08T17:29:24.093Z"
   },
   {
    "duration": 87,
    "start_time": "2022-09-08T17:29:24.165Z"
   },
   {
    "duration": 151,
    "start_time": "2022-09-08T17:29:24.254Z"
   },
   {
    "duration": 79,
    "start_time": "2022-09-08T17:29:24.407Z"
   },
   {
    "duration": 79,
    "start_time": "2022-09-08T17:29:24.488Z"
   },
   {
    "duration": 83,
    "start_time": "2022-09-08T17:29:24.569Z"
   },
   {
    "duration": 74,
    "start_time": "2022-09-08T17:29:24.653Z"
   },
   {
    "duration": 499,
    "start_time": "2022-09-09T07:00:33.654Z"
   },
   {
    "duration": 8471,
    "start_time": "2022-09-09T07:00:34.155Z"
   },
   {
    "duration": 3,
    "start_time": "2022-09-09T07:00:42.627Z"
   },
   {
    "duration": 101,
    "start_time": "2022-09-09T07:00:42.632Z"
   },
   {
    "duration": 2,
    "start_time": "2022-09-09T07:00:42.734Z"
   },
   {
    "duration": 14,
    "start_time": "2022-09-09T07:00:42.738Z"
   },
   {
    "duration": 2,
    "start_time": "2022-09-09T07:00:42.753Z"
   },
   {
    "duration": 17,
    "start_time": "2022-09-09T07:00:42.756Z"
   },
   {
    "duration": 2,
    "start_time": "2022-09-09T07:00:42.775Z"
   },
   {
    "duration": 26,
    "start_time": "2022-09-09T07:00:42.779Z"
   },
   {
    "duration": 2,
    "start_time": "2022-09-09T07:00:42.806Z"
   },
   {
    "duration": 23,
    "start_time": "2022-09-09T07:00:42.809Z"
   },
   {
    "duration": 32,
    "start_time": "2022-09-09T07:00:42.833Z"
   },
   {
    "duration": 14,
    "start_time": "2022-09-09T07:00:42.867Z"
   },
   {
    "duration": 10,
    "start_time": "2022-09-09T07:00:42.882Z"
   },
   {
    "duration": 31,
    "start_time": "2022-09-09T07:00:42.894Z"
   },
   {
    "duration": 32,
    "start_time": "2022-09-09T07:00:42.927Z"
   },
   {
    "duration": 12,
    "start_time": "2022-09-09T07:00:42.961Z"
   },
   {
    "duration": 19,
    "start_time": "2022-09-09T07:00:42.975Z"
   },
   {
    "duration": 18,
    "start_time": "2022-09-09T07:00:42.996Z"
   },
   {
    "duration": 13,
    "start_time": "2022-09-09T07:00:43.016Z"
   },
   {
    "duration": 28,
    "start_time": "2022-09-09T07:07:59.146Z"
   },
   {
    "duration": 26,
    "start_time": "2022-09-09T07:08:20.395Z"
   },
   {
    "duration": 29,
    "start_time": "2022-09-09T07:12:03.517Z"
   },
   {
    "duration": 34,
    "start_time": "2022-09-09T07:12:18.526Z"
   },
   {
    "duration": 34,
    "start_time": "2022-09-09T07:12:27.269Z"
   },
   {
    "duration": 154,
    "start_time": "2022-09-09T07:13:25.774Z"
   },
   {
    "duration": 128,
    "start_time": "2022-09-09T07:13:38.545Z"
   },
   {
    "duration": 28,
    "start_time": "2022-09-09T07:13:51.711Z"
   },
   {
    "duration": 28,
    "start_time": "2022-09-09T07:14:13.182Z"
   },
   {
    "duration": 545,
    "start_time": "2022-09-09T09:45:31.356Z"
   },
   {
    "duration": 10276,
    "start_time": "2022-09-09T09:45:31.903Z"
   },
   {
    "duration": 3,
    "start_time": "2022-09-09T09:45:42.181Z"
   },
   {
    "duration": 315,
    "start_time": "2022-09-09T09:45:42.186Z"
   },
   {
    "duration": 2,
    "start_time": "2022-09-09T09:45:42.502Z"
   },
   {
    "duration": 86,
    "start_time": "2022-09-09T09:45:42.505Z"
   },
   {
    "duration": 3,
    "start_time": "2022-09-09T09:45:42.593Z"
   },
   {
    "duration": 82,
    "start_time": "2022-09-09T09:45:42.597Z"
   },
   {
    "duration": 3,
    "start_time": "2022-09-09T09:45:42.680Z"
   },
   {
    "duration": 101,
    "start_time": "2022-09-09T09:45:42.685Z"
   },
   {
    "duration": 3,
    "start_time": "2022-09-09T09:45:42.787Z"
   },
   {
    "duration": 92,
    "start_time": "2022-09-09T09:45:42.791Z"
   },
   {
    "duration": 140,
    "start_time": "2022-09-09T09:45:42.885Z"
   },
   {
    "duration": 72,
    "start_time": "2022-09-09T09:45:43.027Z"
   },
   {
    "duration": 71,
    "start_time": "2022-09-09T09:45:43.100Z"
   },
   {
    "duration": 95,
    "start_time": "2022-09-09T09:45:43.173Z"
   },
   {
    "duration": 150,
    "start_time": "2022-09-09T09:45:43.270Z"
   },
   {
    "duration": 72,
    "start_time": "2022-09-09T09:45:43.422Z"
   },
   {
    "duration": 76,
    "start_time": "2022-09-09T09:45:43.495Z"
   },
   {
    "duration": 74,
    "start_time": "2022-09-09T09:45:43.572Z"
   },
   {
    "duration": 73,
    "start_time": "2022-09-09T09:45:43.647Z"
   },
   {
    "duration": 525,
    "start_time": "2022-09-09T09:46:57.466Z"
   },
   {
    "duration": 16901,
    "start_time": "2022-09-09T09:46:57.993Z"
   },
   {
    "duration": 3,
    "start_time": "2022-09-09T09:47:14.895Z"
   },
   {
    "duration": 267,
    "start_time": "2022-09-09T09:47:14.900Z"
   },
   {
    "duration": 3,
    "start_time": "2022-09-09T09:47:15.169Z"
   },
   {
    "duration": 84,
    "start_time": "2022-09-09T09:47:15.174Z"
   },
   {
    "duration": 2,
    "start_time": "2022-09-09T09:47:15.260Z"
   },
   {
    "duration": 81,
    "start_time": "2022-09-09T09:47:15.263Z"
   },
   {
    "duration": 2,
    "start_time": "2022-09-09T09:47:15.346Z"
   },
   {
    "duration": 116,
    "start_time": "2022-09-09T09:47:15.351Z"
   },
   {
    "duration": 2,
    "start_time": "2022-09-09T09:47:15.469Z"
   },
   {
    "duration": 103,
    "start_time": "2022-09-09T09:47:15.473Z"
   },
   {
    "duration": 147,
    "start_time": "2022-09-09T09:47:15.577Z"
   },
   {
    "duration": 73,
    "start_time": "2022-09-09T09:47:15.726Z"
   },
   {
    "duration": 72,
    "start_time": "2022-09-09T09:47:15.800Z"
   },
   {
    "duration": 94,
    "start_time": "2022-09-09T09:47:15.873Z"
   },
   {
    "duration": 157,
    "start_time": "2022-09-09T09:47:15.969Z"
   },
   {
    "duration": 76,
    "start_time": "2022-09-09T09:47:16.127Z"
   },
   {
    "duration": 85,
    "start_time": "2022-09-09T09:47:16.205Z"
   },
   {
    "duration": 78,
    "start_time": "2022-09-09T09:47:16.291Z"
   },
   {
    "duration": 75,
    "start_time": "2022-09-09T09:47:16.370Z"
   }
  ],
  "kernelspec": {
   "display_name": "Python 3 (ipykernel)",
   "language": "python",
   "name": "python3"
  },
  "language_info": {
   "codemirror_mode": {
    "name": "ipython",
    "version": 3
   },
   "file_extension": ".py",
   "mimetype": "text/x-python",
   "name": "python",
   "nbconvert_exporter": "python",
   "pygments_lexer": "ipython3",
   "version": "3.9.12"
  },
  "toc": {
   "base_numbering": 1,
   "nav_menu": {},
   "number_sections": true,
   "sideBar": true,
   "skip_h1_title": true,
   "title_cell": "Table of Contents",
   "title_sidebar": "Contents",
   "toc_cell": false,
   "toc_position": {},
   "toc_section_display": true,
   "toc_window_display": false
  }
 },
 "nbformat": 4,
 "nbformat_minor": 5
}
