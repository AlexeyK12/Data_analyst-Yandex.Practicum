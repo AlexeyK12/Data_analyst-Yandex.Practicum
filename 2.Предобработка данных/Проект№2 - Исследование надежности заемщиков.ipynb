{
 "cells": [
  {
   "cell_type": "markdown",
   "id": "f1419e21",
   "metadata": {},
   "source": [
    "# Исследование надежности заемщиков."
   ]
  },
  {
   "cell_type": "markdown",
   "id": "759854cd",
   "metadata": {},
   "source": [
    "## Введение"
   ]
  },
  {
   "cell_type": "markdown",
   "id": "ffbcc195",
   "metadata": {},
   "source": [
    "Заказчик — кредитный отдел банка. Перед нами стоит задача разобраться, влияет ли семейное положение и количество детей клиента на факт погашения кредита в срок.\n",
    "Входные данные от банка — статистика о платёжеспособности клиентов.\n",
    "Результаты исследования будут учтены при построении модели кредитного скоринга — специальной системы, которая оценивает способность потенциального заёмщика вернуть кредит банку.\n"
   ]
  },
  {
   "cell_type": "markdown",
   "id": "4c326508",
   "metadata": {},
   "source": [
    "## Обзор данных"
   ]
  },
  {
   "cell_type": "code",
   "execution_count": 39,
   "id": "f5a4b958",
   "metadata": {},
   "outputs": [],
   "source": [
    "import pandas as pd\n",
    "import numpy as np"
   ]
  },
  {
   "cell_type": "code",
   "execution_count": 40,
   "id": "69ba59fa",
   "metadata": {},
   "outputs": [],
   "source": [
    "data = pd.read_csv('/datasets/data.csv')"
   ]
  },
  {
   "cell_type": "code",
   "execution_count": 41,
   "id": "478a3dde",
   "metadata": {},
   "outputs": [
    {
     "name": "stdout",
     "output_type": "stream",
     "text": [
      "<class 'pandas.core.frame.DataFrame'>\n",
      "RangeIndex: 21525 entries, 0 to 21524\n",
      "Data columns (total 12 columns):\n",
      " #   Column            Non-Null Count  Dtype  \n",
      "---  ------            --------------  -----  \n",
      " 0   children          21525 non-null  int64  \n",
      " 1   days_employed     19351 non-null  float64\n",
      " 2   dob_years         21525 non-null  int64  \n",
      " 3   education         21525 non-null  object \n",
      " 4   education_id      21525 non-null  int64  \n",
      " 5   family_status     21525 non-null  object \n",
      " 6   family_status_id  21525 non-null  int64  \n",
      " 7   gender            21525 non-null  object \n",
      " 8   income_type       21525 non-null  object \n",
      " 9   debt              21525 non-null  int64  \n",
      " 10  total_income      19351 non-null  float64\n",
      " 11  purpose           21525 non-null  object \n",
      "dtypes: float64(2), int64(5), object(5)\n",
      "memory usage: 2.0+ MB\n"
     ]
    },
    {
     "data": {
      "text/html": [
       "<div>\n",
       "<style scoped>\n",
       "    .dataframe tbody tr th:only-of-type {\n",
       "        vertical-align: middle;\n",
       "    }\n",
       "\n",
       "    .dataframe tbody tr th {\n",
       "        vertical-align: top;\n",
       "    }\n",
       "\n",
       "    .dataframe thead th {\n",
       "        text-align: right;\n",
       "    }\n",
       "</style>\n",
       "<table border=\"1\" class=\"dataframe\">\n",
       "  <thead>\n",
       "    <tr style=\"text-align: right;\">\n",
       "      <th></th>\n",
       "      <th>children</th>\n",
       "      <th>days_employed</th>\n",
       "      <th>dob_years</th>\n",
       "      <th>education</th>\n",
       "      <th>education_id</th>\n",
       "      <th>family_status</th>\n",
       "      <th>family_status_id</th>\n",
       "      <th>gender</th>\n",
       "      <th>income_type</th>\n",
       "      <th>debt</th>\n",
       "      <th>total_income</th>\n",
       "      <th>purpose</th>\n",
       "    </tr>\n",
       "  </thead>\n",
       "  <tbody>\n",
       "    <tr>\n",
       "      <th>0</th>\n",
       "      <td>1</td>\n",
       "      <td>-8437.673028</td>\n",
       "      <td>42</td>\n",
       "      <td>высшее</td>\n",
       "      <td>0</td>\n",
       "      <td>женат / замужем</td>\n",
       "      <td>0</td>\n",
       "      <td>F</td>\n",
       "      <td>сотрудник</td>\n",
       "      <td>0</td>\n",
       "      <td>253875.639453</td>\n",
       "      <td>покупка жилья</td>\n",
       "    </tr>\n",
       "    <tr>\n",
       "      <th>1</th>\n",
       "      <td>1</td>\n",
       "      <td>-4024.803754</td>\n",
       "      <td>36</td>\n",
       "      <td>среднее</td>\n",
       "      <td>1</td>\n",
       "      <td>женат / замужем</td>\n",
       "      <td>0</td>\n",
       "      <td>F</td>\n",
       "      <td>сотрудник</td>\n",
       "      <td>0</td>\n",
       "      <td>112080.014102</td>\n",
       "      <td>приобретение автомобиля</td>\n",
       "    </tr>\n",
       "    <tr>\n",
       "      <th>2</th>\n",
       "      <td>0</td>\n",
       "      <td>-5623.422610</td>\n",
       "      <td>33</td>\n",
       "      <td>Среднее</td>\n",
       "      <td>1</td>\n",
       "      <td>женат / замужем</td>\n",
       "      <td>0</td>\n",
       "      <td>M</td>\n",
       "      <td>сотрудник</td>\n",
       "      <td>0</td>\n",
       "      <td>145885.952297</td>\n",
       "      <td>покупка жилья</td>\n",
       "    </tr>\n",
       "    <tr>\n",
       "      <th>3</th>\n",
       "      <td>3</td>\n",
       "      <td>-4124.747207</td>\n",
       "      <td>32</td>\n",
       "      <td>среднее</td>\n",
       "      <td>1</td>\n",
       "      <td>женат / замужем</td>\n",
       "      <td>0</td>\n",
       "      <td>M</td>\n",
       "      <td>сотрудник</td>\n",
       "      <td>0</td>\n",
       "      <td>267628.550329</td>\n",
       "      <td>дополнительное образование</td>\n",
       "    </tr>\n",
       "    <tr>\n",
       "      <th>4</th>\n",
       "      <td>0</td>\n",
       "      <td>340266.072047</td>\n",
       "      <td>53</td>\n",
       "      <td>среднее</td>\n",
       "      <td>1</td>\n",
       "      <td>гражданский брак</td>\n",
       "      <td>1</td>\n",
       "      <td>F</td>\n",
       "      <td>пенсионер</td>\n",
       "      <td>0</td>\n",
       "      <td>158616.077870</td>\n",
       "      <td>сыграть свадьбу</td>\n",
       "    </tr>\n",
       "    <tr>\n",
       "      <th>5</th>\n",
       "      <td>0</td>\n",
       "      <td>-926.185831</td>\n",
       "      <td>27</td>\n",
       "      <td>высшее</td>\n",
       "      <td>0</td>\n",
       "      <td>гражданский брак</td>\n",
       "      <td>1</td>\n",
       "      <td>M</td>\n",
       "      <td>компаньон</td>\n",
       "      <td>0</td>\n",
       "      <td>255763.565419</td>\n",
       "      <td>покупка жилья</td>\n",
       "    </tr>\n",
       "    <tr>\n",
       "      <th>6</th>\n",
       "      <td>0</td>\n",
       "      <td>-2879.202052</td>\n",
       "      <td>43</td>\n",
       "      <td>высшее</td>\n",
       "      <td>0</td>\n",
       "      <td>женат / замужем</td>\n",
       "      <td>0</td>\n",
       "      <td>F</td>\n",
       "      <td>компаньон</td>\n",
       "      <td>0</td>\n",
       "      <td>240525.971920</td>\n",
       "      <td>операции с жильем</td>\n",
       "    </tr>\n",
       "    <tr>\n",
       "      <th>7</th>\n",
       "      <td>0</td>\n",
       "      <td>-152.779569</td>\n",
       "      <td>50</td>\n",
       "      <td>СРЕДНЕЕ</td>\n",
       "      <td>1</td>\n",
       "      <td>женат / замужем</td>\n",
       "      <td>0</td>\n",
       "      <td>M</td>\n",
       "      <td>сотрудник</td>\n",
       "      <td>0</td>\n",
       "      <td>135823.934197</td>\n",
       "      <td>образование</td>\n",
       "    </tr>\n",
       "    <tr>\n",
       "      <th>8</th>\n",
       "      <td>2</td>\n",
       "      <td>-6929.865299</td>\n",
       "      <td>35</td>\n",
       "      <td>ВЫСШЕЕ</td>\n",
       "      <td>0</td>\n",
       "      <td>гражданский брак</td>\n",
       "      <td>1</td>\n",
       "      <td>F</td>\n",
       "      <td>сотрудник</td>\n",
       "      <td>0</td>\n",
       "      <td>95856.832424</td>\n",
       "      <td>на проведение свадьбы</td>\n",
       "    </tr>\n",
       "    <tr>\n",
       "      <th>9</th>\n",
       "      <td>0</td>\n",
       "      <td>-2188.756445</td>\n",
       "      <td>41</td>\n",
       "      <td>среднее</td>\n",
       "      <td>1</td>\n",
       "      <td>женат / замужем</td>\n",
       "      <td>0</td>\n",
       "      <td>M</td>\n",
       "      <td>сотрудник</td>\n",
       "      <td>0</td>\n",
       "      <td>144425.938277</td>\n",
       "      <td>покупка жилья для семьи</td>\n",
       "    </tr>\n",
       "  </tbody>\n",
       "</table>\n",
       "</div>"
      ],
      "text/plain": [
       "   children  days_employed  dob_years education  education_id  \\\n",
       "0         1   -8437.673028         42    высшее             0   \n",
       "1         1   -4024.803754         36   среднее             1   \n",
       "2         0   -5623.422610         33   Среднее             1   \n",
       "3         3   -4124.747207         32   среднее             1   \n",
       "4         0  340266.072047         53   среднее             1   \n",
       "5         0    -926.185831         27    высшее             0   \n",
       "6         0   -2879.202052         43    высшее             0   \n",
       "7         0    -152.779569         50   СРЕДНЕЕ             1   \n",
       "8         2   -6929.865299         35    ВЫСШЕЕ             0   \n",
       "9         0   -2188.756445         41   среднее             1   \n",
       "\n",
       "      family_status  family_status_id gender income_type  debt   total_income  \\\n",
       "0   женат / замужем                 0      F   сотрудник     0  253875.639453   \n",
       "1   женат / замужем                 0      F   сотрудник     0  112080.014102   \n",
       "2   женат / замужем                 0      M   сотрудник     0  145885.952297   \n",
       "3   женат / замужем                 0      M   сотрудник     0  267628.550329   \n",
       "4  гражданский брак                 1      F   пенсионер     0  158616.077870   \n",
       "5  гражданский брак                 1      M   компаньон     0  255763.565419   \n",
       "6   женат / замужем                 0      F   компаньон     0  240525.971920   \n",
       "7   женат / замужем                 0      M   сотрудник     0  135823.934197   \n",
       "8  гражданский брак                 1      F   сотрудник     0   95856.832424   \n",
       "9   женат / замужем                 0      M   сотрудник     0  144425.938277   \n",
       "\n",
       "                      purpose  \n",
       "0               покупка жилья  \n",
       "1     приобретение автомобиля  \n",
       "2               покупка жилья  \n",
       "3  дополнительное образование  \n",
       "4             сыграть свадьбу  \n",
       "5               покупка жилья  \n",
       "6           операции с жильем  \n",
       "7                 образование  \n",
       "8       на проведение свадьбы  \n",
       "9     покупка жилья для семьи  "
      ]
     },
     "execution_count": 41,
     "metadata": {},
     "output_type": "execute_result"
    }
   ],
   "source": [
    "data.info()\n",
    "data.head(10)"
   ]
  },
  {
   "cell_type": "markdown",
   "id": "200c7109",
   "metadata": {},
   "source": [
    "Названия столбцов в корректном формате. "
   ]
  },
  {
   "cell_type": "markdown",
   "id": "d18c98e3",
   "metadata": {},
   "source": [
    "## Предобработка данных"
   ]
  },
  {
   "cell_type": "markdown",
   "id": "48c7ee31",
   "metadata": {},
   "source": [
    "### Заполнение пропусков"
   ]
  },
  {
   "cell_type": "code",
   "execution_count": 42,
   "id": "900894c9",
   "metadata": {},
   "outputs": [],
   "source": [
    "#data.isna().sum()\n",
    "#data[data['days_employed'].isna()].head(10)\n",
    "#data[data['total_income'].isna()].head(10)\n",
    "#days_employed_mediana = data['days_employed'].median()\n",
    "#total_income_mediana = data['total_income'].median()\n",
    "#data['days_employed'].fillna(days_employed_mediana,inplace=True)\n",
    "#data['total_income'].fillna(total_income_mediana,inplace=True)\n",
    "#data.info()\n",
    "#data.head(10)"
   ]
  },
  {
   "cell_type": "markdown",
   "id": "feb1d773",
   "metadata": {},
   "source": [
    "**Сгрупируем стаж по образованию**"
   ]
  },
  {
   "cell_type": "code",
   "execution_count": 43,
   "id": "2ee3d811",
   "metadata": {
    "scrolled": true
   },
   "outputs": [
    {
     "name": "stdout",
     "output_type": "stream",
     "text": [
      "education\n",
      "высшее                  38323.055702\n",
      "начальное              127842.088750\n",
      "неоконченное высшее     17692.508357\n",
      "среднее                 72538.686698\n",
      "ученая степень         116630.048157\n",
      "Name: days_employed, dtype: float64\n",
      "education\n",
      "высшее                -1342.373432\n",
      "начальное              -551.062561\n",
      "неоконченное высшее   -1046.437583\n",
      "среднее               -1184.327177\n",
      "ученая степень        -1380.316041\n",
      "Name: days_employed, dtype: float64\n"
     ]
    }
   ],
   "source": [
    "data['education'] = data['education'].str.lower()\n",
    "data.groupby('education')['days_employed'].count()\n",
    "days_employed_group_mean = data.groupby('education')['days_employed'].mean()\n",
    "print(days_employed_group_mean)\n",
    "\n",
    "days_employed_group_median = data.groupby('education')['days_employed'].median()\n",
    "print(days_employed_group_median)"
   ]
  },
  {
   "cell_type": "markdown",
   "id": "eb72cb1f",
   "metadata": {},
   "source": [
    "Медианные и средние значения выглядят неправдоподобно"
   ]
  },
  {
   "cell_type": "markdown",
   "id": "90f4a0c5",
   "metadata": {},
   "source": [
    "**Сгруппируем зарплату по образованию**"
   ]
  },
  {
   "cell_type": "code",
   "execution_count": 44,
   "id": "37f48c88",
   "metadata": {},
   "outputs": [
    {
     "name": "stdout",
     "output_type": "stream",
     "text": [
      "education\n",
      "высшее                 207142.515219\n",
      "начальное              132155.513626\n",
      "неоконченное высшее    181534.022774\n",
      "среднее                153715.643971\n",
      "ученая степень         174750.155792\n",
      "Name: total_income, dtype: float64\n",
      "education\n",
      "высшее                 175340.818855\n",
      "начальное              117137.352825\n",
      "неоконченное высшее    160115.398644\n",
      "среднее                136478.643244\n",
      "ученая степень         157259.898555\n",
      "Name: total_income, dtype: float64\n"
     ]
    }
   ],
   "source": [
    "data.groupby('education')['total_income'].count()\n",
    "total_income_group_mean = data.groupby('education')['total_income'].mean()\n",
    "print(total_income_group_mean)\n",
    "\n",
    "total_income_group_median = data.groupby('education')['total_income'].median()\n",
    "print(total_income_group_median)\n"
   ]
  },
  {
   "cell_type": "markdown",
   "id": "6a44c85b",
   "metadata": {},
   "source": [
    "Медианные и средние значения, также выглядят неправдоподобно(с неоконченным высшим и высшим образованием получают больше чем люди с учёной степенью)."
   ]
  },
  {
   "cell_type": "markdown",
   "id": "63ac7b22",
   "metadata": {},
   "source": [
    "**Сгруппируем стаж по возрасту**"
   ]
  },
  {
   "cell_type": "code",
   "execution_count": 45,
   "id": "720e6451",
   "metadata": {},
   "outputs": [
    {
     "name": "stdout",
     "output_type": "stream",
     "text": [
      "dob_years\n",
      "0      65937.471974\n",
      "19      -633.678086\n",
      "20      -684.944308\n",
      "21      -709.440930\n",
      "22      1239.982481\n",
      "23      -827.309437\n",
      "24     -1026.405485\n",
      "25     -1088.406453\n",
      "26       826.912862\n",
      "27      1027.345107\n",
      "28      -609.021658\n",
      "29     -1553.823200\n",
      "30     -1696.039355\n",
      "31      -967.511501\n",
      "32       427.651495\n",
      "33      -481.794213\n",
      "34       196.083153\n",
      "35     -1454.909683\n",
      "36       -21.296136\n",
      "37      1566.413139\n",
      "38      3095.214328\n",
      "39       501.209953\n",
      "40      2446.420996\n",
      "41      1586.992875\n",
      "42      3393.631090\n",
      "43      4530.036926\n",
      "44      4435.213337\n",
      "45      6302.805072\n",
      "46      8561.545242\n",
      "47      8479.909716\n",
      "48     12588.914967\n",
      "49     20891.619193\n",
      "50     45116.098565\n",
      "51     63444.075862\n",
      "52     77716.268854\n",
      "53     89171.803901\n",
      "54    122836.034309\n",
      "55    148044.355465\n",
      "56    153655.238208\n",
      "57    190422.749553\n",
      "58    185391.153289\n",
      "59    224555.447555\n",
      "60    260794.805996\n",
      "61    244109.801522\n",
      "62    272857.075474\n",
      "63    291629.371951\n",
      "64    285931.680485\n",
      "65    285675.504221\n",
      "66    312465.270899\n",
      "67    316720.285499\n",
      "68    325885.317389\n",
      "69    337795.125514\n",
      "70    316868.481125\n",
      "71    332228.422640\n",
      "72    331899.644494\n",
      "73    312868.394179\n",
      "74    238458.492153\n",
      "75     -1678.969771\n",
      "Name: days_employed, dtype: float64\n",
      "dob_years\n",
      "0      -1146.689586\n",
      "19      -724.492610\n",
      "20      -674.838979\n",
      "21      -618.733817\n",
      "22      -698.101581\n",
      "23      -690.204208\n",
      "24      -947.731043\n",
      "25      -919.199388\n",
      "26     -1064.650275\n",
      "27     -1137.678822\n",
      "28     -1123.591804\n",
      "29     -1315.453550\n",
      "30     -1420.586863\n",
      "31     -1296.147374\n",
      "32     -1430.456811\n",
      "33     -1420.778385\n",
      "34     -1595.186586\n",
      "35     -1601.523962\n",
      "36     -1782.652308\n",
      "37     -1783.979003\n",
      "38     -1738.115310\n",
      "39     -1832.564621\n",
      "40     -1674.726020\n",
      "41     -1847.778632\n",
      "42     -2143.026818\n",
      "43     -1748.001959\n",
      "44     -1813.405616\n",
      "45     -2105.382664\n",
      "46     -1987.334781\n",
      "47     -1999.975513\n",
      "48     -2076.293896\n",
      "49     -2138.776097\n",
      "50     -1843.949478\n",
      "51     -1510.935809\n",
      "52     -1486.622441\n",
      "53     -1355.277187\n",
      "54      -919.865413\n",
      "55      -671.169601\n",
      "56      -423.629698\n",
      "57    333953.491811\n",
      "58    331245.976666\n",
      "59    344372.337365\n",
      "60    349414.537285\n",
      "61    343984.931910\n",
      "62    354981.718187\n",
      "63    358482.295938\n",
      "64    355781.562599\n",
      "65    357103.967291\n",
      "66    363827.438951\n",
      "67    357222.855215\n",
      "68    365278.194581\n",
      "69    362313.375280\n",
      "70    362787.772498\n",
      "71    359700.938607\n",
      "72    367378.973169\n",
      "73    364291.049263\n",
      "74    343075.981127\n",
      "75     -1678.969771\n",
      "Name: days_employed, dtype: float64\n"
     ]
    }
   ],
   "source": [
    "data.groupby('dob_years')['days_employed'].count()\n",
    "days_employed_group_mean = data.groupby('dob_years')['days_employed'].mean()\n",
    "print(days_employed_group_mean)\n",
    "\n",
    "days_employed_group_median = data.groupby('dob_years')['days_employed'].median()\n",
    "print(days_employed_group_median)"
   ]
  },
  {
   "cell_type": "markdown",
   "id": "9c22021d",
   "metadata": {},
   "source": [
    "Нереальные значения, взаимосвязь не прослеживается"
   ]
  },
  {
   "cell_type": "markdown",
   "id": "a2f0b595",
   "metadata": {},
   "source": [
    "**Сгруппируем зарплату по возрасту**"
   ]
  },
  {
   "cell_type": "code",
   "execution_count": 46,
   "id": "54378bc5",
   "metadata": {},
   "outputs": [
    {
     "name": "stdout",
     "output_type": "stream",
     "text": [
      "dob_years\n",
      "0     158337.955712\n",
      "19    106212.141123\n",
      "20    126993.295912\n",
      "21    143629.769631\n",
      "22    139840.678505\n",
      "23    138463.153535\n",
      "24    150446.100901\n",
      "25    157572.291387\n",
      "26    157955.848949\n",
      "27    177110.490144\n",
      "28    164685.071256\n",
      "29    169246.438988\n",
      "30    171970.318639\n",
      "31    173887.307980\n",
      "32    167407.477166\n",
      "33    181604.680340\n",
      "34    178092.098754\n",
      "35    177914.045031\n",
      "36    182428.883307\n",
      "37    183334.890130\n",
      "38    168196.928236\n",
      "39    184250.715208\n",
      "40    176353.724146\n",
      "41    177454.879365\n",
      "42    184710.960430\n",
      "43    184750.762352\n",
      "44    177817.361512\n",
      "45    173600.360807\n",
      "46    186505.550986\n",
      "47    169281.635880\n",
      "48    177231.169491\n",
      "49    176097.353303\n",
      "50    165649.381950\n",
      "51    170219.301449\n",
      "52    168032.526480\n",
      "53    167540.434260\n",
      "54    156215.871072\n",
      "55    155247.573839\n",
      "56    161652.131498\n",
      "57    155360.539014\n",
      "58    157405.443193\n",
      "59    154988.350033\n",
      "60    142604.267812\n",
      "61    151922.056389\n",
      "62    148841.527150\n",
      "63    143097.516441\n",
      "64    161777.457555\n",
      "65    151717.488838\n",
      "66    131718.850062\n",
      "67    137933.208864\n",
      "68    126513.396674\n",
      "69    124100.079304\n",
      "70    131220.847873\n",
      "71    129185.923092\n",
      "72    118821.295798\n",
      "73    114983.726917\n",
      "74     83580.488812\n",
      "75    153282.648133\n",
      "Name: total_income, dtype: float64\n",
      "dob_years\n",
      "0     152419.184851\n",
      "19     93343.132708\n",
      "20    109502.056040\n",
      "21    128265.720871\n",
      "22    123995.881833\n",
      "23    123162.782874\n",
      "24    140402.515977\n",
      "25    143119.367767\n",
      "26    145457.100427\n",
      "27    154429.246838\n",
      "28    149663.088488\n",
      "29    146617.644239\n",
      "30    146944.669481\n",
      "31    148728.768999\n",
      "32    151253.906084\n",
      "33    156538.849949\n",
      "34    155358.963793\n",
      "35    156145.371963\n",
      "36    158681.482178\n",
      "37    160434.145641\n",
      "38    151466.705348\n",
      "39    149429.152630\n",
      "40    158350.076940\n",
      "41    148563.212032\n",
      "42    159167.992985\n",
      "43    151773.893139\n",
      "44    152302.899465\n",
      "45    154147.639937\n",
      "46    157436.075802\n",
      "47    153097.944233\n",
      "48    158989.322780\n",
      "49    153687.229445\n",
      "50    142125.429143\n",
      "51    145132.355606\n",
      "52    142054.722653\n",
      "53    140999.064983\n",
      "54    136923.161626\n",
      "55    133122.855586\n",
      "56    139119.706636\n",
      "57    138103.674335\n",
      "58    134163.186654\n",
      "59    136854.841297\n",
      "60    126161.016149\n",
      "61    128936.505715\n",
      "62    132382.911657\n",
      "63    123952.330213\n",
      "64    133576.183336\n",
      "65    122934.154656\n",
      "66    111673.470974\n",
      "67    112656.049064\n",
      "68    113208.388713\n",
      "69    104312.983461\n",
      "70    118062.325847\n",
      "71    122934.294124\n",
      "72    110985.525593\n",
      "73    119190.487878\n",
      "74     76850.325847\n",
      "75    153282.648133\n",
      "Name: total_income, dtype: float64\n"
     ]
    }
   ],
   "source": [
    "data.groupby('dob_years')['total_income'].count()\n",
    "total_income_group_mean = data.groupby('dob_years')['total_income'].mean()\n",
    "print(total_income_group_mean)\n",
    "total_income_group_median = data.groupby('dob_years')['total_income'].median()\n",
    "print(total_income_group_median)"
   ]
  },
  {
   "cell_type": "markdown",
   "id": "78da13d1",
   "metadata": {},
   "source": [
    "И медианные и средние значения похожи на правду. Зарплата увеличивается до пика работоспособного возраста ~ 50 лет. Позже заменим пропуски в 'total_income' медианой."
   ]
  },
  {
   "cell_type": "markdown",
   "id": "9bab5c1e",
   "metadata": {},
   "source": [
    "Столбцы days_employed и total_income имеют одинаковое значение - \"non-null\" (=19351). В столбце days_employed встречаются неправдоподобные значения."
   ]
  },
  {
   "cell_type": "code",
   "execution_count": 47,
   "id": "e87e40aa",
   "metadata": {},
   "outputs": [
    {
     "name": "stdout",
     "output_type": "stream",
     "text": [
      "Доля пропущеных значений = 10.10%\n"
     ]
    }
   ],
   "source": [
    "print(f'Доля пропущеных значений = {(21525-19351)/21525:,.2%}')"
   ]
  },
  {
   "cell_type": "markdown",
   "id": "24646c13",
   "metadata": {},
   "source": [
    "Возможные причины появления пропусков:\n",
    "- Человеческий фактор\n",
    "- Технологический\n",
    "\n",
    "Судя по одинаковому количеству пропусков, между ними прямая взаимосвязь(возможно это студенты).\n",
    "Заполнение пропусков медианным значением для количественных переменных наиболее точно отражает действительность."
   ]
  },
  {
   "cell_type": "code",
   "execution_count": 48,
   "id": "d4c529f8",
   "metadata": {},
   "outputs": [
    {
     "name": "stdout",
     "output_type": "stream",
     "text": [
      "children            744\n",
      "days_employed       675\n",
      "dob_years           744\n",
      "education           744\n",
      "education_id        744\n",
      "family_status       744\n",
      "family_status_id    744\n",
      "gender              744\n",
      "income_type         744\n",
      "debt                744\n",
      "total_income        675\n",
      "purpose             744\n",
      "dtype: int64\n",
      "Доля студентов в пропущеных значениях = 31.05%\n"
     ]
    }
   ],
   "source": [
    "print(data[data['education'] == 'неоконченное высшее'].count())\n",
    "print(f'Доля студентов в пропущеных значениях = {675/(21525-19351):,.2%}')"
   ]
  },
  {
   "cell_type": "markdown",
   "id": "a3d3d10f",
   "metadata": {},
   "source": [
    "Треть заёмщиков являются студентами или не закончили ВУЗ"
   ]
  },
  {
   "cell_type": "markdown",
   "id": "a2042d8f",
   "metadata": {},
   "source": [
    "### Шаг 2.2 Проверка данных на аномалии и исправления."
   ]
  },
  {
   "cell_type": "markdown",
   "id": "780022cf",
   "metadata": {},
   "source": [
    "**Столбец 'children'**"
   ]
  },
  {
   "cell_type": "code",
   "execution_count": 49,
   "id": "f97e05c3",
   "metadata": {
    "scrolled": true
   },
   "outputs": [
    {
     "name": "stdout",
     "output_type": "stream",
     "text": [
      " 0     14149\n",
      " 1      4818\n",
      " 2      2055\n",
      " 3       330\n",
      " 20       76\n",
      "-1        47\n",
      " 4        41\n",
      " 5         9\n",
      "Name: children, dtype: int64\n"
     ]
    }
   ],
   "source": [
    "print(data['children'].value_counts())"
   ]
  },
  {
   "cell_type": "markdown",
   "id": "904f5bb0",
   "metadata": {},
   "source": [
    "Реалистичные значения в семьях без детей и от 1 до 3. 76 семей с 20 детьми(маловероятно) и 47 с \"-1\" ребёнком(скорее всего \"-\" это дефис, заменим на \"1\"). 123 значения - незначительно(<1%)."
   ]
  },
  {
   "cell_type": "code",
   "execution_count": 50,
   "id": "412360e1",
   "metadata": {
    "scrolled": true
   },
   "outputs": [
    {
     "data": {
      "text/html": [
       "<div>\n",
       "<style scoped>\n",
       "    .dataframe tbody tr th:only-of-type {\n",
       "        vertical-align: middle;\n",
       "    }\n",
       "\n",
       "    .dataframe tbody tr th {\n",
       "        vertical-align: top;\n",
       "    }\n",
       "\n",
       "    .dataframe thead th {\n",
       "        text-align: right;\n",
       "    }\n",
       "</style>\n",
       "<table border=\"1\" class=\"dataframe\">\n",
       "  <thead>\n",
       "    <tr style=\"text-align: right;\">\n",
       "      <th></th>\n",
       "      <th>children</th>\n",
       "      <th>days_employed</th>\n",
       "      <th>dob_years</th>\n",
       "      <th>education</th>\n",
       "      <th>education_id</th>\n",
       "      <th>family_status</th>\n",
       "      <th>family_status_id</th>\n",
       "      <th>gender</th>\n",
       "      <th>income_type</th>\n",
       "      <th>debt</th>\n",
       "      <th>total_income</th>\n",
       "      <th>purpose</th>\n",
       "    </tr>\n",
       "  </thead>\n",
       "  <tbody>\n",
       "    <tr>\n",
       "      <th>606</th>\n",
       "      <td>20</td>\n",
       "      <td>-880.221113</td>\n",
       "      <td>21</td>\n",
       "      <td>среднее</td>\n",
       "      <td>1</td>\n",
       "      <td>женат / замужем</td>\n",
       "      <td>0</td>\n",
       "      <td>M</td>\n",
       "      <td>компаньон</td>\n",
       "      <td>0</td>\n",
       "      <td>145334.865002</td>\n",
       "      <td>покупка жилья</td>\n",
       "    </tr>\n",
       "    <tr>\n",
       "      <th>720</th>\n",
       "      <td>20</td>\n",
       "      <td>-855.595512</td>\n",
       "      <td>44</td>\n",
       "      <td>среднее</td>\n",
       "      <td>1</td>\n",
       "      <td>женат / замужем</td>\n",
       "      <td>0</td>\n",
       "      <td>F</td>\n",
       "      <td>компаньон</td>\n",
       "      <td>0</td>\n",
       "      <td>112998.738649</td>\n",
       "      <td>покупка недвижимости</td>\n",
       "    </tr>\n",
       "    <tr>\n",
       "      <th>1074</th>\n",
       "      <td>20</td>\n",
       "      <td>-3310.411598</td>\n",
       "      <td>56</td>\n",
       "      <td>среднее</td>\n",
       "      <td>1</td>\n",
       "      <td>женат / замужем</td>\n",
       "      <td>0</td>\n",
       "      <td>F</td>\n",
       "      <td>сотрудник</td>\n",
       "      <td>1</td>\n",
       "      <td>229518.537004</td>\n",
       "      <td>получение образования</td>\n",
       "    </tr>\n",
       "    <tr>\n",
       "      <th>2510</th>\n",
       "      <td>20</td>\n",
       "      <td>-2714.161249</td>\n",
       "      <td>59</td>\n",
       "      <td>высшее</td>\n",
       "      <td>0</td>\n",
       "      <td>вдовец / вдова</td>\n",
       "      <td>2</td>\n",
       "      <td>F</td>\n",
       "      <td>сотрудник</td>\n",
       "      <td>0</td>\n",
       "      <td>264474.835577</td>\n",
       "      <td>операции с коммерческой недвижимостью</td>\n",
       "    </tr>\n",
       "    <tr>\n",
       "      <th>2941</th>\n",
       "      <td>20</td>\n",
       "      <td>-2161.591519</td>\n",
       "      <td>0</td>\n",
       "      <td>среднее</td>\n",
       "      <td>1</td>\n",
       "      <td>женат / замужем</td>\n",
       "      <td>0</td>\n",
       "      <td>F</td>\n",
       "      <td>сотрудник</td>\n",
       "      <td>0</td>\n",
       "      <td>199739.941398</td>\n",
       "      <td>на покупку автомобиля</td>\n",
       "    </tr>\n",
       "    <tr>\n",
       "      <th>3302</th>\n",
       "      <td>20</td>\n",
       "      <td>NaN</td>\n",
       "      <td>35</td>\n",
       "      <td>среднее</td>\n",
       "      <td>1</td>\n",
       "      <td>Не женат / не замужем</td>\n",
       "      <td>4</td>\n",
       "      <td>F</td>\n",
       "      <td>госслужащий</td>\n",
       "      <td>0</td>\n",
       "      <td>NaN</td>\n",
       "      <td>профильное образование</td>\n",
       "    </tr>\n",
       "    <tr>\n",
       "      <th>3396</th>\n",
       "      <td>20</td>\n",
       "      <td>NaN</td>\n",
       "      <td>56</td>\n",
       "      <td>высшее</td>\n",
       "      <td>0</td>\n",
       "      <td>женат / замужем</td>\n",
       "      <td>0</td>\n",
       "      <td>F</td>\n",
       "      <td>компаньон</td>\n",
       "      <td>0</td>\n",
       "      <td>NaN</td>\n",
       "      <td>высшее образование</td>\n",
       "    </tr>\n",
       "    <tr>\n",
       "      <th>3671</th>\n",
       "      <td>20</td>\n",
       "      <td>-913.161503</td>\n",
       "      <td>23</td>\n",
       "      <td>среднее</td>\n",
       "      <td>1</td>\n",
       "      <td>Не женат / не замужем</td>\n",
       "      <td>4</td>\n",
       "      <td>F</td>\n",
       "      <td>сотрудник</td>\n",
       "      <td>0</td>\n",
       "      <td>101255.492076</td>\n",
       "      <td>на покупку подержанного автомобиля</td>\n",
       "    </tr>\n",
       "    <tr>\n",
       "      <th>3697</th>\n",
       "      <td>20</td>\n",
       "      <td>-2907.910616</td>\n",
       "      <td>40</td>\n",
       "      <td>среднее</td>\n",
       "      <td>1</td>\n",
       "      <td>гражданский брак</td>\n",
       "      <td>1</td>\n",
       "      <td>M</td>\n",
       "      <td>сотрудник</td>\n",
       "      <td>0</td>\n",
       "      <td>115380.694664</td>\n",
       "      <td>на покупку подержанного автомобиля</td>\n",
       "    </tr>\n",
       "    <tr>\n",
       "      <th>3735</th>\n",
       "      <td>20</td>\n",
       "      <td>-805.044438</td>\n",
       "      <td>26</td>\n",
       "      <td>высшее</td>\n",
       "      <td>0</td>\n",
       "      <td>Не женат / не замужем</td>\n",
       "      <td>4</td>\n",
       "      <td>M</td>\n",
       "      <td>сотрудник</td>\n",
       "      <td>0</td>\n",
       "      <td>137200.646181</td>\n",
       "      <td>ремонт жилью</td>\n",
       "    </tr>\n",
       "  </tbody>\n",
       "</table>\n",
       "</div>"
      ],
      "text/plain": [
       "      children  days_employed  dob_years education  education_id  \\\n",
       "606         20    -880.221113         21   среднее             1   \n",
       "720         20    -855.595512         44   среднее             1   \n",
       "1074        20   -3310.411598         56   среднее             1   \n",
       "2510        20   -2714.161249         59    высшее             0   \n",
       "2941        20   -2161.591519          0   среднее             1   \n",
       "3302        20            NaN         35   среднее             1   \n",
       "3396        20            NaN         56    высшее             0   \n",
       "3671        20    -913.161503         23   среднее             1   \n",
       "3697        20   -2907.910616         40   среднее             1   \n",
       "3735        20    -805.044438         26    высшее             0   \n",
       "\n",
       "              family_status  family_status_id gender  income_type  debt  \\\n",
       "606         женат / замужем                 0      M    компаньон     0   \n",
       "720         женат / замужем                 0      F    компаньон     0   \n",
       "1074        женат / замужем                 0      F    сотрудник     1   \n",
       "2510         вдовец / вдова                 2      F    сотрудник     0   \n",
       "2941        женат / замужем                 0      F    сотрудник     0   \n",
       "3302  Не женат / не замужем                 4      F  госслужащий     0   \n",
       "3396        женат / замужем                 0      F    компаньон     0   \n",
       "3671  Не женат / не замужем                 4      F    сотрудник     0   \n",
       "3697       гражданский брак                 1      M    сотрудник     0   \n",
       "3735  Не женат / не замужем                 4      M    сотрудник     0   \n",
       "\n",
       "       total_income                                purpose  \n",
       "606   145334.865002                          покупка жилья  \n",
       "720   112998.738649                   покупка недвижимости  \n",
       "1074  229518.537004                  получение образования  \n",
       "2510  264474.835577  операции с коммерческой недвижимостью  \n",
       "2941  199739.941398                  на покупку автомобиля  \n",
       "3302            NaN                 профильное образование  \n",
       "3396            NaN                     высшее образование  \n",
       "3671  101255.492076     на покупку подержанного автомобиля  \n",
       "3697  115380.694664     на покупку подержанного автомобиля  \n",
       "3735  137200.646181                           ремонт жилью  "
      ]
     },
     "metadata": {},
     "output_type": "display_data"
    },
    {
     "data": {
      "text/html": [
       "<div>\n",
       "<style scoped>\n",
       "    .dataframe tbody tr th:only-of-type {\n",
       "        vertical-align: middle;\n",
       "    }\n",
       "\n",
       "    .dataframe tbody tr th {\n",
       "        vertical-align: top;\n",
       "    }\n",
       "\n",
       "    .dataframe thead th {\n",
       "        text-align: right;\n",
       "    }\n",
       "</style>\n",
       "<table border=\"1\" class=\"dataframe\">\n",
       "  <thead>\n",
       "    <tr style=\"text-align: right;\">\n",
       "      <th></th>\n",
       "      <th>children</th>\n",
       "      <th>days_employed</th>\n",
       "      <th>dob_years</th>\n",
       "      <th>education</th>\n",
       "      <th>education_id</th>\n",
       "      <th>family_status</th>\n",
       "      <th>family_status_id</th>\n",
       "      <th>gender</th>\n",
       "      <th>income_type</th>\n",
       "      <th>debt</th>\n",
       "      <th>total_income</th>\n",
       "      <th>purpose</th>\n",
       "    </tr>\n",
       "  </thead>\n",
       "  <tbody>\n",
       "    <tr>\n",
       "      <th>291</th>\n",
       "      <td>-1</td>\n",
       "      <td>-4417.703588</td>\n",
       "      <td>46</td>\n",
       "      <td>среднее</td>\n",
       "      <td>1</td>\n",
       "      <td>гражданский брак</td>\n",
       "      <td>1</td>\n",
       "      <td>F</td>\n",
       "      <td>сотрудник</td>\n",
       "      <td>0</td>\n",
       "      <td>102816.346412</td>\n",
       "      <td>профильное образование</td>\n",
       "    </tr>\n",
       "    <tr>\n",
       "      <th>705</th>\n",
       "      <td>-1</td>\n",
       "      <td>-902.084528</td>\n",
       "      <td>50</td>\n",
       "      <td>среднее</td>\n",
       "      <td>1</td>\n",
       "      <td>женат / замужем</td>\n",
       "      <td>0</td>\n",
       "      <td>F</td>\n",
       "      <td>госслужащий</td>\n",
       "      <td>0</td>\n",
       "      <td>137882.899271</td>\n",
       "      <td>приобретение автомобиля</td>\n",
       "    </tr>\n",
       "    <tr>\n",
       "      <th>742</th>\n",
       "      <td>-1</td>\n",
       "      <td>-3174.456205</td>\n",
       "      <td>57</td>\n",
       "      <td>среднее</td>\n",
       "      <td>1</td>\n",
       "      <td>женат / замужем</td>\n",
       "      <td>0</td>\n",
       "      <td>F</td>\n",
       "      <td>сотрудник</td>\n",
       "      <td>0</td>\n",
       "      <td>64268.044444</td>\n",
       "      <td>дополнительное образование</td>\n",
       "    </tr>\n",
       "    <tr>\n",
       "      <th>800</th>\n",
       "      <td>-1</td>\n",
       "      <td>349987.852217</td>\n",
       "      <td>54</td>\n",
       "      <td>среднее</td>\n",
       "      <td>1</td>\n",
       "      <td>Не женат / не замужем</td>\n",
       "      <td>4</td>\n",
       "      <td>F</td>\n",
       "      <td>пенсионер</td>\n",
       "      <td>0</td>\n",
       "      <td>86293.724153</td>\n",
       "      <td>дополнительное образование</td>\n",
       "    </tr>\n",
       "    <tr>\n",
       "      <th>941</th>\n",
       "      <td>-1</td>\n",
       "      <td>NaN</td>\n",
       "      <td>57</td>\n",
       "      <td>среднее</td>\n",
       "      <td>1</td>\n",
       "      <td>женат / замужем</td>\n",
       "      <td>0</td>\n",
       "      <td>F</td>\n",
       "      <td>пенсионер</td>\n",
       "      <td>0</td>\n",
       "      <td>NaN</td>\n",
       "      <td>на покупку своего автомобиля</td>\n",
       "    </tr>\n",
       "    <tr>\n",
       "      <th>1363</th>\n",
       "      <td>-1</td>\n",
       "      <td>-1195.264956</td>\n",
       "      <td>55</td>\n",
       "      <td>среднее</td>\n",
       "      <td>1</td>\n",
       "      <td>женат / замужем</td>\n",
       "      <td>0</td>\n",
       "      <td>F</td>\n",
       "      <td>компаньон</td>\n",
       "      <td>0</td>\n",
       "      <td>69550.699692</td>\n",
       "      <td>профильное образование</td>\n",
       "    </tr>\n",
       "    <tr>\n",
       "      <th>1929</th>\n",
       "      <td>-1</td>\n",
       "      <td>-1461.303336</td>\n",
       "      <td>38</td>\n",
       "      <td>среднее</td>\n",
       "      <td>1</td>\n",
       "      <td>Не женат / не замужем</td>\n",
       "      <td>4</td>\n",
       "      <td>M</td>\n",
       "      <td>сотрудник</td>\n",
       "      <td>0</td>\n",
       "      <td>109121.569013</td>\n",
       "      <td>покупка жилья</td>\n",
       "    </tr>\n",
       "    <tr>\n",
       "      <th>2073</th>\n",
       "      <td>-1</td>\n",
       "      <td>-2539.761232</td>\n",
       "      <td>42</td>\n",
       "      <td>среднее</td>\n",
       "      <td>1</td>\n",
       "      <td>в разводе</td>\n",
       "      <td>3</td>\n",
       "      <td>F</td>\n",
       "      <td>компаньон</td>\n",
       "      <td>0</td>\n",
       "      <td>162638.609373</td>\n",
       "      <td>покупка жилья</td>\n",
       "    </tr>\n",
       "    <tr>\n",
       "      <th>3814</th>\n",
       "      <td>-1</td>\n",
       "      <td>-3045.290443</td>\n",
       "      <td>26</td>\n",
       "      <td>среднее</td>\n",
       "      <td>1</td>\n",
       "      <td>гражданский брак</td>\n",
       "      <td>1</td>\n",
       "      <td>F</td>\n",
       "      <td>госслужащий</td>\n",
       "      <td>0</td>\n",
       "      <td>131892.785435</td>\n",
       "      <td>на проведение свадьбы</td>\n",
       "    </tr>\n",
       "    <tr>\n",
       "      <th>4201</th>\n",
       "      <td>-1</td>\n",
       "      <td>-901.101738</td>\n",
       "      <td>41</td>\n",
       "      <td>среднее</td>\n",
       "      <td>1</td>\n",
       "      <td>женат / замужем</td>\n",
       "      <td>0</td>\n",
       "      <td>F</td>\n",
       "      <td>госслужащий</td>\n",
       "      <td>0</td>\n",
       "      <td>226375.766751</td>\n",
       "      <td>операции со своей недвижимостью</td>\n",
       "    </tr>\n",
       "  </tbody>\n",
       "</table>\n",
       "</div>"
      ],
      "text/plain": [
       "      children  days_employed  dob_years education  education_id  \\\n",
       "291         -1   -4417.703588         46   среднее             1   \n",
       "705         -1    -902.084528         50   среднее             1   \n",
       "742         -1   -3174.456205         57   среднее             1   \n",
       "800         -1  349987.852217         54   среднее             1   \n",
       "941         -1            NaN         57   среднее             1   \n",
       "1363        -1   -1195.264956         55   среднее             1   \n",
       "1929        -1   -1461.303336         38   среднее             1   \n",
       "2073        -1   -2539.761232         42   среднее             1   \n",
       "3814        -1   -3045.290443         26   среднее             1   \n",
       "4201        -1    -901.101738         41   среднее             1   \n",
       "\n",
       "              family_status  family_status_id gender  income_type  debt  \\\n",
       "291        гражданский брак                 1      F    сотрудник     0   \n",
       "705         женат / замужем                 0      F  госслужащий     0   \n",
       "742         женат / замужем                 0      F    сотрудник     0   \n",
       "800   Не женат / не замужем                 4      F    пенсионер     0   \n",
       "941         женат / замужем                 0      F    пенсионер     0   \n",
       "1363        женат / замужем                 0      F    компаньон     0   \n",
       "1929  Не женат / не замужем                 4      M    сотрудник     0   \n",
       "2073              в разводе                 3      F    компаньон     0   \n",
       "3814       гражданский брак                 1      F  госслужащий     0   \n",
       "4201        женат / замужем                 0      F  госслужащий     0   \n",
       "\n",
       "       total_income                          purpose  \n",
       "291   102816.346412           профильное образование  \n",
       "705   137882.899271          приобретение автомобиля  \n",
       "742    64268.044444       дополнительное образование  \n",
       "800    86293.724153       дополнительное образование  \n",
       "941             NaN     на покупку своего автомобиля  \n",
       "1363   69550.699692           профильное образование  \n",
       "1929  109121.569013                    покупка жилья  \n",
       "2073  162638.609373                    покупка жилья  \n",
       "3814  131892.785435            на проведение свадьбы  \n",
       "4201  226375.766751  операции со своей недвижимостью  "
      ]
     },
     "metadata": {},
     "output_type": "display_data"
    }
   ],
   "source": [
    "display(data[data['children'] == 20].head(10))\n",
    "display(data[data['children']== -1].head(10))"
   ]
  },
  {
   "cell_type": "code",
   "execution_count": 51,
   "id": "b2a4b7db",
   "metadata": {},
   "outputs": [
    {
     "name": "stdout",
     "output_type": "stream",
     "text": [
      "0    14149\n",
      "1     4818\n",
      "2     2055\n",
      "3      330\n",
      "4       41\n",
      "5        9\n",
      "Name: children, dtype: int64\n",
      "<class 'pandas.core.frame.DataFrame'>\n",
      "RangeIndex: 21402 entries, 0 to 21401\n",
      "Data columns (total 12 columns):\n",
      " #   Column            Non-Null Count  Dtype  \n",
      "---  ------            --------------  -----  \n",
      " 0   children          21402 non-null  int64  \n",
      " 1   days_employed     19240 non-null  float64\n",
      " 2   dob_years         21402 non-null  int64  \n",
      " 3   education         21402 non-null  object \n",
      " 4   education_id      21402 non-null  int64  \n",
      " 5   family_status     21402 non-null  object \n",
      " 6   family_status_id  21402 non-null  int64  \n",
      " 7   gender            21402 non-null  object \n",
      " 8   income_type       21402 non-null  object \n",
      " 9   debt              21402 non-null  int64  \n",
      " 10  total_income      19240 non-null  float64\n",
      " 11  purpose           21402 non-null  object \n",
      "dtypes: float64(2), int64(5), object(5)\n",
      "memory usage: 2.0+ MB\n",
      "None\n"
     ]
    }
   ],
   "source": [
    "index_1 = data[data['children']==-1].index \n",
    "\n",
    "index_20 = data[data['children']==20].index\n",
    "\n",
    "str_del_count=0\n",
    "\n",
    "for drop_str in index_1:\n",
    "        data = data.drop(drop_str)\n",
    "        str_del_count+=1\n",
    "\n",
    "for drop_str in index_20:\n",
    "        data = data.drop(drop_str)\n",
    "        str_del_count+=1\n",
    "\n",
    "data = data.reset_index(drop=True)\n",
    "print(data['children'].value_counts())\n",
    "print(data.info())         "
   ]
  },
  {
   "cell_type": "markdown",
   "id": "fb3334b0",
   "metadata": {},
   "source": [
    "**Столбец 'days_employed'**"
   ]
  },
  {
   "cell_type": "code",
   "execution_count": 52,
   "id": "d6dac529",
   "metadata": {},
   "outputs": [
    {
     "name": "stdout",
     "output_type": "stream",
     "text": [
      "0         -8437.673028\n",
      "1         -4024.803754\n",
      "2         -5623.422610\n",
      "3         -4124.747207\n",
      "4        340266.072047\n",
      "             ...      \n",
      "21397     -4529.316663\n",
      "21398    343937.404131\n",
      "21399     -2113.346888\n",
      "21400     -3112.481705\n",
      "21401     -1984.507589\n",
      "Name: days_employed, Length: 21402, dtype: float64\n",
      "Отрицательных значений: 15809\n"
     ]
    }
   ],
   "source": [
    "print(data['days_employed'])\n",
    "print('Отрицательных значений:',data[data['days_employed']<0]['days_employed'].count())"
   ]
  },
  {
   "cell_type": "markdown",
   "id": "cce81444",
   "metadata": {},
   "source": [
    "Присутствуют слишком большие значения (~ 340266.072047), возможно значение в часах, но настораживает количество цифр после запятой. В отрицательных значениях, возможно \"-\" это дефис. Поскольку уточнить информацию невозможно, а аномалий большинство(18080-отрицательных значений и 2174-пустых), и значения столбца не влияют на выполнение задачи, удаляем его.  "
   ]
  },
  {
   "cell_type": "code",
   "execution_count": 53,
   "id": "21f5cc1d",
   "metadata": {},
   "outputs": [
    {
     "name": "stdout",
     "output_type": "stream",
     "text": [
      "Index(['children', 'dob_years', 'education', 'education_id', 'family_status',\n",
      "       'family_status_id', 'gender', 'income_type', 'debt', 'total_income',\n",
      "       'purpose'],\n",
      "      dtype='object')\n"
     ]
    }
   ],
   "source": [
    "data.drop('days_employed', axis='columns', inplace=True)\n",
    "print(data.columns)"
   ]
  },
  {
   "cell_type": "markdown",
   "id": "3c57d319",
   "metadata": {},
   "source": [
    "**Столбец 'dob_years'**"
   ]
  },
  {
   "cell_type": "code",
   "execution_count": 54,
   "id": "9ca669d6",
   "metadata": {},
   "outputs": [
    {
     "data": {
      "text/plain": [
       "0     100\n",
       "19     14\n",
       "20     51\n",
       "21    110\n",
       "22    183\n",
       "23    252\n",
       "24    263\n",
       "25    356\n",
       "26    406\n",
       "27    490\n",
       "28    501\n",
       "29    543\n",
       "30    536\n",
       "31    556\n",
       "32    506\n",
       "33    577\n",
       "34    597\n",
       "35    614\n",
       "36    553\n",
       "37    531\n",
       "38    595\n",
       "39    572\n",
       "40    603\n",
       "41    603\n",
       "42    592\n",
       "43    510\n",
       "44    543\n",
       "45    494\n",
       "46    469\n",
       "47    480\n",
       "48    536\n",
       "49    505\n",
       "50    509\n",
       "51    446\n",
       "52    483\n",
       "53    457\n",
       "54    476\n",
       "55    441\n",
       "56    482\n",
       "57    457\n",
       "58    461\n",
       "59    441\n",
       "60    376\n",
       "61    353\n",
       "62    351\n",
       "63    268\n",
       "64    263\n",
       "65    194\n",
       "66    183\n",
       "67    167\n",
       "68     99\n",
       "69     83\n",
       "70     65\n",
       "71     58\n",
       "72     33\n",
       "73      8\n",
       "74      6\n",
       "75      1\n",
       "Name: dob_years, dtype: int64"
      ]
     },
     "execution_count": 54,
     "metadata": {},
     "output_type": "execute_result"
    }
   ],
   "source": [
    "data['dob_years'].value_counts().sort_index()"
   ]
  },
  {
   "cell_type": "markdown",
   "id": "e98a18cf",
   "metadata": {},
   "source": [
    "Основные заёмщики в возрасте от 19 до 75 лет, что приближено к реалиям. Аномалия - 101 заёмщик, которому 0 лет(<0.5%, при невозможности уточнения можно удалить)"
   ]
  },
  {
   "cell_type": "code",
   "execution_count": 55,
   "id": "27417220",
   "metadata": {},
   "outputs": [],
   "source": [
    "data['dob_years'] = data.query('dob_years > 0')"
   ]
  },
  {
   "cell_type": "markdown",
   "id": "e332bf3d",
   "metadata": {},
   "source": [
    "**Столбец 'education'**"
   ]
  },
  {
   "cell_type": "code",
   "execution_count": 56,
   "id": "e25b4fe9",
   "metadata": {
    "scrolled": true
   },
   "outputs": [
    {
     "data": {
      "text/plain": [
       "среднее                15136\n",
       "высшее                  5237\n",
       "неоконченное высшее      741\n",
       "начальное                282\n",
       "ученая степень             6\n",
       "Name: education, dtype: int64"
      ]
     },
     "execution_count": 56,
     "metadata": {},
     "output_type": "execute_result"
    }
   ],
   "source": [
    "data['education'].value_counts()"
   ]
  },
  {
   "cell_type": "markdown",
   "id": "d962f964",
   "metadata": {},
   "source": [
    "Корректный столбец"
   ]
  },
  {
   "cell_type": "markdown",
   "id": "8a4065b2",
   "metadata": {},
   "source": [
    "**Столбец 'education_id '**"
   ]
  },
  {
   "cell_type": "code",
   "execution_count": 57,
   "id": "0eb8eaab",
   "metadata": {},
   "outputs": [
    {
     "data": {
      "text/plain": [
       "(среднее                15136\n",
       " высшее                  5237\n",
       " неоконченное высшее      741\n",
       " начальное                282\n",
       " ученая степень             6\n",
       " Name: education, dtype: int64,\n",
       " 1    15136\n",
       " 0     5237\n",
       " 2      741\n",
       " 3      282\n",
       " 4        6\n",
       " Name: education_id, dtype: int64)"
      ]
     },
     "execution_count": 57,
     "metadata": {},
     "output_type": "execute_result"
    }
   ],
   "source": [
    "data['education'].value_counts(), data['education_id'].value_counts()"
   ]
  },
  {
   "cell_type": "markdown",
   "id": "d5aeedcd",
   "metadata": {},
   "source": [
    "5 видов образования."
   ]
  },
  {
   "cell_type": "markdown",
   "id": "11a7c353",
   "metadata": {},
   "source": [
    "**Столбец 'family_status'**   **Столбец 'family_status_id'**"
   ]
  },
  {
   "cell_type": "code",
   "execution_count": 58,
   "id": "7fc70c3d",
   "metadata": {},
   "outputs": [
    {
     "data": {
      "text/plain": [
       "0    12302\n",
       "1     4160\n",
       "4     2799\n",
       "3     1189\n",
       "2      952\n",
       "Name: family_status_id, dtype: int64"
      ]
     },
     "execution_count": 58,
     "metadata": {},
     "output_type": "execute_result"
    }
   ],
   "source": [
    "data['family_status'].value_counts()\n",
    "data['family_status_id'].value_counts()"
   ]
  },
  {
   "cell_type": "markdown",
   "id": "49ea26bf",
   "metadata": {},
   "source": [
    "Значения в столбцах совпадают. Данные столбца 'family_status'(Не женат / не замужем) надо привести к одному регистру. "
   ]
  },
  {
   "cell_type": "code",
   "execution_count": 59,
   "id": "a9ea63a5",
   "metadata": {},
   "outputs": [
    {
     "data": {
      "text/plain": [
       "0    12302\n",
       "1     4160\n",
       "4     2799\n",
       "3     1189\n",
       "2      952\n",
       "Name: family_status_id, dtype: int64"
      ]
     },
     "execution_count": 59,
     "metadata": {},
     "output_type": "execute_result"
    }
   ],
   "source": [
    "data['family_status'] = data['family_status'].str.lower()\n",
    "data['family_status'].value_counts()\n",
    "data['family_status_id'].value_counts()"
   ]
  },
  {
   "cell_type": "markdown",
   "id": "6bc214a5",
   "metadata": {},
   "source": [
    "**Столбец 'gender '**"
   ]
  },
  {
   "cell_type": "code",
   "execution_count": 60,
   "id": "c2d77b85",
   "metadata": {},
   "outputs": [
    {
     "data": {
      "text/plain": [
       "F      14154\n",
       "M       7247\n",
       "XNA        1\n",
       "Name: gender, dtype: int64"
      ]
     },
     "execution_count": 60,
     "metadata": {},
     "output_type": "execute_result"
    }
   ],
   "source": [
    "data['gender'].value_counts()"
   ]
  },
  {
   "cell_type": "markdown",
   "id": "c4de8c42",
   "metadata": {},
   "source": [
    "Выявлено 1 некорректное значение - пол 'XNA', заменим его на 'F'. "
   ]
  },
  {
   "cell_type": "code",
   "execution_count": 61,
   "id": "99c6912a",
   "metadata": {},
   "outputs": [
    {
     "data": {
      "text/plain": [
       "F    14155\n",
       "M     7247\n",
       "Name: gender, dtype: int64"
      ]
     },
     "execution_count": 61,
     "metadata": {},
     "output_type": "execute_result"
    }
   ],
   "source": [
    "data.loc[data['gender']=='XNA','gender'] = 'F'\n",
    "data['gender'].value_counts()"
   ]
  },
  {
   "cell_type": "markdown",
   "id": "fb360bb1",
   "metadata": {},
   "source": [
    "**Столбец 'income_type'**"
   ]
  },
  {
   "cell_type": "code",
   "execution_count": 62,
   "id": "18789812",
   "metadata": {
    "scrolled": true
   },
   "outputs": [
    {
     "data": {
      "text/plain": [
       "сотрудник          11050\n",
       "компаньон           5054\n",
       "пенсионер           3839\n",
       "госслужащий         1453\n",
       "предприниматель        2\n",
       "безработный            2\n",
       "студент                1\n",
       "в декрете              1\n",
       "Name: income_type, dtype: int64"
      ]
     },
     "execution_count": 62,
     "metadata": {},
     "output_type": "execute_result"
    }
   ],
   "source": [
    "data['income_type'].value_counts()"
   ]
  },
  {
   "cell_type": "markdown",
   "id": "35613c30",
   "metadata": {},
   "source": [
    "Без аномалий"
   ]
  },
  {
   "cell_type": "markdown",
   "id": "fe9ab620",
   "metadata": {},
   "source": [
    "**Столбец 'debt'**"
   ]
  },
  {
   "cell_type": "code",
   "execution_count": 63,
   "id": "1079c8fa",
   "metadata": {},
   "outputs": [
    {
     "data": {
      "text/plain": [
       "0    19670\n",
       "1     1732\n",
       "Name: debt, dtype: int64"
      ]
     },
     "execution_count": 63,
     "metadata": {},
     "output_type": "execute_result"
    }
   ],
   "source": [
    "data['debt'].value_counts()"
   ]
  },
  {
   "cell_type": "markdown",
   "id": "d951fc7c",
   "metadata": {},
   "source": [
    "Без аномалий"
   ]
  },
  {
   "cell_type": "markdown",
   "id": "41f4b42c",
   "metadata": {},
   "source": [
    "**Столбец 'total_income'**"
   ]
  },
  {
   "cell_type": "code",
   "execution_count": 64,
   "id": "a6efbc68",
   "metadata": {},
   "outputs": [
    {
     "data": {
      "text/plain": [
       "count    1.924000e+04\n",
       "mean     1.674488e+05\n",
       "std      1.031051e+05\n",
       "min      2.066726e+04\n",
       "25%      1.030001e+05\n",
       "50%      1.450208e+05\n",
       "75%      2.034447e+05\n",
       "max      2.265604e+06\n",
       "Name: total_income, dtype: float64"
      ]
     },
     "execution_count": 64,
     "metadata": {},
     "output_type": "execute_result"
    }
   ],
   "source": [
    "data['total_income'].describe()"
   ]
  },
  {
   "cell_type": "markdown",
   "id": "9785c577",
   "metadata": {},
   "source": [
    "Нужно избавиться от ненужных знаков после запятой."
   ]
  },
  {
   "cell_type": "markdown",
   "id": "c9fa39b9",
   "metadata": {},
   "source": [
    "**Столбец 'purpose'**"
   ]
  },
  {
   "cell_type": "code",
   "execution_count": 65,
   "id": "fe9e17b1",
   "metadata": {},
   "outputs": [
    {
     "name": "stdout",
     "output_type": "stream",
     "text": [
      "свадьба                                   796\n",
      "на проведение свадьбы                     772\n",
      "сыграть свадьбу                           769\n",
      "операции с недвижимостью                  673\n",
      "покупка коммерческой недвижимости         661\n",
      "покупка жилья для сдачи                   651\n",
      "операции с жильем                         648\n",
      "операции с коммерческой недвижимостью     646\n",
      "жилье                                     642\n",
      "покупка жилья                             641\n",
      "покупка жилья для семьи                   640\n",
      "недвижимость                              632\n",
      "строительство собственной недвижимости    628\n",
      "операции со своей недвижимостью           626\n",
      "строительство жилой недвижимости          622\n",
      "строительство недвижимости                620\n",
      "покупка недвижимости                      619\n",
      "покупка своего жилья                      619\n",
      "ремонт жилью                              609\n",
      "покупка жилой недвижимости                603\n",
      "на покупку своего автомобиля              504\n",
      "заняться высшим образованием              496\n",
      "автомобиль                                492\n",
      "сделка с подержанным автомобилем          484\n",
      "автомобили                                476\n",
      "свой автомобиль                           475\n",
      "на покупку подержанного автомобиля        472\n",
      "на покупку автомобиля                     470\n",
      "приобретение автомобиля                   460\n",
      "дополнительное образование                457\n",
      "сделка с автомобилем                      455\n",
      "высшее образование                        447\n",
      "получение дополнительного образования     445\n",
      "образование                               442\n",
      "получение образования                     441\n",
      "профильное образование                    432\n",
      "получение высшего образования             425\n",
      "заняться образованием                     412\n",
      "Name: purpose, dtype: int64\n"
     ]
    }
   ],
   "source": [
    "print(data['purpose'].value_counts())"
   ]
  },
  {
   "cell_type": "markdown",
   "id": "573e44c5",
   "metadata": {},
   "source": [
    "Много взаимозаменяемых названий назначений кредита. "
   ]
  },
  {
   "cell_type": "markdown",
   "id": "2d29983a",
   "metadata": {},
   "source": [
    "### Шаг 2.3. Изменение типов данных."
   ]
  },
  {
   "cell_type": "code",
   "execution_count": 66,
   "id": "afa6c4e4",
   "metadata": {},
   "outputs": [
    {
     "name": "stdout",
     "output_type": "stream",
     "text": [
      "Размер данных до преобразования: 171216\n",
      "0    253875\n",
      "1    112080\n",
      "2    145885\n",
      "3    267628\n",
      "4    158616\n",
      "5    255763\n",
      "6    240525\n",
      "7    135823\n",
      "8     95856\n",
      "9    144425\n",
      "Name: total_income, dtype: int64\n",
      "<class 'pandas.core.frame.DataFrame'>\n",
      "RangeIndex: 21402 entries, 0 to 21401\n",
      "Data columns (total 11 columns):\n",
      " #   Column            Non-Null Count  Dtype \n",
      "---  ------            --------------  ----- \n",
      " 0   children          21402 non-null  int64 \n",
      " 1   dob_years         21302 non-null  object\n",
      " 2   education         21402 non-null  object\n",
      " 3   education_id      21402 non-null  int64 \n",
      " 4   family_status     21402 non-null  object\n",
      " 5   family_status_id  21402 non-null  int64 \n",
      " 6   gender            21402 non-null  object\n",
      " 7   income_type       21402 non-null  object\n",
      " 8   debt              21402 non-null  int64 \n",
      " 9   total_income      21402 non-null  int64 \n",
      " 10  purpose           21402 non-null  object\n",
      "dtypes: int64(5), object(6)\n",
      "memory usage: 1.8+ MB\n",
      "Размер данных после преобразования: 171216\n"
     ]
    }
   ],
   "source": [
    "total_income_median = data['total_income'].median()\n",
    "print('Размер данных до преобразования:',data['total_income'].nbytes )\n",
    "data['total_income'] = data['total_income'].fillna(total_income_median)\n",
    "data['total_income'] = data['total_income'].astype(int)\n",
    "print(data['total_income'].head(10))\n",
    "data.info()\n",
    "print('Размер данных после преобразования:',data['total_income'].nbytes )"
   ]
  },
  {
   "cell_type": "markdown",
   "id": "ad995913",
   "metadata": {},
   "source": [
    "### Шаг 2.4. Удаление дубликатов."
   ]
  },
  {
   "cell_type": "markdown",
   "id": "07180b0d",
   "metadata": {},
   "source": [
    "**Столбец 'education'**"
   ]
  },
  {
   "cell_type": "markdown",
   "id": "52e484d7",
   "metadata": {},
   "source": [
    "Одинаковые значения в столбце 'education' написаны в разных регистрах. Приведём все значения к прописным с помощью str.lower(). "
   ]
  },
  {
   "cell_type": "code",
   "execution_count": 67,
   "id": "d9a69b56",
   "metadata": {
    "scrolled": true
   },
   "outputs": [
    {
     "name": "stdout",
     "output_type": "stream",
     "text": [
      "среднее                15136\n",
      "высшее                  5237\n",
      "неоконченное высшее      741\n",
      "начальное                282\n",
      "ученая степень             6\n",
      "Name: education, dtype: int64\n"
     ]
    }
   ],
   "source": [
    "data['education'] = data['education'].str.lower()\n",
    "print(data['education'].value_counts())"
   ]
  },
  {
   "cell_type": "markdown",
   "id": "a3365ec6",
   "metadata": {},
   "source": [
    "Причиной возникновения дубликатов могло быть совмещение данных заполняемых разными людьми."
   ]
  },
  {
   "cell_type": "markdown",
   "id": "2e03caaa",
   "metadata": {},
   "source": [
    "### Шаг 2.5. Формирование дополнительных датафреймов словарей, декомпозиция исходного датафрейма."
   ]
  },
  {
   "cell_type": "code",
   "execution_count": 68,
   "id": "d79f8803",
   "metadata": {},
   "outputs": [
    {
     "name": "stdout",
     "output_type": "stream",
     "text": [
      "             education  education_id\n",
      "0               высшее             0\n",
      "1              среднее             1\n",
      "2  неоконченное высшее             2\n",
      "3            начальное             3\n",
      "4       ученая степень             4\n",
      "           family_status  family_status_id\n",
      "0        женат / замужем                 0\n",
      "1       гражданский брак                 1\n",
      "2         вдовец / вдова                 2\n",
      "3              в разводе                 3\n",
      "4  не женат / не замужем                 4\n"
     ]
    }
   ],
   "source": [
    "data_education = data[['education','education_id']]\n",
    "data_education = data_education.drop_duplicates().reset_index(drop=True)\n",
    "print(data_education.head(20))\n",
    "data_family = data[['family_status','family_status_id']]\n",
    "data_family = data_family.drop_duplicates().reset_index(drop=True)\n",
    "print(data_family.head(20))"
   ]
  },
  {
   "cell_type": "code",
   "execution_count": 69,
   "id": "83af16a1",
   "metadata": {},
   "outputs": [
    {
     "data": {
      "text/html": [
       "<div>\n",
       "<style scoped>\n",
       "    .dataframe tbody tr th:only-of-type {\n",
       "        vertical-align: middle;\n",
       "    }\n",
       "\n",
       "    .dataframe tbody tr th {\n",
       "        vertical-align: top;\n",
       "    }\n",
       "\n",
       "    .dataframe thead th {\n",
       "        text-align: right;\n",
       "    }\n",
       "</style>\n",
       "<table border=\"1\" class=\"dataframe\">\n",
       "  <thead>\n",
       "    <tr style=\"text-align: right;\">\n",
       "      <th></th>\n",
       "      <th>children</th>\n",
       "      <th>dob_years</th>\n",
       "      <th>education_id</th>\n",
       "      <th>family_status</th>\n",
       "      <th>family_status_id</th>\n",
       "      <th>gender</th>\n",
       "      <th>income_type</th>\n",
       "      <th>debt</th>\n",
       "      <th>total_income</th>\n",
       "      <th>purpose</th>\n",
       "    </tr>\n",
       "  </thead>\n",
       "  <tbody>\n",
       "    <tr>\n",
       "      <th>0</th>\n",
       "      <td>1</td>\n",
       "      <td>1.0</td>\n",
       "      <td>0</td>\n",
       "      <td>женат / замужем</td>\n",
       "      <td>0</td>\n",
       "      <td>F</td>\n",
       "      <td>сотрудник</td>\n",
       "      <td>0</td>\n",
       "      <td>253875</td>\n",
       "      <td>покупка жилья</td>\n",
       "    </tr>\n",
       "    <tr>\n",
       "      <th>1</th>\n",
       "      <td>1</td>\n",
       "      <td>1.0</td>\n",
       "      <td>1</td>\n",
       "      <td>женат / замужем</td>\n",
       "      <td>0</td>\n",
       "      <td>F</td>\n",
       "      <td>сотрудник</td>\n",
       "      <td>0</td>\n",
       "      <td>112080</td>\n",
       "      <td>приобретение автомобиля</td>\n",
       "    </tr>\n",
       "    <tr>\n",
       "      <th>2</th>\n",
       "      <td>0</td>\n",
       "      <td>0.0</td>\n",
       "      <td>1</td>\n",
       "      <td>женат / замужем</td>\n",
       "      <td>0</td>\n",
       "      <td>M</td>\n",
       "      <td>сотрудник</td>\n",
       "      <td>0</td>\n",
       "      <td>145885</td>\n",
       "      <td>покупка жилья</td>\n",
       "    </tr>\n",
       "    <tr>\n",
       "      <th>3</th>\n",
       "      <td>3</td>\n",
       "      <td>3.0</td>\n",
       "      <td>1</td>\n",
       "      <td>женат / замужем</td>\n",
       "      <td>0</td>\n",
       "      <td>M</td>\n",
       "      <td>сотрудник</td>\n",
       "      <td>0</td>\n",
       "      <td>267628</td>\n",
       "      <td>дополнительное образование</td>\n",
       "    </tr>\n",
       "    <tr>\n",
       "      <th>4</th>\n",
       "      <td>0</td>\n",
       "      <td>0.0</td>\n",
       "      <td>1</td>\n",
       "      <td>гражданский брак</td>\n",
       "      <td>1</td>\n",
       "      <td>F</td>\n",
       "      <td>пенсионер</td>\n",
       "      <td>0</td>\n",
       "      <td>158616</td>\n",
       "      <td>сыграть свадьбу</td>\n",
       "    </tr>\n",
       "  </tbody>\n",
       "</table>\n",
       "</div>"
      ],
      "text/plain": [
       "   children dob_years  education_id     family_status  family_status_id  \\\n",
       "0         1       1.0             0   женат / замужем                 0   \n",
       "1         1       1.0             1   женат / замужем                 0   \n",
       "2         0       0.0             1   женат / замужем                 0   \n",
       "3         3       3.0             1   женат / замужем                 0   \n",
       "4         0       0.0             1  гражданский брак                 1   \n",
       "\n",
       "  gender income_type  debt  total_income                     purpose  \n",
       "0      F   сотрудник     0        253875               покупка жилья  \n",
       "1      F   сотрудник     0        112080     приобретение автомобиля  \n",
       "2      M   сотрудник     0        145885               покупка жилья  \n",
       "3      M   сотрудник     0        267628  дополнительное образование  \n",
       "4      F   пенсионер     0        158616             сыграть свадьбу  "
      ]
     },
     "execution_count": 69,
     "metadata": {},
     "output_type": "execute_result"
    }
   ],
   "source": [
    "data = data.drop(['education'],axis=1)\n",
    "data.head()"
   ]
  },
  {
   "cell_type": "markdown",
   "id": "25de7e6f",
   "metadata": {},
   "source": [
    "### Шаг 2.6. Категоризация дохода."
   ]
  },
  {
   "cell_type": "code",
   "execution_count": 70,
   "id": "2740a109",
   "metadata": {},
   "outputs": [
    {
     "data": {
      "text/html": [
       "<div>\n",
       "<style scoped>\n",
       "    .dataframe tbody tr th:only-of-type {\n",
       "        vertical-align: middle;\n",
       "    }\n",
       "\n",
       "    .dataframe tbody tr th {\n",
       "        vertical-align: top;\n",
       "    }\n",
       "\n",
       "    .dataframe thead th {\n",
       "        text-align: right;\n",
       "    }\n",
       "</style>\n",
       "<table border=\"1\" class=\"dataframe\">\n",
       "  <thead>\n",
       "    <tr style=\"text-align: right;\">\n",
       "      <th></th>\n",
       "      <th>children</th>\n",
       "      <th>dob_years</th>\n",
       "      <th>education_id</th>\n",
       "      <th>family_status</th>\n",
       "      <th>family_status_id</th>\n",
       "      <th>gender</th>\n",
       "      <th>income_type</th>\n",
       "      <th>debt</th>\n",
       "      <th>total_income</th>\n",
       "      <th>purpose</th>\n",
       "      <th>total_income_category</th>\n",
       "    </tr>\n",
       "  </thead>\n",
       "  <tbody>\n",
       "    <tr>\n",
       "      <th>0</th>\n",
       "      <td>1</td>\n",
       "      <td>1.0</td>\n",
       "      <td>0</td>\n",
       "      <td>женат / замужем</td>\n",
       "      <td>0</td>\n",
       "      <td>F</td>\n",
       "      <td>сотрудник</td>\n",
       "      <td>0</td>\n",
       "      <td>253875</td>\n",
       "      <td>покупка жилья</td>\n",
       "      <td>B</td>\n",
       "    </tr>\n",
       "    <tr>\n",
       "      <th>1</th>\n",
       "      <td>1</td>\n",
       "      <td>1.0</td>\n",
       "      <td>1</td>\n",
       "      <td>женат / замужем</td>\n",
       "      <td>0</td>\n",
       "      <td>F</td>\n",
       "      <td>сотрудник</td>\n",
       "      <td>0</td>\n",
       "      <td>112080</td>\n",
       "      <td>приобретение автомобиля</td>\n",
       "      <td>C</td>\n",
       "    </tr>\n",
       "    <tr>\n",
       "      <th>2</th>\n",
       "      <td>0</td>\n",
       "      <td>0.0</td>\n",
       "      <td>1</td>\n",
       "      <td>женат / замужем</td>\n",
       "      <td>0</td>\n",
       "      <td>M</td>\n",
       "      <td>сотрудник</td>\n",
       "      <td>0</td>\n",
       "      <td>145885</td>\n",
       "      <td>покупка жилья</td>\n",
       "      <td>C</td>\n",
       "    </tr>\n",
       "    <tr>\n",
       "      <th>3</th>\n",
       "      <td>3</td>\n",
       "      <td>3.0</td>\n",
       "      <td>1</td>\n",
       "      <td>женат / замужем</td>\n",
       "      <td>0</td>\n",
       "      <td>M</td>\n",
       "      <td>сотрудник</td>\n",
       "      <td>0</td>\n",
       "      <td>267628</td>\n",
       "      <td>дополнительное образование</td>\n",
       "      <td>B</td>\n",
       "    </tr>\n",
       "    <tr>\n",
       "      <th>4</th>\n",
       "      <td>0</td>\n",
       "      <td>0.0</td>\n",
       "      <td>1</td>\n",
       "      <td>гражданский брак</td>\n",
       "      <td>1</td>\n",
       "      <td>F</td>\n",
       "      <td>пенсионер</td>\n",
       "      <td>0</td>\n",
       "      <td>158616</td>\n",
       "      <td>сыграть свадьбу</td>\n",
       "      <td>C</td>\n",
       "    </tr>\n",
       "  </tbody>\n",
       "</table>\n",
       "</div>"
      ],
      "text/plain": [
       "   children dob_years  education_id     family_status  family_status_id  \\\n",
       "0         1       1.0             0   женат / замужем                 0   \n",
       "1         1       1.0             1   женат / замужем                 0   \n",
       "2         0       0.0             1   женат / замужем                 0   \n",
       "3         3       3.0             1   женат / замужем                 0   \n",
       "4         0       0.0             1  гражданский брак                 1   \n",
       "\n",
       "  gender income_type  debt  total_income                     purpose  \\\n",
       "0      F   сотрудник     0        253875               покупка жилья   \n",
       "1      F   сотрудник     0        112080     приобретение автомобиля   \n",
       "2      M   сотрудник     0        145885               покупка жилья   \n",
       "3      M   сотрудник     0        267628  дополнительное образование   \n",
       "4      F   пенсионер     0        158616             сыграть свадьбу   \n",
       "\n",
       "  total_income_category  \n",
       "0                     B  \n",
       "1                     C  \n",
       "2                     C  \n",
       "3                     B  \n",
       "4                     C  "
      ]
     },
     "execution_count": 70,
     "metadata": {},
     "output_type": "execute_result"
    }
   ],
   "source": [
    "def total_income_category(row):\n",
    "    income = row['total_income']\n",
    "\n",
    "    if income <= 30000:\n",
    "        return 'E'\n",
    "    if income > 30000 and income <= 50000:\n",
    "        return 'D'\n",
    "    if income > 50000 and income <= 200000:\n",
    "        return 'C'\n",
    "    if income > 200000 and income < 1000000:\n",
    "        return 'B'\n",
    "    if income > 1000000:\n",
    "        return 'A'\n",
    "data['total_income_category'] = data.apply(total_income_category, axis=1)\n",
    "data.head()"
   ]
  },
  {
   "cell_type": "markdown",
   "id": "97f4931e",
   "metadata": {},
   "source": [
    "### Шаг 2.7. Категоризация целей кредита."
   ]
  },
  {
   "cell_type": "code",
   "execution_count": 71,
   "id": "ce1de594",
   "metadata": {
    "scrolled": true
   },
   "outputs": [
    {
     "name": "stdout",
     "output_type": "stream",
     "text": [
      "<class 'pandas.core.frame.DataFrame'>\n",
      "RangeIndex: 21402 entries, 0 to 21401\n",
      "Data columns (total 11 columns):\n",
      " #   Column                 Non-Null Count  Dtype \n",
      "---  ------                 --------------  ----- \n",
      " 0   children               21402 non-null  int64 \n",
      " 1   dob_years              21302 non-null  object\n",
      " 2   education_id           21402 non-null  int64 \n",
      " 3   family_status          21402 non-null  object\n",
      " 4   family_status_id       21402 non-null  int64 \n",
      " 5   gender                 21402 non-null  object\n",
      " 6   income_type            21402 non-null  object\n",
      " 7   debt                   21402 non-null  int64 \n",
      " 8   total_income           21402 non-null  int64 \n",
      " 9   purpose                21402 non-null  object\n",
      " 10  total_income_category  21402 non-null  object\n",
      "dtypes: int64(5), object(6)\n",
      "memory usage: 1.8+ MB\n"
     ]
    }
   ],
   "source": [
    "data.info()"
   ]
  },
  {
   "cell_type": "code",
   "execution_count": 72,
   "id": "ffebdb1a",
   "metadata": {},
   "outputs": [
    {
     "data": {
      "text/html": [
       "<div>\n",
       "<style scoped>\n",
       "    .dataframe tbody tr th:only-of-type {\n",
       "        vertical-align: middle;\n",
       "    }\n",
       "\n",
       "    .dataframe tbody tr th {\n",
       "        vertical-align: top;\n",
       "    }\n",
       "\n",
       "    .dataframe thead th {\n",
       "        text-align: right;\n",
       "    }\n",
       "</style>\n",
       "<table border=\"1\" class=\"dataframe\">\n",
       "  <thead>\n",
       "    <tr style=\"text-align: right;\">\n",
       "      <th></th>\n",
       "      <th>children</th>\n",
       "      <th>dob_years</th>\n",
       "      <th>education_id</th>\n",
       "      <th>family_status</th>\n",
       "      <th>family_status_id</th>\n",
       "      <th>gender</th>\n",
       "      <th>income_type</th>\n",
       "      <th>debt</th>\n",
       "      <th>total_income</th>\n",
       "      <th>purpose</th>\n",
       "      <th>total_income_category</th>\n",
       "      <th>purpose_category</th>\n",
       "    </tr>\n",
       "  </thead>\n",
       "  <tbody>\n",
       "    <tr>\n",
       "      <th>0</th>\n",
       "      <td>1</td>\n",
       "      <td>1.0</td>\n",
       "      <td>0</td>\n",
       "      <td>женат / замужем</td>\n",
       "      <td>0</td>\n",
       "      <td>F</td>\n",
       "      <td>сотрудник</td>\n",
       "      <td>0</td>\n",
       "      <td>253875</td>\n",
       "      <td>покупка жилья</td>\n",
       "      <td>B</td>\n",
       "      <td>операции с недвижимостью</td>\n",
       "    </tr>\n",
       "    <tr>\n",
       "      <th>1</th>\n",
       "      <td>1</td>\n",
       "      <td>1.0</td>\n",
       "      <td>1</td>\n",
       "      <td>женат / замужем</td>\n",
       "      <td>0</td>\n",
       "      <td>F</td>\n",
       "      <td>сотрудник</td>\n",
       "      <td>0</td>\n",
       "      <td>112080</td>\n",
       "      <td>приобретение автомобиля</td>\n",
       "      <td>C</td>\n",
       "      <td>операции с автомобилем</td>\n",
       "    </tr>\n",
       "    <tr>\n",
       "      <th>2</th>\n",
       "      <td>0</td>\n",
       "      <td>0.0</td>\n",
       "      <td>1</td>\n",
       "      <td>женат / замужем</td>\n",
       "      <td>0</td>\n",
       "      <td>M</td>\n",
       "      <td>сотрудник</td>\n",
       "      <td>0</td>\n",
       "      <td>145885</td>\n",
       "      <td>покупка жилья</td>\n",
       "      <td>C</td>\n",
       "      <td>операции с недвижимостью</td>\n",
       "    </tr>\n",
       "    <tr>\n",
       "      <th>3</th>\n",
       "      <td>3</td>\n",
       "      <td>3.0</td>\n",
       "      <td>1</td>\n",
       "      <td>женат / замужем</td>\n",
       "      <td>0</td>\n",
       "      <td>M</td>\n",
       "      <td>сотрудник</td>\n",
       "      <td>0</td>\n",
       "      <td>267628</td>\n",
       "      <td>дополнительное образование</td>\n",
       "      <td>B</td>\n",
       "      <td>получение образования</td>\n",
       "    </tr>\n",
       "    <tr>\n",
       "      <th>4</th>\n",
       "      <td>0</td>\n",
       "      <td>0.0</td>\n",
       "      <td>1</td>\n",
       "      <td>гражданский брак</td>\n",
       "      <td>1</td>\n",
       "      <td>F</td>\n",
       "      <td>пенсионер</td>\n",
       "      <td>0</td>\n",
       "      <td>158616</td>\n",
       "      <td>сыграть свадьбу</td>\n",
       "      <td>C</td>\n",
       "      <td>проведение свадьбы</td>\n",
       "    </tr>\n",
       "    <tr>\n",
       "      <th>5</th>\n",
       "      <td>0</td>\n",
       "      <td>0.0</td>\n",
       "      <td>0</td>\n",
       "      <td>гражданский брак</td>\n",
       "      <td>1</td>\n",
       "      <td>M</td>\n",
       "      <td>компаньон</td>\n",
       "      <td>0</td>\n",
       "      <td>255763</td>\n",
       "      <td>покупка жилья</td>\n",
       "      <td>B</td>\n",
       "      <td>операции с недвижимостью</td>\n",
       "    </tr>\n",
       "    <tr>\n",
       "      <th>6</th>\n",
       "      <td>0</td>\n",
       "      <td>0.0</td>\n",
       "      <td>0</td>\n",
       "      <td>женат / замужем</td>\n",
       "      <td>0</td>\n",
       "      <td>F</td>\n",
       "      <td>компаньон</td>\n",
       "      <td>0</td>\n",
       "      <td>240525</td>\n",
       "      <td>операции с жильем</td>\n",
       "      <td>B</td>\n",
       "      <td>операции с недвижимостью</td>\n",
       "    </tr>\n",
       "    <tr>\n",
       "      <th>7</th>\n",
       "      <td>0</td>\n",
       "      <td>0.0</td>\n",
       "      <td>1</td>\n",
       "      <td>женат / замужем</td>\n",
       "      <td>0</td>\n",
       "      <td>M</td>\n",
       "      <td>сотрудник</td>\n",
       "      <td>0</td>\n",
       "      <td>135823</td>\n",
       "      <td>образование</td>\n",
       "      <td>C</td>\n",
       "      <td>получение образования</td>\n",
       "    </tr>\n",
       "    <tr>\n",
       "      <th>8</th>\n",
       "      <td>2</td>\n",
       "      <td>2.0</td>\n",
       "      <td>0</td>\n",
       "      <td>гражданский брак</td>\n",
       "      <td>1</td>\n",
       "      <td>F</td>\n",
       "      <td>сотрудник</td>\n",
       "      <td>0</td>\n",
       "      <td>95856</td>\n",
       "      <td>на проведение свадьбы</td>\n",
       "      <td>C</td>\n",
       "      <td>проведение свадьбы</td>\n",
       "    </tr>\n",
       "    <tr>\n",
       "      <th>9</th>\n",
       "      <td>0</td>\n",
       "      <td>0.0</td>\n",
       "      <td>1</td>\n",
       "      <td>женат / замужем</td>\n",
       "      <td>0</td>\n",
       "      <td>M</td>\n",
       "      <td>сотрудник</td>\n",
       "      <td>0</td>\n",
       "      <td>144425</td>\n",
       "      <td>покупка жилья для семьи</td>\n",
       "      <td>C</td>\n",
       "      <td>операции с недвижимостью</td>\n",
       "    </tr>\n",
       "    <tr>\n",
       "      <th>10</th>\n",
       "      <td>2</td>\n",
       "      <td>2.0</td>\n",
       "      <td>0</td>\n",
       "      <td>женат / замужем</td>\n",
       "      <td>0</td>\n",
       "      <td>M</td>\n",
       "      <td>компаньон</td>\n",
       "      <td>0</td>\n",
       "      <td>113943</td>\n",
       "      <td>покупка недвижимости</td>\n",
       "      <td>C</td>\n",
       "      <td>операции с недвижимостью</td>\n",
       "    </tr>\n",
       "    <tr>\n",
       "      <th>11</th>\n",
       "      <td>0</td>\n",
       "      <td>0.0</td>\n",
       "      <td>1</td>\n",
       "      <td>женат / замужем</td>\n",
       "      <td>0</td>\n",
       "      <td>F</td>\n",
       "      <td>сотрудник</td>\n",
       "      <td>0</td>\n",
       "      <td>77069</td>\n",
       "      <td>покупка коммерческой недвижимости</td>\n",
       "      <td>C</td>\n",
       "      <td>операции с недвижимостью</td>\n",
       "    </tr>\n",
       "    <tr>\n",
       "      <th>12</th>\n",
       "      <td>0</td>\n",
       "      <td>0.0</td>\n",
       "      <td>1</td>\n",
       "      <td>гражданский брак</td>\n",
       "      <td>1</td>\n",
       "      <td>M</td>\n",
       "      <td>пенсионер</td>\n",
       "      <td>0</td>\n",
       "      <td>145020</td>\n",
       "      <td>сыграть свадьбу</td>\n",
       "      <td>C</td>\n",
       "      <td>проведение свадьбы</td>\n",
       "    </tr>\n",
       "    <tr>\n",
       "      <th>13</th>\n",
       "      <td>0</td>\n",
       "      <td>0.0</td>\n",
       "      <td>2</td>\n",
       "      <td>женат / замужем</td>\n",
       "      <td>0</td>\n",
       "      <td>F</td>\n",
       "      <td>сотрудник</td>\n",
       "      <td>0</td>\n",
       "      <td>130458</td>\n",
       "      <td>приобретение автомобиля</td>\n",
       "      <td>C</td>\n",
       "      <td>операции с автомобилем</td>\n",
       "    </tr>\n",
       "    <tr>\n",
       "      <th>14</th>\n",
       "      <td>0</td>\n",
       "      <td>0.0</td>\n",
       "      <td>0</td>\n",
       "      <td>гражданский брак</td>\n",
       "      <td>1</td>\n",
       "      <td>F</td>\n",
       "      <td>компаньон</td>\n",
       "      <td>1</td>\n",
       "      <td>165127</td>\n",
       "      <td>покупка жилой недвижимости</td>\n",
       "      <td>C</td>\n",
       "      <td>операции с недвижимостью</td>\n",
       "    </tr>\n",
       "    <tr>\n",
       "      <th>15</th>\n",
       "      <td>1</td>\n",
       "      <td>1.0</td>\n",
       "      <td>1</td>\n",
       "      <td>женат / замужем</td>\n",
       "      <td>0</td>\n",
       "      <td>F</td>\n",
       "      <td>сотрудник</td>\n",
       "      <td>0</td>\n",
       "      <td>116820</td>\n",
       "      <td>строительство собственной недвижимости</td>\n",
       "      <td>C</td>\n",
       "      <td>операции с недвижимостью</td>\n",
       "    </tr>\n",
       "    <tr>\n",
       "      <th>16</th>\n",
       "      <td>0</td>\n",
       "      <td>0.0</td>\n",
       "      <td>1</td>\n",
       "      <td>женат / замужем</td>\n",
       "      <td>0</td>\n",
       "      <td>F</td>\n",
       "      <td>сотрудник</td>\n",
       "      <td>0</td>\n",
       "      <td>289202</td>\n",
       "      <td>недвижимость</td>\n",
       "      <td>B</td>\n",
       "      <td>операции с недвижимостью</td>\n",
       "    </tr>\n",
       "    <tr>\n",
       "      <th>17</th>\n",
       "      <td>0</td>\n",
       "      <td>0.0</td>\n",
       "      <td>0</td>\n",
       "      <td>гражданский брак</td>\n",
       "      <td>1</td>\n",
       "      <td>M</td>\n",
       "      <td>сотрудник</td>\n",
       "      <td>0</td>\n",
       "      <td>90410</td>\n",
       "      <td>строительство недвижимости</td>\n",
       "      <td>C</td>\n",
       "      <td>операции с недвижимостью</td>\n",
       "    </tr>\n",
       "    <tr>\n",
       "      <th>18</th>\n",
       "      <td>0</td>\n",
       "      <td>0.0</td>\n",
       "      <td>1</td>\n",
       "      <td>вдовец / вдова</td>\n",
       "      <td>2</td>\n",
       "      <td>F</td>\n",
       "      <td>пенсионер</td>\n",
       "      <td>0</td>\n",
       "      <td>56823</td>\n",
       "      <td>на покупку подержанного автомобиля</td>\n",
       "      <td>C</td>\n",
       "      <td>операции с автомобилем</td>\n",
       "    </tr>\n",
       "    <tr>\n",
       "      <th>19</th>\n",
       "      <td>0</td>\n",
       "      <td>0.0</td>\n",
       "      <td>1</td>\n",
       "      <td>в разводе</td>\n",
       "      <td>3</td>\n",
       "      <td>F</td>\n",
       "      <td>сотрудник</td>\n",
       "      <td>0</td>\n",
       "      <td>242831</td>\n",
       "      <td>на покупку своего автомобиля</td>\n",
       "      <td>B</td>\n",
       "      <td>операции с автомобилем</td>\n",
       "    </tr>\n",
       "    <tr>\n",
       "      <th>20</th>\n",
       "      <td>1</td>\n",
       "      <td>1.0</td>\n",
       "      <td>1</td>\n",
       "      <td>женат / замужем</td>\n",
       "      <td>0</td>\n",
       "      <td>M</td>\n",
       "      <td>сотрудник</td>\n",
       "      <td>0</td>\n",
       "      <td>209552</td>\n",
       "      <td>недвижимость</td>\n",
       "      <td>B</td>\n",
       "      <td>операции с недвижимостью</td>\n",
       "    </tr>\n",
       "    <tr>\n",
       "      <th>21</th>\n",
       "      <td>1</td>\n",
       "      <td>1.0</td>\n",
       "      <td>1</td>\n",
       "      <td>гражданский брак</td>\n",
       "      <td>1</td>\n",
       "      <td>F</td>\n",
       "      <td>сотрудник</td>\n",
       "      <td>0</td>\n",
       "      <td>131812</td>\n",
       "      <td>приобретение автомобиля</td>\n",
       "      <td>C</td>\n",
       "      <td>операции с автомобилем</td>\n",
       "    </tr>\n",
       "    <tr>\n",
       "      <th>22</th>\n",
       "      <td>1</td>\n",
       "      <td>1.0</td>\n",
       "      <td>1</td>\n",
       "      <td>гражданский брак</td>\n",
       "      <td>1</td>\n",
       "      <td>F</td>\n",
       "      <td>сотрудник</td>\n",
       "      <td>0</td>\n",
       "      <td>149681</td>\n",
       "      <td>на покупку подержанного автомобиля</td>\n",
       "      <td>C</td>\n",
       "      <td>операции с автомобилем</td>\n",
       "    </tr>\n",
       "    <tr>\n",
       "      <th>23</th>\n",
       "      <td>0</td>\n",
       "      <td>0.0</td>\n",
       "      <td>0</td>\n",
       "      <td>гражданский брак</td>\n",
       "      <td>1</td>\n",
       "      <td>M</td>\n",
       "      <td>сотрудник</td>\n",
       "      <td>0</td>\n",
       "      <td>128265</td>\n",
       "      <td>сыграть свадьбу</td>\n",
       "      <td>C</td>\n",
       "      <td>проведение свадьбы</td>\n",
       "    </tr>\n",
       "    <tr>\n",
       "      <th>24</th>\n",
       "      <td>1</td>\n",
       "      <td>1.0</td>\n",
       "      <td>1</td>\n",
       "      <td>не женат / не замужем</td>\n",
       "      <td>4</td>\n",
       "      <td>F</td>\n",
       "      <td>пенсионер</td>\n",
       "      <td>0</td>\n",
       "      <td>290547</td>\n",
       "      <td>операции с коммерческой недвижимостью</td>\n",
       "      <td>B</td>\n",
       "      <td>операции с недвижимостью</td>\n",
       "    </tr>\n",
       "    <tr>\n",
       "      <th>25</th>\n",
       "      <td>0</td>\n",
       "      <td>0.0</td>\n",
       "      <td>1</td>\n",
       "      <td>женат / замужем</td>\n",
       "      <td>0</td>\n",
       "      <td>M</td>\n",
       "      <td>пенсионер</td>\n",
       "      <td>0</td>\n",
       "      <td>55112</td>\n",
       "      <td>покупка недвижимости</td>\n",
       "      <td>C</td>\n",
       "      <td>операции с недвижимостью</td>\n",
       "    </tr>\n",
       "    <tr>\n",
       "      <th>26</th>\n",
       "      <td>0</td>\n",
       "      <td>0.0</td>\n",
       "      <td>1</td>\n",
       "      <td>женат / замужем</td>\n",
       "      <td>0</td>\n",
       "      <td>M</td>\n",
       "      <td>госслужащий</td>\n",
       "      <td>0</td>\n",
       "      <td>145020</td>\n",
       "      <td>образование</td>\n",
       "      <td>C</td>\n",
       "      <td>получение образования</td>\n",
       "    </tr>\n",
       "    <tr>\n",
       "      <th>27</th>\n",
       "      <td>0</td>\n",
       "      <td>0.0</td>\n",
       "      <td>0</td>\n",
       "      <td>женат / замужем</td>\n",
       "      <td>0</td>\n",
       "      <td>M</td>\n",
       "      <td>сотрудник</td>\n",
       "      <td>0</td>\n",
       "      <td>308848</td>\n",
       "      <td>строительство собственной недвижимости</td>\n",
       "      <td>B</td>\n",
       "      <td>операции с недвижимостью</td>\n",
       "    </tr>\n",
       "    <tr>\n",
       "      <th>28</th>\n",
       "      <td>1</td>\n",
       "      <td>1.0</td>\n",
       "      <td>0</td>\n",
       "      <td>женат / замужем</td>\n",
       "      <td>0</td>\n",
       "      <td>F</td>\n",
       "      <td>сотрудник</td>\n",
       "      <td>0</td>\n",
       "      <td>187863</td>\n",
       "      <td>строительство собственной недвижимости</td>\n",
       "      <td>C</td>\n",
       "      <td>операции с недвижимостью</td>\n",
       "    </tr>\n",
       "    <tr>\n",
       "      <th>29</th>\n",
       "      <td>0</td>\n",
       "      <td>0.0</td>\n",
       "      <td>1</td>\n",
       "      <td>не женат / не замужем</td>\n",
       "      <td>4</td>\n",
       "      <td>F</td>\n",
       "      <td>пенсионер</td>\n",
       "      <td>0</td>\n",
       "      <td>145020</td>\n",
       "      <td>строительство жилой недвижимости</td>\n",
       "      <td>C</td>\n",
       "      <td>операции с недвижимостью</td>\n",
       "    </tr>\n",
       "    <tr>\n",
       "      <th>30</th>\n",
       "      <td>1</td>\n",
       "      <td>1.0</td>\n",
       "      <td>1</td>\n",
       "      <td>женат / замужем</td>\n",
       "      <td>0</td>\n",
       "      <td>F</td>\n",
       "      <td>пенсионер</td>\n",
       "      <td>0</td>\n",
       "      <td>171456</td>\n",
       "      <td>операции с коммерческой недвижимостью</td>\n",
       "      <td>C</td>\n",
       "      <td>операции с недвижимостью</td>\n",
       "    </tr>\n",
       "    <tr>\n",
       "      <th>31</th>\n",
       "      <td>0</td>\n",
       "      <td>0.0</td>\n",
       "      <td>3</td>\n",
       "      <td>женат / замужем</td>\n",
       "      <td>0</td>\n",
       "      <td>F</td>\n",
       "      <td>сотрудник</td>\n",
       "      <td>0</td>\n",
       "      <td>275485</td>\n",
       "      <td>жилье</td>\n",
       "      <td>B</td>\n",
       "      <td>операции с недвижимостью</td>\n",
       "    </tr>\n",
       "    <tr>\n",
       "      <th>32</th>\n",
       "      <td>0</td>\n",
       "      <td>0.0</td>\n",
       "      <td>1</td>\n",
       "      <td>гражданский брак</td>\n",
       "      <td>1</td>\n",
       "      <td>F</td>\n",
       "      <td>сотрудник</td>\n",
       "      <td>1</td>\n",
       "      <td>139057</td>\n",
       "      <td>на проведение свадьбы</td>\n",
       "      <td>C</td>\n",
       "      <td>проведение свадьбы</td>\n",
       "    </tr>\n",
       "    <tr>\n",
       "      <th>33</th>\n",
       "      <td>0</td>\n",
       "      <td>0.0</td>\n",
       "      <td>1</td>\n",
       "      <td>женат / замужем</td>\n",
       "      <td>0</td>\n",
       "      <td>F</td>\n",
       "      <td>компаньон</td>\n",
       "      <td>0</td>\n",
       "      <td>157245</td>\n",
       "      <td>покупка жилья</td>\n",
       "      <td>C</td>\n",
       "      <td>операции с недвижимостью</td>\n",
       "    </tr>\n",
       "    <tr>\n",
       "      <th>34</th>\n",
       "      <td>0</td>\n",
       "      <td>0.0</td>\n",
       "      <td>1</td>\n",
       "      <td>женат / замужем</td>\n",
       "      <td>0</td>\n",
       "      <td>F</td>\n",
       "      <td>сотрудник</td>\n",
       "      <td>0</td>\n",
       "      <td>104660</td>\n",
       "      <td>операции со своей недвижимостью</td>\n",
       "      <td>C</td>\n",
       "      <td>операции с недвижимостью</td>\n",
       "    </tr>\n",
       "    <tr>\n",
       "      <th>35</th>\n",
       "      <td>0</td>\n",
       "      <td>0.0</td>\n",
       "      <td>1</td>\n",
       "      <td>гражданский брак</td>\n",
       "      <td>1</td>\n",
       "      <td>M</td>\n",
       "      <td>пенсионер</td>\n",
       "      <td>0</td>\n",
       "      <td>77805</td>\n",
       "      <td>на проведение свадьбы</td>\n",
       "      <td>C</td>\n",
       "      <td>проведение свадьбы</td>\n",
       "    </tr>\n",
       "    <tr>\n",
       "      <th>36</th>\n",
       "      <td>0</td>\n",
       "      <td>0.0</td>\n",
       "      <td>1</td>\n",
       "      <td>не женат / не замужем</td>\n",
       "      <td>4</td>\n",
       "      <td>M</td>\n",
       "      <td>сотрудник</td>\n",
       "      <td>0</td>\n",
       "      <td>138830</td>\n",
       "      <td>автомобили</td>\n",
       "      <td>C</td>\n",
       "      <td>операции с автомобилем</td>\n",
       "    </tr>\n",
       "    <tr>\n",
       "      <th>37</th>\n",
       "      <td>0</td>\n",
       "      <td>0.0</td>\n",
       "      <td>0</td>\n",
       "      <td>гражданский брак</td>\n",
       "      <td>1</td>\n",
       "      <td>F</td>\n",
       "      <td>компаньон</td>\n",
       "      <td>0</td>\n",
       "      <td>154128</td>\n",
       "      <td>приобретение автомобиля</td>\n",
       "      <td>C</td>\n",
       "      <td>операции с автомобилем</td>\n",
       "    </tr>\n",
       "    <tr>\n",
       "      <th>38</th>\n",
       "      <td>0</td>\n",
       "      <td>0.0</td>\n",
       "      <td>0</td>\n",
       "      <td>не женат / не замужем</td>\n",
       "      <td>4</td>\n",
       "      <td>M</td>\n",
       "      <td>сотрудник</td>\n",
       "      <td>1</td>\n",
       "      <td>192247</td>\n",
       "      <td>образование</td>\n",
       "      <td>C</td>\n",
       "      <td>получение образования</td>\n",
       "    </tr>\n",
       "    <tr>\n",
       "      <th>39</th>\n",
       "      <td>0</td>\n",
       "      <td>0.0</td>\n",
       "      <td>0</td>\n",
       "      <td>гражданский брак</td>\n",
       "      <td>1</td>\n",
       "      <td>F</td>\n",
       "      <td>компаньон</td>\n",
       "      <td>0</td>\n",
       "      <td>754240</td>\n",
       "      <td>заняться образованием</td>\n",
       "      <td>B</td>\n",
       "      <td>получение образования</td>\n",
       "    </tr>\n",
       "    <tr>\n",
       "      <th>40</th>\n",
       "      <td>0</td>\n",
       "      <td>0.0</td>\n",
       "      <td>1</td>\n",
       "      <td>не женат / не замужем</td>\n",
       "      <td>4</td>\n",
       "      <td>M</td>\n",
       "      <td>компаньон</td>\n",
       "      <td>0</td>\n",
       "      <td>142865</td>\n",
       "      <td>покупка недвижимости</td>\n",
       "      <td>C</td>\n",
       "      <td>операции с недвижимостью</td>\n",
       "    </tr>\n",
       "    <tr>\n",
       "      <th>41</th>\n",
       "      <td>0</td>\n",
       "      <td>0.0</td>\n",
       "      <td>1</td>\n",
       "      <td>женат / замужем</td>\n",
       "      <td>0</td>\n",
       "      <td>F</td>\n",
       "      <td>госслужащий</td>\n",
       "      <td>0</td>\n",
       "      <td>145020</td>\n",
       "      <td>сделка с подержанным автомобилем</td>\n",
       "      <td>C</td>\n",
       "      <td>операции с автомобилем</td>\n",
       "    </tr>\n",
       "    <tr>\n",
       "      <th>42</th>\n",
       "      <td>0</td>\n",
       "      <td>0.0</td>\n",
       "      <td>2</td>\n",
       "      <td>не женат / не замужем</td>\n",
       "      <td>4</td>\n",
       "      <td>F</td>\n",
       "      <td>сотрудник</td>\n",
       "      <td>0</td>\n",
       "      <td>82065</td>\n",
       "      <td>получение образования</td>\n",
       "      <td>C</td>\n",
       "      <td>получение образования</td>\n",
       "    </tr>\n",
       "    <tr>\n",
       "      <th>43</th>\n",
       "      <td>0</td>\n",
       "      <td>0.0</td>\n",
       "      <td>2</td>\n",
       "      <td>в разводе</td>\n",
       "      <td>3</td>\n",
       "      <td>F</td>\n",
       "      <td>компаньон</td>\n",
       "      <td>0</td>\n",
       "      <td>272957</td>\n",
       "      <td>приобретение автомобиля</td>\n",
       "      <td>B</td>\n",
       "      <td>операции с автомобилем</td>\n",
       "    </tr>\n",
       "    <tr>\n",
       "      <th>44</th>\n",
       "      <td>1</td>\n",
       "      <td>1.0</td>\n",
       "      <td>1</td>\n",
       "      <td>женат / замужем</td>\n",
       "      <td>0</td>\n",
       "      <td>F</td>\n",
       "      <td>сотрудник</td>\n",
       "      <td>0</td>\n",
       "      <td>100780</td>\n",
       "      <td>на покупку своего автомобиля</td>\n",
       "      <td>C</td>\n",
       "      <td>операции с автомобилем</td>\n",
       "    </tr>\n",
       "    <tr>\n",
       "      <th>45</th>\n",
       "      <td>1</td>\n",
       "      <td>1.0</td>\n",
       "      <td>1</td>\n",
       "      <td>не женат / не замужем</td>\n",
       "      <td>4</td>\n",
       "      <td>F</td>\n",
       "      <td>сотрудник</td>\n",
       "      <td>0</td>\n",
       "      <td>106385</td>\n",
       "      <td>заняться образованием</td>\n",
       "      <td>C</td>\n",
       "      <td>получение образования</td>\n",
       "    </tr>\n",
       "    <tr>\n",
       "      <th>46</th>\n",
       "      <td>2</td>\n",
       "      <td>2.0</td>\n",
       "      <td>1</td>\n",
       "      <td>женат / замужем</td>\n",
       "      <td>0</td>\n",
       "      <td>F</td>\n",
       "      <td>компаньон</td>\n",
       "      <td>0</td>\n",
       "      <td>182682</td>\n",
       "      <td>сделка с подержанным автомобилем</td>\n",
       "      <td>C</td>\n",
       "      <td>операции с автомобилем</td>\n",
       "    </tr>\n",
       "    <tr>\n",
       "      <th>47</th>\n",
       "      <td>1</td>\n",
       "      <td>1.0</td>\n",
       "      <td>0</td>\n",
       "      <td>гражданский брак</td>\n",
       "      <td>1</td>\n",
       "      <td>M</td>\n",
       "      <td>госслужащий</td>\n",
       "      <td>0</td>\n",
       "      <td>356277</td>\n",
       "      <td>на проведение свадьбы</td>\n",
       "      <td>B</td>\n",
       "      <td>проведение свадьбы</td>\n",
       "    </tr>\n",
       "    <tr>\n",
       "      <th>48</th>\n",
       "      <td>0</td>\n",
       "      <td>0.0</td>\n",
       "      <td>1</td>\n",
       "      <td>женат / замужем</td>\n",
       "      <td>0</td>\n",
       "      <td>F</td>\n",
       "      <td>сотрудник</td>\n",
       "      <td>0</td>\n",
       "      <td>162065</td>\n",
       "      <td>строительство собственной недвижимости</td>\n",
       "      <td>C</td>\n",
       "      <td>операции с недвижимостью</td>\n",
       "    </tr>\n",
       "    <tr>\n",
       "      <th>49</th>\n",
       "      <td>0</td>\n",
       "      <td>0.0</td>\n",
       "      <td>1</td>\n",
       "      <td>женат / замужем</td>\n",
       "      <td>0</td>\n",
       "      <td>F</td>\n",
       "      <td>сотрудник</td>\n",
       "      <td>0</td>\n",
       "      <td>44591</td>\n",
       "      <td>автомобиль</td>\n",
       "      <td>D</td>\n",
       "      <td>операции с автомобилем</td>\n",
       "    </tr>\n",
       "  </tbody>\n",
       "</table>\n",
       "</div>"
      ],
      "text/plain": [
       "    children dob_years  education_id          family_status  family_status_id  \\\n",
       "0          1       1.0             0        женат / замужем                 0   \n",
       "1          1       1.0             1        женат / замужем                 0   \n",
       "2          0       0.0             1        женат / замужем                 0   \n",
       "3          3       3.0             1        женат / замужем                 0   \n",
       "4          0       0.0             1       гражданский брак                 1   \n",
       "5          0       0.0             0       гражданский брак                 1   \n",
       "6          0       0.0             0        женат / замужем                 0   \n",
       "7          0       0.0             1        женат / замужем                 0   \n",
       "8          2       2.0             0       гражданский брак                 1   \n",
       "9          0       0.0             1        женат / замужем                 0   \n",
       "10         2       2.0             0        женат / замужем                 0   \n",
       "11         0       0.0             1        женат / замужем                 0   \n",
       "12         0       0.0             1       гражданский брак                 1   \n",
       "13         0       0.0             2        женат / замужем                 0   \n",
       "14         0       0.0             0       гражданский брак                 1   \n",
       "15         1       1.0             1        женат / замужем                 0   \n",
       "16         0       0.0             1        женат / замужем                 0   \n",
       "17         0       0.0             0       гражданский брак                 1   \n",
       "18         0       0.0             1         вдовец / вдова                 2   \n",
       "19         0       0.0             1              в разводе                 3   \n",
       "20         1       1.0             1        женат / замужем                 0   \n",
       "21         1       1.0             1       гражданский брак                 1   \n",
       "22         1       1.0             1       гражданский брак                 1   \n",
       "23         0       0.0             0       гражданский брак                 1   \n",
       "24         1       1.0             1  не женат / не замужем                 4   \n",
       "25         0       0.0             1        женат / замужем                 0   \n",
       "26         0       0.0             1        женат / замужем                 0   \n",
       "27         0       0.0             0        женат / замужем                 0   \n",
       "28         1       1.0             0        женат / замужем                 0   \n",
       "29         0       0.0             1  не женат / не замужем                 4   \n",
       "30         1       1.0             1        женат / замужем                 0   \n",
       "31         0       0.0             3        женат / замужем                 0   \n",
       "32         0       0.0             1       гражданский брак                 1   \n",
       "33         0       0.0             1        женат / замужем                 0   \n",
       "34         0       0.0             1        женат / замужем                 0   \n",
       "35         0       0.0             1       гражданский брак                 1   \n",
       "36         0       0.0             1  не женат / не замужем                 4   \n",
       "37         0       0.0             0       гражданский брак                 1   \n",
       "38         0       0.0             0  не женат / не замужем                 4   \n",
       "39         0       0.0             0       гражданский брак                 1   \n",
       "40         0       0.0             1  не женат / не замужем                 4   \n",
       "41         0       0.0             1        женат / замужем                 0   \n",
       "42         0       0.0             2  не женат / не замужем                 4   \n",
       "43         0       0.0             2              в разводе                 3   \n",
       "44         1       1.0             1        женат / замужем                 0   \n",
       "45         1       1.0             1  не женат / не замужем                 4   \n",
       "46         2       2.0             1        женат / замужем                 0   \n",
       "47         1       1.0             0       гражданский брак                 1   \n",
       "48         0       0.0             1        женат / замужем                 0   \n",
       "49         0       0.0             1        женат / замужем                 0   \n",
       "\n",
       "   gender  income_type  debt  total_income  \\\n",
       "0       F    сотрудник     0        253875   \n",
       "1       F    сотрудник     0        112080   \n",
       "2       M    сотрудник     0        145885   \n",
       "3       M    сотрудник     0        267628   \n",
       "4       F    пенсионер     0        158616   \n",
       "5       M    компаньон     0        255763   \n",
       "6       F    компаньон     0        240525   \n",
       "7       M    сотрудник     0        135823   \n",
       "8       F    сотрудник     0         95856   \n",
       "9       M    сотрудник     0        144425   \n",
       "10      M    компаньон     0        113943   \n",
       "11      F    сотрудник     0         77069   \n",
       "12      M    пенсионер     0        145020   \n",
       "13      F    сотрудник     0        130458   \n",
       "14      F    компаньон     1        165127   \n",
       "15      F    сотрудник     0        116820   \n",
       "16      F    сотрудник     0        289202   \n",
       "17      M    сотрудник     0         90410   \n",
       "18      F    пенсионер     0         56823   \n",
       "19      F    сотрудник     0        242831   \n",
       "20      M    сотрудник     0        209552   \n",
       "21      F    сотрудник     0        131812   \n",
       "22      F    сотрудник     0        149681   \n",
       "23      M    сотрудник     0        128265   \n",
       "24      F    пенсионер     0        290547   \n",
       "25      M    пенсионер     0         55112   \n",
       "26      M  госслужащий     0        145020   \n",
       "27      M    сотрудник     0        308848   \n",
       "28      F    сотрудник     0        187863   \n",
       "29      F    пенсионер     0        145020   \n",
       "30      F    пенсионер     0        171456   \n",
       "31      F    сотрудник     0        275485   \n",
       "32      F    сотрудник     1        139057   \n",
       "33      F    компаньон     0        157245   \n",
       "34      F    сотрудник     0        104660   \n",
       "35      M    пенсионер     0         77805   \n",
       "36      M    сотрудник     0        138830   \n",
       "37      F    компаньон     0        154128   \n",
       "38      M    сотрудник     1        192247   \n",
       "39      F    компаньон     0        754240   \n",
       "40      M    компаньон     0        142865   \n",
       "41      F  госслужащий     0        145020   \n",
       "42      F    сотрудник     0         82065   \n",
       "43      F    компаньон     0        272957   \n",
       "44      F    сотрудник     0        100780   \n",
       "45      F    сотрудник     0        106385   \n",
       "46      F    компаньон     0        182682   \n",
       "47      M  госслужащий     0        356277   \n",
       "48      F    сотрудник     0        162065   \n",
       "49      F    сотрудник     0         44591   \n",
       "\n",
       "                                   purpose total_income_category  \\\n",
       "0                            покупка жилья                     B   \n",
       "1                  приобретение автомобиля                     C   \n",
       "2                            покупка жилья                     C   \n",
       "3               дополнительное образование                     B   \n",
       "4                          сыграть свадьбу                     C   \n",
       "5                            покупка жилья                     B   \n",
       "6                        операции с жильем                     B   \n",
       "7                              образование                     C   \n",
       "8                    на проведение свадьбы                     C   \n",
       "9                  покупка жилья для семьи                     C   \n",
       "10                    покупка недвижимости                     C   \n",
       "11       покупка коммерческой недвижимости                     C   \n",
       "12                         сыграть свадьбу                     C   \n",
       "13                 приобретение автомобиля                     C   \n",
       "14              покупка жилой недвижимости                     C   \n",
       "15  строительство собственной недвижимости                     C   \n",
       "16                            недвижимость                     B   \n",
       "17              строительство недвижимости                     C   \n",
       "18      на покупку подержанного автомобиля                     C   \n",
       "19            на покупку своего автомобиля                     B   \n",
       "20                            недвижимость                     B   \n",
       "21                 приобретение автомобиля                     C   \n",
       "22      на покупку подержанного автомобиля                     C   \n",
       "23                         сыграть свадьбу                     C   \n",
       "24   операции с коммерческой недвижимостью                     B   \n",
       "25                    покупка недвижимости                     C   \n",
       "26                             образование                     C   \n",
       "27  строительство собственной недвижимости                     B   \n",
       "28  строительство собственной недвижимости                     C   \n",
       "29        строительство жилой недвижимости                     C   \n",
       "30   операции с коммерческой недвижимостью                     C   \n",
       "31                                   жилье                     B   \n",
       "32                   на проведение свадьбы                     C   \n",
       "33                           покупка жилья                     C   \n",
       "34         операции со своей недвижимостью                     C   \n",
       "35                   на проведение свадьбы                     C   \n",
       "36                              автомобили                     C   \n",
       "37                 приобретение автомобиля                     C   \n",
       "38                             образование                     C   \n",
       "39                   заняться образованием                     B   \n",
       "40                    покупка недвижимости                     C   \n",
       "41        сделка с подержанным автомобилем                     C   \n",
       "42                   получение образования                     C   \n",
       "43                 приобретение автомобиля                     B   \n",
       "44            на покупку своего автомобиля                     C   \n",
       "45                   заняться образованием                     C   \n",
       "46        сделка с подержанным автомобилем                     C   \n",
       "47                   на проведение свадьбы                     B   \n",
       "48  строительство собственной недвижимости                     C   \n",
       "49                              автомобиль                     D   \n",
       "\n",
       "            purpose_category  \n",
       "0   операции с недвижимостью  \n",
       "1     операции с автомобилем  \n",
       "2   операции с недвижимостью  \n",
       "3      получение образования  \n",
       "4         проведение свадьбы  \n",
       "5   операции с недвижимостью  \n",
       "6   операции с недвижимостью  \n",
       "7      получение образования  \n",
       "8         проведение свадьбы  \n",
       "9   операции с недвижимостью  \n",
       "10  операции с недвижимостью  \n",
       "11  операции с недвижимостью  \n",
       "12        проведение свадьбы  \n",
       "13    операции с автомобилем  \n",
       "14  операции с недвижимостью  \n",
       "15  операции с недвижимостью  \n",
       "16  операции с недвижимостью  \n",
       "17  операции с недвижимостью  \n",
       "18    операции с автомобилем  \n",
       "19    операции с автомобилем  \n",
       "20  операции с недвижимостью  \n",
       "21    операции с автомобилем  \n",
       "22    операции с автомобилем  \n",
       "23        проведение свадьбы  \n",
       "24  операции с недвижимостью  \n",
       "25  операции с недвижимостью  \n",
       "26     получение образования  \n",
       "27  операции с недвижимостью  \n",
       "28  операции с недвижимостью  \n",
       "29  операции с недвижимостью  \n",
       "30  операции с недвижимостью  \n",
       "31  операции с недвижимостью  \n",
       "32        проведение свадьбы  \n",
       "33  операции с недвижимостью  \n",
       "34  операции с недвижимостью  \n",
       "35        проведение свадьбы  \n",
       "36    операции с автомобилем  \n",
       "37    операции с автомобилем  \n",
       "38     получение образования  \n",
       "39     получение образования  \n",
       "40  операции с недвижимостью  \n",
       "41    операции с автомобилем  \n",
       "42     получение образования  \n",
       "43    операции с автомобилем  \n",
       "44    операции с автомобилем  \n",
       "45     получение образования  \n",
       "46    операции с автомобилем  \n",
       "47        проведение свадьбы  \n",
       "48  операции с недвижимостью  \n",
       "49    операции с автомобилем  "
      ]
     },
     "execution_count": 72,
     "metadata": {},
     "output_type": "execute_result"
    }
   ],
   "source": [
    "def purpose_category(purpose):\n",
    "    for purpose_category in purpose:\n",
    "        if 'автомобил' in purpose:\n",
    "            return 'операции с автомобилем'\n",
    "        if  ('недвиж' in purpose) or('жиль' in purpose):\n",
    "            return 'операции с недвижимостью'\n",
    "        if 'свадьб' in purpose:\n",
    "            return 'проведение свадьбы'\n",
    "        if 'образован' in purpose:\n",
    "            return 'получение образования'\n",
    "        return 'другое'\n",
    "data['purpose_category'] = data['purpose'].apply(purpose_category)\n",
    "data.head(50)"
   ]
  },
  {
   "cell_type": "markdown",
   "id": "4bfe970f",
   "metadata": {},
   "source": [
    "## Ответы на вопросы"
   ]
  },
  {
   "cell_type": "markdown",
   "id": "dae9d14e",
   "metadata": {},
   "source": [
    "### Узнаем, есть ли зависимость между количеством детей и возвратом кредита в срок"
   ]
  },
  {
   "cell_type": "code",
   "execution_count": 73,
   "id": "4fbf9000",
   "metadata": {},
   "outputs": [
    {
     "name": "stdout",
     "output_type": "stream",
     "text": [
      "children        0       1       2      3     4    5\n",
      "debt                                               \n",
      "0         13086.0  4374.0  1861.0  303.0  37.0  9.0\n",
      "1          1063.0   444.0   194.0   27.0   4.0  NaN\n",
      "8.12%   Нет детей\n",
      "10.15%  1 Ребенок\n",
      "10.42%  2 Ребенка\n",
      "8.91%   3 Ребенка\n",
      "10.81%  4 Ребенка\n",
      "nan%    5 Детей\n"
     ]
    }
   ],
   "source": [
    "data_pivot_children = data.pivot_table(index=['debt'], columns='children', values = 'family_status_id', aggfunc='count')\n",
    "print(data_pivot_children.head())\n",
    "children_0 = data_pivot_children[0][1] / data_pivot_children[0][0] \n",
    "children_1 = data_pivot_children[1][1] / data_pivot_children[1][0] \n",
    "children_2 = data_pivot_children[2][1] / data_pivot_children[2][0]\n",
    "children_3 = data_pivot_children[3][1] / data_pivot_children[3][0] \n",
    "children_4 = data_pivot_children[4][1] / data_pivot_children[4][0]\n",
    "children_5 = data_pivot_children[5][1] / data_pivot_children[5][0]\n",
    "\n",
    "print(\"{0:.2f}%   Нет детей\".format(children_0*100))\n",
    "print(\"{0:.2f}%  1 Ребенок\".format(children_1*100))\n",
    "print(\"{0:.2f}%  2 Ребенка\".format(children_2*100))\n",
    "print(\"{0:.2f}%   3 Ребенка\".format(children_3*100))\n",
    "print(\"{0:.2f}%  4 Ребенка\".format(children_4*100))\n",
    "print(\"{0:.2f}%    5 Детей\".format(children_5*100))"
   ]
  },
  {
   "cell_type": "markdown",
   "id": "3a845eed",
   "metadata": {},
   "source": [
    "В основном при увеличении детей в семье растёт процент невыплаты. Исключение составляют семьи с 3-мя и 5-ю детьми. Для более точных утверждений надо знать количество детей в семье при выплате кредита."
   ]
  },
  {
   "cell_type": "markdown",
   "id": "3ca5d98d",
   "metadata": {},
   "source": [
    "### Узнаем, есть ли зависимость между семейным положением и возвратом кредита в срок"
   ]
  },
  {
   "cell_type": "code",
   "execution_count": 74,
   "id": "0eb76876",
   "metadata": {},
   "outputs": [
    {
     "name": "stdout",
     "output_type": "stream",
     "text": [
      "family_status  в разводе  вдовец / вдова  гражданский брак  женат / замужем  \\\n",
      "debt                                                                          \n",
      "0                   1095             885              3756            11331   \n",
      "1                     84              62               383              923   \n",
      "\n",
      "family_status  не женат / не замужем  \n",
      "debt                                  \n",
      "0                               2511  \n",
      "1                                272  \n",
      "10.83% не женат / не замужем\n",
      "7.67%  в разводе\n",
      "7.01%  вдовец / вдова\n",
      "10.20% гражданский брак\n",
      "8.15%  женат / замужем\n"
     ]
    }
   ],
   "source": [
    "data_pivot_family = data.pivot_table(index=['debt'], columns='family_status',values='dob_years',  aggfunc='count')\n",
    "print(data_pivot_family)\n",
    "no_family = data_pivot_family['не женат / не замужем'][1] / data_pivot_family['не женат / не замужем'][0]\n",
    "divorce = data_pivot_family['в разводе'][1] / data_pivot_family['в разводе'][0]\n",
    "widow = data_pivot_family['вдовец / вдова'][1] / data_pivot_family['вдовец / вдова'][0]\n",
    "partner = data_pivot_family['гражданский брак'][1] / data_pivot_family['гражданский брак'][0]\n",
    "family = data_pivot_family['женат / замужем'][1] / data_pivot_family['женат / замужем'][0]\n",
    "print('{0:.2f}% не женат / не замужем'.format(no_family*100))\n",
    "print('{0:.2f}%  в разводе'.format(divorce*100))\n",
    "print('{0:.2f}%  вдовец / вдова'.format(widow*100))\n",
    "print('{0:.2f}% гражданский брак'.format(partner*100))\n",
    "print('{0:.2f}%  женат / замужем'.format(family*100))"
   ]
  },
  {
   "cell_type": "markdown",
   "id": "01e061ff",
   "metadata": {},
   "source": [
    "Самый большой процент просрочек у не женатых и незарегистрировавших свой брак. Значительно реже просрочки встречаются у женатых и разведёных. Можно предположить, что семейные пары серьезней относятся к кредитным обязанностям, а разведёные при расставании разделяют обязательства. Самые ответственные заёмщики - вдовцы. Как и в предыдущем вопросе, мы не знаем семейное положение на конец обслуживания кредита."
   ]
  },
  {
   "cell_type": "markdown",
   "id": "b7c5b78f",
   "metadata": {},
   "source": [
    "### Узнаем, есть ли зависимость между уровнем дохода и возвратом кредита в срок"
   ]
  },
  {
   "cell_type": "code",
   "execution_count": 75,
   "id": "e2435bc9",
   "metadata": {},
   "outputs": [
    {
     "name": "stdout",
     "output_type": "stream",
     "text": [
      "                       debt                    \n",
      "                        sum  count sum/count, %\n",
      "total_income_category                          \n",
      "A                         2     25     8.000000\n",
      "B                       354   5013     7.061640\n",
      "C                      1353  15993     8.459951\n",
      "D                        21    349     6.017192\n",
      "E                         2     22     9.090909\n"
     ]
    }
   ],
   "source": [
    "data_pivot_income_rating = data.groupby(['total_income_category']).agg({'debt':['sum', 'count']})\n",
    "data_pivot_income_rating[('debt', 'sum/count, %')] = data_pivot_income_rating[('debt', 'sum')] / data_pivot_income_rating[('debt', 'count')]*100\n",
    "print(data_pivot_income_rating)"
   ]
  },
  {
   "cell_type": "markdown",
   "id": "45803873",
   "metadata": {},
   "source": [
    "Больше всех кредитуется категория людей со средним уровнем дохода и показатель невозврата кредита в срок там наиболее большой. Люди с минимальным доходом лучше обслуживают кредит, чем клиенты со сверхвысоким. Самые ответственные клиенты с высоким доходом из группы \"B\". "
   ]
  },
  {
   "cell_type": "markdown",
   "id": "4e23ebe7",
   "metadata": {},
   "source": [
    "### Узнаем, как разные цели кредита влияют на его возврат в срок"
   ]
  },
  {
   "cell_type": "code",
   "execution_count": 76,
   "id": "f0493c2b",
   "metadata": {},
   "outputs": [
    {
     "name": "stdout",
     "output_type": "stream",
     "text": [
      "                         debt                 \n",
      "                          sum  count    part,%\n",
      "purpose_category                              \n",
      "операции с автомобилем    400   4288  9.328358\n",
      "операции с недвижимостью  780  10780  7.235622\n",
      "получение образования     369   3997  9.231924\n",
      "проведение свадьбы        183   2337  7.830552\n"
     ]
    }
   ],
   "source": [
    "data_pivot_purpose = data.groupby(['purpose_category']).agg({'debt':['sum', 'count']})\n",
    "data_pivot_purpose[('debt', 'part,%')] = data_pivot_purpose[('debt', 'sum')] / data_pivot_purpose[('debt', 'count')]*100\n",
    "print(data_pivot_purpose)"
   ]
  },
  {
   "cell_type": "markdown",
   "id": "3f577398",
   "metadata": {},
   "source": [
    "В процентном соотношении минимальная доля просрочек у приобретателей недвижимости, которая является залогом, что дисциплинирует. Молодожены также серьёзно относятся к кредитам.  \n",
    "\n",
    "Обслуживание категорий \"автомобиль\" и \"образование\" приносят банкам больше проблем."
   ]
  },
  {
   "cell_type": "markdown",
   "id": "a06d6d7b",
   "metadata": {},
   "source": [
    "## Общий вывод:"
   ]
  },
  {
   "cell_type": "markdown",
   "id": "9b779507",
   "metadata": {},
   "source": [
    "На основании входных данных от банка можно сделать вывод, что семейное положение, количество детей и уровень заработной платы значительно влияют на своевременный возврат кредита. Наиболее привлекательными для банков являются клиенты без детей, находящиеся в официальных отношениях, и приобретающие недвижимость. Наименее привлекательными являются клиенты с 1-2 детьми, находящиеся в  незарегистрированных отношениях, с целью кредита - свадьба или образование. "
   ]
  }
 ],
 "metadata": {
  "ExecuteTimeLog": [
   {
    "duration": 181,
    "start_time": "2022-03-24T10:46:58.195Z"
   },
   {
    "duration": 489,
    "start_time": "2022-03-24T10:47:15.428Z"
   },
   {
    "duration": 74,
    "start_time": "2022-03-24T10:48:58.259Z"
   },
   {
    "duration": 27,
    "start_time": "2022-03-24T10:55:29.936Z"
   },
   {
    "duration": 11,
    "start_time": "2022-03-24T10:55:37.970Z"
   },
   {
    "duration": 11,
    "start_time": "2022-03-24T10:57:39.369Z"
   },
   {
    "duration": 12,
    "start_time": "2022-03-24T10:57:48.248Z"
   },
   {
    "duration": 11,
    "start_time": "2022-03-24T10:58:07.458Z"
   },
   {
    "duration": 12,
    "start_time": "2022-03-24T10:58:45.344Z"
   },
   {
    "duration": 21,
    "start_time": "2022-03-24T10:59:13.632Z"
   },
   {
    "duration": 19,
    "start_time": "2022-03-24T11:00:11.417Z"
   },
   {
    "duration": 20,
    "start_time": "2022-03-24T11:00:24.080Z"
   },
   {
    "duration": 22,
    "start_time": "2022-03-24T11:00:32.751Z"
   },
   {
    "duration": 14,
    "start_time": "2022-03-24T11:14:30.044Z"
   },
   {
    "duration": 21,
    "start_time": "2022-03-24T11:14:39.195Z"
   },
   {
    "duration": 19,
    "start_time": "2022-03-24T11:18:05.095Z"
   },
   {
    "duration": 14,
    "start_time": "2022-03-24T11:18:41.345Z"
   },
   {
    "duration": 14,
    "start_time": "2022-03-24T11:18:54.945Z"
   },
   {
    "duration": 24,
    "start_time": "2022-03-24T11:19:11.329Z"
   },
   {
    "duration": 19,
    "start_time": "2022-03-24T11:20:08.226Z"
   },
   {
    "duration": 89,
    "start_time": "2022-03-24T14:19:52.627Z"
   },
   {
    "duration": 29,
    "start_time": "2022-03-24T14:33:12.098Z"
   },
   {
    "duration": 4,
    "start_time": "2022-03-24T14:38:08.712Z"
   },
   {
    "duration": 26,
    "start_time": "2022-03-24T15:08:53.408Z"
   },
   {
    "duration": 5,
    "start_time": "2022-03-24T15:15:44.968Z"
   },
   {
    "duration": 5,
    "start_time": "2022-03-24T15:23:37.849Z"
   },
   {
    "duration": 8,
    "start_time": "2022-03-24T15:26:35.625Z"
   },
   {
    "duration": 6,
    "start_time": "2022-03-24T15:28:02.264Z"
   },
   {
    "duration": 7,
    "start_time": "2022-03-24T15:32:18.585Z"
   },
   {
    "duration": 170,
    "start_time": "2022-03-24T15:55:53.278Z"
   },
   {
    "duration": 167,
    "start_time": "2022-03-24T15:59:15.043Z"
   },
   {
    "duration": 4,
    "start_time": "2022-03-24T15:59:20.732Z"
   },
   {
    "duration": 5,
    "start_time": "2022-03-24T16:00:24.971Z"
   },
   {
    "duration": 166,
    "start_time": "2022-03-24T16:06:15.573Z"
   },
   {
    "duration": 166,
    "start_time": "2022-03-24T16:08:44.491Z"
   },
   {
    "duration": 5,
    "start_time": "2022-03-24T16:10:02.750Z"
   },
   {
    "duration": 6,
    "start_time": "2022-03-24T16:10:12.387Z"
   },
   {
    "duration": 5,
    "start_time": "2022-03-24T16:14:42.372Z"
   },
   {
    "duration": 8,
    "start_time": "2022-03-24T16:15:59.116Z"
   },
   {
    "duration": 6,
    "start_time": "2022-03-24T16:16:02.931Z"
   },
   {
    "duration": 89,
    "start_time": "2022-03-24T16:16:13.075Z"
   },
   {
    "duration": 30,
    "start_time": "2022-03-24T16:16:14.868Z"
   },
   {
    "duration": 3,
    "start_time": "2022-03-24T16:16:15.540Z"
   },
   {
    "duration": 3,
    "start_time": "2022-03-24T16:16:20.891Z"
   },
   {
    "duration": 5,
    "start_time": "2022-03-24T16:16:22.827Z"
   },
   {
    "duration": 8,
    "start_time": "2022-03-24T16:16:23.914Z"
   },
   {
    "duration": 6,
    "start_time": "2022-03-24T16:16:24.515Z"
   },
   {
    "duration": 7,
    "start_time": "2022-03-24T16:16:25.923Z"
   },
   {
    "duration": 4,
    "start_time": "2022-03-24T16:16:28.419Z"
   },
   {
    "duration": 166,
    "start_time": "2022-03-24T17:01:41.826Z"
   },
   {
    "duration": 174,
    "start_time": "2022-03-24T17:01:53.275Z"
   },
   {
    "duration": 161,
    "start_time": "2022-03-24T17:02:04.618Z"
   },
   {
    "duration": 8,
    "start_time": "2022-03-24T17:02:53.746Z"
   },
   {
    "duration": 165,
    "start_time": "2022-03-24T17:05:25.187Z"
   },
   {
    "duration": 76,
    "start_time": "2022-03-24T18:32:07.149Z"
   },
   {
    "duration": 8,
    "start_time": "2022-03-24T18:32:23.647Z"
   },
   {
    "duration": 565,
    "start_time": "2022-03-24T18:32:30.802Z"
   },
   {
    "duration": 34,
    "start_time": "2022-03-24T18:32:31.635Z"
   },
   {
    "duration": 3,
    "start_time": "2022-03-24T18:32:32.049Z"
   },
   {
    "duration": 6,
    "start_time": "2022-03-24T18:32:32.698Z"
   },
   {
    "duration": 14,
    "start_time": "2022-03-24T18:32:33.185Z"
   },
   {
    "duration": 7,
    "start_time": "2022-03-24T18:32:33.657Z"
   },
   {
    "duration": 10,
    "start_time": "2022-03-24T18:32:34.161Z"
   },
   {
    "duration": 6,
    "start_time": "2022-03-24T18:32:34.689Z"
   },
   {
    "duration": 10,
    "start_time": "2022-03-24T18:32:35.225Z"
   },
   {
    "duration": 8,
    "start_time": "2022-03-24T18:32:35.769Z"
   },
   {
    "duration": 10,
    "start_time": "2022-03-24T18:34:09.947Z"
   },
   {
    "duration": 21,
    "start_time": "2022-03-24T18:35:39.521Z"
   },
   {
    "duration": 14,
    "start_time": "2022-03-24T18:37:25.769Z"
   },
   {
    "duration": 7,
    "start_time": "2022-03-24T18:37:50.593Z"
   },
   {
    "duration": 10,
    "start_time": "2022-03-24T18:37:54.392Z"
   },
   {
    "duration": 10,
    "start_time": "2022-03-24T18:37:58.408Z"
   },
   {
    "duration": 7,
    "start_time": "2022-03-24T18:38:00.361Z"
   },
   {
    "duration": 95,
    "start_time": "2022-03-24T18:38:09.841Z"
   },
   {
    "duration": 47,
    "start_time": "2022-03-24T18:38:10.601Z"
   },
   {
    "duration": 4,
    "start_time": "2022-03-24T18:38:10.937Z"
   },
   {
    "duration": 6,
    "start_time": "2022-03-24T18:38:11.600Z"
   },
   {
    "duration": 10,
    "start_time": "2022-03-24T18:38:12.120Z"
   },
   {
    "duration": 7,
    "start_time": "2022-03-24T18:38:12.880Z"
   },
   {
    "duration": 8,
    "start_time": "2022-03-24T18:38:13.544Z"
   },
   {
    "duration": 6,
    "start_time": "2022-03-24T18:38:14.176Z"
   },
   {
    "duration": 12,
    "start_time": "2022-03-24T18:38:14.816Z"
   },
   {
    "duration": 7,
    "start_time": "2022-03-24T18:38:16.352Z"
   },
   {
    "duration": 8,
    "start_time": "2022-03-24T18:46:39.679Z"
   },
   {
    "duration": 154,
    "start_time": "2022-03-24T18:47:36.215Z"
   },
   {
    "duration": 5,
    "start_time": "2022-03-24T18:48:32.791Z"
   },
   {
    "duration": 13,
    "start_time": "2022-03-24T18:52:11.310Z"
   },
   {
    "duration": 16,
    "start_time": "2022-03-24T18:56:19.591Z"
   },
   {
    "duration": 13,
    "start_time": "2022-03-24T18:56:26.976Z"
   },
   {
    "duration": 13,
    "start_time": "2022-03-24T18:56:43.534Z"
   },
   {
    "duration": 153,
    "start_time": "2022-03-24T18:56:55.661Z"
   },
   {
    "duration": 149,
    "start_time": "2022-03-24T18:57:01.421Z"
   },
   {
    "duration": 316,
    "start_time": "2022-03-24T18:57:13.527Z"
   },
   {
    "duration": 165,
    "start_time": "2022-03-24T18:57:32.221Z"
   },
   {
    "duration": 11,
    "start_time": "2022-03-24T18:57:43.118Z"
   },
   {
    "duration": 12,
    "start_time": "2022-03-24T18:58:01.997Z"
   },
   {
    "duration": 82,
    "start_time": "2022-03-24T18:58:16.565Z"
   },
   {
    "duration": 26,
    "start_time": "2022-03-24T18:58:25.308Z"
   },
   {
    "duration": 19,
    "start_time": "2022-03-24T19:01:04.622Z"
   },
   {
    "duration": 7,
    "start_time": "2022-03-24T19:03:46.868Z"
   },
   {
    "duration": 980,
    "start_time": "2022-03-25T09:34:17.344Z"
   },
   {
    "duration": 43,
    "start_time": "2022-03-25T09:34:18.933Z"
   },
   {
    "duration": 5,
    "start_time": "2022-03-25T09:34:19.308Z"
   },
   {
    "duration": 7,
    "start_time": "2022-03-25T09:34:20.045Z"
   },
   {
    "duration": 16,
    "start_time": "2022-03-25T09:34:20.636Z"
   },
   {
    "duration": 7,
    "start_time": "2022-03-25T09:34:21.236Z"
   },
   {
    "duration": 9,
    "start_time": "2022-03-25T09:34:21.807Z"
   },
   {
    "duration": 6,
    "start_time": "2022-03-25T09:34:22.411Z"
   },
   {
    "duration": 11,
    "start_time": "2022-03-25T09:34:23.027Z"
   },
   {
    "duration": 8,
    "start_time": "2022-03-25T09:34:23.722Z"
   },
   {
    "duration": 9,
    "start_time": "2022-03-25T09:34:24.468Z"
   },
   {
    "duration": 7,
    "start_time": "2022-03-25T09:34:25.139Z"
   },
   {
    "duration": 23,
    "start_time": "2022-03-25T09:34:26.662Z"
   },
   {
    "duration": 10,
    "start_time": "2022-03-25T09:34:28.277Z"
   },
   {
    "duration": 14,
    "start_time": "2022-03-25T10:08:43.798Z"
   },
   {
    "duration": 108,
    "start_time": "2022-03-25T10:09:01.830Z"
   },
   {
    "duration": 16,
    "start_time": "2022-03-25T10:09:24.206Z"
   },
   {
    "duration": 16,
    "start_time": "2022-03-25T10:09:31.791Z"
   },
   {
    "duration": 16,
    "start_time": "2022-03-25T10:09:44.679Z"
   },
   {
    "duration": 18,
    "start_time": "2022-03-25T10:10:06.206Z"
   },
   {
    "duration": 15,
    "start_time": "2022-03-25T10:10:16.848Z"
   },
   {
    "duration": 16,
    "start_time": "2022-03-25T10:10:45.855Z"
   },
   {
    "duration": 101,
    "start_time": "2022-03-25T10:11:02.703Z"
   },
   {
    "duration": 41,
    "start_time": "2022-03-25T10:11:03.325Z"
   },
   {
    "duration": 5,
    "start_time": "2022-03-25T10:11:03.663Z"
   },
   {
    "duration": 7,
    "start_time": "2022-03-25T10:11:04.373Z"
   },
   {
    "duration": 12,
    "start_time": "2022-03-25T10:11:04.908Z"
   },
   {
    "duration": 8,
    "start_time": "2022-03-25T10:11:06.885Z"
   },
   {
    "duration": 16,
    "start_time": "2022-03-25T10:11:30.895Z"
   },
   {
    "duration": 15,
    "start_time": "2022-03-25T10:11:40.839Z"
   },
   {
    "duration": 110,
    "start_time": "2022-03-25T10:13:29.735Z"
   },
   {
    "duration": 16,
    "start_time": "2022-03-25T10:13:36.397Z"
   },
   {
    "duration": 22,
    "start_time": "2022-03-25T10:13:43.887Z"
   },
   {
    "duration": 13,
    "start_time": "2022-03-25T10:13:50.221Z"
   },
   {
    "duration": 13,
    "start_time": "2022-03-25T10:14:50.998Z"
   },
   {
    "duration": 13,
    "start_time": "2022-03-25T10:14:57.046Z"
   },
   {
    "duration": 16,
    "start_time": "2022-03-25T10:15:22.021Z"
   },
   {
    "duration": 302,
    "start_time": "2022-03-25T10:15:38.364Z"
   },
   {
    "duration": 39,
    "start_time": "2022-03-25T10:15:39.197Z"
   },
   {
    "duration": 5,
    "start_time": "2022-03-25T10:15:40.235Z"
   },
   {
    "duration": 7,
    "start_time": "2022-03-25T10:15:41.475Z"
   },
   {
    "duration": 12,
    "start_time": "2022-03-25T10:15:43.140Z"
   },
   {
    "duration": 8,
    "start_time": "2022-03-25T10:15:44.148Z"
   },
   {
    "duration": 9,
    "start_time": "2022-03-25T10:15:56.270Z"
   },
   {
    "duration": 13,
    "start_time": "2022-03-25T10:16:19.101Z"
   },
   {
    "duration": 12,
    "start_time": "2022-03-25T10:16:36.669Z"
   },
   {
    "duration": 100,
    "start_time": "2022-03-25T10:16:42.402Z"
   },
   {
    "duration": 39,
    "start_time": "2022-03-25T10:16:42.899Z"
   },
   {
    "duration": 4,
    "start_time": "2022-03-25T10:16:43.267Z"
   },
   {
    "duration": 7,
    "start_time": "2022-03-25T10:16:44.082Z"
   },
   {
    "duration": 10,
    "start_time": "2022-03-25T10:16:45.732Z"
   },
   {
    "duration": 15,
    "start_time": "2022-03-25T10:16:50.696Z"
   },
   {
    "duration": 10,
    "start_time": "2022-03-25T10:17:17.046Z"
   },
   {
    "duration": 17,
    "start_time": "2022-03-25T10:17:24.821Z"
   },
   {
    "duration": 19,
    "start_time": "2022-03-25T10:17:27.191Z"
   },
   {
    "duration": 19,
    "start_time": "2022-03-25T10:17:40.412Z"
   },
   {
    "duration": 98,
    "start_time": "2022-03-25T10:17:45.817Z"
   },
   {
    "duration": 46,
    "start_time": "2022-03-25T10:17:46.441Z"
   },
   {
    "duration": 5,
    "start_time": "2022-03-25T10:17:46.879Z"
   },
   {
    "duration": 7,
    "start_time": "2022-03-25T10:17:47.799Z"
   },
   {
    "duration": 11,
    "start_time": "2022-03-25T10:17:48.808Z"
   },
   {
    "duration": 18,
    "start_time": "2022-03-25T10:17:50.185Z"
   },
   {
    "duration": 10,
    "start_time": "2022-03-25T10:18:18.588Z"
   },
   {
    "duration": 17,
    "start_time": "2022-03-25T10:18:49.316Z"
   },
   {
    "duration": 96,
    "start_time": "2022-03-25T10:19:19.723Z"
   },
   {
    "duration": 48,
    "start_time": "2022-03-25T10:19:20.275Z"
   },
   {
    "duration": 4,
    "start_time": "2022-03-25T10:19:20.637Z"
   },
   {
    "duration": 6,
    "start_time": "2022-03-25T10:19:21.451Z"
   },
   {
    "duration": 12,
    "start_time": "2022-03-25T10:19:22.083Z"
   },
   {
    "duration": 8,
    "start_time": "2022-03-25T10:19:23.237Z"
   },
   {
    "duration": 152,
    "start_time": "2022-03-25T10:23:10.493Z"
   },
   {
    "duration": 13,
    "start_time": "2022-03-25T10:23:30.740Z"
   },
   {
    "duration": 10,
    "start_time": "2022-03-25T10:23:57.197Z"
   },
   {
    "duration": 10,
    "start_time": "2022-03-25T10:24:00.419Z"
   },
   {
    "duration": 16,
    "start_time": "2022-03-25T10:26:42.658Z"
   },
   {
    "duration": 21,
    "start_time": "2022-03-25T10:26:45.171Z"
   },
   {
    "duration": 115,
    "start_time": "2022-03-25T10:26:51.641Z"
   },
   {
    "duration": 39,
    "start_time": "2022-03-25T10:26:52.131Z"
   },
   {
    "duration": 4,
    "start_time": "2022-03-25T10:26:52.450Z"
   },
   {
    "duration": 6,
    "start_time": "2022-03-25T10:26:53.148Z"
   },
   {
    "duration": 10,
    "start_time": "2022-03-25T10:26:53.970Z"
   },
   {
    "duration": 7,
    "start_time": "2022-03-25T10:26:55.212Z"
   },
   {
    "duration": 12,
    "start_time": "2022-03-25T10:40:54.770Z"
   },
   {
    "duration": 22,
    "start_time": "2022-03-25T10:43:16.024Z"
   },
   {
    "duration": 51,
    "start_time": "2022-03-25T10:44:21.198Z"
   },
   {
    "duration": 14,
    "start_time": "2022-03-25T10:58:24.333Z"
   },
   {
    "duration": 8,
    "start_time": "2022-03-25T10:59:06.558Z"
   },
   {
    "duration": 1563,
    "start_time": "2022-03-25T11:04:23.725Z"
   },
   {
    "duration": 99,
    "start_time": "2022-03-25T11:04:30.867Z"
   },
   {
    "duration": 41,
    "start_time": "2022-03-25T11:04:31.373Z"
   },
   {
    "duration": 5,
    "start_time": "2022-03-25T11:04:31.731Z"
   },
   {
    "duration": 6,
    "start_time": "2022-03-25T11:04:32.604Z"
   },
   {
    "duration": 39,
    "start_time": "2022-03-25T11:04:33.276Z"
   },
   {
    "duration": 12,
    "start_time": "2022-03-25T11:04:34.363Z"
   },
   {
    "duration": 8,
    "start_time": "2022-03-25T11:04:38.715Z"
   },
   {
    "duration": 7,
    "start_time": "2022-03-25T11:04:42.700Z"
   },
   {
    "duration": 111,
    "start_time": "2022-03-25T11:08:33.686Z"
   },
   {
    "duration": 99,
    "start_time": "2022-03-25T11:08:47.389Z"
   },
   {
    "duration": 131,
    "start_time": "2022-03-25T11:09:04.773Z"
   },
   {
    "duration": 167,
    "start_time": "2022-03-25T11:09:29.997Z"
   },
   {
    "duration": 8,
    "start_time": "2022-03-25T11:09:39.093Z"
   },
   {
    "duration": 8,
    "start_time": "2022-03-25T11:09:53.885Z"
   },
   {
    "duration": 13,
    "start_time": "2022-03-25T11:10:02.556Z"
   },
   {
    "duration": 392,
    "start_time": "2022-03-25T11:14:38.765Z"
   },
   {
    "duration": 11,
    "start_time": "2022-03-25T11:15:08.873Z"
   },
   {
    "duration": 25,
    "start_time": "2022-03-25T11:15:48.084Z"
   },
   {
    "duration": 21,
    "start_time": "2022-03-25T11:19:28.781Z"
   },
   {
    "duration": 28,
    "start_time": "2022-03-25T11:19:51.863Z"
   },
   {
    "duration": 91,
    "start_time": "2022-03-25T11:19:57.922Z"
   },
   {
    "duration": 40,
    "start_time": "2022-03-25T11:19:58.402Z"
   },
   {
    "duration": 5,
    "start_time": "2022-03-25T11:19:58.746Z"
   },
   {
    "duration": 6,
    "start_time": "2022-03-25T11:19:59.548Z"
   },
   {
    "duration": 40,
    "start_time": "2022-03-25T11:20:00.499Z"
   },
   {
    "duration": 22,
    "start_time": "2022-03-25T11:20:02.156Z"
   },
   {
    "duration": 19,
    "start_time": "2022-03-25T11:20:29.102Z"
   },
   {
    "duration": 16,
    "start_time": "2022-03-25T11:20:40.460Z"
   },
   {
    "duration": 92,
    "start_time": "2022-03-25T11:20:43.849Z"
   },
   {
    "duration": 41,
    "start_time": "2022-03-25T11:20:44.323Z"
   },
   {
    "duration": 5,
    "start_time": "2022-03-25T11:20:45.018Z"
   },
   {
    "duration": 7,
    "start_time": "2022-03-25T11:20:47.042Z"
   },
   {
    "duration": 38,
    "start_time": "2022-03-25T11:20:49.343Z"
   },
   {
    "duration": 16,
    "start_time": "2022-03-25T11:20:51.459Z"
   },
   {
    "duration": 477,
    "start_time": "2022-03-25T11:23:29.837Z"
   },
   {
    "duration": 28,
    "start_time": "2022-03-25T11:23:48.107Z"
   },
   {
    "duration": 28,
    "start_time": "2022-03-25T11:24:29.619Z"
   },
   {
    "duration": 12,
    "start_time": "2022-03-25T11:24:47.338Z"
   },
   {
    "duration": 8,
    "start_time": "2022-03-25T11:24:48.738Z"
   },
   {
    "duration": 8,
    "start_time": "2022-03-25T11:24:54.875Z"
   },
   {
    "duration": 371,
    "start_time": "2022-03-25T11:24:57.106Z"
   },
   {
    "duration": 30,
    "start_time": "2022-03-25T11:32:48.001Z"
   },
   {
    "duration": 27,
    "start_time": "2022-03-25T11:33:38.193Z"
   },
   {
    "duration": 16,
    "start_time": "2022-03-25T11:38:02.681Z"
   },
   {
    "duration": 24,
    "start_time": "2022-03-25T11:38:20.320Z"
   },
   {
    "duration": 12,
    "start_time": "2022-03-25T11:39:15.303Z"
   },
   {
    "duration": 29,
    "start_time": "2022-03-25T11:40:49.722Z"
   },
   {
    "duration": 44,
    "start_time": "2022-03-25T11:41:04.408Z"
   },
   {
    "duration": 6,
    "start_time": "2022-03-25T12:53:31.556Z"
   },
   {
    "duration": 5,
    "start_time": "2022-03-25T12:58:45.835Z"
   },
   {
    "duration": 7,
    "start_time": "2022-03-25T12:59:16.130Z"
   },
   {
    "duration": 7,
    "start_time": "2022-03-25T12:59:25.049Z"
   },
   {
    "duration": 22,
    "start_time": "2022-03-25T13:00:39.954Z"
   },
   {
    "duration": 22,
    "start_time": "2022-03-25T13:04:03.074Z"
   },
   {
    "duration": 207,
    "start_time": "2022-03-25T13:14:33.062Z"
   },
   {
    "duration": 9,
    "start_time": "2022-03-25T13:17:03.254Z"
   },
   {
    "duration": 8,
    "start_time": "2022-03-25T13:17:37.495Z"
   },
   {
    "duration": 16,
    "start_time": "2022-03-25T13:18:00.736Z"
   },
   {
    "duration": 8,
    "start_time": "2022-03-25T13:41:35.349Z"
   },
   {
    "duration": 9,
    "start_time": "2022-03-25T13:41:43.084Z"
   },
   {
    "duration": 9,
    "start_time": "2022-03-25T13:44:09.228Z"
   },
   {
    "duration": 73,
    "start_time": "2022-03-25T14:12:58.598Z"
   },
   {
    "duration": 9,
    "start_time": "2022-03-25T14:13:24.018Z"
   },
   {
    "duration": 10,
    "start_time": "2022-03-25T14:13:31.359Z"
   },
   {
    "duration": 805,
    "start_time": "2022-03-25T14:14:05.577Z"
   },
   {
    "duration": 44,
    "start_time": "2022-03-25T14:14:06.385Z"
   },
   {
    "duration": 6,
    "start_time": "2022-03-25T14:14:06.432Z"
   },
   {
    "duration": 7,
    "start_time": "2022-03-25T14:14:07.012Z"
   },
   {
    "duration": 53,
    "start_time": "2022-03-25T14:14:07.361Z"
   },
   {
    "duration": 481,
    "start_time": "2022-03-25T14:14:07.526Z"
   },
   {
    "duration": 11,
    "start_time": "2022-03-25T14:14:08.009Z"
   },
   {
    "duration": 9,
    "start_time": "2022-03-25T14:14:08.195Z"
   },
   {
    "duration": 9,
    "start_time": "2022-03-25T14:14:08.533Z"
   },
   {
    "duration": 480,
    "start_time": "2022-03-25T14:14:08.885Z"
   },
   {
    "duration": 17,
    "start_time": "2022-03-25T14:14:09.368Z"
   },
   {
    "duration": 23,
    "start_time": "2022-03-25T14:14:09.577Z"
   },
   {
    "duration": 12,
    "start_time": "2022-03-25T14:14:10.924Z"
   },
   {
    "duration": 14,
    "start_time": "2022-03-25T14:14:11.498Z"
   },
   {
    "duration": 25,
    "start_time": "2022-03-25T14:14:11.893Z"
   },
   {
    "duration": 9,
    "start_time": "2022-03-25T14:14:12.343Z"
   },
   {
    "duration": 13,
    "start_time": "2022-03-25T14:14:12.750Z"
   },
   {
    "duration": 8,
    "start_time": "2022-03-25T14:14:13.139Z"
   },
   {
    "duration": 7,
    "start_time": "2022-03-25T14:14:13.671Z"
   },
   {
    "duration": 7,
    "start_time": "2022-03-25T14:14:14.220Z"
   },
   {
    "duration": 9,
    "start_time": "2022-03-25T14:14:14.781Z"
   },
   {
    "duration": 24,
    "start_time": "2022-03-25T14:14:15.340Z"
   },
   {
    "duration": 25,
    "start_time": "2022-03-25T14:14:16.696Z"
   },
   {
    "duration": 48,
    "start_time": "2022-03-25T14:14:18.374Z"
   },
   {
    "duration": 13,
    "start_time": "2022-03-25T14:16:42.398Z"
   },
   {
    "duration": 42,
    "start_time": "2022-03-25T14:16:51.045Z"
   },
   {
    "duration": 10,
    "start_time": "2022-03-25T14:26:15.565Z"
   },
   {
    "duration": 11,
    "start_time": "2022-03-25T14:26:29.938Z"
   },
   {
    "duration": 9,
    "start_time": "2022-03-25T14:26:53.869Z"
   },
   {
    "duration": 9,
    "start_time": "2022-03-25T14:27:10.277Z"
   },
   {
    "duration": 11,
    "start_time": "2022-03-25T14:29:25.780Z"
   },
   {
    "duration": 10,
    "start_time": "2022-03-25T14:29:41.131Z"
   },
   {
    "duration": 14,
    "start_time": "2022-03-25T14:31:32.354Z"
   },
   {
    "duration": 12,
    "start_time": "2022-03-25T14:34:43.227Z"
   },
   {
    "duration": 0,
    "start_time": "2022-03-25T14:41:22.901Z"
   },
   {
    "duration": 16,
    "start_time": "2022-03-25T14:45:15.523Z"
   },
   {
    "duration": 16,
    "start_time": "2022-03-25T14:46:24.194Z"
   },
   {
    "duration": 92,
    "start_time": "2022-03-25T14:46:30.977Z"
   },
   {
    "duration": 42,
    "start_time": "2022-03-25T14:46:31.526Z"
   },
   {
    "duration": 5,
    "start_time": "2022-03-25T14:46:31.903Z"
   },
   {
    "duration": 7,
    "start_time": "2022-03-25T14:46:32.670Z"
   },
   {
    "duration": 39,
    "start_time": "2022-03-25T14:46:33.049Z"
   },
   {
    "duration": 550,
    "start_time": "2022-03-25T14:46:33.284Z"
   },
   {
    "duration": 12,
    "start_time": "2022-03-25T14:46:33.838Z"
   },
   {
    "duration": 8,
    "start_time": "2022-03-25T14:46:34.088Z"
   },
   {
    "duration": 8,
    "start_time": "2022-03-25T14:46:34.510Z"
   },
   {
    "duration": 425,
    "start_time": "2022-03-25T14:46:34.928Z"
   },
   {
    "duration": 8,
    "start_time": "2022-03-25T14:46:35.355Z"
   },
   {
    "duration": 22,
    "start_time": "2022-03-25T14:46:35.735Z"
   },
   {
    "duration": 11,
    "start_time": "2022-03-25T14:46:36.191Z"
   },
   {
    "duration": 11,
    "start_time": "2022-03-25T14:46:36.981Z"
   },
   {
    "duration": 26,
    "start_time": "2022-03-25T14:46:37.630Z"
   },
   {
    "duration": 8,
    "start_time": "2022-03-25T14:46:38.198Z"
   },
   {
    "duration": 12,
    "start_time": "2022-03-25T14:46:38.701Z"
   },
   {
    "duration": 8,
    "start_time": "2022-03-25T14:46:39.206Z"
   },
   {
    "duration": 7,
    "start_time": "2022-03-25T14:46:40.102Z"
   },
   {
    "duration": 6,
    "start_time": "2022-03-25T14:46:41.229Z"
   },
   {
    "duration": 10,
    "start_time": "2022-03-25T14:46:43.125Z"
   },
   {
    "duration": 24,
    "start_time": "2022-03-25T14:46:45.013Z"
   },
   {
    "duration": 23,
    "start_time": "2022-03-25T14:46:49.733Z"
   },
   {
    "duration": 28,
    "start_time": "2022-03-25T14:46:51.790Z"
   },
   {
    "duration": 16,
    "start_time": "2022-03-25T14:47:03.478Z"
   },
   {
    "duration": 11,
    "start_time": "2022-03-25T14:47:20.122Z"
   },
   {
    "duration": 97,
    "start_time": "2022-03-25T14:47:47.017Z"
   },
   {
    "duration": 41,
    "start_time": "2022-03-25T14:47:47.472Z"
   },
   {
    "duration": 5,
    "start_time": "2022-03-25T14:47:47.754Z"
   },
   {
    "duration": 7,
    "start_time": "2022-03-25T14:47:48.337Z"
   },
   {
    "duration": 46,
    "start_time": "2022-03-25T14:47:48.646Z"
   },
   {
    "duration": 511,
    "start_time": "2022-03-25T14:47:48.804Z"
   },
   {
    "duration": 11,
    "start_time": "2022-03-25T14:47:49.318Z"
   },
   {
    "duration": 9,
    "start_time": "2022-03-25T14:47:49.432Z"
   },
   {
    "duration": 8,
    "start_time": "2022-03-25T14:47:49.735Z"
   },
   {
    "duration": 391,
    "start_time": "2022-03-25T14:47:50.049Z"
   },
   {
    "duration": 8,
    "start_time": "2022-03-25T14:47:50.443Z"
   },
   {
    "duration": 21,
    "start_time": "2022-03-25T14:47:50.712Z"
   },
   {
    "duration": 13,
    "start_time": "2022-03-25T14:47:51.057Z"
   },
   {
    "duration": 11,
    "start_time": "2022-03-25T14:47:51.568Z"
   },
   {
    "duration": 28,
    "start_time": "2022-03-25T14:47:51.936Z"
   },
   {
    "duration": 8,
    "start_time": "2022-03-25T14:47:52.280Z"
   },
   {
    "duration": 11,
    "start_time": "2022-03-25T14:47:52.648Z"
   },
   {
    "duration": 9,
    "start_time": "2022-03-25T14:47:53.056Z"
   },
   {
    "duration": 6,
    "start_time": "2022-03-25T14:47:53.633Z"
   },
   {
    "duration": 7,
    "start_time": "2022-03-25T14:47:54.176Z"
   },
   {
    "duration": 9,
    "start_time": "2022-03-25T14:47:54.719Z"
   },
   {
    "duration": 24,
    "start_time": "2022-03-25T14:47:55.208Z"
   },
   {
    "duration": 25,
    "start_time": "2022-03-25T14:47:57.088Z"
   },
   {
    "duration": 29,
    "start_time": "2022-03-25T14:47:58.024Z"
   },
   {
    "duration": 14,
    "start_time": "2022-03-25T14:48:04.249Z"
   },
   {
    "duration": 11,
    "start_time": "2022-03-25T14:49:58.739Z"
   },
   {
    "duration": 10,
    "start_time": "2022-03-25T14:50:13.017Z"
   },
   {
    "duration": 98,
    "start_time": "2022-03-25T14:50:27.783Z"
   },
   {
    "duration": 45,
    "start_time": "2022-03-25T14:50:27.893Z"
   },
   {
    "duration": 5,
    "start_time": "2022-03-25T14:50:27.976Z"
   },
   {
    "duration": 6,
    "start_time": "2022-03-25T14:50:28.090Z"
   },
   {
    "duration": 39,
    "start_time": "2022-03-25T14:50:28.162Z"
   },
   {
    "duration": 492,
    "start_time": "2022-03-25T14:50:28.217Z"
   },
   {
    "duration": 11,
    "start_time": "2022-03-25T14:50:28.712Z"
   },
   {
    "duration": 9,
    "start_time": "2022-03-25T14:50:28.725Z"
   },
   {
    "duration": 12,
    "start_time": "2022-03-25T14:50:28.737Z"
   },
   {
    "duration": 433,
    "start_time": "2022-03-25T14:50:28.751Z"
   },
   {
    "duration": 8,
    "start_time": "2022-03-25T14:50:29.186Z"
   },
   {
    "duration": 25,
    "start_time": "2022-03-25T14:50:29.197Z"
   },
   {
    "duration": 11,
    "start_time": "2022-03-25T14:50:29.225Z"
   },
   {
    "duration": 10,
    "start_time": "2022-03-25T14:50:29.424Z"
   },
   {
    "duration": 25,
    "start_time": "2022-03-25T14:50:29.688Z"
   },
   {
    "duration": 9,
    "start_time": "2022-03-25T14:50:29.935Z"
   },
   {
    "duration": 10,
    "start_time": "2022-03-25T14:50:30.183Z"
   },
   {
    "duration": 8,
    "start_time": "2022-03-25T14:50:30.448Z"
   },
   {
    "duration": 7,
    "start_time": "2022-03-25T14:50:30.871Z"
   },
   {
    "duration": 6,
    "start_time": "2022-03-25T14:50:31.303Z"
   },
   {
    "duration": 9,
    "start_time": "2022-03-25T14:50:31.703Z"
   },
   {
    "duration": 24,
    "start_time": "2022-03-25T14:50:32.111Z"
   },
   {
    "duration": 22,
    "start_time": "2022-03-25T14:50:32.880Z"
   },
   {
    "duration": 28,
    "start_time": "2022-03-25T14:50:33.336Z"
   },
   {
    "duration": 15,
    "start_time": "2022-03-25T14:50:33.495Z"
   },
   {
    "duration": 76,
    "start_time": "2022-03-25T17:51:04.564Z"
   },
   {
    "duration": 10,
    "start_time": "2022-03-25T17:51:35.499Z"
   },
   {
    "duration": 690,
    "start_time": "2022-03-25T17:51:45.397Z"
   },
   {
    "duration": 40,
    "start_time": "2022-03-25T17:51:46.090Z"
   },
   {
    "duration": 5,
    "start_time": "2022-03-25T17:51:46.309Z"
   },
   {
    "duration": 7,
    "start_time": "2022-03-25T17:51:47.053Z"
   },
   {
    "duration": 80,
    "start_time": "2022-03-25T17:51:47.437Z"
   },
   {
    "duration": 472,
    "start_time": "2022-03-25T17:51:47.635Z"
   },
   {
    "duration": 11,
    "start_time": "2022-03-25T17:51:48.110Z"
   },
   {
    "duration": 9,
    "start_time": "2022-03-25T17:51:48.374Z"
   },
   {
    "duration": 9,
    "start_time": "2022-03-25T17:51:48.757Z"
   },
   {
    "duration": 375,
    "start_time": "2022-03-25T17:51:49.149Z"
   },
   {
    "duration": 7,
    "start_time": "2022-03-25T17:51:49.533Z"
   },
   {
    "duration": 21,
    "start_time": "2022-03-25T17:51:49.925Z"
   },
   {
    "duration": 10,
    "start_time": "2022-03-25T17:51:50.333Z"
   },
   {
    "duration": 11,
    "start_time": "2022-03-25T17:51:50.917Z"
   },
   {
    "duration": 27,
    "start_time": "2022-03-25T17:51:51.317Z"
   },
   {
    "duration": 10,
    "start_time": "2022-03-25T17:51:51.700Z"
   },
   {
    "duration": 12,
    "start_time": "2022-03-25T17:51:52.092Z"
   },
   {
    "duration": 9,
    "start_time": "2022-03-25T17:51:52.484Z"
   },
   {
    "duration": 6,
    "start_time": "2022-03-25T17:51:53.093Z"
   },
   {
    "duration": 5,
    "start_time": "2022-03-25T17:51:53.668Z"
   },
   {
    "duration": 8,
    "start_time": "2022-03-25T17:51:54.276Z"
   },
   {
    "duration": 24,
    "start_time": "2022-03-25T17:51:54.900Z"
   },
   {
    "duration": 23,
    "start_time": "2022-03-25T17:51:55.813Z"
   },
   {
    "duration": 26,
    "start_time": "2022-03-25T17:51:56.413Z"
   },
   {
    "duration": 20,
    "start_time": "2022-03-25T17:51:56.614Z"
   },
   {
    "duration": 230,
    "start_time": "2022-03-25T17:51:57.396Z"
   },
   {
    "duration": 236,
    "start_time": "2022-03-25T17:52:26.761Z"
   },
   {
    "duration": 236,
    "start_time": "2022-03-25T17:57:35.436Z"
   },
   {
    "duration": 510,
    "start_time": "2022-03-26T09:54:52.690Z"
   },
   {
    "duration": 30,
    "start_time": "2022-03-26T09:54:53.233Z"
   },
   {
    "duration": 4,
    "start_time": "2022-03-26T09:54:53.577Z"
   },
   {
    "duration": 5,
    "start_time": "2022-03-26T09:54:54.321Z"
   },
   {
    "duration": 33,
    "start_time": "2022-03-26T09:54:54.771Z"
   },
   {
    "duration": 245,
    "start_time": "2022-03-26T09:54:54.969Z"
   },
   {
    "duration": 8,
    "start_time": "2022-03-26T09:54:55.374Z"
   },
   {
    "duration": 6,
    "start_time": "2022-03-26T09:54:55.737Z"
   },
   {
    "duration": 5,
    "start_time": "2022-03-26T09:54:56.105Z"
   },
   {
    "duration": 173,
    "start_time": "2022-03-26T09:54:56.688Z"
   },
   {
    "duration": 6,
    "start_time": "2022-03-26T09:54:57.071Z"
   },
   {
    "duration": 17,
    "start_time": "2022-03-26T09:54:57.458Z"
   },
   {
    "duration": 11,
    "start_time": "2022-03-26T09:54:57.833Z"
   },
   {
    "duration": 11,
    "start_time": "2022-03-26T09:54:58.374Z"
   },
   {
    "duration": 30,
    "start_time": "2022-03-26T09:54:58.737Z"
   },
   {
    "duration": 9,
    "start_time": "2022-03-26T09:54:59.096Z"
   },
   {
    "duration": 11,
    "start_time": "2022-03-26T09:54:59.481Z"
   },
   {
    "duration": 8,
    "start_time": "2022-03-26T09:54:59.881Z"
   },
   {
    "duration": 5,
    "start_time": "2022-03-26T09:55:00.433Z"
   },
   {
    "duration": 5,
    "start_time": "2022-03-26T09:55:01.016Z"
   },
   {
    "duration": 8,
    "start_time": "2022-03-26T09:55:01.617Z"
   },
   {
    "duration": 26,
    "start_time": "2022-03-26T09:55:02.188Z"
   },
   {
    "duration": 27,
    "start_time": "2022-03-26T09:55:02.937Z"
   },
   {
    "duration": 29,
    "start_time": "2022-03-26T09:55:03.537Z"
   },
   {
    "duration": 14,
    "start_time": "2022-03-26T09:55:03.721Z"
   },
   {
    "duration": 159,
    "start_time": "2022-03-26T09:55:04.112Z"
   },
   {
    "duration": 80,
    "start_time": "2022-03-26T10:02:33.706Z"
   },
   {
    "duration": 19,
    "start_time": "2022-03-26T10:04:26.053Z"
   },
   {
    "duration": 23,
    "start_time": "2022-03-26T10:09:31.896Z"
   },
   {
    "duration": 185,
    "start_time": "2022-03-26T10:11:04.064Z"
   },
   {
    "duration": 39,
    "start_time": "2022-03-26T10:18:01.621Z"
   },
   {
    "duration": 9,
    "start_time": "2022-03-26T10:20:36.672Z"
   },
   {
    "duration": 13,
    "start_time": "2022-03-26T10:20:43.335Z"
   },
   {
    "duration": 17,
    "start_time": "2022-03-26T10:21:13.253Z"
   },
   {
    "duration": 14,
    "start_time": "2022-03-26T10:23:58.222Z"
   },
   {
    "duration": 77,
    "start_time": "2022-03-26T10:27:06.174Z"
   },
   {
    "duration": 31,
    "start_time": "2022-03-26T10:27:06.686Z"
   },
   {
    "duration": 4,
    "start_time": "2022-03-26T10:27:07.059Z"
   },
   {
    "duration": 5,
    "start_time": "2022-03-26T10:27:07.754Z"
   },
   {
    "duration": 25,
    "start_time": "2022-03-26T10:27:08.168Z"
   },
   {
    "duration": 210,
    "start_time": "2022-03-26T10:27:08.336Z"
   },
   {
    "duration": 8,
    "start_time": "2022-03-26T10:27:08.762Z"
   },
   {
    "duration": 6,
    "start_time": "2022-03-26T10:27:09.161Z"
   },
   {
    "duration": 6,
    "start_time": "2022-03-26T10:27:09.537Z"
   },
   {
    "duration": 174,
    "start_time": "2022-03-26T10:27:09.939Z"
   },
   {
    "duration": 7,
    "start_time": "2022-03-26T10:27:10.339Z"
   },
   {
    "duration": 16,
    "start_time": "2022-03-26T10:27:10.754Z"
   },
   {
    "duration": 8,
    "start_time": "2022-03-26T10:27:11.138Z"
   },
   {
    "duration": 9,
    "start_time": "2022-03-26T10:27:11.731Z"
   },
   {
    "duration": 20,
    "start_time": "2022-03-26T10:27:12.138Z"
   },
   {
    "duration": 6,
    "start_time": "2022-03-26T10:27:12.528Z"
   },
   {
    "duration": 9,
    "start_time": "2022-03-26T10:27:12.930Z"
   },
   {
    "duration": 6,
    "start_time": "2022-03-26T10:27:13.937Z"
   },
   {
    "duration": 7,
    "start_time": "2022-03-26T10:27:13.945Z"
   },
   {
    "duration": 4,
    "start_time": "2022-03-26T10:27:14.358Z"
   },
   {
    "duration": 7,
    "start_time": "2022-03-26T10:27:14.922Z"
   },
   {
    "duration": 18,
    "start_time": "2022-03-26T10:27:15.522Z"
   },
   {
    "duration": 18,
    "start_time": "2022-03-26T10:27:16.718Z"
   },
   {
    "duration": 21,
    "start_time": "2022-03-26T10:27:17.314Z"
   },
   {
    "duration": 13,
    "start_time": "2022-03-26T10:27:17.635Z"
   },
   {
    "duration": 139,
    "start_time": "2022-03-26T10:27:18.098Z"
   },
   {
    "duration": 21,
    "start_time": "2022-03-26T10:27:18.623Z"
   },
   {
    "duration": 23,
    "start_time": "2022-03-26T10:27:19.714Z"
   },
   {
    "duration": 30,
    "start_time": "2022-03-26T10:27:21.959Z"
   },
   {
    "duration": 26,
    "start_time": "2022-03-26T10:27:52.613Z"
   },
   {
    "duration": 17,
    "start_time": "2022-03-26T10:28:49.467Z"
   },
   {
    "duration": 13,
    "start_time": "2022-03-26T10:31:13.742Z"
   },
   {
    "duration": 15,
    "start_time": "2022-03-26T10:31:18.885Z"
   },
   {
    "duration": 1037,
    "start_time": "2022-03-26T10:31:40.158Z"
   },
   {
    "duration": 1147,
    "start_time": "2022-03-26T10:32:05.543Z"
   },
   {
    "duration": 18,
    "start_time": "2022-03-26T10:32:56.349Z"
   },
   {
    "duration": 21,
    "start_time": "2022-03-26T10:35:08.061Z"
   },
   {
    "duration": 17,
    "start_time": "2022-03-26T10:35:31.172Z"
   },
   {
    "duration": 19,
    "start_time": "2022-03-26T10:35:37.554Z"
   },
   {
    "duration": 23,
    "start_time": "2022-03-26T10:39:03.090Z"
   },
   {
    "duration": 28,
    "start_time": "2022-03-26T10:40:00.716Z"
   },
   {
    "duration": 23,
    "start_time": "2022-03-26T10:41:00.643Z"
   },
   {
    "duration": 24,
    "start_time": "2022-03-26T10:41:06.731Z"
   },
   {
    "duration": 35,
    "start_time": "2022-03-26T10:46:54.025Z"
   },
   {
    "duration": 26,
    "start_time": "2022-03-26T10:47:12.665Z"
   },
   {
    "duration": 33,
    "start_time": "2022-03-26T10:47:20.401Z"
   },
   {
    "duration": 25,
    "start_time": "2022-03-26T10:47:24.496Z"
   },
   {
    "duration": 22,
    "start_time": "2022-03-26T10:47:28.048Z"
   },
   {
    "duration": 22,
    "start_time": "2022-03-26T10:49:53.200Z"
   },
   {
    "duration": 20,
    "start_time": "2022-03-26T10:50:09.953Z"
   },
   {
    "duration": 27,
    "start_time": "2022-03-26T10:51:46.223Z"
   },
   {
    "duration": 21,
    "start_time": "2022-03-26T10:52:13.257Z"
   },
   {
    "duration": 476,
    "start_time": "2022-03-26T11:19:53.189Z"
   },
   {
    "duration": 25,
    "start_time": "2022-03-26T11:19:53.690Z"
   },
   {
    "duration": 3,
    "start_time": "2022-03-26T11:19:54.038Z"
   },
   {
    "duration": 5,
    "start_time": "2022-03-26T11:19:54.734Z"
   },
   {
    "duration": 32,
    "start_time": "2022-03-26T11:19:55.093Z"
   },
   {
    "duration": 193,
    "start_time": "2022-03-26T11:19:55.269Z"
   },
   {
    "duration": 7,
    "start_time": "2022-03-26T11:19:55.643Z"
   },
   {
    "duration": 6,
    "start_time": "2022-03-26T11:19:56.010Z"
   },
   {
    "duration": 5,
    "start_time": "2022-03-26T11:19:56.386Z"
   },
   {
    "duration": 157,
    "start_time": "2022-03-26T11:19:56.758Z"
   },
   {
    "duration": 5,
    "start_time": "2022-03-26T11:19:57.139Z"
   },
   {
    "duration": 14,
    "start_time": "2022-03-26T11:19:57.510Z"
   },
   {
    "duration": 8,
    "start_time": "2022-03-26T11:19:57.882Z"
   },
   {
    "duration": 7,
    "start_time": "2022-03-26T11:19:58.458Z"
   },
   {
    "duration": 19,
    "start_time": "2022-03-26T11:19:58.850Z"
   },
   {
    "duration": 6,
    "start_time": "2022-03-26T11:19:59.205Z"
   },
   {
    "duration": 7,
    "start_time": "2022-03-26T11:19:59.606Z"
   },
   {
    "duration": 5,
    "start_time": "2022-03-26T11:19:59.962Z"
   },
   {
    "duration": 4,
    "start_time": "2022-03-26T11:20:00.550Z"
   },
   {
    "duration": 5,
    "start_time": "2022-03-26T11:20:01.106Z"
   },
   {
    "duration": 6,
    "start_time": "2022-03-26T11:20:01.662Z"
   },
   {
    "duration": 17,
    "start_time": "2022-03-26T11:20:02.206Z"
   },
   {
    "duration": 16,
    "start_time": "2022-03-26T11:20:02.986Z"
   },
   {
    "duration": 20,
    "start_time": "2022-03-26T11:20:03.770Z"
   },
   {
    "duration": 13,
    "start_time": "2022-03-26T11:20:03.971Z"
   },
   {
    "duration": 133,
    "start_time": "2022-03-26T11:20:04.418Z"
   },
   {
    "duration": 19,
    "start_time": "2022-03-26T11:20:04.831Z"
   },
   {
    "duration": 19,
    "start_time": "2022-03-26T11:20:05.487Z"
   },
   {
    "duration": 18,
    "start_time": "2022-03-26T11:20:06.122Z"
   },
   {
    "duration": 64,
    "start_time": "2022-03-26T11:23:06.743Z"
   },
   {
    "duration": 17,
    "start_time": "2022-03-26T11:23:21.076Z"
   },
   {
    "duration": 3184,
    "start_time": "2022-03-26T11:23:48.647Z"
   },
   {
    "duration": 8,
    "start_time": "2022-03-26T11:29:32.301Z"
   },
   {
    "duration": 16,
    "start_time": "2022-03-26T11:38:28.102Z"
   },
   {
    "duration": 11,
    "start_time": "2022-03-26T11:39:32.010Z"
   },
   {
    "duration": 3069,
    "start_time": "2022-03-26T12:12:59.521Z"
   },
   {
    "duration": 11,
    "start_time": "2022-03-26T12:14:10.541Z"
   },
   {
    "duration": 16,
    "start_time": "2022-03-26T12:15:03.206Z"
   },
   {
    "duration": 458,
    "start_time": "2022-04-12T08:32:55.953Z"
   },
   {
    "duration": 50,
    "start_time": "2022-04-12T08:33:01.901Z"
   },
   {
    "duration": 22,
    "start_time": "2022-04-12T08:33:13.966Z"
   },
   {
    "duration": 28,
    "start_time": "2022-04-12T08:33:48.148Z"
   },
   {
    "duration": 24,
    "start_time": "2022-04-12T08:34:14.447Z"
   },
   {
    "duration": 108,
    "start_time": "2022-04-12T08:35:16.151Z"
   },
   {
    "duration": 1139,
    "start_time": "2022-04-12T08:35:25.054Z"
   },
   {
    "duration": 106,
    "start_time": "2022-04-12T08:35:35.661Z"
   },
   {
    "duration": 24,
    "start_time": "2022-04-12T08:35:44.086Z"
   },
   {
    "duration": 33,
    "start_time": "2022-04-12T08:37:33.102Z"
   },
   {
    "duration": 5,
    "start_time": "2022-04-12T08:45:52.295Z"
   },
   {
    "duration": 218,
    "start_time": "2022-04-12T08:46:45.515Z"
   },
   {
    "duration": 9,
    "start_time": "2022-04-12T08:53:29.378Z"
   },
   {
    "duration": 7,
    "start_time": "2022-04-12T08:53:36.656Z"
   },
   {
    "duration": 19,
    "start_time": "2022-04-12T08:53:55.745Z"
   },
   {
    "duration": 7,
    "start_time": "2022-04-12T08:54:24.265Z"
   },
   {
    "duration": 8,
    "start_time": "2022-04-12T08:54:35.010Z"
   },
   {
    "duration": 8,
    "start_time": "2022-04-12T08:54:49.704Z"
   },
   {
    "duration": 16,
    "start_time": "2022-04-12T08:55:10.113Z"
   },
   {
    "duration": 8,
    "start_time": "2022-04-12T08:55:22.352Z"
   },
   {
    "duration": 217,
    "start_time": "2022-04-12T08:55:39.232Z"
   },
   {
    "duration": 6,
    "start_time": "2022-04-12T08:56:01.777Z"
   },
   {
    "duration": 137,
    "start_time": "2022-04-12T08:57:12.513Z"
   },
   {
    "duration": 3,
    "start_time": "2022-04-12T09:06:31.452Z"
   },
   {
    "duration": 44,
    "start_time": "2022-04-12T09:57:27.885Z"
   },
   {
    "duration": 110,
    "start_time": "2022-04-12T09:58:29.919Z"
   },
   {
    "duration": 118,
    "start_time": "2022-04-12T09:58:48.044Z"
   },
   {
    "duration": 5,
    "start_time": "2022-04-12T09:58:56.812Z"
   },
   {
    "duration": 8,
    "start_time": "2022-04-12T09:59:45.981Z"
   },
   {
    "duration": 6,
    "start_time": "2022-04-12T09:59:54.892Z"
   },
   {
    "duration": 6,
    "start_time": "2022-04-12T10:04:09.501Z"
   },
   {
    "duration": 5,
    "start_time": "2022-04-12T10:04:15.542Z"
   },
   {
    "duration": 6,
    "start_time": "2022-04-12T10:04:41.757Z"
   },
   {
    "duration": 6,
    "start_time": "2022-04-12T10:04:49.780Z"
   },
   {
    "duration": 5,
    "start_time": "2022-04-12T10:04:58.805Z"
   },
   {
    "duration": 6,
    "start_time": "2022-04-12T10:13:22.175Z"
   },
   {
    "duration": 466,
    "start_time": "2022-04-12T10:14:37.942Z"
   },
   {
    "duration": 31,
    "start_time": "2022-04-12T10:14:38.410Z"
   },
   {
    "duration": 6,
    "start_time": "2022-04-12T10:14:38.443Z"
   },
   {
    "duration": 9,
    "start_time": "2022-04-12T10:14:38.452Z"
   },
   {
    "duration": 5,
    "start_time": "2022-04-12T10:14:38.463Z"
   },
   {
    "duration": 12,
    "start_time": "2022-04-12T10:14:38.470Z"
   },
   {
    "duration": 17,
    "start_time": "2022-04-12T10:14:38.484Z"
   },
   {
    "duration": 25,
    "start_time": "2022-04-12T10:14:38.503Z"
   },
   {
    "duration": 229,
    "start_time": "2022-04-12T10:14:38.530Z"
   },
   {
    "duration": 7,
    "start_time": "2022-04-12T10:14:38.761Z"
   },
   {
    "duration": 5,
    "start_time": "2022-04-12T10:14:38.770Z"
   },
   {
    "duration": 7,
    "start_time": "2022-04-12T10:14:38.777Z"
   },
   {
    "duration": 187,
    "start_time": "2022-04-12T10:14:38.785Z"
   },
   {
    "duration": 6,
    "start_time": "2022-04-12T10:14:38.973Z"
   },
   {
    "duration": 18,
    "start_time": "2022-04-12T10:14:38.981Z"
   },
   {
    "duration": 8,
    "start_time": "2022-04-12T10:14:39.000Z"
   },
   {
    "duration": 8,
    "start_time": "2022-04-12T10:14:39.009Z"
   },
   {
    "duration": 43,
    "start_time": "2022-04-12T10:14:39.019Z"
   },
   {
    "duration": 6,
    "start_time": "2022-04-12T10:14:39.063Z"
   },
   {
    "duration": 11,
    "start_time": "2022-04-12T10:14:39.071Z"
   },
   {
    "duration": 7,
    "start_time": "2022-04-12T10:14:39.084Z"
   },
   {
    "duration": 6,
    "start_time": "2022-04-12T10:14:39.092Z"
   },
   {
    "duration": 6,
    "start_time": "2022-04-12T10:14:39.100Z"
   },
   {
    "duration": 8,
    "start_time": "2022-04-12T10:14:39.107Z"
   },
   {
    "duration": 68,
    "start_time": "2022-04-12T10:14:39.148Z"
   },
   {
    "duration": 0,
    "start_time": "2022-04-12T10:14:39.218Z"
   },
   {
    "duration": 0,
    "start_time": "2022-04-12T10:14:39.220Z"
   },
   {
    "duration": 0,
    "start_time": "2022-04-12T10:14:39.220Z"
   },
   {
    "duration": 0,
    "start_time": "2022-04-12T10:14:39.221Z"
   },
   {
    "duration": 0,
    "start_time": "2022-04-12T10:14:39.222Z"
   },
   {
    "duration": 0,
    "start_time": "2022-04-12T10:14:39.223Z"
   },
   {
    "duration": 0,
    "start_time": "2022-04-12T10:14:39.224Z"
   },
   {
    "duration": 0,
    "start_time": "2022-04-12T10:14:39.248Z"
   },
   {
    "duration": 0,
    "start_time": "2022-04-12T10:14:39.249Z"
   },
   {
    "duration": 1793,
    "start_time": "2022-04-12T10:15:33.281Z"
   },
   {
    "duration": 1743,
    "start_time": "2022-04-12T10:15:39.374Z"
   },
   {
    "duration": 59,
    "start_time": "2022-04-12T10:16:09.717Z"
   },
   {
    "duration": 6,
    "start_time": "2022-04-12T10:16:15.894Z"
   },
   {
    "duration": 7,
    "start_time": "2022-04-12T10:16:27.053Z"
   },
   {
    "duration": 5,
    "start_time": "2022-04-12T10:16:31.287Z"
   },
   {
    "duration": 49,
    "start_time": "2022-04-12T10:16:42.768Z"
   },
   {
    "duration": 25,
    "start_time": "2022-04-12T10:16:42.966Z"
   },
   {
    "duration": 3,
    "start_time": "2022-04-12T10:16:46.275Z"
   },
   {
    "duration": 6,
    "start_time": "2022-04-12T10:16:47.660Z"
   },
   {
    "duration": 6,
    "start_time": "2022-04-12T10:16:48.380Z"
   },
   {
    "duration": 9,
    "start_time": "2022-04-12T10:21:54.813Z"
   },
   {
    "duration": 21,
    "start_time": "2022-04-12T10:22:16.069Z"
   },
   {
    "duration": 15,
    "start_time": "2022-04-12T10:22:41.175Z"
   },
   {
    "duration": 12,
    "start_time": "2022-04-12T10:24:30.312Z"
   },
   {
    "duration": 15,
    "start_time": "2022-04-12T10:25:10.981Z"
   },
   {
    "duration": 13,
    "start_time": "2022-04-12T10:25:28.380Z"
   },
   {
    "duration": 12,
    "start_time": "2022-04-12T10:25:48.908Z"
   },
   {
    "duration": 12,
    "start_time": "2022-04-12T10:25:56.475Z"
   },
   {
    "duration": 12,
    "start_time": "2022-04-12T10:37:10.547Z"
   },
   {
    "duration": 16,
    "start_time": "2022-04-12T10:37:36.915Z"
   },
   {
    "duration": 1596,
    "start_time": "2022-04-12T10:37:54.627Z"
   },
   {
    "duration": 21,
    "start_time": "2022-04-12T10:38:31.020Z"
   },
   {
    "duration": 21,
    "start_time": "2022-04-12T10:39:08.158Z"
   },
   {
    "duration": 12,
    "start_time": "2022-04-12T10:39:47.116Z"
   },
   {
    "duration": 439,
    "start_time": "2022-04-12T10:40:11.376Z"
   },
   {
    "duration": 31,
    "start_time": "2022-04-12T10:40:11.817Z"
   },
   {
    "duration": 3,
    "start_time": "2022-04-12T10:40:11.849Z"
   },
   {
    "duration": 23,
    "start_time": "2022-04-12T10:40:11.854Z"
   },
   {
    "duration": 3,
    "start_time": "2022-04-12T10:40:11.878Z"
   },
   {
    "duration": 9,
    "start_time": "2022-04-12T10:40:11.883Z"
   },
   {
    "duration": 25,
    "start_time": "2022-04-12T10:40:11.893Z"
   },
   {
    "duration": 228,
    "start_time": "2022-04-12T10:40:11.919Z"
   },
   {
    "duration": 7,
    "start_time": "2022-04-12T10:40:12.149Z"
   },
   {
    "duration": 6,
    "start_time": "2022-04-12T10:40:12.159Z"
   },
   {
    "duration": 9,
    "start_time": "2022-04-12T10:40:12.166Z"
   },
   {
    "duration": 194,
    "start_time": "2022-04-12T10:40:12.177Z"
   },
   {
    "duration": 6,
    "start_time": "2022-04-12T10:40:12.373Z"
   },
   {
    "duration": 19,
    "start_time": "2022-04-12T10:40:12.381Z"
   },
   {
    "duration": 13,
    "start_time": "2022-04-12T10:40:12.401Z"
   },
   {
    "duration": 9,
    "start_time": "2022-04-12T10:40:12.415Z"
   },
   {
    "duration": 39,
    "start_time": "2022-04-12T10:40:12.425Z"
   },
   {
    "duration": 6,
    "start_time": "2022-04-12T10:40:12.466Z"
   },
   {
    "duration": 13,
    "start_time": "2022-04-12T10:40:12.473Z"
   },
   {
    "duration": 11,
    "start_time": "2022-04-12T10:40:12.488Z"
   },
   {
    "duration": 6,
    "start_time": "2022-04-12T10:40:12.501Z"
   },
   {
    "duration": 5,
    "start_time": "2022-04-12T10:40:12.509Z"
   },
   {
    "duration": 33,
    "start_time": "2022-04-12T10:40:12.515Z"
   },
   {
    "duration": 68,
    "start_time": "2022-04-12T10:40:12.550Z"
   },
   {
    "duration": 0,
    "start_time": "2022-04-12T10:40:12.620Z"
   },
   {
    "duration": 0,
    "start_time": "2022-04-12T10:40:12.621Z"
   },
   {
    "duration": 0,
    "start_time": "2022-04-12T10:40:12.622Z"
   },
   {
    "duration": 0,
    "start_time": "2022-04-12T10:40:12.648Z"
   },
   {
    "duration": 0,
    "start_time": "2022-04-12T10:40:12.649Z"
   },
   {
    "duration": 0,
    "start_time": "2022-04-12T10:40:12.650Z"
   },
   {
    "duration": 0,
    "start_time": "2022-04-12T10:40:12.651Z"
   },
   {
    "duration": 0,
    "start_time": "2022-04-12T10:40:12.652Z"
   },
   {
    "duration": 0,
    "start_time": "2022-04-12T10:40:12.652Z"
   },
   {
    "duration": 17,
    "start_time": "2022-04-12T10:41:55.020Z"
   },
   {
    "duration": 1772,
    "start_time": "2022-04-12T10:42:11.859Z"
   },
   {
    "duration": 454,
    "start_time": "2022-04-12T10:42:58.671Z"
   },
   {
    "duration": 31,
    "start_time": "2022-04-12T10:42:59.127Z"
   },
   {
    "duration": 3,
    "start_time": "2022-04-12T10:42:59.160Z"
   },
   {
    "duration": 16,
    "start_time": "2022-04-12T10:42:59.165Z"
   },
   {
    "duration": 3,
    "start_time": "2022-04-12T10:42:59.183Z"
   },
   {
    "duration": 6,
    "start_time": "2022-04-12T10:42:59.187Z"
   },
   {
    "duration": 27,
    "start_time": "2022-04-12T10:42:59.195Z"
   },
   {
    "duration": 204,
    "start_time": "2022-04-12T10:42:59.248Z"
   },
   {
    "duration": 7,
    "start_time": "2022-04-12T10:42:59.453Z"
   },
   {
    "duration": 8,
    "start_time": "2022-04-12T10:42:59.463Z"
   },
   {
    "duration": 9,
    "start_time": "2022-04-12T10:42:59.472Z"
   },
   {
    "duration": 187,
    "start_time": "2022-04-12T10:42:59.483Z"
   },
   {
    "duration": 7,
    "start_time": "2022-04-12T10:42:59.672Z"
   },
   {
    "duration": 27,
    "start_time": "2022-04-12T10:42:59.680Z"
   },
   {
    "duration": 7,
    "start_time": "2022-04-12T10:42:59.708Z"
   },
   {
    "duration": 17,
    "start_time": "2022-04-12T10:42:59.717Z"
   },
   {
    "duration": 18,
    "start_time": "2022-04-12T10:42:59.748Z"
   },
   {
    "duration": 11,
    "start_time": "2022-04-12T10:42:59.768Z"
   },
   {
    "duration": 11,
    "start_time": "2022-04-12T10:42:59.781Z"
   },
   {
    "duration": 6,
    "start_time": "2022-04-12T10:42:59.793Z"
   },
   {
    "duration": 10,
    "start_time": "2022-04-12T10:42:59.800Z"
   },
   {
    "duration": 14,
    "start_time": "2022-04-12T10:42:59.812Z"
   },
   {
    "duration": 20,
    "start_time": "2022-04-12T10:42:59.828Z"
   },
   {
    "duration": 72,
    "start_time": "2022-04-12T10:42:59.850Z"
   },
   {
    "duration": 0,
    "start_time": "2022-04-12T10:42:59.924Z"
   },
   {
    "duration": 0,
    "start_time": "2022-04-12T10:42:59.926Z"
   },
   {
    "duration": 0,
    "start_time": "2022-04-12T10:42:59.927Z"
   },
   {
    "duration": 1,
    "start_time": "2022-04-12T10:42:59.928Z"
   },
   {
    "duration": 0,
    "start_time": "2022-04-12T10:42:59.948Z"
   },
   {
    "duration": 0,
    "start_time": "2022-04-12T10:42:59.949Z"
   },
   {
    "duration": 0,
    "start_time": "2022-04-12T10:42:59.951Z"
   },
   {
    "duration": 0,
    "start_time": "2022-04-12T10:42:59.952Z"
   },
   {
    "duration": 0,
    "start_time": "2022-04-12T10:42:59.953Z"
   },
   {
    "duration": 1897,
    "start_time": "2022-04-12T10:43:28.820Z"
   },
   {
    "duration": 1912,
    "start_time": "2022-04-12T10:44:07.213Z"
   },
   {
    "duration": 1911,
    "start_time": "2022-04-12T10:44:21.773Z"
   },
   {
    "duration": 23,
    "start_time": "2022-04-12T10:44:31.724Z"
   },
   {
    "duration": 50,
    "start_time": "2022-04-12T10:44:46.790Z"
   },
   {
    "duration": 38,
    "start_time": "2022-04-12T10:44:47.517Z"
   },
   {
    "duration": 22,
    "start_time": "2022-04-12T10:45:05.063Z"
   },
   {
    "duration": 23,
    "start_time": "2022-04-12T10:46:57.252Z"
   },
   {
    "duration": 23,
    "start_time": "2022-04-12T10:47:14.324Z"
   },
   {
    "duration": 26,
    "start_time": "2022-04-12T10:49:24.819Z"
   },
   {
    "duration": 41,
    "start_time": "2022-04-12T10:49:51.435Z"
   },
   {
    "duration": 36,
    "start_time": "2022-04-12T10:50:10.100Z"
   },
   {
    "duration": 23,
    "start_time": "2022-04-12T10:52:39.530Z"
   },
   {
    "duration": 23,
    "start_time": "2022-04-12T11:04:16.169Z"
   },
   {
    "duration": 22,
    "start_time": "2022-04-12T11:04:47.062Z"
   },
   {
    "duration": 38,
    "start_time": "2022-04-12T11:06:04.809Z"
   },
   {
    "duration": 30,
    "start_time": "2022-04-12T11:07:07.432Z"
   },
   {
    "duration": 39,
    "start_time": "2022-04-12T11:07:19.162Z"
   },
   {
    "duration": 37,
    "start_time": "2022-04-12T11:07:46.669Z"
   },
   {
    "duration": 22,
    "start_time": "2022-04-12T11:08:40.712Z"
   },
   {
    "duration": 17,
    "start_time": "2022-04-12T11:09:34.140Z"
   },
   {
    "duration": 19,
    "start_time": "2022-04-12T11:10:10.384Z"
   },
   {
    "duration": 23,
    "start_time": "2022-04-12T11:10:45.896Z"
   },
   {
    "duration": 24,
    "start_time": "2022-04-12T11:10:59.520Z"
   },
   {
    "duration": 24,
    "start_time": "2022-04-12T11:14:49.174Z"
   },
   {
    "duration": 24,
    "start_time": "2022-04-12T11:15:43.459Z"
   },
   {
    "duration": 23,
    "start_time": "2022-04-12T11:15:49.952Z"
   },
   {
    "duration": 19,
    "start_time": "2022-04-12T11:18:23.904Z"
   },
   {
    "duration": 31,
    "start_time": "2022-04-12T11:20:03.341Z"
   },
   {
    "duration": 16,
    "start_time": "2022-04-12T11:26:28.421Z"
   },
   {
    "duration": 10,
    "start_time": "2022-04-12T11:32:34.379Z"
   },
   {
    "duration": 10,
    "start_time": "2022-04-12T11:35:51.254Z"
   },
   {
    "duration": 5,
    "start_time": "2022-04-12T13:26:40.940Z"
   },
   {
    "duration": 7,
    "start_time": "2022-04-12T13:27:14.651Z"
   },
   {
    "duration": 16,
    "start_time": "2022-04-12T13:27:59.803Z"
   },
   {
    "duration": 6,
    "start_time": "2022-04-12T13:33:15.459Z"
   },
   {
    "duration": 6,
    "start_time": "2022-04-12T13:33:29.609Z"
   },
   {
    "duration": 10,
    "start_time": "2022-04-12T13:33:59.993Z"
   },
   {
    "duration": 6,
    "start_time": "2022-04-12T13:34:06.008Z"
   },
   {
    "duration": 10,
    "start_time": "2022-04-12T13:34:15.368Z"
   },
   {
    "duration": 23,
    "start_time": "2022-04-12T13:37:06.932Z"
   },
   {
    "duration": 11,
    "start_time": "2022-04-12T13:47:27.600Z"
   },
   {
    "duration": 10,
    "start_time": "2022-04-12T13:48:03.549Z"
   },
   {
    "duration": 6,
    "start_time": "2022-04-12T13:49:08.151Z"
   },
   {
    "duration": 427,
    "start_time": "2022-04-12T13:49:20.402Z"
   },
   {
    "duration": 43,
    "start_time": "2022-04-12T13:49:20.833Z"
   },
   {
    "duration": 3,
    "start_time": "2022-04-12T13:49:20.878Z"
   },
   {
    "duration": 26,
    "start_time": "2022-04-12T13:49:20.882Z"
   },
   {
    "duration": 47,
    "start_time": "2022-04-12T13:49:20.909Z"
   },
   {
    "duration": 9,
    "start_time": "2022-04-12T13:49:20.957Z"
   },
   {
    "duration": 7,
    "start_time": "2022-04-12T13:49:20.968Z"
   },
   {
    "duration": 3,
    "start_time": "2022-04-12T13:49:20.977Z"
   },
   {
    "duration": 6,
    "start_time": "2022-04-12T13:49:20.983Z"
   },
   {
    "duration": 28,
    "start_time": "2022-04-12T13:49:20.990Z"
   },
   {
    "duration": 242,
    "start_time": "2022-04-12T13:49:21.048Z"
   },
   {
    "duration": 8,
    "start_time": "2022-04-12T13:49:21.292Z"
   },
   {
    "duration": 14,
    "start_time": "2022-04-12T13:49:21.301Z"
   },
   {
    "duration": 8,
    "start_time": "2022-04-12T13:49:21.317Z"
   },
   {
    "duration": 213,
    "start_time": "2022-04-12T13:49:21.327Z"
   },
   {
    "duration": 13,
    "start_time": "2022-04-12T13:49:21.541Z"
   },
   {
    "duration": 22,
    "start_time": "2022-04-12T13:49:21.556Z"
   },
   {
    "duration": 11,
    "start_time": "2022-04-12T13:49:21.580Z"
   },
   {
    "duration": 8,
    "start_time": "2022-04-12T13:49:21.593Z"
   },
   {
    "duration": 47,
    "start_time": "2022-04-12T13:49:21.603Z"
   },
   {
    "duration": 8,
    "start_time": "2022-04-12T13:49:21.652Z"
   },
   {
    "duration": 16,
    "start_time": "2022-04-12T13:49:21.661Z"
   },
   {
    "duration": 14,
    "start_time": "2022-04-12T13:49:21.679Z"
   },
   {
    "duration": 10,
    "start_time": "2022-04-12T13:49:21.695Z"
   },
   {
    "duration": 15,
    "start_time": "2022-04-12T13:49:21.707Z"
   },
   {
    "duration": 25,
    "start_time": "2022-04-12T13:49:21.724Z"
   },
   {
    "duration": 77,
    "start_time": "2022-04-12T13:49:21.752Z"
   },
   {
    "duration": 0,
    "start_time": "2022-04-12T13:49:21.847Z"
   },
   {
    "duration": 0,
    "start_time": "2022-04-12T13:49:21.851Z"
   },
   {
    "duration": 0,
    "start_time": "2022-04-12T13:49:21.852Z"
   },
   {
    "duration": 0,
    "start_time": "2022-04-12T13:49:21.853Z"
   },
   {
    "duration": 1,
    "start_time": "2022-04-12T13:49:21.854Z"
   },
   {
    "duration": 0,
    "start_time": "2022-04-12T13:49:21.856Z"
   },
   {
    "duration": 0,
    "start_time": "2022-04-12T13:49:21.857Z"
   },
   {
    "duration": 0,
    "start_time": "2022-04-12T13:49:21.858Z"
   },
   {
    "duration": 0,
    "start_time": "2022-04-12T13:49:21.859Z"
   },
   {
    "duration": 10,
    "start_time": "2022-04-12T13:50:52.464Z"
   },
   {
    "duration": 9,
    "start_time": "2022-04-12T13:51:15.447Z"
   },
   {
    "duration": 5,
    "start_time": "2022-04-12T14:01:15.735Z"
   },
   {
    "duration": 6,
    "start_time": "2022-04-12T14:01:29.741Z"
   },
   {
    "duration": 8,
    "start_time": "2022-04-12T14:02:19.799Z"
   },
   {
    "duration": 9,
    "start_time": "2022-04-12T14:02:29.208Z"
   },
   {
    "duration": 52,
    "start_time": "2022-04-12T14:04:05.085Z"
   },
   {
    "duration": 23,
    "start_time": "2022-04-12T14:04:05.269Z"
   },
   {
    "duration": 3,
    "start_time": "2022-04-12T14:04:05.888Z"
   },
   {
    "duration": 23,
    "start_time": "2022-04-12T14:04:06.391Z"
   },
   {
    "duration": 14,
    "start_time": "2022-04-12T14:04:09.139Z"
   },
   {
    "duration": 10,
    "start_time": "2022-04-12T14:04:10.723Z"
   },
   {
    "duration": 11,
    "start_time": "2022-04-12T14:04:12.731Z"
   },
   {
    "duration": 4,
    "start_time": "2022-04-12T14:04:15.531Z"
   },
   {
    "duration": 10,
    "start_time": "2022-04-12T14:04:19.626Z"
   },
   {
    "duration": 8,
    "start_time": "2022-04-12T14:05:48.788Z"
   },
   {
    "duration": 9,
    "start_time": "2022-04-12T14:06:05.149Z"
   },
   {
    "duration": 9,
    "start_time": "2022-04-12T14:08:37.367Z"
   },
   {
    "duration": 142,
    "start_time": "2022-04-12T14:09:00.844Z"
   },
   {
    "duration": 114,
    "start_time": "2022-04-12T14:10:05.317Z"
   },
   {
    "duration": 11,
    "start_time": "2022-04-12T14:10:11.077Z"
   },
   {
    "duration": 10,
    "start_time": "2022-04-12T14:10:20.093Z"
   },
   {
    "duration": 4,
    "start_time": "2022-04-12T14:11:21.918Z"
   },
   {
    "duration": 4,
    "start_time": "2022-04-12T14:11:35.164Z"
   },
   {
    "duration": 4,
    "start_time": "2022-04-12T14:11:45.680Z"
   },
   {
    "duration": 9,
    "start_time": "2022-04-12T14:11:51.587Z"
   },
   {
    "duration": 8,
    "start_time": "2022-04-12T14:12:05.812Z"
   },
   {
    "duration": 8,
    "start_time": "2022-04-12T14:12:35.933Z"
   },
   {
    "duration": 8,
    "start_time": "2022-04-12T14:13:52.934Z"
   },
   {
    "duration": 8,
    "start_time": "2022-04-12T14:14:15.572Z"
   },
   {
    "duration": 8,
    "start_time": "2022-04-12T14:14:32.218Z"
   },
   {
    "duration": 113,
    "start_time": "2022-04-12T14:20:54.484Z"
   },
   {
    "duration": 9,
    "start_time": "2022-04-12T14:31:50.978Z"
   },
   {
    "duration": 119,
    "start_time": "2022-04-12T14:32:10.571Z"
   },
   {
    "duration": 10,
    "start_time": "2022-04-12T14:32:20.130Z"
   },
   {
    "duration": 8,
    "start_time": "2022-04-12T14:33:24.929Z"
   },
   {
    "duration": 8,
    "start_time": "2022-04-12T14:52:57.436Z"
   },
   {
    "duration": 7,
    "start_time": "2022-04-12T14:53:07.101Z"
   },
   {
    "duration": 8,
    "start_time": "2022-04-12T14:53:27.803Z"
   },
   {
    "duration": 119,
    "start_time": "2022-04-12T14:53:37.589Z"
   },
   {
    "duration": 9,
    "start_time": "2022-04-12T14:53:46.524Z"
   },
   {
    "duration": 53,
    "start_time": "2022-04-12T14:54:21.147Z"
   },
   {
    "duration": 8,
    "start_time": "2022-04-12T14:54:51.796Z"
   },
   {
    "duration": 20,
    "start_time": "2022-04-12T14:55:09.571Z"
   },
   {
    "duration": 21,
    "start_time": "2022-04-12T14:55:33.091Z"
   },
   {
    "duration": 22,
    "start_time": "2022-04-12T14:55:50.436Z"
   },
   {
    "duration": 20,
    "start_time": "2022-04-12T14:56:10.325Z"
   },
   {
    "duration": 12,
    "start_time": "2022-04-12T14:57:22.355Z"
   },
   {
    "duration": 24,
    "start_time": "2022-04-12T14:57:30.275Z"
   },
   {
    "duration": 57,
    "start_time": "2022-04-12T14:57:54.779Z"
   },
   {
    "duration": 25,
    "start_time": "2022-04-12T14:57:55.009Z"
   },
   {
    "duration": 2,
    "start_time": "2022-04-12T14:57:55.670Z"
   },
   {
    "duration": 22,
    "start_time": "2022-04-12T14:57:56.142Z"
   },
   {
    "duration": 22,
    "start_time": "2022-04-12T14:58:12.698Z"
   },
   {
    "duration": 23,
    "start_time": "2022-04-12T14:58:30.563Z"
   },
   {
    "duration": 55,
    "start_time": "2022-04-12T14:58:43.581Z"
   },
   {
    "duration": 23,
    "start_time": "2022-04-12T14:58:43.739Z"
   },
   {
    "duration": 3,
    "start_time": "2022-04-12T14:58:44.319Z"
   },
   {
    "duration": 23,
    "start_time": "2022-04-12T14:58:44.765Z"
   },
   {
    "duration": 15,
    "start_time": "2022-04-12T14:58:45.253Z"
   },
   {
    "duration": 12,
    "start_time": "2022-04-12T14:58:45.741Z"
   },
   {
    "duration": 11,
    "start_time": "2022-04-12T14:58:46.214Z"
   },
   {
    "duration": 3,
    "start_time": "2022-04-12T14:58:46.686Z"
   },
   {
    "duration": 8,
    "start_time": "2022-04-12T14:58:48.577Z"
   },
   {
    "duration": 30,
    "start_time": "2022-04-12T14:58:59.481Z"
   },
   {
    "duration": 37,
    "start_time": "2022-04-12T14:59:22.851Z"
   },
   {
    "duration": 34,
    "start_time": "2022-04-12T14:59:52.835Z"
   },
   {
    "duration": 56,
    "start_time": "2022-04-12T15:00:04.378Z"
   },
   {
    "duration": 23,
    "start_time": "2022-04-12T15:00:04.547Z"
   },
   {
    "duration": 2,
    "start_time": "2022-04-12T15:00:05.093Z"
   },
   {
    "duration": 23,
    "start_time": "2022-04-12T15:00:05.518Z"
   },
   {
    "duration": 14,
    "start_time": "2022-04-12T15:00:05.973Z"
   },
   {
    "duration": 11,
    "start_time": "2022-04-12T15:00:06.453Z"
   },
   {
    "duration": 10,
    "start_time": "2022-04-12T15:00:06.909Z"
   },
   {
    "duration": 3,
    "start_time": "2022-04-12T15:00:07.437Z"
   },
   {
    "duration": 10,
    "start_time": "2022-04-12T15:00:08.096Z"
   },
   {
    "duration": 6,
    "start_time": "2022-04-12T15:00:09.535Z"
   },
   {
    "duration": 31,
    "start_time": "2022-04-12T15:00:33.179Z"
   },
   {
    "duration": 8,
    "start_time": "2022-04-12T15:02:12.596Z"
   },
   {
    "duration": 19,
    "start_time": "2022-04-12T15:02:17.817Z"
   },
   {
    "duration": 10,
    "start_time": "2022-04-12T15:02:38.026Z"
   },
   {
    "duration": 34,
    "start_time": "2022-04-12T15:03:02.768Z"
   },
   {
    "duration": 14,
    "start_time": "2022-04-12T15:58:33.457Z"
   },
   {
    "duration": 34,
    "start_time": "2022-04-12T15:58:39.674Z"
   },
   {
    "duration": 36,
    "start_time": "2022-04-12T15:59:14.266Z"
   },
   {
    "duration": 28,
    "start_time": "2022-04-12T18:37:31.015Z"
   },
   {
    "duration": 28,
    "start_time": "2022-04-12T18:37:40.207Z"
   },
   {
    "duration": 54,
    "start_time": "2022-04-12T18:37:49.200Z"
   },
   {
    "duration": 24,
    "start_time": "2022-04-12T18:37:49.391Z"
   },
   {
    "duration": 3,
    "start_time": "2022-04-12T18:37:50.017Z"
   },
   {
    "duration": 22,
    "start_time": "2022-04-12T18:37:50.521Z"
   },
   {
    "duration": 14,
    "start_time": "2022-04-12T18:37:51.017Z"
   },
   {
    "duration": 10,
    "start_time": "2022-04-12T18:37:51.505Z"
   },
   {
    "duration": 10,
    "start_time": "2022-04-12T18:37:52.017Z"
   },
   {
    "duration": 3,
    "start_time": "2022-04-12T18:37:52.612Z"
   },
   {
    "duration": 9,
    "start_time": "2022-04-12T18:37:55.204Z"
   },
   {
    "duration": 5,
    "start_time": "2022-04-12T18:37:56.891Z"
   },
   {
    "duration": 23,
    "start_time": "2022-04-12T18:37:57.848Z"
   },
   {
    "duration": 112,
    "start_time": "2022-04-12T18:37:58.876Z"
   },
   {
    "duration": 26,
    "start_time": "2022-04-12T18:38:00.301Z"
   },
   {
    "duration": 34,
    "start_time": "2022-04-12T18:38:40.302Z"
   },
   {
    "duration": 34,
    "start_time": "2022-04-12T18:38:49.310Z"
   },
   {
    "duration": 30,
    "start_time": "2022-04-12T18:39:30.613Z"
   },
   {
    "duration": 130,
    "start_time": "2022-04-12T18:41:42.932Z"
   },
   {
    "duration": 121,
    "start_time": "2022-04-12T18:42:06.037Z"
   },
   {
    "duration": 31,
    "start_time": "2022-04-12T18:42:09.997Z"
   },
   {
    "duration": 29,
    "start_time": "2022-04-12T18:42:15.142Z"
   },
   {
    "duration": 35,
    "start_time": "2022-04-12T18:43:40.197Z"
   },
   {
    "duration": 32,
    "start_time": "2022-04-12T18:47:45.109Z"
   },
   {
    "duration": 105,
    "start_time": "2022-04-12T18:48:43.316Z"
   },
   {
    "duration": 20,
    "start_time": "2022-04-12T18:59:58.763Z"
   },
   {
    "duration": 27,
    "start_time": "2022-04-12T19:00:21.482Z"
   },
   {
    "duration": 26,
    "start_time": "2022-04-12T19:00:57.111Z"
   },
   {
    "duration": 23,
    "start_time": "2022-04-12T19:01:06.099Z"
   },
   {
    "duration": 470,
    "start_time": "2022-04-12T19:01:47.958Z"
   },
   {
    "duration": 36,
    "start_time": "2022-04-12T19:01:48.430Z"
   },
   {
    "duration": 3,
    "start_time": "2022-04-12T19:01:48.467Z"
   },
   {
    "duration": 24,
    "start_time": "2022-04-12T19:01:48.472Z"
   },
   {
    "duration": 12,
    "start_time": "2022-04-12T19:01:48.498Z"
   },
   {
    "duration": 36,
    "start_time": "2022-04-12T19:01:48.512Z"
   },
   {
    "duration": 10,
    "start_time": "2022-04-12T19:01:48.550Z"
   },
   {
    "duration": 3,
    "start_time": "2022-04-12T19:01:48.562Z"
   },
   {
    "duration": 9,
    "start_time": "2022-04-12T19:01:48.567Z"
   },
   {
    "duration": 4,
    "start_time": "2022-04-12T19:01:48.578Z"
   },
   {
    "duration": 26,
    "start_time": "2022-04-12T19:01:48.584Z"
   },
   {
    "duration": 34,
    "start_time": "2022-04-12T19:01:48.647Z"
   },
   {
    "duration": 14,
    "start_time": "2022-04-12T19:01:48.683Z"
   },
   {
    "duration": 6,
    "start_time": "2022-04-12T19:01:48.699Z"
   },
   {
    "duration": 41,
    "start_time": "2022-04-12T19:01:48.707Z"
   },
   {
    "duration": 24,
    "start_time": "2022-04-12T19:01:48.749Z"
   },
   {
    "duration": 8,
    "start_time": "2022-04-12T19:01:48.774Z"
   },
   {
    "duration": 20,
    "start_time": "2022-04-12T19:01:48.784Z"
   },
   {
    "duration": 8,
    "start_time": "2022-04-12T19:01:48.806Z"
   },
   {
    "duration": 9,
    "start_time": "2022-04-12T19:01:48.848Z"
   },
   {
    "duration": 21,
    "start_time": "2022-04-12T19:01:48.859Z"
   },
   {
    "duration": 7,
    "start_time": "2022-04-12T19:01:48.882Z"
   },
   {
    "duration": 10,
    "start_time": "2022-04-12T19:01:48.891Z"
   },
   {
    "duration": 5,
    "start_time": "2022-04-12T19:01:48.903Z"
   },
   {
    "duration": 39,
    "start_time": "2022-04-12T19:01:48.910Z"
   },
   {
    "duration": 10,
    "start_time": "2022-04-12T19:01:48.951Z"
   },
   {
    "duration": 5,
    "start_time": "2022-04-12T19:01:48.963Z"
   },
   {
    "duration": 97,
    "start_time": "2022-04-12T19:01:48.971Z"
   },
   {
    "duration": 0,
    "start_time": "2022-04-12T19:01:49.070Z"
   },
   {
    "duration": 0,
    "start_time": "2022-04-12T19:01:49.071Z"
   },
   {
    "duration": 0,
    "start_time": "2022-04-12T19:01:49.072Z"
   },
   {
    "duration": 0,
    "start_time": "2022-04-12T19:01:49.073Z"
   },
   {
    "duration": 0,
    "start_time": "2022-04-12T19:01:49.074Z"
   },
   {
    "duration": 0,
    "start_time": "2022-04-12T19:01:49.075Z"
   },
   {
    "duration": 0,
    "start_time": "2022-04-12T19:01:49.075Z"
   },
   {
    "duration": 0,
    "start_time": "2022-04-12T19:01:49.076Z"
   },
   {
    "duration": 0,
    "start_time": "2022-04-12T19:01:49.077Z"
   },
   {
    "duration": 30,
    "start_time": "2022-04-12T19:02:19.151Z"
   },
   {
    "duration": 34,
    "start_time": "2022-04-12T19:02:33.820Z"
   },
   {
    "duration": 452,
    "start_time": "2022-04-12T19:02:47.552Z"
   },
   {
    "duration": 30,
    "start_time": "2022-04-12T19:02:48.006Z"
   },
   {
    "duration": 10,
    "start_time": "2022-04-12T19:02:48.037Z"
   },
   {
    "duration": 23,
    "start_time": "2022-04-12T19:02:48.049Z"
   },
   {
    "duration": 13,
    "start_time": "2022-04-12T19:02:48.073Z"
   },
   {
    "duration": 9,
    "start_time": "2022-04-12T19:02:48.088Z"
   },
   {
    "duration": 9,
    "start_time": "2022-04-12T19:02:48.099Z"
   },
   {
    "duration": 3,
    "start_time": "2022-04-12T19:02:48.110Z"
   },
   {
    "duration": 42,
    "start_time": "2022-04-12T19:02:48.114Z"
   },
   {
    "duration": 7,
    "start_time": "2022-04-12T19:02:48.158Z"
   },
   {
    "duration": 27,
    "start_time": "2022-04-12T19:02:48.167Z"
   },
   {
    "duration": 60,
    "start_time": "2022-04-12T19:02:48.196Z"
   },
   {
    "duration": 12,
    "start_time": "2022-04-12T19:02:48.258Z"
   },
   {
    "duration": 6,
    "start_time": "2022-04-12T19:02:48.271Z"
   },
   {
    "duration": 13,
    "start_time": "2022-04-12T19:02:48.278Z"
   },
   {
    "duration": 32,
    "start_time": "2022-04-12T19:02:48.292Z"
   },
   {
    "duration": 29,
    "start_time": "2022-04-12T19:02:48.325Z"
   },
   {
    "duration": 20,
    "start_time": "2022-04-12T19:02:48.355Z"
   },
   {
    "duration": 8,
    "start_time": "2022-04-12T19:02:48.376Z"
   },
   {
    "duration": 8,
    "start_time": "2022-04-12T19:02:48.386Z"
   },
   {
    "duration": 20,
    "start_time": "2022-04-12T19:02:48.395Z"
   },
   {
    "duration": 35,
    "start_time": "2022-04-12T19:02:48.417Z"
   },
   {
    "duration": 11,
    "start_time": "2022-04-12T19:02:48.453Z"
   },
   {
    "duration": 6,
    "start_time": "2022-04-12T19:02:48.466Z"
   },
   {
    "duration": 7,
    "start_time": "2022-04-12T19:02:48.473Z"
   },
   {
    "duration": 9,
    "start_time": "2022-04-12T19:02:48.481Z"
   },
   {
    "duration": 6,
    "start_time": "2022-04-12T19:02:48.491Z"
   },
   {
    "duration": 106,
    "start_time": "2022-04-12T19:02:48.499Z"
   },
   {
    "duration": 0,
    "start_time": "2022-04-12T19:02:48.606Z"
   },
   {
    "duration": 0,
    "start_time": "2022-04-12T19:02:48.607Z"
   },
   {
    "duration": 0,
    "start_time": "2022-04-12T19:02:48.608Z"
   },
   {
    "duration": 0,
    "start_time": "2022-04-12T19:02:48.610Z"
   },
   {
    "duration": 0,
    "start_time": "2022-04-12T19:02:48.610Z"
   },
   {
    "duration": 0,
    "start_time": "2022-04-12T19:02:48.611Z"
   },
   {
    "duration": 0,
    "start_time": "2022-04-12T19:02:48.612Z"
   },
   {
    "duration": 1,
    "start_time": "2022-04-12T19:02:48.613Z"
   },
   {
    "duration": 0,
    "start_time": "2022-04-12T19:02:48.614Z"
   },
   {
    "duration": 24,
    "start_time": "2022-04-12T19:04:58.347Z"
   },
   {
    "duration": 8,
    "start_time": "2022-04-12T19:05:32.224Z"
   },
   {
    "duration": 9,
    "start_time": "2022-04-12T19:08:28.041Z"
   },
   {
    "duration": 15,
    "start_time": "2022-04-12T19:08:44.728Z"
   },
   {
    "duration": 12,
    "start_time": "2022-04-12T19:08:55.464Z"
   },
   {
    "duration": 470,
    "start_time": "2022-04-12T19:09:04.569Z"
   },
   {
    "duration": 31,
    "start_time": "2022-04-12T19:09:05.041Z"
   },
   {
    "duration": 3,
    "start_time": "2022-04-12T19:09:05.074Z"
   },
   {
    "duration": 25,
    "start_time": "2022-04-12T19:09:05.079Z"
   },
   {
    "duration": 12,
    "start_time": "2022-04-12T19:09:05.106Z"
   },
   {
    "duration": 34,
    "start_time": "2022-04-12T19:09:05.120Z"
   },
   {
    "duration": 9,
    "start_time": "2022-04-12T19:09:05.156Z"
   },
   {
    "duration": 4,
    "start_time": "2022-04-12T19:09:05.167Z"
   },
   {
    "duration": 10,
    "start_time": "2022-04-12T19:09:05.172Z"
   },
   {
    "duration": 6,
    "start_time": "2022-04-12T19:09:05.185Z"
   },
   {
    "duration": 56,
    "start_time": "2022-04-12T19:09:05.193Z"
   },
   {
    "duration": 16,
    "start_time": "2022-04-12T19:09:05.250Z"
   },
   {
    "duration": 9,
    "start_time": "2022-04-12T19:09:05.268Z"
   },
   {
    "duration": 6,
    "start_time": "2022-04-12T19:09:05.278Z"
   },
   {
    "duration": 8,
    "start_time": "2022-04-12T19:09:05.285Z"
   },
   {
    "duration": 8,
    "start_time": "2022-04-12T19:09:05.295Z"
   },
   {
    "duration": 7,
    "start_time": "2022-04-12T19:09:05.305Z"
   },
   {
    "duration": 21,
    "start_time": "2022-04-12T19:09:05.348Z"
   },
   {
    "duration": 12,
    "start_time": "2022-04-12T19:09:05.370Z"
   },
   {
    "duration": 13,
    "start_time": "2022-04-12T19:09:05.383Z"
   },
   {
    "duration": 23,
    "start_time": "2022-04-12T19:09:05.398Z"
   },
   {
    "duration": 12,
    "start_time": "2022-04-12T19:09:05.422Z"
   },
   {
    "duration": 9,
    "start_time": "2022-04-12T19:09:05.447Z"
   },
   {
    "duration": 9,
    "start_time": "2022-04-12T19:09:05.457Z"
   },
   {
    "duration": 11,
    "start_time": "2022-04-12T19:09:05.467Z"
   },
   {
    "duration": 14,
    "start_time": "2022-04-12T19:09:05.479Z"
   },
   {
    "duration": 11,
    "start_time": "2022-04-12T19:09:05.495Z"
   },
   {
    "duration": 88,
    "start_time": "2022-04-12T19:09:05.509Z"
   },
   {
    "duration": 0,
    "start_time": "2022-04-12T19:09:05.598Z"
   },
   {
    "duration": 0,
    "start_time": "2022-04-12T19:09:05.600Z"
   },
   {
    "duration": 0,
    "start_time": "2022-04-12T19:09:05.601Z"
   },
   {
    "duration": 0,
    "start_time": "2022-04-12T19:09:05.601Z"
   },
   {
    "duration": 0,
    "start_time": "2022-04-12T19:09:05.602Z"
   },
   {
    "duration": 0,
    "start_time": "2022-04-12T19:09:05.603Z"
   },
   {
    "duration": 0,
    "start_time": "2022-04-12T19:09:05.604Z"
   },
   {
    "duration": 0,
    "start_time": "2022-04-12T19:09:05.605Z"
   },
   {
    "duration": 0,
    "start_time": "2022-04-12T19:09:05.606Z"
   },
   {
    "duration": 27,
    "start_time": "2022-04-12T19:09:21.638Z"
   },
   {
    "duration": 439,
    "start_time": "2022-04-12T19:09:28.780Z"
   },
   {
    "duration": 32,
    "start_time": "2022-04-12T19:09:29.221Z"
   },
   {
    "duration": 2,
    "start_time": "2022-04-12T19:09:29.255Z"
   },
   {
    "duration": 24,
    "start_time": "2022-04-12T19:09:29.259Z"
   },
   {
    "duration": 12,
    "start_time": "2022-04-12T19:09:29.285Z"
   },
   {
    "duration": 9,
    "start_time": "2022-04-12T19:09:29.299Z"
   },
   {
    "duration": 41,
    "start_time": "2022-04-12T19:09:29.310Z"
   },
   {
    "duration": 3,
    "start_time": "2022-04-12T19:09:29.353Z"
   },
   {
    "duration": 9,
    "start_time": "2022-04-12T19:09:29.357Z"
   },
   {
    "duration": 4,
    "start_time": "2022-04-12T19:09:29.369Z"
   },
   {
    "duration": 24,
    "start_time": "2022-04-12T19:09:29.374Z"
   },
   {
    "duration": 63,
    "start_time": "2022-04-12T19:09:29.399Z"
   },
   {
    "duration": 10,
    "start_time": "2022-04-12T19:09:29.464Z"
   },
   {
    "duration": 5,
    "start_time": "2022-04-12T19:09:29.476Z"
   },
   {
    "duration": 9,
    "start_time": "2022-04-12T19:09:29.483Z"
   },
   {
    "duration": 11,
    "start_time": "2022-04-12T19:09:29.493Z"
   },
   {
    "duration": 9,
    "start_time": "2022-04-12T19:09:29.505Z"
   },
   {
    "duration": 49,
    "start_time": "2022-04-12T19:09:29.515Z"
   },
   {
    "duration": 10,
    "start_time": "2022-04-12T19:09:29.565Z"
   },
   {
    "duration": 9,
    "start_time": "2022-04-12T19:09:29.577Z"
   },
   {
    "duration": 23,
    "start_time": "2022-04-12T19:09:29.588Z"
   },
   {
    "duration": 7,
    "start_time": "2022-04-12T19:09:29.612Z"
   },
   {
    "duration": 33,
    "start_time": "2022-04-12T19:09:29.620Z"
   },
   {
    "duration": 10,
    "start_time": "2022-04-12T19:09:29.655Z"
   },
   {
    "duration": 12,
    "start_time": "2022-04-12T19:09:29.666Z"
   },
   {
    "duration": 10,
    "start_time": "2022-04-12T19:09:29.679Z"
   },
   {
    "duration": 7,
    "start_time": "2022-04-12T19:09:29.690Z"
   },
   {
    "duration": 89,
    "start_time": "2022-04-12T19:09:29.701Z"
   },
   {
    "duration": 0,
    "start_time": "2022-04-12T19:09:29.792Z"
   },
   {
    "duration": 0,
    "start_time": "2022-04-12T19:09:29.794Z"
   },
   {
    "duration": 0,
    "start_time": "2022-04-12T19:09:29.796Z"
   },
   {
    "duration": 0,
    "start_time": "2022-04-12T19:09:29.797Z"
   },
   {
    "duration": 0,
    "start_time": "2022-04-12T19:09:29.798Z"
   },
   {
    "duration": 0,
    "start_time": "2022-04-12T19:09:29.800Z"
   },
   {
    "duration": 0,
    "start_time": "2022-04-12T19:09:29.802Z"
   },
   {
    "duration": 0,
    "start_time": "2022-04-12T19:09:29.803Z"
   },
   {
    "duration": 0,
    "start_time": "2022-04-12T19:09:29.804Z"
   },
   {
    "duration": 17,
    "start_time": "2022-04-12T19:11:18.968Z"
   },
   {
    "duration": 7,
    "start_time": "2022-04-12T19:11:25.432Z"
   },
   {
    "duration": 44,
    "start_time": "2022-04-13T09:18:23.295Z"
   },
   {
    "duration": 426,
    "start_time": "2022-04-13T09:38:36.324Z"
   },
   {
    "duration": 29,
    "start_time": "2022-04-13T09:38:36.752Z"
   },
   {
    "duration": 3,
    "start_time": "2022-04-13T09:38:36.783Z"
   },
   {
    "duration": 39,
    "start_time": "2022-04-13T09:38:36.788Z"
   },
   {
    "duration": 12,
    "start_time": "2022-04-13T09:38:36.829Z"
   },
   {
    "duration": 9,
    "start_time": "2022-04-13T09:38:36.842Z"
   },
   {
    "duration": 11,
    "start_time": "2022-04-13T09:38:36.852Z"
   },
   {
    "duration": 3,
    "start_time": "2022-04-13T09:38:36.864Z"
   },
   {
    "duration": 9,
    "start_time": "2022-04-13T09:38:36.869Z"
   },
   {
    "duration": 3,
    "start_time": "2022-04-13T09:38:36.881Z"
   },
   {
    "duration": 59,
    "start_time": "2022-04-13T09:38:36.885Z"
   },
   {
    "duration": 27,
    "start_time": "2022-04-13T09:38:36.945Z"
   },
   {
    "duration": 10,
    "start_time": "2022-04-13T09:38:36.973Z"
   },
   {
    "duration": 5,
    "start_time": "2022-04-13T09:38:36.984Z"
   },
   {
    "duration": 38,
    "start_time": "2022-04-13T09:38:36.990Z"
   },
   {
    "duration": 17,
    "start_time": "2022-04-13T09:38:37.030Z"
   },
   {
    "duration": 8,
    "start_time": "2022-04-13T09:38:37.049Z"
   },
   {
    "duration": 8,
    "start_time": "2022-04-13T09:38:37.059Z"
   },
   {
    "duration": 7,
    "start_time": "2022-04-13T09:38:37.069Z"
   },
   {
    "duration": 53,
    "start_time": "2022-04-13T09:38:37.078Z"
   },
   {
    "duration": 7,
    "start_time": "2022-04-13T09:38:37.132Z"
   },
   {
    "duration": 10,
    "start_time": "2022-04-13T09:38:37.140Z"
   },
   {
    "duration": 5,
    "start_time": "2022-04-13T09:38:37.152Z"
   },
   {
    "duration": 6,
    "start_time": "2022-04-13T09:38:37.159Z"
   },
   {
    "duration": 8,
    "start_time": "2022-04-13T09:38:37.167Z"
   },
   {
    "duration": 5,
    "start_time": "2022-04-13T09:38:37.177Z"
   },
   {
    "duration": 98,
    "start_time": "2022-04-13T09:38:37.184Z"
   },
   {
    "duration": 0,
    "start_time": "2022-04-13T09:38:37.285Z"
   },
   {
    "duration": 0,
    "start_time": "2022-04-13T09:38:37.286Z"
   },
   {
    "duration": 0,
    "start_time": "2022-04-13T09:38:37.287Z"
   },
   {
    "duration": 0,
    "start_time": "2022-04-13T09:38:37.288Z"
   },
   {
    "duration": 0,
    "start_time": "2022-04-13T09:38:37.289Z"
   },
   {
    "duration": 0,
    "start_time": "2022-04-13T09:38:37.291Z"
   },
   {
    "duration": 0,
    "start_time": "2022-04-13T09:38:37.292Z"
   },
   {
    "duration": 0,
    "start_time": "2022-04-13T09:38:37.294Z"
   },
   {
    "duration": 0,
    "start_time": "2022-04-13T09:38:37.295Z"
   },
   {
    "duration": 15,
    "start_time": "2022-04-13T11:00:46.496Z"
   },
   {
    "duration": 12,
    "start_time": "2022-04-13T11:03:21.770Z"
   },
   {
    "duration": 18,
    "start_time": "2022-04-13T11:05:02.424Z"
   },
   {
    "duration": 441,
    "start_time": "2022-04-13T11:18:29.735Z"
   },
   {
    "duration": 30,
    "start_time": "2022-04-13T11:18:30.178Z"
   },
   {
    "duration": 2,
    "start_time": "2022-04-13T11:18:30.210Z"
   },
   {
    "duration": 30,
    "start_time": "2022-04-13T11:18:30.214Z"
   },
   {
    "duration": 13,
    "start_time": "2022-04-13T11:18:30.245Z"
   },
   {
    "duration": 9,
    "start_time": "2022-04-13T11:18:30.260Z"
   },
   {
    "duration": 9,
    "start_time": "2022-04-13T11:18:30.270Z"
   },
   {
    "duration": 5,
    "start_time": "2022-04-13T11:18:30.281Z"
   },
   {
    "duration": 42,
    "start_time": "2022-04-13T11:18:30.288Z"
   },
   {
    "duration": 4,
    "start_time": "2022-04-13T11:18:30.333Z"
   },
   {
    "duration": 26,
    "start_time": "2022-04-13T11:18:30.338Z"
   },
   {
    "duration": 28,
    "start_time": "2022-04-13T11:18:30.366Z"
   },
   {
    "duration": 37,
    "start_time": "2022-04-13T11:18:30.395Z"
   },
   {
    "duration": 7,
    "start_time": "2022-04-13T11:18:30.433Z"
   },
   {
    "duration": 9,
    "start_time": "2022-04-13T11:18:30.441Z"
   },
   {
    "duration": 23,
    "start_time": "2022-04-13T11:18:30.451Z"
   },
   {
    "duration": 7,
    "start_time": "2022-04-13T11:18:30.476Z"
   },
   {
    "duration": 13,
    "start_time": "2022-04-13T11:18:30.485Z"
   },
   {
    "duration": 29,
    "start_time": "2022-04-13T11:18:30.500Z"
   },
   {
    "duration": 20,
    "start_time": "2022-04-13T11:18:30.531Z"
   },
   {
    "duration": 6,
    "start_time": "2022-04-13T11:18:30.552Z"
   },
   {
    "duration": 11,
    "start_time": "2022-04-13T11:18:30.560Z"
   },
   {
    "duration": 6,
    "start_time": "2022-04-13T11:18:30.573Z"
   },
   {
    "duration": 8,
    "start_time": "2022-04-13T11:18:30.580Z"
   },
   {
    "duration": 38,
    "start_time": "2022-04-13T11:18:30.590Z"
   },
   {
    "duration": 6,
    "start_time": "2022-04-13T11:18:30.630Z"
   },
   {
    "duration": 25,
    "start_time": "2022-04-13T11:18:30.638Z"
   },
   {
    "duration": 16,
    "start_time": "2022-04-13T11:18:30.667Z"
   },
   {
    "duration": 39,
    "start_time": "2022-04-13T11:18:30.684Z"
   },
   {
    "duration": 13,
    "start_time": "2022-04-13T11:18:30.725Z"
   },
   {
    "duration": 154,
    "start_time": "2022-04-13T11:18:30.740Z"
   },
   {
    "duration": 635,
    "start_time": "2022-04-13T11:18:30.895Z"
   },
   {
    "duration": 0,
    "start_time": "2022-04-13T11:18:31.532Z"
   },
   {
    "duration": 0,
    "start_time": "2022-04-13T11:18:31.533Z"
   },
   {
    "duration": 0,
    "start_time": "2022-04-13T11:18:31.535Z"
   },
   {
    "duration": 0,
    "start_time": "2022-04-13T11:18:31.536Z"
   },
   {
    "duration": 17,
    "start_time": "2022-04-13T11:18:47.040Z"
   },
   {
    "duration": 173,
    "start_time": "2022-04-13T11:25:21.647Z"
   },
   {
    "duration": 143,
    "start_time": "2022-04-13T11:25:47.718Z"
   },
   {
    "duration": 6,
    "start_time": "2022-04-13T11:29:29.862Z"
   },
   {
    "duration": 10,
    "start_time": "2022-04-13T11:29:43.942Z"
   },
   {
    "duration": 53,
    "start_time": "2022-04-13T11:30:14.950Z"
   },
   {
    "duration": 462,
    "start_time": "2022-04-13T11:30:20.420Z"
   },
   {
    "duration": 34,
    "start_time": "2022-04-13T11:30:20.884Z"
   },
   {
    "duration": 3,
    "start_time": "2022-04-13T11:30:20.924Z"
   },
   {
    "duration": 24,
    "start_time": "2022-04-13T11:30:20.930Z"
   },
   {
    "duration": 13,
    "start_time": "2022-04-13T11:30:20.956Z"
   },
   {
    "duration": 10,
    "start_time": "2022-04-13T11:30:20.971Z"
   },
   {
    "duration": 47,
    "start_time": "2022-04-13T11:30:20.983Z"
   },
   {
    "duration": 4,
    "start_time": "2022-04-13T11:30:21.032Z"
   },
   {
    "duration": 15,
    "start_time": "2022-04-13T11:30:21.037Z"
   },
   {
    "duration": 4,
    "start_time": "2022-04-13T11:30:21.055Z"
   },
   {
    "duration": 25,
    "start_time": "2022-04-13T11:30:21.061Z"
   },
   {
    "duration": 59,
    "start_time": "2022-04-13T11:30:21.088Z"
   },
   {
    "duration": 12,
    "start_time": "2022-04-13T11:30:21.149Z"
   },
   {
    "duration": 6,
    "start_time": "2022-04-13T11:30:21.162Z"
   },
   {
    "duration": 7,
    "start_time": "2022-04-13T11:30:21.170Z"
   },
   {
    "duration": 23,
    "start_time": "2022-04-13T11:30:21.179Z"
   },
   {
    "duration": 9,
    "start_time": "2022-04-13T11:30:21.224Z"
   },
   {
    "duration": 8,
    "start_time": "2022-04-13T11:30:21.235Z"
   },
   {
    "duration": 9,
    "start_time": "2022-04-13T11:30:21.245Z"
   },
   {
    "duration": 20,
    "start_time": "2022-04-13T11:30:21.256Z"
   },
   {
    "duration": 7,
    "start_time": "2022-04-13T11:30:21.278Z"
   },
   {
    "duration": 10,
    "start_time": "2022-04-13T11:30:21.323Z"
   },
   {
    "duration": 8,
    "start_time": "2022-04-13T11:30:21.335Z"
   },
   {
    "duration": 7,
    "start_time": "2022-04-13T11:30:21.345Z"
   },
   {
    "duration": 12,
    "start_time": "2022-04-13T11:30:21.354Z"
   },
   {
    "duration": 5,
    "start_time": "2022-04-13T11:30:21.368Z"
   },
   {
    "duration": 48,
    "start_time": "2022-04-13T11:30:21.376Z"
   },
   {
    "duration": 64,
    "start_time": "2022-04-13T11:30:21.428Z"
   },
   {
    "duration": 0,
    "start_time": "2022-04-13T11:30:21.494Z"
   },
   {
    "duration": 0,
    "start_time": "2022-04-13T11:30:21.496Z"
   },
   {
    "duration": 0,
    "start_time": "2022-04-13T11:30:21.497Z"
   },
   {
    "duration": 0,
    "start_time": "2022-04-13T11:30:21.498Z"
   },
   {
    "duration": 0,
    "start_time": "2022-04-13T11:30:21.500Z"
   },
   {
    "duration": 0,
    "start_time": "2022-04-13T11:30:21.524Z"
   },
   {
    "duration": 0,
    "start_time": "2022-04-13T11:30:21.526Z"
   },
   {
    "duration": 0,
    "start_time": "2022-04-13T11:30:21.527Z"
   },
   {
    "duration": 0,
    "start_time": "2022-04-13T11:30:21.529Z"
   },
   {
    "duration": 7,
    "start_time": "2022-04-13T11:37:27.558Z"
   },
   {
    "duration": 8,
    "start_time": "2022-04-13T11:37:43.983Z"
   },
   {
    "duration": 3,
    "start_time": "2022-04-13T11:37:58.485Z"
   },
   {
    "duration": 4,
    "start_time": "2022-04-13T11:38:09.061Z"
   },
   {
    "duration": 3,
    "start_time": "2022-04-13T11:38:22.990Z"
   },
   {
    "duration": 16,
    "start_time": "2022-04-13T11:38:43.014Z"
   },
   {
    "duration": 3,
    "start_time": "2022-04-13T11:38:49.076Z"
   },
   {
    "duration": 443,
    "start_time": "2022-04-13T11:38:59.938Z"
   },
   {
    "duration": 30,
    "start_time": "2022-04-13T11:39:00.383Z"
   },
   {
    "duration": 8,
    "start_time": "2022-04-13T11:39:00.415Z"
   },
   {
    "duration": 30,
    "start_time": "2022-04-13T11:39:00.426Z"
   },
   {
    "duration": 14,
    "start_time": "2022-04-13T11:39:00.458Z"
   },
   {
    "duration": 26,
    "start_time": "2022-04-13T11:39:00.474Z"
   },
   {
    "duration": 14,
    "start_time": "2022-04-13T11:39:00.502Z"
   },
   {
    "duration": 23,
    "start_time": "2022-04-13T11:39:00.518Z"
   },
   {
    "duration": 31,
    "start_time": "2022-04-13T11:39:00.542Z"
   },
   {
    "duration": 10,
    "start_time": "2022-04-13T11:39:00.576Z"
   },
   {
    "duration": 46,
    "start_time": "2022-04-13T11:39:00.587Z"
   },
   {
    "duration": 31,
    "start_time": "2022-04-13T11:39:00.636Z"
   },
   {
    "duration": 12,
    "start_time": "2022-04-13T11:39:00.669Z"
   },
   {
    "duration": 14,
    "start_time": "2022-04-13T11:39:00.683Z"
   },
   {
    "duration": 29,
    "start_time": "2022-04-13T11:39:00.699Z"
   },
   {
    "duration": 34,
    "start_time": "2022-04-13T11:39:00.730Z"
   },
   {
    "duration": 15,
    "start_time": "2022-04-13T11:39:00.766Z"
   },
   {
    "duration": 31,
    "start_time": "2022-04-13T11:39:00.783Z"
   },
   {
    "duration": 24,
    "start_time": "2022-04-13T11:39:00.815Z"
   },
   {
    "duration": 37,
    "start_time": "2022-04-13T11:39:00.841Z"
   },
   {
    "duration": 28,
    "start_time": "2022-04-13T11:39:00.879Z"
   },
   {
    "duration": 21,
    "start_time": "2022-04-13T11:39:00.909Z"
   },
   {
    "duration": 24,
    "start_time": "2022-04-13T11:39:00.931Z"
   },
   {
    "duration": 10,
    "start_time": "2022-04-13T11:39:00.957Z"
   },
   {
    "duration": 22,
    "start_time": "2022-04-13T11:39:00.969Z"
   },
   {
    "duration": 26,
    "start_time": "2022-04-13T11:39:00.992Z"
   },
   {
    "duration": 21,
    "start_time": "2022-04-13T11:39:01.020Z"
   },
   {
    "duration": 12,
    "start_time": "2022-04-13T11:39:01.044Z"
   },
   {
    "duration": 30,
    "start_time": "2022-04-13T11:39:01.058Z"
   },
   {
    "duration": 27,
    "start_time": "2022-04-13T11:39:01.090Z"
   },
   {
    "duration": 25,
    "start_time": "2022-04-13T11:39:01.119Z"
   },
   {
    "duration": 166,
    "start_time": "2022-04-13T11:39:01.146Z"
   },
   {
    "duration": 607,
    "start_time": "2022-04-13T11:39:01.314Z"
   },
   {
    "duration": 0,
    "start_time": "2022-04-13T11:39:01.922Z"
   },
   {
    "duration": 0,
    "start_time": "2022-04-13T11:39:01.924Z"
   },
   {
    "duration": 0,
    "start_time": "2022-04-13T11:39:01.925Z"
   },
   {
    "duration": 0,
    "start_time": "2022-04-13T11:39:01.926Z"
   },
   {
    "duration": 17,
    "start_time": "2022-04-13T11:39:43.628Z"
   },
   {
    "duration": 3,
    "start_time": "2022-04-13T11:39:50.509Z"
   },
   {
    "duration": 8,
    "start_time": "2022-04-13T11:40:28.557Z"
   },
   {
    "duration": 18,
    "start_time": "2022-04-13T11:40:34.756Z"
   },
   {
    "duration": 8,
    "start_time": "2022-04-13T11:43:38.144Z"
   },
   {
    "duration": 9,
    "start_time": "2022-04-13T11:43:44.524Z"
   },
   {
    "duration": 9,
    "start_time": "2022-04-13T11:54:35.165Z"
   },
   {
    "duration": 12,
    "start_time": "2022-04-13T11:54:39.834Z"
   },
   {
    "duration": 28,
    "start_time": "2022-04-13T11:54:44.706Z"
   },
   {
    "duration": 29,
    "start_time": "2022-04-13T11:54:56.874Z"
   },
   {
    "duration": 30,
    "start_time": "2022-04-13T11:55:06.754Z"
   },
   {
    "duration": 32,
    "start_time": "2022-04-13T11:55:14.726Z"
   },
   {
    "duration": 424,
    "start_time": "2022-04-13T13:53:35.231Z"
   },
   {
    "duration": 29,
    "start_time": "2022-04-13T13:53:35.656Z"
   },
   {
    "duration": 2,
    "start_time": "2022-04-13T13:53:35.687Z"
   },
   {
    "duration": 33,
    "start_time": "2022-04-13T13:53:35.691Z"
   },
   {
    "duration": 12,
    "start_time": "2022-04-13T13:53:35.725Z"
   },
   {
    "duration": 8,
    "start_time": "2022-04-13T13:53:35.739Z"
   },
   {
    "duration": 9,
    "start_time": "2022-04-13T13:53:35.748Z"
   },
   {
    "duration": 4,
    "start_time": "2022-04-13T13:53:35.758Z"
   },
   {
    "duration": 9,
    "start_time": "2022-04-13T13:53:35.763Z"
   },
   {
    "duration": 5,
    "start_time": "2022-04-13T13:53:35.776Z"
   },
   {
    "duration": 60,
    "start_time": "2022-04-13T13:53:35.783Z"
   },
   {
    "duration": 32,
    "start_time": "2022-04-13T13:53:35.845Z"
   },
   {
    "duration": 11,
    "start_time": "2022-04-13T13:53:35.879Z"
   },
   {
    "duration": 7,
    "start_time": "2022-04-13T13:53:35.891Z"
   },
   {
    "duration": 7,
    "start_time": "2022-04-13T13:53:35.924Z"
   },
   {
    "duration": 19,
    "start_time": "2022-04-13T13:53:35.933Z"
   },
   {
    "duration": 7,
    "start_time": "2022-04-13T13:53:35.954Z"
   },
   {
    "duration": 9,
    "start_time": "2022-04-13T13:53:35.963Z"
   },
   {
    "duration": 14,
    "start_time": "2022-04-13T13:53:35.974Z"
   },
   {
    "duration": 44,
    "start_time": "2022-04-13T13:53:35.990Z"
   },
   {
    "duration": 7,
    "start_time": "2022-04-13T13:53:36.036Z"
   },
   {
    "duration": 9,
    "start_time": "2022-04-13T13:53:36.044Z"
   },
   {
    "duration": 5,
    "start_time": "2022-04-13T13:53:36.055Z"
   },
   {
    "duration": 8,
    "start_time": "2022-04-13T13:53:36.061Z"
   },
   {
    "duration": 8,
    "start_time": "2022-04-13T13:53:36.071Z"
   },
   {
    "duration": 6,
    "start_time": "2022-04-13T13:53:36.081Z"
   },
   {
    "duration": 16,
    "start_time": "2022-04-13T13:53:36.123Z"
   },
   {
    "duration": 3,
    "start_time": "2022-04-13T13:53:36.143Z"
   },
   {
    "duration": 17,
    "start_time": "2022-04-13T13:53:36.148Z"
   },
   {
    "duration": 20,
    "start_time": "2022-04-13T13:53:36.166Z"
   },
   {
    "duration": 42,
    "start_time": "2022-04-13T13:53:36.188Z"
   },
   {
    "duration": 137,
    "start_time": "2022-04-13T13:53:36.232Z"
   },
   {
    "duration": 591,
    "start_time": "2022-04-13T13:53:36.371Z"
   },
   {
    "duration": 0,
    "start_time": "2022-04-13T13:53:36.964Z"
   },
   {
    "duration": 0,
    "start_time": "2022-04-13T13:53:36.966Z"
   },
   {
    "duration": 0,
    "start_time": "2022-04-13T13:53:36.967Z"
   },
   {
    "duration": 0,
    "start_time": "2022-04-13T13:53:36.968Z"
   },
   {
    "duration": 16,
    "start_time": "2022-04-13T13:54:17.164Z"
   },
   {
    "duration": 562,
    "start_time": "2022-04-13T14:07:45.914Z"
   },
   {
    "duration": 11,
    "start_time": "2022-04-13T14:09:47.869Z"
   },
   {
    "duration": 22,
    "start_time": "2022-04-13T14:10:41.118Z"
   },
   {
    "duration": 3,
    "start_time": "2022-04-13T14:16:19.231Z"
   },
   {
    "duration": 48,
    "start_time": "2022-04-13T14:16:28.919Z"
   },
   {
    "duration": 7,
    "start_time": "2022-04-13T14:19:26.687Z"
   },
   {
    "duration": 8,
    "start_time": "2022-04-13T14:19:55.838Z"
   },
   {
    "duration": 18,
    "start_time": "2022-04-13T14:20:12.357Z"
   },
   {
    "duration": 7,
    "start_time": "2022-04-13T14:20:26.862Z"
   },
   {
    "duration": 8,
    "start_time": "2022-04-13T14:20:32.085Z"
   },
   {
    "duration": 5,
    "start_time": "2022-04-13T14:20:39.094Z"
   },
   {
    "duration": 3,
    "start_time": "2022-04-13T14:20:47.009Z"
   },
   {
    "duration": 49,
    "start_time": "2022-04-13T14:20:47.165Z"
   },
   {
    "duration": 23,
    "start_time": "2022-04-13T14:20:47.341Z"
   },
   {
    "duration": 2,
    "start_time": "2022-04-13T14:20:47.952Z"
   },
   {
    "duration": 21,
    "start_time": "2022-04-13T14:20:48.401Z"
   },
   {
    "duration": 13,
    "start_time": "2022-04-13T14:20:48.850Z"
   },
   {
    "duration": 9,
    "start_time": "2022-04-13T14:20:49.320Z"
   },
   {
    "duration": 10,
    "start_time": "2022-04-13T14:20:49.831Z"
   },
   {
    "duration": 3,
    "start_time": "2022-04-13T14:20:50.328Z"
   },
   {
    "duration": 8,
    "start_time": "2022-04-13T14:20:51.000Z"
   },
   {
    "duration": 5,
    "start_time": "2022-04-13T14:20:51.731Z"
   },
   {
    "duration": 22,
    "start_time": "2022-04-13T14:20:52.081Z"
   },
   {
    "duration": 27,
    "start_time": "2022-04-13T14:20:52.274Z"
   },
   {
    "duration": 12,
    "start_time": "2022-04-13T14:20:52.747Z"
   },
   {
    "duration": 6,
    "start_time": "2022-04-13T14:20:53.096Z"
   },
   {
    "duration": 6,
    "start_time": "2022-04-13T14:20:53.447Z"
   },
   {
    "duration": 21,
    "start_time": "2022-04-13T14:20:54.184Z"
   },
   {
    "duration": 7,
    "start_time": "2022-04-13T14:20:54.544Z"
   },
   {
    "duration": 8,
    "start_time": "2022-04-13T14:20:55.063Z"
   },
   {
    "duration": 6,
    "start_time": "2022-04-13T14:20:55.602Z"
   },
   {
    "duration": 20,
    "start_time": "2022-04-13T14:20:56.160Z"
   },
   {
    "duration": 6,
    "start_time": "2022-04-13T14:20:56.512Z"
   },
   {
    "duration": 8,
    "start_time": "2022-04-13T14:20:56.879Z"
   },
   {
    "duration": 5,
    "start_time": "2022-04-13T14:20:57.216Z"
   },
   {
    "duration": 5,
    "start_time": "2022-04-13T14:20:57.928Z"
   },
   {
    "duration": 8,
    "start_time": "2022-04-13T14:20:58.472Z"
   },
   {
    "duration": 6,
    "start_time": "2022-04-13T14:20:58.985Z"
   },
   {
    "duration": 16,
    "start_time": "2022-04-13T14:20:59.512Z"
   },
   {
    "duration": 17,
    "start_time": "2022-04-13T14:21:00.643Z"
   },
   {
    "duration": 20,
    "start_time": "2022-04-13T14:21:01.178Z"
   },
   {
    "duration": 13,
    "start_time": "2022-04-13T14:21:01.375Z"
   },
   {
    "duration": 131,
    "start_time": "2022-04-13T14:21:01.728Z"
   },
   {
    "duration": 557,
    "start_time": "2022-04-13T14:21:02.257Z"
   },
   {
    "duration": 23,
    "start_time": "2022-04-13T14:21:03.116Z"
   },
   {
    "duration": 19,
    "start_time": "2022-04-13T14:21:03.732Z"
   },
   {
    "duration": 11,
    "start_time": "2022-04-13T14:21:04.523Z"
   },
   {
    "duration": 12,
    "start_time": "2022-04-13T14:21:05.091Z"
   },
   {
    "duration": 18,
    "start_time": "2022-04-13T14:25:14.854Z"
   },
   {
    "duration": 18,
    "start_time": "2022-04-13T14:25:35.415Z"
   },
   {
    "duration": 383,
    "start_time": "2022-04-13T14:26:13.682Z"
   },
   {
    "duration": 50,
    "start_time": "2022-04-13T14:26:14.068Z"
   },
   {
    "duration": 30,
    "start_time": "2022-04-13T14:26:14.119Z"
   },
   {
    "duration": 2,
    "start_time": "2022-04-13T14:26:14.152Z"
   },
   {
    "duration": 22,
    "start_time": "2022-04-13T14:26:14.156Z"
   },
   {
    "duration": 12,
    "start_time": "2022-04-13T14:26:14.179Z"
   },
   {
    "duration": 33,
    "start_time": "2022-04-13T14:26:14.192Z"
   },
   {
    "duration": 9,
    "start_time": "2022-04-13T14:26:14.227Z"
   },
   {
    "duration": 4,
    "start_time": "2022-04-13T14:26:14.237Z"
   },
   {
    "duration": 9,
    "start_time": "2022-04-13T14:26:14.243Z"
   },
   {
    "duration": 4,
    "start_time": "2022-04-13T14:26:14.253Z"
   },
   {
    "duration": 23,
    "start_time": "2022-04-13T14:26:14.259Z"
   },
   {
    "duration": 69,
    "start_time": "2022-04-13T14:26:14.283Z"
   },
   {
    "duration": 10,
    "start_time": "2022-04-13T14:26:14.353Z"
   },
   {
    "duration": 5,
    "start_time": "2022-04-13T14:26:14.364Z"
   },
   {
    "duration": 7,
    "start_time": "2022-04-13T14:26:14.371Z"
   },
   {
    "duration": 18,
    "start_time": "2022-04-13T14:26:14.379Z"
   },
   {
    "duration": 8,
    "start_time": "2022-04-13T14:26:14.423Z"
   },
   {
    "duration": 9,
    "start_time": "2022-04-13T14:26:14.432Z"
   },
   {
    "duration": 8,
    "start_time": "2022-04-13T14:26:14.442Z"
   },
   {
    "duration": 19,
    "start_time": "2022-04-13T14:26:14.451Z"
   },
   {
    "duration": 6,
    "start_time": "2022-04-13T14:26:14.471Z"
   },
   {
    "duration": 8,
    "start_time": "2022-04-13T14:26:14.478Z"
   },
   {
    "duration": 37,
    "start_time": "2022-04-13T14:26:14.488Z"
   },
   {
    "duration": 6,
    "start_time": "2022-04-13T14:26:14.527Z"
   },
   {
    "duration": 11,
    "start_time": "2022-04-13T14:26:14.534Z"
   },
   {
    "duration": 5,
    "start_time": "2022-04-13T14:26:14.547Z"
   },
   {
    "duration": 18,
    "start_time": "2022-04-13T14:26:14.555Z"
   },
   {
    "duration": 15,
    "start_time": "2022-04-13T14:26:14.575Z"
   },
   {
    "duration": 48,
    "start_time": "2022-04-13T14:26:14.591Z"
   },
   {
    "duration": 11,
    "start_time": "2022-04-13T14:26:14.641Z"
   },
   {
    "duration": 145,
    "start_time": "2022-04-13T14:26:14.654Z"
   },
   {
    "duration": 616,
    "start_time": "2022-04-13T14:26:14.800Z"
   },
   {
    "duration": 0,
    "start_time": "2022-04-13T14:26:15.418Z"
   },
   {
    "duration": 0,
    "start_time": "2022-04-13T14:26:15.420Z"
   },
   {
    "duration": 0,
    "start_time": "2022-04-13T14:26:15.421Z"
   },
   {
    "duration": 0,
    "start_time": "2022-04-13T14:26:15.422Z"
   },
   {
    "duration": 7,
    "start_time": "2022-04-13T14:26:45.617Z"
   },
   {
    "duration": 356,
    "start_time": "2022-04-13T14:40:53.261Z"
   },
   {
    "duration": 52,
    "start_time": "2022-04-13T14:40:53.619Z"
   },
   {
    "duration": 28,
    "start_time": "2022-04-13T14:40:53.673Z"
   },
   {
    "duration": 2,
    "start_time": "2022-04-13T14:40:53.703Z"
   },
   {
    "duration": 35,
    "start_time": "2022-04-13T14:40:53.707Z"
   },
   {
    "duration": 12,
    "start_time": "2022-04-13T14:40:53.744Z"
   },
   {
    "duration": 9,
    "start_time": "2022-04-13T14:40:53.757Z"
   },
   {
    "duration": 10,
    "start_time": "2022-04-13T14:40:53.767Z"
   },
   {
    "duration": 3,
    "start_time": "2022-04-13T14:40:53.779Z"
   },
   {
    "duration": 44,
    "start_time": "2022-04-13T14:40:53.785Z"
   },
   {
    "duration": 4,
    "start_time": "2022-04-13T14:40:53.831Z"
   },
   {
    "duration": 27,
    "start_time": "2022-04-13T14:40:53.836Z"
   },
   {
    "duration": 31,
    "start_time": "2022-04-13T14:40:53.864Z"
   },
   {
    "duration": 36,
    "start_time": "2022-04-13T14:40:53.897Z"
   },
   {
    "duration": 6,
    "start_time": "2022-04-13T14:40:53.935Z"
   },
   {
    "duration": 8,
    "start_time": "2022-04-13T14:40:53.943Z"
   },
   {
    "duration": 21,
    "start_time": "2022-04-13T14:40:53.953Z"
   },
   {
    "duration": 8,
    "start_time": "2022-04-13T14:40:53.976Z"
   },
   {
    "duration": 12,
    "start_time": "2022-04-13T14:40:53.985Z"
   },
   {
    "duration": 7,
    "start_time": "2022-04-13T14:40:54.024Z"
   },
   {
    "duration": 35,
    "start_time": "2022-04-13T14:40:54.033Z"
   },
   {
    "duration": 8,
    "start_time": "2022-04-13T14:40:54.070Z"
   },
   {
    "duration": 15,
    "start_time": "2022-04-13T14:40:54.080Z"
   },
   {
    "duration": 30,
    "start_time": "2022-04-13T14:40:54.096Z"
   },
   {
    "duration": 8,
    "start_time": "2022-04-13T14:40:54.128Z"
   },
   {
    "duration": 10,
    "start_time": "2022-04-13T14:40:54.138Z"
   },
   {
    "duration": 8,
    "start_time": "2022-04-13T14:40:54.150Z"
   },
   {
    "duration": 30,
    "start_time": "2022-04-13T14:40:54.162Z"
   },
   {
    "duration": 50,
    "start_time": "2022-04-13T14:40:54.194Z"
   },
   {
    "duration": 20,
    "start_time": "2022-04-13T14:40:54.246Z"
   },
   {
    "duration": 12,
    "start_time": "2022-04-13T14:40:54.268Z"
   },
   {
    "duration": 159,
    "start_time": "2022-04-13T14:40:54.282Z"
   },
   {
    "duration": 591,
    "start_time": "2022-04-13T14:40:54.443Z"
   },
   {
    "duration": 0,
    "start_time": "2022-04-13T14:40:55.036Z"
   },
   {
    "duration": 0,
    "start_time": "2022-04-13T14:40:55.037Z"
   },
   {
    "duration": 0,
    "start_time": "2022-04-13T14:40:55.038Z"
   },
   {
    "duration": 0,
    "start_time": "2022-04-13T14:40:55.039Z"
   },
   {
    "duration": 2,
    "start_time": "2022-04-13T14:41:19.601Z"
   },
   {
    "duration": 46,
    "start_time": "2022-04-13T14:41:19.763Z"
   },
   {
    "duration": 22,
    "start_time": "2022-04-13T14:41:19.910Z"
   },
   {
    "duration": 2,
    "start_time": "2022-04-13T14:41:20.728Z"
   },
   {
    "duration": 20,
    "start_time": "2022-04-13T14:41:21.183Z"
   },
   {
    "duration": 13,
    "start_time": "2022-04-13T14:41:21.655Z"
   },
   {
    "duration": 10,
    "start_time": "2022-04-13T14:41:22.111Z"
   },
   {
    "duration": 11,
    "start_time": "2022-04-13T14:41:22.592Z"
   },
   {
    "duration": 3,
    "start_time": "2022-04-13T14:41:23.082Z"
   },
   {
    "duration": 9,
    "start_time": "2022-04-13T14:41:23.771Z"
   },
   {
    "duration": 5,
    "start_time": "2022-04-13T14:41:24.423Z"
   },
   {
    "duration": 22,
    "start_time": "2022-04-13T14:41:24.790Z"
   },
   {
    "duration": 28,
    "start_time": "2022-04-13T14:41:24.957Z"
   },
   {
    "duration": 11,
    "start_time": "2022-04-13T14:41:25.482Z"
   },
   {
    "duration": 6,
    "start_time": "2022-04-13T14:41:25.807Z"
   },
   {
    "duration": 7,
    "start_time": "2022-04-13T14:41:26.175Z"
   },
   {
    "duration": 18,
    "start_time": "2022-04-13T14:41:26.831Z"
   },
   {
    "duration": 7,
    "start_time": "2022-04-13T14:41:27.159Z"
   },
   {
    "duration": 8,
    "start_time": "2022-04-13T14:41:27.631Z"
   },
   {
    "duration": 7,
    "start_time": "2022-04-13T14:41:28.135Z"
   },
   {
    "duration": 20,
    "start_time": "2022-04-13T14:41:28.631Z"
   },
   {
    "duration": 7,
    "start_time": "2022-04-13T14:41:28.955Z"
   },
   {
    "duration": 9,
    "start_time": "2022-04-13T14:41:29.306Z"
   },
   {
    "duration": 7,
    "start_time": "2022-04-13T14:41:29.634Z"
   },
   {
    "duration": 5,
    "start_time": "2022-04-13T14:41:30.307Z"
   },
   {
    "duration": 9,
    "start_time": "2022-04-13T14:41:30.815Z"
   },
   {
    "duration": 6,
    "start_time": "2022-04-13T14:41:31.321Z"
   },
   {
    "duration": 19,
    "start_time": "2022-04-13T14:41:31.851Z"
   },
   {
    "duration": 17,
    "start_time": "2022-04-13T14:41:32.922Z"
   },
   {
    "duration": 19,
    "start_time": "2022-04-13T14:41:33.439Z"
   },
   {
    "duration": 13,
    "start_time": "2022-04-13T14:41:33.644Z"
   },
   {
    "duration": 133,
    "start_time": "2022-04-13T14:41:33.991Z"
   },
   {
    "duration": 544,
    "start_time": "2022-04-13T14:41:34.496Z"
   },
   {
    "duration": 22,
    "start_time": "2022-04-13T14:41:35.233Z"
   },
   {
    "duration": 19,
    "start_time": "2022-04-13T14:41:35.763Z"
   },
   {
    "duration": 10,
    "start_time": "2022-04-13T14:41:36.496Z"
   },
   {
    "duration": 13,
    "start_time": "2022-04-13T14:41:37.031Z"
   },
   {
    "duration": 406,
    "start_time": "2022-04-13T14:42:17.396Z"
   },
   {
    "duration": 53,
    "start_time": "2022-04-13T14:42:17.803Z"
   },
   {
    "duration": 27,
    "start_time": "2022-04-13T14:42:17.858Z"
   },
   {
    "duration": 2,
    "start_time": "2022-04-13T14:42:17.888Z"
   },
   {
    "duration": 37,
    "start_time": "2022-04-13T14:42:17.892Z"
   },
   {
    "duration": 11,
    "start_time": "2022-04-13T14:42:17.931Z"
   },
   {
    "duration": 17,
    "start_time": "2022-04-13T14:42:17.943Z"
   },
   {
    "duration": 17,
    "start_time": "2022-04-13T14:42:17.962Z"
   },
   {
    "duration": 8,
    "start_time": "2022-04-13T14:42:17.981Z"
   },
   {
    "duration": 16,
    "start_time": "2022-04-13T14:42:17.992Z"
   },
   {
    "duration": 15,
    "start_time": "2022-04-13T14:42:18.009Z"
   },
   {
    "duration": 23,
    "start_time": "2022-04-13T14:42:18.025Z"
   },
   {
    "duration": 28,
    "start_time": "2022-04-13T14:42:18.049Z"
   },
   {
    "duration": 9,
    "start_time": "2022-04-13T14:42:18.079Z"
   },
   {
    "duration": 4,
    "start_time": "2022-04-13T14:42:18.089Z"
   },
   {
    "duration": 32,
    "start_time": "2022-04-13T14:42:18.095Z"
   },
   {
    "duration": 21,
    "start_time": "2022-04-13T14:42:18.129Z"
   },
   {
    "duration": 7,
    "start_time": "2022-04-13T14:42:18.152Z"
   },
   {
    "duration": 13,
    "start_time": "2022-04-13T14:42:18.160Z"
   },
   {
    "duration": 10,
    "start_time": "2022-04-13T14:42:18.174Z"
   },
   {
    "duration": 31,
    "start_time": "2022-04-13T14:42:18.185Z"
   },
   {
    "duration": 7,
    "start_time": "2022-04-13T14:42:18.218Z"
   },
   {
    "duration": 10,
    "start_time": "2022-04-13T14:42:18.227Z"
   },
   {
    "duration": 18,
    "start_time": "2022-04-13T14:42:18.238Z"
   },
   {
    "duration": 10,
    "start_time": "2022-04-13T14:42:18.257Z"
   },
   {
    "duration": 12,
    "start_time": "2022-04-13T14:42:18.268Z"
   },
   {
    "duration": 10,
    "start_time": "2022-04-13T14:42:18.281Z"
   },
   {
    "duration": 23,
    "start_time": "2022-04-13T14:42:18.294Z"
   },
   {
    "duration": 15,
    "start_time": "2022-04-13T14:42:18.323Z"
   },
   {
    "duration": 23,
    "start_time": "2022-04-13T14:42:18.339Z"
   },
   {
    "duration": 10,
    "start_time": "2022-04-13T14:42:18.364Z"
   },
   {
    "duration": 148,
    "start_time": "2022-04-13T14:42:18.376Z"
   },
   {
    "duration": 558,
    "start_time": "2022-04-13T14:42:18.525Z"
   },
   {
    "duration": 0,
    "start_time": "2022-04-13T14:42:19.085Z"
   },
   {
    "duration": 0,
    "start_time": "2022-04-13T14:42:19.086Z"
   },
   {
    "duration": 0,
    "start_time": "2022-04-13T14:42:19.087Z"
   },
   {
    "duration": 0,
    "start_time": "2022-04-13T14:42:19.088Z"
   },
   {
    "duration": 425,
    "start_time": "2022-04-14T10:58:00.165Z"
   },
   {
    "duration": 55,
    "start_time": "2022-04-14T10:58:00.592Z"
   },
   {
    "duration": 41,
    "start_time": "2022-04-14T10:58:00.649Z"
   },
   {
    "duration": 3,
    "start_time": "2022-04-14T10:58:00.692Z"
   },
   {
    "duration": 46,
    "start_time": "2022-04-14T10:58:00.696Z"
   },
   {
    "duration": 24,
    "start_time": "2022-04-14T10:58:00.744Z"
   },
   {
    "duration": 11,
    "start_time": "2022-04-14T10:58:00.770Z"
   },
   {
    "duration": 15,
    "start_time": "2022-04-14T10:58:00.782Z"
   },
   {
    "duration": 33,
    "start_time": "2022-04-14T10:58:00.799Z"
   },
   {
    "duration": 19,
    "start_time": "2022-04-14T10:58:00.835Z"
   },
   {
    "duration": 24,
    "start_time": "2022-04-14T10:58:00.856Z"
   },
   {
    "duration": 48,
    "start_time": "2022-04-14T10:58:00.881Z"
   },
   {
    "duration": 45,
    "start_time": "2022-04-14T10:58:00.931Z"
   },
   {
    "duration": 12,
    "start_time": "2022-04-14T10:58:00.978Z"
   },
   {
    "duration": 25,
    "start_time": "2022-04-14T10:58:00.992Z"
   },
   {
    "duration": 20,
    "start_time": "2022-04-14T10:58:01.019Z"
   },
   {
    "duration": 36,
    "start_time": "2022-04-14T10:58:01.041Z"
   },
   {
    "duration": 12,
    "start_time": "2022-04-14T10:58:01.079Z"
   },
   {
    "duration": 20,
    "start_time": "2022-04-14T10:58:01.093Z"
   },
   {
    "duration": 40,
    "start_time": "2022-04-14T10:58:01.115Z"
   },
   {
    "duration": 36,
    "start_time": "2022-04-14T10:58:01.157Z"
   },
   {
    "duration": 24,
    "start_time": "2022-04-14T10:58:01.195Z"
   },
   {
    "duration": 24,
    "start_time": "2022-04-14T10:58:01.220Z"
   },
   {
    "duration": 19,
    "start_time": "2022-04-14T10:58:01.246Z"
   },
   {
    "duration": 22,
    "start_time": "2022-04-14T10:58:01.267Z"
   },
   {
    "duration": 19,
    "start_time": "2022-04-14T10:58:01.290Z"
   },
   {
    "duration": 27,
    "start_time": "2022-04-14T10:58:01.311Z"
   },
   {
    "duration": 33,
    "start_time": "2022-04-14T10:58:01.341Z"
   },
   {
    "duration": 18,
    "start_time": "2022-04-14T10:58:01.376Z"
   },
   {
    "duration": 37,
    "start_time": "2022-04-14T10:58:01.396Z"
   },
   {
    "duration": 19,
    "start_time": "2022-04-14T10:58:01.435Z"
   },
   {
    "duration": 145,
    "start_time": "2022-04-14T10:58:01.456Z"
   },
   {
    "duration": 463,
    "start_time": "2022-04-14T10:58:04.830Z"
   },
   {
    "duration": 414,
    "start_time": "2022-04-14T10:59:13.145Z"
   },
   {
    "duration": 17,
    "start_time": "2022-04-14T10:59:49.712Z"
   },
   {
    "duration": 464,
    "start_time": "2022-04-14T11:01:03.607Z"
   },
   {
    "duration": 415,
    "start_time": "2022-04-14T11:01:50.363Z"
   },
   {
    "duration": 12,
    "start_time": "2022-04-14T11:02:10.045Z"
   },
   {
    "duration": 10,
    "start_time": "2022-04-14T11:02:22.245Z"
   },
   {
    "duration": 9,
    "start_time": "2022-04-14T11:02:34.122Z"
   },
   {
    "duration": 439,
    "start_time": "2022-04-14T11:03:00.082Z"
   },
   {
    "duration": 414,
    "start_time": "2022-04-14T11:12:20.781Z"
   },
   {
    "duration": 3,
    "start_time": "2022-04-14T11:12:37.807Z"
   },
   {
    "duration": 431,
    "start_time": "2022-04-14T11:12:50.945Z"
   },
   {
    "duration": 55,
    "start_time": "2022-04-14T11:12:51.378Z"
   },
   {
    "duration": 39,
    "start_time": "2022-04-14T11:12:51.435Z"
   },
   {
    "duration": 3,
    "start_time": "2022-04-14T11:12:51.476Z"
   },
   {
    "duration": 26,
    "start_time": "2022-04-14T11:12:51.480Z"
   },
   {
    "duration": 13,
    "start_time": "2022-04-14T11:12:51.508Z"
   },
   {
    "duration": 10,
    "start_time": "2022-04-14T11:12:51.522Z"
   },
   {
    "duration": 40,
    "start_time": "2022-04-14T11:12:51.533Z"
   },
   {
    "duration": 4,
    "start_time": "2022-04-14T11:12:51.575Z"
   },
   {
    "duration": 12,
    "start_time": "2022-04-14T11:12:51.581Z"
   },
   {
    "duration": 5,
    "start_time": "2022-04-14T11:12:51.594Z"
   },
   {
    "duration": 28,
    "start_time": "2022-04-14T11:12:51.600Z"
   },
   {
    "duration": 70,
    "start_time": "2022-04-14T11:12:51.630Z"
   },
   {
    "duration": 12,
    "start_time": "2022-04-14T11:12:51.702Z"
   },
   {
    "duration": 6,
    "start_time": "2022-04-14T11:12:51.716Z"
   },
   {
    "duration": 14,
    "start_time": "2022-04-14T11:12:51.724Z"
   },
   {
    "duration": 38,
    "start_time": "2022-04-14T11:12:51.740Z"
   },
   {
    "duration": 8,
    "start_time": "2022-04-14T11:12:51.780Z"
   },
   {
    "duration": 10,
    "start_time": "2022-04-14T11:12:51.789Z"
   },
   {
    "duration": 9,
    "start_time": "2022-04-14T11:12:51.801Z"
   },
   {
    "duration": 21,
    "start_time": "2022-04-14T11:12:51.812Z"
   },
   {
    "duration": 7,
    "start_time": "2022-04-14T11:12:51.835Z"
   },
   {
    "duration": 38,
    "start_time": "2022-04-14T11:12:51.844Z"
   },
   {
    "duration": 7,
    "start_time": "2022-04-14T11:12:51.884Z"
   },
   {
    "duration": 7,
    "start_time": "2022-04-14T11:12:51.893Z"
   },
   {
    "duration": 11,
    "start_time": "2022-04-14T11:12:51.902Z"
   },
   {
    "duration": 6,
    "start_time": "2022-04-14T11:12:51.914Z"
   },
   {
    "duration": 57,
    "start_time": "2022-04-14T11:12:51.924Z"
   },
   {
    "duration": 18,
    "start_time": "2022-04-14T11:12:51.982Z"
   },
   {
    "duration": 22,
    "start_time": "2022-04-14T11:12:52.002Z"
   },
   {
    "duration": 13,
    "start_time": "2022-04-14T11:12:52.026Z"
   },
   {
    "duration": 164,
    "start_time": "2022-04-14T11:12:52.041Z"
   },
   {
    "duration": 16,
    "start_time": "2022-04-14T11:12:52.207Z"
   },
   {
    "duration": 4,
    "start_time": "2022-04-14T11:13:29.592Z"
   },
   {
    "duration": 456,
    "start_time": "2022-04-14T11:13:30.859Z"
   },
   {
    "duration": 10,
    "start_time": "2022-04-14T11:14:53.734Z"
   },
   {
    "duration": 408,
    "start_time": "2022-04-14T12:44:15.781Z"
   },
   {
    "duration": 61,
    "start_time": "2022-04-14T12:44:16.191Z"
   },
   {
    "duration": 32,
    "start_time": "2022-04-14T12:44:16.253Z"
   },
   {
    "duration": 3,
    "start_time": "2022-04-14T12:44:16.287Z"
   },
   {
    "duration": 27,
    "start_time": "2022-04-14T12:44:16.291Z"
   },
   {
    "duration": 14,
    "start_time": "2022-04-14T12:44:16.320Z"
   },
   {
    "duration": 38,
    "start_time": "2022-04-14T12:44:16.335Z"
   },
   {
    "duration": 9,
    "start_time": "2022-04-14T12:44:16.375Z"
   },
   {
    "duration": 4,
    "start_time": "2022-04-14T12:44:16.385Z"
   },
   {
    "duration": 12,
    "start_time": "2022-04-14T12:44:16.391Z"
   },
   {
    "duration": 6,
    "start_time": "2022-04-14T12:44:16.405Z"
   },
   {
    "duration": 24,
    "start_time": "2022-04-14T12:44:16.413Z"
   },
   {
    "duration": 63,
    "start_time": "2022-04-14T12:44:16.439Z"
   },
   {
    "duration": 11,
    "start_time": "2022-04-14T12:44:16.504Z"
   },
   {
    "duration": 6,
    "start_time": "2022-04-14T12:44:16.517Z"
   },
   {
    "duration": 12,
    "start_time": "2022-04-14T12:44:16.524Z"
   },
   {
    "duration": 50,
    "start_time": "2022-04-14T12:44:16.537Z"
   },
   {
    "duration": 7,
    "start_time": "2022-04-14T12:44:16.589Z"
   },
   {
    "duration": 18,
    "start_time": "2022-04-14T12:44:16.598Z"
   },
   {
    "duration": 10,
    "start_time": "2022-04-14T12:44:16.618Z"
   },
   {
    "duration": 23,
    "start_time": "2022-04-14T12:44:16.629Z"
   },
   {
    "duration": 6,
    "start_time": "2022-04-14T12:44:16.654Z"
   },
   {
    "duration": 12,
    "start_time": "2022-04-14T12:44:16.673Z"
   },
   {
    "duration": 6,
    "start_time": "2022-04-14T12:44:16.686Z"
   },
   {
    "duration": 7,
    "start_time": "2022-04-14T12:44:16.693Z"
   },
   {
    "duration": 12,
    "start_time": "2022-04-14T12:44:16.701Z"
   },
   {
    "duration": 6,
    "start_time": "2022-04-14T12:44:16.714Z"
   },
   {
    "duration": 23,
    "start_time": "2022-04-14T12:44:16.723Z"
   },
   {
    "duration": 43,
    "start_time": "2022-04-14T12:44:16.748Z"
   },
   {
    "duration": 24,
    "start_time": "2022-04-14T12:44:16.793Z"
   },
   {
    "duration": 15,
    "start_time": "2022-04-14T12:44:16.819Z"
   },
   {
    "duration": 166,
    "start_time": "2022-04-14T12:44:16.836Z"
   },
   {
    "duration": 15,
    "start_time": "2022-04-14T12:44:17.003Z"
   },
   {
    "duration": 3,
    "start_time": "2022-04-14T12:44:17.020Z"
   },
   {
    "duration": 3838,
    "start_time": "2022-04-14T12:44:17.024Z"
   },
   {
    "duration": 0,
    "start_time": "2022-04-14T12:44:20.863Z"
   },
   {
    "duration": 0,
    "start_time": "2022-04-14T12:44:20.865Z"
   },
   {
    "duration": 0,
    "start_time": "2022-04-14T12:44:20.866Z"
   },
   {
    "duration": 0,
    "start_time": "2022-04-14T12:44:20.867Z"
   },
   {
    "duration": 4,
    "start_time": "2022-04-14T12:44:38.699Z"
   },
   {
    "duration": 1249,
    "start_time": "2022-04-14T12:44:39.443Z"
   },
   {
    "duration": 23,
    "start_time": "2022-04-14T12:44:57.918Z"
   },
   {
    "duration": 22,
    "start_time": "2022-04-14T12:45:01.881Z"
   },
   {
    "duration": 20,
    "start_time": "2022-04-14T12:45:01.905Z"
   },
   {
    "duration": 19,
    "start_time": "2022-04-14T12:45:01.927Z"
   },
   {
    "duration": 71,
    "start_time": "2022-04-14T14:05:03.072Z"
   },
   {
    "duration": 662,
    "start_time": "2022-04-14T14:05:12.931Z"
   },
   {
    "duration": 117,
    "start_time": "2022-04-14T14:05:13.596Z"
   },
   {
    "duration": 82,
    "start_time": "2022-04-14T14:05:13.716Z"
   },
   {
    "duration": 6,
    "start_time": "2022-04-14T14:05:13.802Z"
   },
   {
    "duration": 50,
    "start_time": "2022-04-14T14:05:13.810Z"
   },
   {
    "duration": 18,
    "start_time": "2022-04-14T14:05:13.863Z"
   },
   {
    "duration": 16,
    "start_time": "2022-04-14T14:05:13.883Z"
   },
   {
    "duration": 60,
    "start_time": "2022-04-14T14:05:13.902Z"
   },
   {
    "duration": 5,
    "start_time": "2022-04-14T14:05:13.964Z"
   },
   {
    "duration": 17,
    "start_time": "2022-04-14T14:05:13.974Z"
   },
   {
    "duration": 12,
    "start_time": "2022-04-14T14:05:13.994Z"
   },
   {
    "duration": 72,
    "start_time": "2022-04-14T14:05:14.009Z"
   },
   {
    "duration": 43,
    "start_time": "2022-04-14T14:05:14.083Z"
   },
   {
    "duration": 39,
    "start_time": "2022-04-14T14:05:14.128Z"
   },
   {
    "duration": 9,
    "start_time": "2022-04-14T14:05:14.170Z"
   },
   {
    "duration": 11,
    "start_time": "2022-04-14T14:05:14.181Z"
   },
   {
    "duration": 59,
    "start_time": "2022-04-14T14:05:14.193Z"
   },
   {
    "duration": 10,
    "start_time": "2022-04-14T14:05:14.254Z"
   },
   {
    "duration": 16,
    "start_time": "2022-04-14T14:05:14.266Z"
   },
   {
    "duration": 14,
    "start_time": "2022-04-14T14:05:14.284Z"
   },
   {
    "duration": 52,
    "start_time": "2022-04-14T14:05:14.301Z"
   },
   {
    "duration": 9,
    "start_time": "2022-04-14T14:05:14.356Z"
   },
   {
    "duration": 18,
    "start_time": "2022-04-14T14:05:14.368Z"
   },
   {
    "duration": 14,
    "start_time": "2022-04-14T14:05:14.389Z"
   },
   {
    "duration": 47,
    "start_time": "2022-04-14T14:05:14.406Z"
   },
   {
    "duration": 12,
    "start_time": "2022-04-14T14:05:14.455Z"
   },
   {
    "duration": 8,
    "start_time": "2022-04-14T14:05:14.469Z"
   },
   {
    "duration": 28,
    "start_time": "2022-04-14T14:05:14.482Z"
   },
   {
    "duration": 62,
    "start_time": "2022-04-14T14:05:14.512Z"
   },
   {
    "duration": 28,
    "start_time": "2022-04-14T14:05:14.577Z"
   },
   {
    "duration": 52,
    "start_time": "2022-04-14T14:05:14.607Z"
   },
   {
    "duration": 361,
    "start_time": "2022-04-14T14:05:14.662Z"
   },
   {
    "duration": 35,
    "start_time": "2022-04-14T14:05:15.025Z"
   },
   {
    "duration": 4,
    "start_time": "2022-04-14T14:05:15.063Z"
   },
   {
    "duration": 596,
    "start_time": "2022-04-14T14:05:15.069Z"
   },
   {
    "duration": 0,
    "start_time": "2022-04-14T14:05:15.667Z"
   },
   {
    "duration": 0,
    "start_time": "2022-04-14T14:05:15.669Z"
   },
   {
    "duration": 0,
    "start_time": "2022-04-14T14:05:15.670Z"
   },
   {
    "duration": 0,
    "start_time": "2022-04-14T14:05:15.672Z"
   },
   {
    "duration": 22,
    "start_time": "2022-04-14T14:05:32.561Z"
   },
   {
    "duration": 435,
    "start_time": "2022-04-14T14:05:57.103Z"
   },
   {
    "duration": 368,
    "start_time": "2022-04-14T14:06:03.880Z"
   },
   {
    "duration": 445,
    "start_time": "2022-04-14T14:06:13.168Z"
   },
   {
    "duration": 16,
    "start_time": "2022-04-14T14:06:35.560Z"
   },
   {
    "duration": 5,
    "start_time": "2022-04-14T14:07:06.751Z"
   },
   {
    "duration": 17,
    "start_time": "2022-04-14T14:07:09.577Z"
   },
   {
    "duration": 405,
    "start_time": "2022-04-14T14:07:17.686Z"
   },
   {
    "duration": 21,
    "start_time": "2022-04-14T14:07:35.063Z"
   },
   {
    "duration": 19,
    "start_time": "2022-04-14T14:07:48.712Z"
   },
   {
    "duration": 27,
    "start_time": "2022-04-14T14:08:43.152Z"
   },
   {
    "duration": 18,
    "start_time": "2022-04-14T14:08:54.174Z"
   },
   {
    "duration": 5,
    "start_time": "2022-04-14T14:13:45.855Z"
   },
   {
    "duration": 18,
    "start_time": "2022-04-14T14:13:46.390Z"
   },
   {
    "duration": 513,
    "start_time": "2022-04-14T14:13:56.503Z"
   },
   {
    "duration": 74,
    "start_time": "2022-04-14T14:13:57.019Z"
   },
   {
    "duration": 57,
    "start_time": "2022-04-14T14:13:57.096Z"
   },
   {
    "duration": 4,
    "start_time": "2022-04-14T14:13:57.157Z"
   },
   {
    "duration": 34,
    "start_time": "2022-04-14T14:13:57.164Z"
   },
   {
    "duration": 51,
    "start_time": "2022-04-14T14:13:57.201Z"
   },
   {
    "duration": 16,
    "start_time": "2022-04-14T14:13:57.254Z"
   },
   {
    "duration": 15,
    "start_time": "2022-04-14T14:13:57.272Z"
   },
   {
    "duration": 4,
    "start_time": "2022-04-14T14:13:57.290Z"
   },
   {
    "duration": 61,
    "start_time": "2022-04-14T14:13:57.300Z"
   },
   {
    "duration": 11,
    "start_time": "2022-04-14T14:13:57.363Z"
   },
   {
    "duration": 41,
    "start_time": "2022-04-14T14:13:57.376Z"
   },
   {
    "duration": 73,
    "start_time": "2022-04-14T14:13:57.420Z"
   },
   {
    "duration": 16,
    "start_time": "2022-04-14T14:13:57.496Z"
   },
   {
    "duration": 38,
    "start_time": "2022-04-14T14:13:57.515Z"
   },
   {
    "duration": 15,
    "start_time": "2022-04-14T14:13:57.556Z"
   },
   {
    "duration": 32,
    "start_time": "2022-04-14T14:13:57.573Z"
   },
   {
    "duration": 11,
    "start_time": "2022-04-14T14:13:57.607Z"
   },
   {
    "duration": 37,
    "start_time": "2022-04-14T14:13:57.621Z"
   },
   {
    "duration": 10,
    "start_time": "2022-04-14T14:13:57.660Z"
   },
   {
    "duration": 29,
    "start_time": "2022-04-14T14:13:57.672Z"
   },
   {
    "duration": 9,
    "start_time": "2022-04-14T14:13:57.703Z"
   },
   {
    "duration": 45,
    "start_time": "2022-04-14T14:13:57.714Z"
   },
   {
    "duration": 9,
    "start_time": "2022-04-14T14:13:57.762Z"
   },
   {
    "duration": 9,
    "start_time": "2022-04-14T14:13:57.773Z"
   },
   {
    "duration": 14,
    "start_time": "2022-04-14T14:13:57.784Z"
   },
   {
    "duration": 9,
    "start_time": "2022-04-14T14:13:57.800Z"
   },
   {
    "duration": 29,
    "start_time": "2022-04-14T14:13:57.855Z"
   },
   {
    "duration": 23,
    "start_time": "2022-04-14T14:13:57.886Z"
   },
   {
    "duration": 59,
    "start_time": "2022-04-14T14:13:57.912Z"
   },
   {
    "duration": 20,
    "start_time": "2022-04-14T14:13:57.973Z"
   },
   {
    "duration": 269,
    "start_time": "2022-04-14T14:13:57.995Z"
   },
   {
    "duration": 26,
    "start_time": "2022-04-14T14:13:58.266Z"
   },
   {
    "duration": 5,
    "start_time": "2022-04-14T14:13:58.295Z"
   },
   {
    "duration": 51,
    "start_time": "2022-04-14T14:13:58.302Z"
   },
   {
    "duration": 32,
    "start_time": "2022-04-14T14:13:58.356Z"
   },
   {
    "duration": 28,
    "start_time": "2022-04-14T14:13:58.390Z"
   },
   {
    "duration": 42,
    "start_time": "2022-04-14T14:13:58.421Z"
   },
   {
    "duration": 122,
    "start_time": "2022-04-14T14:13:58.466Z"
   },
   {
    "duration": 19,
    "start_time": "2022-04-14T14:14:20.614Z"
   },
   {
    "duration": 490,
    "start_time": "2022-04-14T14:14:42.006Z"
   },
   {
    "duration": 527,
    "start_time": "2022-04-14T14:15:29.662Z"
   },
   {
    "duration": 362,
    "start_time": "2022-04-14T14:17:37.104Z"
   },
   {
    "duration": 4,
    "start_time": "2022-04-14T14:18:12.932Z"
   },
   {
    "duration": 598,
    "start_time": "2022-04-14T14:18:13.498Z"
   },
   {
    "duration": 18,
    "start_time": "2022-04-14T14:18:37.203Z"
   },
   {
    "duration": 12,
    "start_time": "2022-04-14T14:40:21.416Z"
   },
   {
    "duration": 26,
    "start_time": "2022-04-14T14:40:36.319Z"
   },
   {
    "duration": 26,
    "start_time": "2022-04-14T14:41:50.416Z"
   },
   {
    "duration": 511,
    "start_time": "2022-04-14T14:42:09.796Z"
   },
   {
    "duration": 26,
    "start_time": "2022-04-14T14:42:37.624Z"
   },
   {
    "duration": 49,
    "start_time": "2022-04-14T14:42:43.226Z"
   },
   {
    "duration": 44,
    "start_time": "2022-04-14T14:45:29.680Z"
   },
   {
    "duration": 37,
    "start_time": "2022-04-14T14:45:53.733Z"
   },
   {
    "duration": 26,
    "start_time": "2022-04-14T14:46:20.415Z"
   },
   {
    "duration": 130,
    "start_time": "2022-04-14T14:46:45.392Z"
   },
   {
    "duration": 26,
    "start_time": "2022-04-14T14:47:14.184Z"
   },
   {
    "duration": 4,
    "start_time": "2022-04-14T14:55:54.646Z"
   },
   {
    "duration": 567,
    "start_time": "2022-04-14T14:56:03.437Z"
   },
   {
    "duration": 96,
    "start_time": "2022-04-14T14:56:04.007Z"
   },
   {
    "duration": 82,
    "start_time": "2022-04-14T14:56:04.106Z"
   },
   {
    "duration": 4,
    "start_time": "2022-04-14T14:56:04.190Z"
   },
   {
    "duration": 37,
    "start_time": "2022-04-14T14:56:04.195Z"
   },
   {
    "duration": 29,
    "start_time": "2022-04-14T14:56:04.255Z"
   },
   {
    "duration": 13,
    "start_time": "2022-04-14T14:56:04.287Z"
   },
   {
    "duration": 13,
    "start_time": "2022-04-14T14:56:04.303Z"
   },
   {
    "duration": 45,
    "start_time": "2022-04-14T14:56:04.318Z"
   },
   {
    "duration": 29,
    "start_time": "2022-04-14T14:56:04.368Z"
   },
   {
    "duration": 8,
    "start_time": "2022-04-14T14:56:04.399Z"
   },
   {
    "duration": 64,
    "start_time": "2022-04-14T14:56:04.409Z"
   },
   {
    "duration": 46,
    "start_time": "2022-04-14T14:56:04.476Z"
   },
   {
    "duration": 32,
    "start_time": "2022-04-14T14:56:04.524Z"
   },
   {
    "duration": 11,
    "start_time": "2022-04-14T14:56:04.561Z"
   },
   {
    "duration": 24,
    "start_time": "2022-04-14T14:56:04.574Z"
   },
   {
    "duration": 38,
    "start_time": "2022-04-14T14:56:04.600Z"
   },
   {
    "duration": 13,
    "start_time": "2022-04-14T14:56:04.640Z"
   },
   {
    "duration": 36,
    "start_time": "2022-04-14T14:56:04.660Z"
   },
   {
    "duration": 14,
    "start_time": "2022-04-14T14:56:04.698Z"
   },
   {
    "duration": 56,
    "start_time": "2022-04-14T14:56:04.714Z"
   },
   {
    "duration": 11,
    "start_time": "2022-04-14T14:56:04.774Z"
   },
   {
    "duration": 32,
    "start_time": "2022-04-14T14:56:04.787Z"
   },
   {
    "duration": 9,
    "start_time": "2022-04-14T14:56:04.821Z"
   },
   {
    "duration": 50,
    "start_time": "2022-04-14T14:56:04.832Z"
   },
   {
    "duration": 37,
    "start_time": "2022-04-14T14:56:04.884Z"
   },
   {
    "duration": 15,
    "start_time": "2022-04-14T14:56:04.923Z"
   },
   {
    "duration": 56,
    "start_time": "2022-04-14T14:56:04.943Z"
   },
   {
    "duration": 24,
    "start_time": "2022-04-14T14:56:05.001Z"
   },
   {
    "duration": 43,
    "start_time": "2022-04-14T14:56:05.028Z"
   },
   {
    "duration": 21,
    "start_time": "2022-04-14T14:56:05.075Z"
   },
   {
    "duration": 307,
    "start_time": "2022-04-14T14:56:05.098Z"
   },
   {
    "duration": 22,
    "start_time": "2022-04-14T14:56:05.407Z"
   },
   {
    "duration": 4,
    "start_time": "2022-04-14T14:56:05.432Z"
   },
   {
    "duration": 54,
    "start_time": "2022-04-14T14:56:05.452Z"
   },
   {
    "duration": 30,
    "start_time": "2022-04-14T14:56:05.508Z"
   },
   {
    "duration": 36,
    "start_time": "2022-04-14T14:56:05.540Z"
   },
   {
    "duration": 131,
    "start_time": "2022-04-14T14:56:05.579Z"
   },
   {
    "duration": 2414,
    "start_time": "2022-04-14T14:57:04.407Z"
   },
   {
    "duration": 490,
    "start_time": "2022-04-14T14:57:13.934Z"
   },
   {
    "duration": 530,
    "start_time": "2022-04-14T14:57:18.445Z"
   },
   {
    "duration": 11,
    "start_time": "2022-04-14T14:57:24.982Z"
   },
   {
    "duration": 45,
    "start_time": "2022-04-14T14:57:33.635Z"
   },
   {
    "duration": 26,
    "start_time": "2022-04-14T14:58:24.695Z"
   },
   {
    "duration": 585,
    "start_time": "2022-04-14T14:58:56.295Z"
   },
   {
    "duration": 461,
    "start_time": "2022-04-14T15:02:17.190Z"
   },
   {
    "duration": 34,
    "start_time": "2022-04-14T15:06:10.335Z"
   },
   {
    "duration": 48,
    "start_time": "2022-04-14T15:06:25.789Z"
   },
   {
    "duration": 46,
    "start_time": "2022-04-14T15:06:38.679Z"
   },
   {
    "duration": 53,
    "start_time": "2022-04-14T15:07:05.119Z"
   },
   {
    "duration": 48,
    "start_time": "2022-04-14T15:07:39.632Z"
   },
   {
    "duration": 45,
    "start_time": "2022-04-14T15:08:03.376Z"
   },
   {
    "duration": 42,
    "start_time": "2022-04-14T15:08:11.982Z"
   },
   {
    "duration": 43,
    "start_time": "2022-04-14T15:08:32.287Z"
   },
   {
    "duration": 450,
    "start_time": "2022-04-14T15:11:59.088Z"
   },
   {
    "duration": 577,
    "start_time": "2022-04-14T15:12:29.013Z"
   },
   {
    "duration": 56,
    "start_time": "2022-04-14T15:12:50.043Z"
   },
   {
    "duration": 499,
    "start_time": "2022-04-14T15:13:21.223Z"
   },
   {
    "duration": 4,
    "start_time": "2022-04-14T15:29:17.914Z"
   },
   {
    "duration": 81,
    "start_time": "2022-04-14T15:29:18.153Z"
   },
   {
    "duration": 38,
    "start_time": "2022-04-14T15:29:18.844Z"
   },
   {
    "duration": 53,
    "start_time": "2022-04-14T15:29:38.985Z"
   },
   {
    "duration": 41,
    "start_time": "2022-04-14T15:29:54.761Z"
   },
   {
    "duration": 20,
    "start_time": "2022-04-14T15:29:59.479Z"
   },
   {
    "duration": 19,
    "start_time": "2022-04-14T15:30:03.158Z"
   },
   {
    "duration": 17,
    "start_time": "2022-04-14T15:30:06.807Z"
   },
   {
    "duration": 5,
    "start_time": "2022-04-14T15:30:12.351Z"
   },
   {
    "duration": 52,
    "start_time": "2022-04-14T15:30:31.285Z"
   },
   {
    "duration": 14,
    "start_time": "2022-04-14T15:30:56.009Z"
   },
   {
    "duration": 58,
    "start_time": "2022-04-14T15:31:10.262Z"
   },
   {
    "duration": 41,
    "start_time": "2022-04-14T15:31:23.706Z"
   },
   {
    "duration": 49,
    "start_time": "2022-04-14T15:31:27.191Z"
   },
   {
    "duration": 502,
    "start_time": "2022-04-14T15:31:35.560Z"
   },
   {
    "duration": 56,
    "start_time": "2022-04-14T15:34:35.426Z"
   },
   {
    "duration": 561,
    "start_time": "2022-04-14T15:34:46.229Z"
   },
   {
    "duration": 91,
    "start_time": "2022-04-14T15:34:46.793Z"
   },
   {
    "duration": 51,
    "start_time": "2022-04-14T15:34:46.886Z"
   },
   {
    "duration": 17,
    "start_time": "2022-04-14T15:34:46.940Z"
   },
   {
    "duration": 60,
    "start_time": "2022-04-14T15:34:46.960Z"
   },
   {
    "duration": 19,
    "start_time": "2022-04-14T15:34:47.023Z"
   },
   {
    "duration": 20,
    "start_time": "2022-04-14T15:34:47.055Z"
   },
   {
    "duration": 20,
    "start_time": "2022-04-14T15:34:47.081Z"
   },
   {
    "duration": 5,
    "start_time": "2022-04-14T15:34:47.103Z"
   },
   {
    "duration": 14,
    "start_time": "2022-04-14T15:34:47.112Z"
   },
   {
    "duration": 28,
    "start_time": "2022-04-14T15:34:47.128Z"
   },
   {
    "duration": 73,
    "start_time": "2022-04-14T15:34:47.158Z"
   },
   {
    "duration": 497,
    "start_time": "2022-04-14T15:34:47.233Z"
   },
   {
    "duration": 27,
    "start_time": "2022-04-14T15:34:47.732Z"
   },
   {
    "duration": 16,
    "start_time": "2022-04-14T15:34:47.761Z"
   },
   {
    "duration": 21,
    "start_time": "2022-04-14T15:34:47.780Z"
   },
   {
    "duration": 30,
    "start_time": "2022-04-14T15:34:47.803Z"
   },
   {
    "duration": 31,
    "start_time": "2022-04-14T15:34:47.835Z"
   },
   {
    "duration": 31,
    "start_time": "2022-04-14T15:34:47.868Z"
   },
   {
    "duration": 12,
    "start_time": "2022-04-14T15:34:47.901Z"
   },
   {
    "duration": 30,
    "start_time": "2022-04-14T15:34:47.915Z"
   },
   {
    "duration": 14,
    "start_time": "2022-04-14T15:34:47.957Z"
   },
   {
    "duration": 23,
    "start_time": "2022-04-14T15:34:47.974Z"
   },
   {
    "duration": 13,
    "start_time": "2022-04-14T15:34:48.000Z"
   },
   {
    "duration": 12,
    "start_time": "2022-04-14T15:34:48.016Z"
   },
   {
    "duration": 36,
    "start_time": "2022-04-14T15:34:48.031Z"
   },
   {
    "duration": 21,
    "start_time": "2022-04-14T15:34:48.075Z"
   },
   {
    "duration": 28,
    "start_time": "2022-04-14T15:34:48.102Z"
   },
   {
    "duration": 46,
    "start_time": "2022-04-14T15:34:48.132Z"
   },
   {
    "duration": 55,
    "start_time": "2022-04-14T15:34:48.180Z"
   },
   {
    "duration": 27,
    "start_time": "2022-04-14T15:34:48.251Z"
   },
   {
    "duration": 389,
    "start_time": "2022-04-14T15:34:48.281Z"
   },
   {
    "duration": 38,
    "start_time": "2022-04-14T15:34:48.674Z"
   },
   {
    "duration": 81,
    "start_time": "2022-04-14T15:34:48.715Z"
   },
   {
    "duration": 30,
    "start_time": "2022-04-14T15:34:48.799Z"
   },
   {
    "duration": 56,
    "start_time": "2022-04-14T15:34:48.831Z"
   },
   {
    "duration": 18,
    "start_time": "2022-04-14T15:34:48.889Z"
   },
   {
    "duration": 43,
    "start_time": "2022-04-14T15:34:48.909Z"
   },
   {
    "duration": 53,
    "start_time": "2022-04-14T15:35:06.636Z"
   },
   {
    "duration": 556,
    "start_time": "2022-04-14T15:37:44.778Z"
   },
   {
    "duration": 91,
    "start_time": "2022-04-14T15:37:45.336Z"
   },
   {
    "duration": 58,
    "start_time": "2022-04-14T15:37:45.430Z"
   },
   {
    "duration": 3,
    "start_time": "2022-04-14T15:37:45.490Z"
   },
   {
    "duration": 65,
    "start_time": "2022-04-14T15:37:45.497Z"
   },
   {
    "duration": 31,
    "start_time": "2022-04-14T15:37:45.564Z"
   },
   {
    "duration": 14,
    "start_time": "2022-04-14T15:37:45.597Z"
   },
   {
    "duration": 13,
    "start_time": "2022-04-14T15:37:45.613Z"
   },
   {
    "duration": 28,
    "start_time": "2022-04-14T15:37:45.628Z"
   },
   {
    "duration": 37,
    "start_time": "2022-04-14T15:37:45.659Z"
   },
   {
    "duration": 7,
    "start_time": "2022-04-14T15:37:45.699Z"
   },
   {
    "duration": 67,
    "start_time": "2022-04-14T15:37:45.709Z"
   },
   {
    "duration": 678,
    "start_time": "2022-04-14T15:37:45.780Z"
   },
   {
    "duration": 16,
    "start_time": "2022-04-14T15:37:46.465Z"
   },
   {
    "duration": 13,
    "start_time": "2022-04-14T15:37:46.490Z"
   },
   {
    "duration": 11,
    "start_time": "2022-04-14T15:37:46.505Z"
   },
   {
    "duration": 69,
    "start_time": "2022-04-14T15:37:46.518Z"
   },
   {
    "duration": 14,
    "start_time": "2022-04-14T15:37:46.589Z"
   },
   {
    "duration": 17,
    "start_time": "2022-04-14T15:37:46.606Z"
   },
   {
    "duration": 40,
    "start_time": "2022-04-14T15:37:46.625Z"
   },
   {
    "duration": 48,
    "start_time": "2022-04-14T15:37:46.668Z"
   },
   {
    "duration": 9,
    "start_time": "2022-04-14T15:37:46.719Z"
   },
   {
    "duration": 13,
    "start_time": "2022-04-14T15:37:46.730Z"
   },
   {
    "duration": 16,
    "start_time": "2022-04-14T15:37:46.745Z"
   },
   {
    "duration": 8,
    "start_time": "2022-04-14T15:37:46.764Z"
   },
   {
    "duration": 28,
    "start_time": "2022-04-14T15:37:46.774Z"
   },
   {
    "duration": 10,
    "start_time": "2022-04-14T15:37:46.804Z"
   },
   {
    "duration": 66,
    "start_time": "2022-04-14T15:37:46.817Z"
   },
   {
    "duration": 22,
    "start_time": "2022-04-14T15:37:46.885Z"
   },
   {
    "duration": 55,
    "start_time": "2022-04-14T15:37:46.909Z"
   },
   {
    "duration": 22,
    "start_time": "2022-04-14T15:37:46.969Z"
   },
   {
    "duration": 287,
    "start_time": "2022-04-14T15:37:46.994Z"
   },
   {
    "duration": 22,
    "start_time": "2022-04-14T15:37:47.284Z"
   },
   {
    "duration": 79,
    "start_time": "2022-04-14T15:37:47.308Z"
   },
   {
    "duration": 41,
    "start_time": "2022-04-14T15:37:47.389Z"
   },
   {
    "duration": 47,
    "start_time": "2022-04-14T15:37:47.432Z"
   },
   {
    "duration": 19,
    "start_time": "2022-04-14T15:37:47.489Z"
   },
   {
    "duration": 51,
    "start_time": "2022-04-14T15:37:47.510Z"
   },
   {
    "duration": 3,
    "start_time": "2022-04-14T15:41:26.766Z"
   },
   {
    "duration": 89,
    "start_time": "2022-04-14T15:41:26.909Z"
   },
   {
    "duration": 58,
    "start_time": "2022-04-14T15:41:27.056Z"
   },
   {
    "duration": 4,
    "start_time": "2022-04-14T15:41:27.907Z"
   },
   {
    "duration": 44,
    "start_time": "2022-04-14T15:41:28.422Z"
   },
   {
    "duration": 21,
    "start_time": "2022-04-14T15:41:28.931Z"
   },
   {
    "duration": 21,
    "start_time": "2022-04-14T15:41:29.445Z"
   },
   {
    "duration": 16,
    "start_time": "2022-04-14T15:41:29.989Z"
   },
   {
    "duration": 5,
    "start_time": "2022-04-14T15:41:30.502Z"
   },
   {
    "duration": 12,
    "start_time": "2022-04-14T15:41:31.180Z"
   },
   {
    "duration": 7,
    "start_time": "2022-04-14T15:41:31.885Z"
   },
   {
    "duration": 56,
    "start_time": "2022-04-14T15:41:32.230Z"
   },
   {
    "duration": 510,
    "start_time": "2022-04-14T15:41:32.422Z"
   },
   {
    "duration": 19,
    "start_time": "2022-04-14T15:41:32.934Z"
   },
   {
    "duration": 16,
    "start_time": "2022-04-14T15:41:33.146Z"
   },
   {
    "duration": 10,
    "start_time": "2022-04-14T15:41:33.522Z"
   },
   {
    "duration": 44,
    "start_time": "2022-04-14T15:41:34.043Z"
   },
   {
    "duration": 17,
    "start_time": "2022-04-14T15:41:34.396Z"
   },
   {
    "duration": 15,
    "start_time": "2022-04-14T15:41:34.955Z"
   },
   {
    "duration": 10,
    "start_time": "2022-04-14T15:41:35.507Z"
   },
   {
    "duration": 28,
    "start_time": "2022-04-14T15:41:36.027Z"
   },
   {
    "duration": 9,
    "start_time": "2022-04-14T15:41:36.387Z"
   },
   {
    "duration": 13,
    "start_time": "2022-04-14T15:41:36.715Z"
   },
   {
    "duration": 9,
    "start_time": "2022-04-14T15:41:37.099Z"
   },
   {
    "duration": 8,
    "start_time": "2022-04-14T15:41:37.844Z"
   },
   {
    "duration": 17,
    "start_time": "2022-04-14T15:41:38.403Z"
   },
   {
    "duration": 13,
    "start_time": "2022-04-14T15:41:38.932Z"
   },
   {
    "duration": 37,
    "start_time": "2022-04-14T15:41:39.499Z"
   },
   {
    "duration": 26,
    "start_time": "2022-04-14T15:41:40.827Z"
   },
   {
    "duration": 47,
    "start_time": "2022-04-14T15:41:41.394Z"
   },
   {
    "duration": 31,
    "start_time": "2022-04-14T15:41:41.581Z"
   },
   {
    "duration": 265,
    "start_time": "2022-04-14T15:41:41.957Z"
   },
   {
    "duration": 24,
    "start_time": "2022-04-14T15:41:42.498Z"
   },
   {
    "duration": 47,
    "start_time": "2022-04-14T15:41:42.681Z"
   },
   {
    "duration": 34,
    "start_time": "2022-04-14T15:41:43.461Z"
   },
   {
    "duration": 39,
    "start_time": "2022-04-14T15:41:44.069Z"
   },
   {
    "duration": 19,
    "start_time": "2022-04-14T15:41:44.875Z"
   },
   {
    "duration": 21,
    "start_time": "2022-04-14T15:41:45.435Z"
   }
  ],
  "kernelspec": {
   "display_name": "Python 3 (ipykernel)",
   "language": "python",
   "name": "python3"
  },
  "language_info": {
   "codemirror_mode": {
    "name": "ipython",
    "version": 3
   },
   "file_extension": ".py",
   "mimetype": "text/x-python",
   "name": "python",
   "nbconvert_exporter": "python",
   "pygments_lexer": "ipython3",
   "version": "3.9.12"
  },
  "toc": {
   "base_numbering": 1,
   "nav_menu": {},
   "number_sections": true,
   "sideBar": true,
   "skip_h1_title": true,
   "title_cell": "Table of Contents",
   "title_sidebar": "Contents",
   "toc_cell": false,
   "toc_position": {},
   "toc_section_display": true,
   "toc_window_display": false
  }
 },
 "nbformat": 4,
 "nbformat_minor": 5
}
