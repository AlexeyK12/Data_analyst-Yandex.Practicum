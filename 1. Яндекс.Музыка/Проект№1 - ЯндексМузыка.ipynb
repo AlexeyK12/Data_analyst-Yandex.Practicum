{
 "cells": [
  {
   "cell_type": "markdown",
   "metadata": {
    "id": "E0vqbgi9ay0H"
   },
   "source": [
    "# Яндекс.Музыка"
   ]
  },
  {
   "cell_type": "markdown",
   "metadata": {
    "id": "VUC88oWjTJw2"
   },
   "source": [
    "Сравнение Москвы и Петербурга окружено мифами. Например:\n",
    " * Москва — мегаполис, подчинённый жёсткому ритму рабочей недели;\n",
    " * Петербург — культурная столица, со своими вкусами.\n",
    "\n",
    "На данных Яндекс.Музыки вы сравните поведение пользователей двух столиц.\n",
    "\n",
    "**Цель исследования** — проверьте три гипотезы:\n",
    "1. Активность пользователей зависит от дня недели. Причём в Москве и Петербурге это проявляется по-разному.\n",
    "2. В понедельник утром в Москве преобладают одни жанры, а в Петербурге — другие. Так же и вечером пятницы преобладают разные жанры — в зависимости от города. \n",
    "3. Москва и Петербург предпочитают разные жанры музыки. В Москве чаще слушают поп-музыку, в Петербурге — русский рэп.\n",
    "\n",
    "**Ход исследования**\n",
    "\n",
    "Данные о поведении пользователей вы получите из файла `yandex_music_project.csv`. О качестве данных ничего не известно. Поэтому перед проверкой гипотез понадобится обзор данных. \n",
    "\n",
    "Вы проверите данные на ошибки и оцените их влияние на исследование. Затем, на этапе предобработки вы поищете возможность исправить самые критичные ошибки данных.\n",
    " \n",
    "Таким образом, исследование пройдёт в три этапа:\n",
    " 1. Обзор данных.\n",
    " 2. Предобработка данных.\n",
    " 3. Проверка гипотез.\n",
    "\n"
   ]
  },
  {
   "cell_type": "markdown",
   "metadata": {},
   "source": [
    "## Обзор данных"
   ]
  },
  {
   "cell_type": "code",
   "execution_count": 1,
   "metadata": {
    "id": "AXN7PHPN_Zcs"
   },
   "outputs": [],
   "source": [
    "import pandas as pd # импорт библиотеки pandas"
   ]
  },
  {
   "cell_type": "code",
   "execution_count": 2,
   "metadata": {
    "id": "fFVu7vqh_Zct"
   },
   "outputs": [],
   "source": [
    "df = pd.read_csv('/datasets/yandex_music_project.csv')"
   ]
  },
  {
   "cell_type": "code",
   "execution_count": 3,
   "metadata": {
    "id": "oWTVX3gW_Zct",
    "scrolled": true
   },
   "outputs": [
    {
     "data": {
      "text/html": [
       "<div>\n",
       "<style scoped>\n",
       "    .dataframe tbody tr th:only-of-type {\n",
       "        vertical-align: middle;\n",
       "    }\n",
       "\n",
       "    .dataframe tbody tr th {\n",
       "        vertical-align: top;\n",
       "    }\n",
       "\n",
       "    .dataframe thead th {\n",
       "        text-align: right;\n",
       "    }\n",
       "</style>\n",
       "<table border=\"1\" class=\"dataframe\">\n",
       "  <thead>\n",
       "    <tr style=\"text-align: right;\">\n",
       "      <th></th>\n",
       "      <th>userID</th>\n",
       "      <th>Track</th>\n",
       "      <th>artist</th>\n",
       "      <th>genre</th>\n",
       "      <th>City</th>\n",
       "      <th>time</th>\n",
       "      <th>Day</th>\n",
       "    </tr>\n",
       "  </thead>\n",
       "  <tbody>\n",
       "    <tr>\n",
       "      <th>0</th>\n",
       "      <td>FFB692EC</td>\n",
       "      <td>Kamigata To Boots</td>\n",
       "      <td>The Mass Missile</td>\n",
       "      <td>rock</td>\n",
       "      <td>Saint-Petersburg</td>\n",
       "      <td>20:28:33</td>\n",
       "      <td>Wednesday</td>\n",
       "    </tr>\n",
       "    <tr>\n",
       "      <th>1</th>\n",
       "      <td>55204538</td>\n",
       "      <td>Delayed Because of Accident</td>\n",
       "      <td>Andreas Rönnberg</td>\n",
       "      <td>rock</td>\n",
       "      <td>Moscow</td>\n",
       "      <td>14:07:09</td>\n",
       "      <td>Friday</td>\n",
       "    </tr>\n",
       "    <tr>\n",
       "      <th>2</th>\n",
       "      <td>20EC38</td>\n",
       "      <td>Funiculì funiculà</td>\n",
       "      <td>Mario Lanza</td>\n",
       "      <td>pop</td>\n",
       "      <td>Saint-Petersburg</td>\n",
       "      <td>20:58:07</td>\n",
       "      <td>Wednesday</td>\n",
       "    </tr>\n",
       "    <tr>\n",
       "      <th>3</th>\n",
       "      <td>A3DD03C9</td>\n",
       "      <td>Dragons in the Sunset</td>\n",
       "      <td>Fire + Ice</td>\n",
       "      <td>folk</td>\n",
       "      <td>Saint-Petersburg</td>\n",
       "      <td>08:37:09</td>\n",
       "      <td>Monday</td>\n",
       "    </tr>\n",
       "    <tr>\n",
       "      <th>4</th>\n",
       "      <td>E2DC1FAE</td>\n",
       "      <td>Soul People</td>\n",
       "      <td>Space Echo</td>\n",
       "      <td>dance</td>\n",
       "      <td>Moscow</td>\n",
       "      <td>08:34:34</td>\n",
       "      <td>Monday</td>\n",
       "    </tr>\n",
       "    <tr>\n",
       "      <th>5</th>\n",
       "      <td>842029A1</td>\n",
       "      <td>Преданная</td>\n",
       "      <td>IMPERVTOR</td>\n",
       "      <td>rusrap</td>\n",
       "      <td>Saint-Petersburg</td>\n",
       "      <td>13:09:41</td>\n",
       "      <td>Friday</td>\n",
       "    </tr>\n",
       "    <tr>\n",
       "      <th>6</th>\n",
       "      <td>4CB90AA5</td>\n",
       "      <td>True</td>\n",
       "      <td>Roman Messer</td>\n",
       "      <td>dance</td>\n",
       "      <td>Moscow</td>\n",
       "      <td>13:00:07</td>\n",
       "      <td>Wednesday</td>\n",
       "    </tr>\n",
       "    <tr>\n",
       "      <th>7</th>\n",
       "      <td>F03E1C1F</td>\n",
       "      <td>Feeling This Way</td>\n",
       "      <td>Polina Griffith</td>\n",
       "      <td>dance</td>\n",
       "      <td>Moscow</td>\n",
       "      <td>20:47:49</td>\n",
       "      <td>Wednesday</td>\n",
       "    </tr>\n",
       "    <tr>\n",
       "      <th>8</th>\n",
       "      <td>8FA1D3BE</td>\n",
       "      <td>И вновь продолжается бой</td>\n",
       "      <td>NaN</td>\n",
       "      <td>ruspop</td>\n",
       "      <td>Moscow</td>\n",
       "      <td>09:17:40</td>\n",
       "      <td>Friday</td>\n",
       "    </tr>\n",
       "    <tr>\n",
       "      <th>9</th>\n",
       "      <td>E772D5C0</td>\n",
       "      <td>Pessimist</td>\n",
       "      <td>NaN</td>\n",
       "      <td>dance</td>\n",
       "      <td>Saint-Petersburg</td>\n",
       "      <td>21:20:49</td>\n",
       "      <td>Wednesday</td>\n",
       "    </tr>\n",
       "  </tbody>\n",
       "</table>\n",
       "</div>"
      ],
      "text/plain": [
       "     userID                        Track            artist   genre  \\\n",
       "0  FFB692EC            Kamigata To Boots  The Mass Missile    rock   \n",
       "1  55204538  Delayed Because of Accident  Andreas Rönnberg    rock   \n",
       "2    20EC38            Funiculì funiculà       Mario Lanza     pop   \n",
       "3  A3DD03C9        Dragons in the Sunset        Fire + Ice    folk   \n",
       "4  E2DC1FAE                  Soul People        Space Echo   dance   \n",
       "5  842029A1                    Преданная         IMPERVTOR  rusrap   \n",
       "6  4CB90AA5                         True      Roman Messer   dance   \n",
       "7  F03E1C1F             Feeling This Way   Polina Griffith   dance   \n",
       "8  8FA1D3BE     И вновь продолжается бой               NaN  ruspop   \n",
       "9  E772D5C0                    Pessimist               NaN   dance   \n",
       "\n",
       "             City        time        Day  \n",
       "0  Saint-Petersburg  20:28:33  Wednesday  \n",
       "1            Moscow  14:07:09     Friday  \n",
       "2  Saint-Petersburg  20:58:07  Wednesday  \n",
       "3  Saint-Petersburg  08:37:09     Monday  \n",
       "4            Moscow  08:34:34     Monday  \n",
       "5  Saint-Petersburg  13:09:41     Friday  \n",
       "6            Moscow  13:00:07  Wednesday  \n",
       "7            Moscow  20:47:49  Wednesday  \n",
       "8            Moscow  09:17:40     Friday  \n",
       "9  Saint-Petersburg  21:20:49  Wednesday  "
      ]
     },
     "execution_count": 3,
     "metadata": {},
     "output_type": "execute_result"
    }
   ],
   "source": [
    "df.head(10) # получение первых 10 строк таблицы df"
   ]
  },
  {
   "cell_type": "code",
   "execution_count": 4,
   "metadata": {
    "id": "DSf2kIb-_Zct"
   },
   "outputs": [
    {
     "name": "stdout",
     "output_type": "stream",
     "text": [
      "<class 'pandas.core.frame.DataFrame'>\n",
      "RangeIndex: 65079 entries, 0 to 65078\n",
      "Data columns (total 7 columns):\n",
      " #   Column    Non-Null Count  Dtype \n",
      "---  ------    --------------  ----- \n",
      " 0     userID  65079 non-null  object\n",
      " 1   Track     63848 non-null  object\n",
      " 2   artist    57876 non-null  object\n",
      " 3   genre     63881 non-null  object\n",
      " 4     City    65079 non-null  object\n",
      " 5   time      65079 non-null  object\n",
      " 6   Day       65079 non-null  object\n",
      "dtypes: object(7)\n",
      "memory usage: 3.5+ MB\n"
     ]
    }
   ],
   "source": [
    "df.info()# получение общей информации о данных в таблице df"
   ]
  },
  {
   "cell_type": "markdown",
   "metadata": {
    "id": "TaQ2Iwbr_Zct"
   },
   "source": [
    "Итак, в таблице семь столбцов. Тип данных во всех столбцах  `object`.\n",
    "\n",
    "Согласно документации к данным:\n",
    "* `userID` — идентификатор пользователя;\n",
    "* `Track` — название трека;  \n",
    "* `artist` — имя исполнителя;\n",
    "* `genre` — название жанра;\n",
    "* `City` — город пользователя;\n",
    "* `time` — время начала прослушивания;\n",
    "* `Day` — день недели.\n",
    "\n",
    "В названиях колонок видны три нарушения стиля:\n",
    "1. Строчные буквы сочетаются с прописными.\n",
    "2. Встречаются пробелы.\n",
    "3. Некорректное написание - '  userID' → 'user_id'\n",
    "\n",
    "\n",
    "\n",
    "Количество значений в столбцах различается. Значит, в данных есть пропущенные значения.\n"
   ]
  },
  {
   "cell_type": "markdown",
   "metadata": {
    "id": "MCB6-dXG_Zct"
   },
   "source": [
    "**Выводы**\n",
    "\n",
    "В каждой строке таблицы — данные о прослушанном треке. Часть колонок описывает саму композицию: название, исполнителя и жанр. Остальные данные рассказывают о пользователе: из какого он города, когда он слушал музыку. \n",
    "\n",
    "Предварительно можно утверждать, что данных достаточно для проверки гипотез. Но встречаются пропуски в данных, а в названиях колонок — расхождения с хорошим стилем.\n",
    "\n",
    "Чтобы двигаться дальше, нужно устранить проблемы в данных."
   ]
  },
  {
   "cell_type": "markdown",
   "metadata": {
    "id": "SjYF6Ub9_Zct"
   },
   "source": [
    "## Предобработка данных\n",
    "Исправьте стиль в заголовках столбцов, исключите пропуски. Затем проверьте данные на дубликаты."
   ]
  },
  {
   "cell_type": "markdown",
   "metadata": {
    "id": "dIaKXr29_Zct"
   },
   "source": [
    "### Стиль заголовков\n",
    "Выведите на экран названия столбцов:"
   ]
  },
  {
   "cell_type": "code",
   "execution_count": 5,
   "metadata": {
    "id": "oKOTdF_Q_Zct"
   },
   "outputs": [
    {
     "data": {
      "text/plain": [
       "Index(['  userID', 'Track', 'artist', 'genre', '  City  ', 'time', 'Day'], dtype='object')"
      ]
     },
     "execution_count": 5,
     "metadata": {},
     "output_type": "execute_result"
    }
   ],
   "source": [
    "df.columns # перечень названий столбцов таблицы df"
   ]
  },
  {
   "cell_type": "markdown",
   "metadata": {
    "id": "zj5534cv_Zct"
   },
   "source": [
    "Приведите названия в соответствие с хорошим стилем:\n",
    "* несколько слов в названии запишите в «змеином_регистре»,\n",
    "* все символы сделайте строчными,\n",
    "* устраните пробелы.\n",
    "\n",
    "Для этого переименуйте колонки так:\n",
    "* `'  userID'` → `'user_id'`;\n",
    "* `'Track'` → `'track'`;\n",
    "* `'  City  '` → `'city'`;\n",
    "* `'Day'` → `'day'`."
   ]
  },
  {
   "cell_type": "code",
   "execution_count": 6,
   "metadata": {
    "id": "ISlFqs5y_Zct"
   },
   "outputs": [],
   "source": [
    "df = df.rename(columns = {'  userID':'user_id', 'Track':'track', '  City  ':'city', 'Day':'day'})"
   ]
  },
  {
   "cell_type": "markdown",
   "metadata": {
    "id": "1dqbh00J_Zct"
   },
   "source": [
    "Проверьте результат. Для этого ещё раз выведите на экран названия столбцов:"
   ]
  },
  {
   "cell_type": "code",
   "execution_count": 7,
   "metadata": {
    "id": "d4NOAmTW_Zct",
    "scrolled": true
   },
   "outputs": [
    {
     "data": {
      "text/plain": [
       "Index(['user_id', 'track', 'artist', 'genre', 'city', 'time', 'day'], dtype='object')"
      ]
     },
     "execution_count": 7,
     "metadata": {},
     "output_type": "execute_result"
    }
   ],
   "source": [
    "df.columns # проверка результатов - перечень названий столбцов"
   ]
  },
  {
   "cell_type": "markdown",
   "metadata": {
    "id": "5ISfbcfY_Zct"
   },
   "source": [
    "### Пропуски значений\n",
    "Сначала посчитайте, сколько в таблице пропущенных значений. Для этого достаточно двух методов `pandas`:"
   ]
  },
  {
   "cell_type": "code",
   "execution_count": 8,
   "metadata": {
    "id": "RskX29qr_Zct",
    "scrolled": true
   },
   "outputs": [
    {
     "data": {
      "text/plain": [
       "user_id       0\n",
       "track      1231\n",
       "artist     7203\n",
       "genre      1198\n",
       "city          0\n",
       "time          0\n",
       "day           0\n",
       "dtype: int64"
      ]
     },
     "execution_count": 8,
     "metadata": {},
     "output_type": "execute_result"
    }
   ],
   "source": [
    "df.isna().sum()# подсчёт пропусков"
   ]
  },
  {
   "cell_type": "markdown",
   "metadata": {
    "id": "qubhgnlO_Zct"
   },
   "source": [
    "Не все пропущенные значения влияют на исследование. Так в `track` и `artist` пропуски не важны для вашей работы. Достаточно заменить их явными обозначениями.\n",
    "\n",
    "Но пропуски в `genre` могут помешать сравнению музыкальных вкусов в Москве и Санкт-Петербурге. На практике было бы правильно установить причину пропусков и восстановить данные. Такой возможности нет в учебном проекте. Придётся:\n",
    "* заполнить и эти пропуски явными обозначениями,\n",
    "* оценить, насколько они повредят расчётам. "
   ]
  },
  {
   "cell_type": "markdown",
   "metadata": {
    "id": "fSv2laPA_Zct"
   },
   "source": [
    "Замените пропущенные значения в столбцах `track`, `artist` и `genre` на строку `'unknown'`. Для этого создайте список `columns_to_replace`, переберите его элементы циклом `for` и для каждого столбца выполните замену пропущенных значений:"
   ]
  },
  {
   "cell_type": "code",
   "execution_count": 9,
   "metadata": {
    "id": "KplB5qWs_Zct"
   },
   "outputs": [],
   "source": [
    "columns_to_replace = ['track', 'artist', 'genre']\n",
    "for column in columns_to_replace:\n",
    "    df[column] = df[column].fillna('unknown')# перебор названий столбцов в цикле и замена пропущенных значений на 'unknown'"
   ]
  },
  {
   "cell_type": "markdown",
   "metadata": {
    "id": "Ilsm-MZo_Zct"
   },
   "source": [
    "Убедитесь, что в таблице не осталось пропусков. Для этого ещё раз посчитайте пропущенные значения."
   ]
  },
  {
   "cell_type": "code",
   "execution_count": 10,
   "metadata": {
    "id": "Tq4nYRX4_Zct",
    "scrolled": true
   },
   "outputs": [
    {
     "data": {
      "text/plain": [
       "user_id    0\n",
       "track      0\n",
       "artist     0\n",
       "genre      0\n",
       "city       0\n",
       "time       0\n",
       "day        0\n",
       "dtype: int64"
      ]
     },
     "execution_count": 10,
     "metadata": {},
     "output_type": "execute_result"
    }
   ],
   "source": [
    "df.isna().sum()# подсчёт пропусков"
   ]
  },
  {
   "cell_type": "markdown",
   "metadata": {
    "id": "BWKRtBJ3_Zct"
   },
   "source": [
    "### Дубликаты\n",
    "Посчитайте явные дубликаты в таблице одной командой:"
   ]
  },
  {
   "cell_type": "code",
   "execution_count": 11,
   "metadata": {
    "id": "36eES_S0_Zct",
    "scrolled": false
   },
   "outputs": [
    {
     "data": {
      "text/plain": [
       "3826"
      ]
     },
     "execution_count": 11,
     "metadata": {},
     "output_type": "execute_result"
    }
   ],
   "source": [
    "df.duplicated().sum() # подсчёт явных дубликатов"
   ]
  },
  {
   "cell_type": "markdown",
   "metadata": {
    "id": "Ot25h6XR_Zct"
   },
   "source": [
    "Вызовите специальный метод `pandas`, чтобы удалить явные дубликаты:"
   ]
  },
  {
   "cell_type": "code",
   "execution_count": 12,
   "metadata": {
    "id": "exFHq6tt_Zct"
   },
   "outputs": [],
   "source": [
    "df = df.drop_duplicates().reset_index(drop=True)# удаление явных дубликатов (с удалением старых индексов и формированием новых)"
   ]
  },
  {
   "cell_type": "markdown",
   "metadata": {
    "id": "Im2YwBEG_Zct"
   },
   "source": [
    "Ещё раз посчитайте явные дубликаты в таблице — убедитесь, что полностью от них избавились:"
   ]
  },
  {
   "cell_type": "code",
   "execution_count": 13,
   "metadata": {
    "id": "-8PuNWQ0_Zct"
   },
   "outputs": [
    {
     "data": {
      "text/plain": [
       "0"
      ]
     },
     "execution_count": 13,
     "metadata": {},
     "output_type": "execute_result"
    }
   ],
   "source": [
    "df.duplicated().sum()# проверка на отсутствие дубликатов"
   ]
  },
  {
   "cell_type": "markdown",
   "metadata": {
    "id": "QlFBsxAr_Zct"
   },
   "source": [
    "Теперь избавьтесь от неявных дубликатов в колонке `genre`. Например, название одного и того же жанра может быть записано немного по-разному. Такие ошибки тоже повлияют на результат исследования."
   ]
  },
  {
   "cell_type": "markdown",
   "metadata": {
    "id": "eSjWwsOh_Zct"
   },
   "source": [
    "Выведите на экран список уникальных названий жанров, отсортированный в алфавитном порядке. Для этого:\n",
    "* извлеките нужный столбец датафрейма, \n",
    "* примените к нему метод сортировки,\n",
    "* для отсортированного столбца вызовите метод, который вернёт уникальные значения из столбца."
   ]
  },
  {
   "cell_type": "code",
   "execution_count": 14,
   "metadata": {
    "id": "JIUcqzZN_Zct",
    "scrolled": false
   },
   "outputs": [
    {
     "data": {
      "text/plain": [
       "array(['acid', 'acoustic', 'action', 'adult', 'africa', 'afrikaans',\n",
       "       'alternative', 'alternativepunk', 'ambient', 'americana',\n",
       "       'animated', 'anime', 'arabesk', 'arabic', 'arena',\n",
       "       'argentinetango', 'art', 'audiobook', 'author', 'avantgarde',\n",
       "       'axé', 'baile', 'balkan', 'beats', 'bigroom', 'black', 'bluegrass',\n",
       "       'blues', 'bollywood', 'bossa', 'brazilian', 'breakbeat', 'breaks',\n",
       "       'broadway', 'cantautori', 'cantopop', 'canzone', 'caribbean',\n",
       "       'caucasian', 'celtic', 'chamber', 'chanson', 'children', 'chill',\n",
       "       'chinese', 'choral', 'christian', 'christmas', 'classical',\n",
       "       'classicmetal', 'club', 'colombian', 'comedy', 'conjazz',\n",
       "       'contemporary', 'country', 'cuban', 'dance', 'dancehall',\n",
       "       'dancepop', 'dark', 'death', 'deep', 'deutschrock', 'deutschspr',\n",
       "       'dirty', 'disco', 'dnb', 'documentary', 'downbeat', 'downtempo',\n",
       "       'drum', 'dub', 'dubstep', 'eastern', 'easy', 'electronic',\n",
       "       'electropop', 'emo', 'entehno', 'epicmetal', 'estrada', 'ethnic',\n",
       "       'eurofolk', 'european', 'experimental', 'extrememetal', 'fado',\n",
       "       'fairytail', 'film', 'fitness', 'flamenco', 'folk', 'folklore',\n",
       "       'folkmetal', 'folkrock', 'folktronica', 'forró', 'frankreich',\n",
       "       'französisch', 'french', 'funk', 'future', 'gangsta', 'garage',\n",
       "       'german', 'ghazal', 'gitarre', 'glitch', 'gospel', 'gothic',\n",
       "       'grime', 'grunge', 'gypsy', 'handsup', \"hard'n'heavy\", 'hardcore',\n",
       "       'hardstyle', 'hardtechno', 'hip', 'hip-hop', 'hiphop',\n",
       "       'historisch', 'holiday', 'hop', 'horror', 'house', 'hymn', 'idm',\n",
       "       'independent', 'indian', 'indie', 'indipop', 'industrial',\n",
       "       'inspirational', 'instrumental', 'international', 'irish', 'jam',\n",
       "       'japanese', 'jazz', 'jewish', 'jpop', 'jungle', 'k-pop',\n",
       "       'karadeniz', 'karaoke', 'kayokyoku', 'korean', 'laiko', 'latin',\n",
       "       'latino', 'leftfield', 'local', 'lounge', 'loungeelectronic',\n",
       "       'lovers', 'malaysian', 'mandopop', 'marschmusik', 'meditative',\n",
       "       'mediterranean', 'melodic', 'metal', 'metalcore', 'mexican',\n",
       "       'middle', 'minimal', 'miscellaneous', 'modern', 'mood', 'mpb',\n",
       "       'muslim', 'native', 'neoklassik', 'neue', 'new', 'newage',\n",
       "       'newwave', 'nu', 'nujazz', 'numetal', 'oceania', 'old', 'opera',\n",
       "       'orchestral', 'other', 'piano', 'podcasts', 'pop', 'popdance',\n",
       "       'popelectronic', 'popeurodance', 'poprussian', 'post',\n",
       "       'posthardcore', 'postrock', 'power', 'progmetal', 'progressive',\n",
       "       'psychedelic', 'punjabi', 'punk', 'quebecois', 'ragga', 'ram',\n",
       "       'rancheras', 'rap', 'rave', 'reggae', 'reggaeton', 'regional',\n",
       "       'relax', 'religious', 'retro', 'rhythm', 'rnb', 'rnr', 'rock',\n",
       "       'rockabilly', 'rockalternative', 'rockindie', 'rockother',\n",
       "       'romance', 'roots', 'ruspop', 'rusrap', 'rusrock', 'russian',\n",
       "       'salsa', 'samba', 'scenic', 'schlager', 'self', 'sertanejo',\n",
       "       'shanson', 'shoegazing', 'showtunes', 'singer', 'ska', 'skarock',\n",
       "       'slow', 'smooth', 'soft', 'soul', 'soulful', 'sound', 'soundtrack',\n",
       "       'southern', 'specialty', 'speech', 'spiritual', 'sport',\n",
       "       'stonerrock', 'surf', 'swing', 'synthpop', 'synthrock',\n",
       "       'sängerportrait', 'tango', 'tanzorchester', 'taraftar', 'tatar',\n",
       "       'tech', 'techno', 'teen', 'thrash', 'top', 'traditional',\n",
       "       'tradjazz', 'trance', 'tribal', 'trip', 'triphop', 'tropical',\n",
       "       'türk', 'türkçe', 'ukrrock', 'unknown', 'urban', 'uzbek',\n",
       "       'variété', 'vi', 'videogame', 'vocal', 'western', 'world',\n",
       "       'worldbeat', 'ïîï', 'электроника'], dtype=object)"
      ]
     },
     "execution_count": 14,
     "metadata": {},
     "output_type": "execute_result"
    }
   ],
   "source": [
    "df['genre'].sort_values().unique()# Просмотр уникальных названий жанров"
   ]
  },
  {
   "cell_type": "markdown",
   "metadata": {
    "id": "qej-Qmuo_Zct"
   },
   "source": [
    "Просмотрите список и найдите неявные дубликаты названия `hiphop`. Это могут быть названия с ошибками или альтернативные названия того же жанра.\n",
    "\n",
    "Вы увидите следующие неявные дубликаты:\n",
    "* *hip*,\n",
    "* *hop*,\n",
    "* *hip-hop*.\n",
    "\n",
    "Чтобы очистить от них таблицу, напишите функцию `replace_wrong_genres()` с двумя параметрами: \n",
    "* `wrong_genres` — список дубликатов,\n",
    "* `correct_genre` — строка с правильным значением.\n",
    "\n",
    "Функция должна исправить колонку `genre` в таблице `df`: заменить каждое значение из списка `wrong_genres` на значение из `correct_genre`."
   ]
  },
  {
   "cell_type": "code",
   "execution_count": 15,
   "metadata": {
    "id": "ErNDkmns_Zct"
   },
   "outputs": [],
   "source": [
    "def replace_wrong_genres(wrong_genres,correct_genre):\n",
    "    for genre in wrong_genres:\n",
    "        df['genre'] = df['genre'].replace(wrong_genres,correct_genre)# Функция для замены неявных дубликатов"
   ]
  },
  {
   "cell_type": "markdown",
   "metadata": {
    "id": "aDoBJxbA_Zct"
   },
   "source": [
    "Вызовите `replace_wrong_genres()` и передайте ей такие аргументы, чтобы она устранила неявные дубликаты: вместо `hip`, `hop` и `hip-hop` в таблице должно быть значение `hiphop`:"
   ]
  },
  {
   "cell_type": "code",
   "execution_count": 16,
   "metadata": {
    "id": "YN5i2hpmSo09"
   },
   "outputs": [],
   "source": [
    "wrong_genres = ['hip','hop', 'hip-hop']\n",
    "correct_genre = 'hiphop'\n",
    "replace_wrong_genres(wrong_genres,correct_genre)# Устранение неявных дубликатов"
   ]
  },
  {
   "cell_type": "markdown",
   "metadata": {
    "id": "zQKF16_RG15m"
   },
   "source": [
    "Проверьте, что заменили неправильные названия:\n",
    "\n",
    "*   hip\n",
    "*   hop\n",
    "*   hip-hop\n",
    "\n",
    "Выведите отсортированный список уникальных значений столбца `genre`:"
   ]
  },
  {
   "cell_type": "code",
   "execution_count": 17,
   "metadata": {
    "id": "wvixALnFG15m",
    "scrolled": true
   },
   "outputs": [
    {
     "data": {
      "text/plain": [
       "['acid',\n",
       " 'acoustic',\n",
       " 'action',\n",
       " 'adult',\n",
       " 'africa',\n",
       " 'afrikaans',\n",
       " 'alternative',\n",
       " 'alternativepunk',\n",
       " 'ambient',\n",
       " 'americana',\n",
       " 'animated',\n",
       " 'anime',\n",
       " 'arabesk',\n",
       " 'arabic',\n",
       " 'arena',\n",
       " 'argentinetango',\n",
       " 'art',\n",
       " 'audiobook',\n",
       " 'author',\n",
       " 'avantgarde',\n",
       " 'axé',\n",
       " 'baile',\n",
       " 'balkan',\n",
       " 'beats',\n",
       " 'bigroom',\n",
       " 'black',\n",
       " 'bluegrass',\n",
       " 'blues',\n",
       " 'bollywood',\n",
       " 'bossa',\n",
       " 'brazilian',\n",
       " 'breakbeat',\n",
       " 'breaks',\n",
       " 'broadway',\n",
       " 'cantautori',\n",
       " 'cantopop',\n",
       " 'canzone',\n",
       " 'caribbean',\n",
       " 'caucasian',\n",
       " 'celtic',\n",
       " 'chamber',\n",
       " 'chanson',\n",
       " 'children',\n",
       " 'chill',\n",
       " 'chinese',\n",
       " 'choral',\n",
       " 'christian',\n",
       " 'christmas',\n",
       " 'classical',\n",
       " 'classicmetal',\n",
       " 'club',\n",
       " 'colombian',\n",
       " 'comedy',\n",
       " 'conjazz',\n",
       " 'contemporary',\n",
       " 'country',\n",
       " 'cuban',\n",
       " 'dance',\n",
       " 'dancehall',\n",
       " 'dancepop',\n",
       " 'dark',\n",
       " 'death',\n",
       " 'deep',\n",
       " 'deutschrock',\n",
       " 'deutschspr',\n",
       " 'dirty',\n",
       " 'disco',\n",
       " 'dnb',\n",
       " 'documentary',\n",
       " 'downbeat',\n",
       " 'downtempo',\n",
       " 'drum',\n",
       " 'dub',\n",
       " 'dubstep',\n",
       " 'eastern',\n",
       " 'easy',\n",
       " 'electronic',\n",
       " 'electropop',\n",
       " 'emo',\n",
       " 'entehno',\n",
       " 'epicmetal',\n",
       " 'estrada',\n",
       " 'ethnic',\n",
       " 'eurofolk',\n",
       " 'european',\n",
       " 'experimental',\n",
       " 'extrememetal',\n",
       " 'fado',\n",
       " 'fairytail',\n",
       " 'film',\n",
       " 'fitness',\n",
       " 'flamenco',\n",
       " 'folk',\n",
       " 'folklore',\n",
       " 'folkmetal',\n",
       " 'folkrock',\n",
       " 'folktronica',\n",
       " 'forró',\n",
       " 'frankreich',\n",
       " 'französisch',\n",
       " 'french',\n",
       " 'funk',\n",
       " 'future',\n",
       " 'gangsta',\n",
       " 'garage',\n",
       " 'german',\n",
       " 'ghazal',\n",
       " 'gitarre',\n",
       " 'glitch',\n",
       " 'gospel',\n",
       " 'gothic',\n",
       " 'grime',\n",
       " 'grunge',\n",
       " 'gypsy',\n",
       " 'handsup',\n",
       " \"hard'n'heavy\",\n",
       " 'hardcore',\n",
       " 'hardstyle',\n",
       " 'hardtechno',\n",
       " 'hiphop',\n",
       " 'historisch',\n",
       " 'holiday',\n",
       " 'horror',\n",
       " 'house',\n",
       " 'hymn',\n",
       " 'idm',\n",
       " 'independent',\n",
       " 'indian',\n",
       " 'indie',\n",
       " 'indipop',\n",
       " 'industrial',\n",
       " 'inspirational',\n",
       " 'instrumental',\n",
       " 'international',\n",
       " 'irish',\n",
       " 'jam',\n",
       " 'japanese',\n",
       " 'jazz',\n",
       " 'jewish',\n",
       " 'jpop',\n",
       " 'jungle',\n",
       " 'k-pop',\n",
       " 'karadeniz',\n",
       " 'karaoke',\n",
       " 'kayokyoku',\n",
       " 'korean',\n",
       " 'laiko',\n",
       " 'latin',\n",
       " 'latino',\n",
       " 'leftfield',\n",
       " 'local',\n",
       " 'lounge',\n",
       " 'loungeelectronic',\n",
       " 'lovers',\n",
       " 'malaysian',\n",
       " 'mandopop',\n",
       " 'marschmusik',\n",
       " 'meditative',\n",
       " 'mediterranean',\n",
       " 'melodic',\n",
       " 'metal',\n",
       " 'metalcore',\n",
       " 'mexican',\n",
       " 'middle',\n",
       " 'minimal',\n",
       " 'miscellaneous',\n",
       " 'modern',\n",
       " 'mood',\n",
       " 'mpb',\n",
       " 'muslim',\n",
       " 'native',\n",
       " 'neoklassik',\n",
       " 'neue',\n",
       " 'new',\n",
       " 'newage',\n",
       " 'newwave',\n",
       " 'nu',\n",
       " 'nujazz',\n",
       " 'numetal',\n",
       " 'oceania',\n",
       " 'old',\n",
       " 'opera',\n",
       " 'orchestral',\n",
       " 'other',\n",
       " 'piano',\n",
       " 'podcasts',\n",
       " 'pop',\n",
       " 'popdance',\n",
       " 'popelectronic',\n",
       " 'popeurodance',\n",
       " 'poprussian',\n",
       " 'post',\n",
       " 'posthardcore',\n",
       " 'postrock',\n",
       " 'power',\n",
       " 'progmetal',\n",
       " 'progressive',\n",
       " 'psychedelic',\n",
       " 'punjabi',\n",
       " 'punk',\n",
       " 'quebecois',\n",
       " 'ragga',\n",
       " 'ram',\n",
       " 'rancheras',\n",
       " 'rap',\n",
       " 'rave',\n",
       " 'reggae',\n",
       " 'reggaeton',\n",
       " 'regional',\n",
       " 'relax',\n",
       " 'religious',\n",
       " 'retro',\n",
       " 'rhythm',\n",
       " 'rnb',\n",
       " 'rnr',\n",
       " 'rock',\n",
       " 'rockabilly',\n",
       " 'rockalternative',\n",
       " 'rockindie',\n",
       " 'rockother',\n",
       " 'romance',\n",
       " 'roots',\n",
       " 'ruspop',\n",
       " 'rusrap',\n",
       " 'rusrock',\n",
       " 'russian',\n",
       " 'salsa',\n",
       " 'samba',\n",
       " 'scenic',\n",
       " 'schlager',\n",
       " 'self',\n",
       " 'sertanejo',\n",
       " 'shanson',\n",
       " 'shoegazing',\n",
       " 'showtunes',\n",
       " 'singer',\n",
       " 'ska',\n",
       " 'skarock',\n",
       " 'slow',\n",
       " 'smooth',\n",
       " 'soft',\n",
       " 'soul',\n",
       " 'soulful',\n",
       " 'sound',\n",
       " 'soundtrack',\n",
       " 'southern',\n",
       " 'specialty',\n",
       " 'speech',\n",
       " 'spiritual',\n",
       " 'sport',\n",
       " 'stonerrock',\n",
       " 'surf',\n",
       " 'swing',\n",
       " 'synthpop',\n",
       " 'synthrock',\n",
       " 'sängerportrait',\n",
       " 'tango',\n",
       " 'tanzorchester',\n",
       " 'taraftar',\n",
       " 'tatar',\n",
       " 'tech',\n",
       " 'techno',\n",
       " 'teen',\n",
       " 'thrash',\n",
       " 'top',\n",
       " 'traditional',\n",
       " 'tradjazz',\n",
       " 'trance',\n",
       " 'tribal',\n",
       " 'trip',\n",
       " 'triphop',\n",
       " 'tropical',\n",
       " 'türk',\n",
       " 'türkçe',\n",
       " 'ukrrock',\n",
       " 'unknown',\n",
       " 'urban',\n",
       " 'uzbek',\n",
       " 'variété',\n",
       " 'vi',\n",
       " 'videogame',\n",
       " 'vocal',\n",
       " 'western',\n",
       " 'world',\n",
       " 'worldbeat',\n",
       " 'ïîï',\n",
       " 'электроника']"
      ]
     },
     "metadata": {},
     "output_type": "display_data"
    }
   ],
   "source": [
    "display(sorted(df['genre'].unique())) # Проверка на неявные дубликаты"
   ]
  },
  {
   "cell_type": "markdown",
   "metadata": {
    "id": "jz6a9-7HQUDd"
   },
   "source": [
    "**Выводы**\n",
    "\n",
    "Предобработка обнаружила три проблемы в данных:\n",
    "\n",
    "- нарушения в стиле заголовков,\n",
    "- пропущенные значения,\n",
    "- дубликаты — явные и неявные.\n",
    "\n",
    "Вы исправили заголовки, чтобы упростить работу с таблицей. Без дубликатов исследование станет более точным.\n",
    "\n",
    "Пропущенные значения вы заменили на `'unknown'`. Ещё предстоит увидеть, не повредят ли исследованию пропуски в колонке `genre`.\n",
    "\n",
    "Теперь можно перейти к проверке гипотез. "
   ]
  },
  {
   "cell_type": "markdown",
   "metadata": {
    "id": "WttZHXH0SqKk"
   },
   "source": [
    "## Проверка гипотез"
   ]
  },
  {
   "cell_type": "markdown",
   "metadata": {
    "id": "Im936VVi_Zcu"
   },
   "source": [
    "### Сравнение поведения пользователей двух столиц"
   ]
  },
  {
   "cell_type": "markdown",
   "metadata": {
    "id": "nwt_MuaL_Zcu"
   },
   "source": [
    "Первая гипотеза утверждает, что пользователи по-разному слушают музыку в Москве и Санкт-Петербурге. Проверьте это предположение по данным о трёх днях недели — понедельнике, среде и пятнице. Для этого:\n",
    "\n",
    "* Разделите пользователей Москвы и Санкт-Петербурга\n",
    "* Сравните, сколько треков послушала каждая группа пользователей в понедельник, среду и пятницу.\n"
   ]
  },
  {
   "cell_type": "markdown",
   "metadata": {
    "id": "8Dw_YMmT_Zcu"
   },
   "source": [
    "Для тренировки сначала выполните каждый из расчётов по отдельности. \n",
    "\n",
    "Оцените активность пользователей в каждом городе. Сгруппируйте данные по городу и посчитайте прослушивания в каждой группе.\n",
    "\n"
   ]
  },
  {
   "cell_type": "code",
   "execution_count": 18,
   "metadata": {
    "id": "0_Qs96oh_Zcu"
   },
   "outputs": [
    {
     "data": {
      "text/plain": [
       "city\n",
       "Moscow              42741\n",
       "Saint-Petersburg    18512\n",
       "Name: genre, dtype: int64"
      ]
     },
     "execution_count": 18,
     "metadata": {},
     "output_type": "execute_result"
    }
   ],
   "source": [
    "df.groupby('city')['genre'].count()# Подсчёт прослушиваний в каждом городе"
   ]
  },
  {
   "cell_type": "markdown",
   "metadata": {
    "id": "dzli3w8o_Zcu"
   },
   "source": [
    "В Москве прослушиваний больше, чем в Петербурге. Из этого не следует, что московские пользователи чаще слушают музыку. Просто самих пользователей в Москве больше.\n",
    "\n",
    "Теперь сгруппируйте данные по дню недели и подсчитайте прослушивания в понедельник, среду и пятницу. Учтите, что в данных есть информация только о прослушиваниях только за эти дни.\n"
   ]
  },
  {
   "cell_type": "code",
   "execution_count": 19,
   "metadata": {
    "id": "uZMKjiJz_Zcu",
    "scrolled": true
   },
   "outputs": [
    {
     "data": {
      "text/plain": [
       "day\n",
       "Friday       21840\n",
       "Monday       21354\n",
       "Wednesday    18059\n",
       "Name: genre, dtype: int64"
      ]
     },
     "execution_count": 19,
     "metadata": {},
     "output_type": "execute_result"
    }
   ],
   "source": [
    "df.groupby('day')['genre'].count()# Подсчёт прослушиваний в каждый из трёх дней"
   ]
  },
  {
   "cell_type": "markdown",
   "metadata": {
    "id": "cC2tNrlL_Zcu"
   },
   "source": [
    "В среднем пользователи из двух городов менее активны по средам. Но картина может измениться, если рассмотреть каждый город в отдельности."
   ]
  },
  {
   "cell_type": "markdown",
   "metadata": {
    "id": "POzs8bGa_Zcu"
   },
   "source": [
    "Вы видели, как работает группировка по городу и по дням недели. Теперь напишите функцию, которая объединит два эти расчёта.\n",
    "\n",
    "Создайте функцию `number_tracks()`, которая посчитает прослушивания для заданного дня и города. Ей понадобятся два параметра:\n",
    "* день недели,\n",
    "* название города.\n",
    "\n",
    "В функции сохраните в переменную строки исходной таблицы, у которых значение:\n",
    "  * в колонке `day` равно параметру `day`,\n",
    "  * в колонке `city` равно параметру `city`.\n",
    "\n",
    "Для этого примените последовательную фильтрацию с логической индексацией.\n",
    "\n",
    "Затем посчитайте значения в столбце `user_id` получившейся таблицы. Результат сохраните в новую переменную. Верните эту переменную из функции."
   ]
  },
  {
   "cell_type": "code",
   "execution_count": 20,
   "metadata": {
    "id": "Nz3GdQB1_Zcu"
   },
   "outputs": [],
   "source": [
    "def number_tracks(day,city):\n",
    "    track_list = df[(df['day'] == day) & (df['city'] == city)]\n",
    "    track_list_count = track_list['user_id'].count()\n",
    "    return track_list_count"
   ]
  },
  {
   "cell_type": "markdown",
   "metadata": {
    "id": "ytf7xFrFJQ2r"
   },
   "source": [
    "Вызовите `number_tracks()` шесть раз, меняя значение параметров — так, чтобы получить данные для каждого города в каждый из трёх дней."
   ]
  },
  {
   "cell_type": "code",
   "execution_count": 21,
   "metadata": {
    "id": "rJcRATNQ_Zcu"
   },
   "outputs": [
    {
     "data": {
      "text/plain": [
       "15740"
      ]
     },
     "execution_count": 21,
     "metadata": {},
     "output_type": "execute_result"
    }
   ],
   "source": [
    "number_tracks('Monday', 'Moscow')# количество прослушиваний в Москве по понедельникам"
   ]
  },
  {
   "cell_type": "code",
   "execution_count": 22,
   "metadata": {
    "id": "hq_ncZ5T_Zcu"
   },
   "outputs": [
    {
     "data": {
      "text/plain": [
       "5614"
      ]
     },
     "execution_count": 22,
     "metadata": {},
     "output_type": "execute_result"
    }
   ],
   "source": [
    "number_tracks('Monday', 'Saint-Petersburg')# количество прослушиваний в Санкт-Петербурге по понедельникам"
   ]
  },
  {
   "cell_type": "code",
   "execution_count": 23,
   "metadata": {
    "id": "_NTy2VPU_Zcu"
   },
   "outputs": [
    {
     "data": {
      "text/plain": [
       "11056"
      ]
     },
     "execution_count": 23,
     "metadata": {},
     "output_type": "execute_result"
    }
   ],
   "source": [
    "number_tracks('Wednesday', 'Moscow')# количество прослушиваний в Москве по средам"
   ]
  },
  {
   "cell_type": "code",
   "execution_count": 24,
   "metadata": {
    "id": "j2y3TAwo_Zcu"
   },
   "outputs": [
    {
     "data": {
      "text/plain": [
       "7003"
      ]
     },
     "execution_count": 24,
     "metadata": {},
     "output_type": "execute_result"
    }
   ],
   "source": [
    "number_tracks('Wednesday', 'Saint-Petersburg')# количество прослушиваний в Санкт-Петербурге по средам"
   ]
  },
  {
   "cell_type": "code",
   "execution_count": 25,
   "metadata": {
    "id": "vYDw5u_K_Zcu"
   },
   "outputs": [
    {
     "data": {
      "text/plain": [
       "15945"
      ]
     },
     "execution_count": 25,
     "metadata": {},
     "output_type": "execute_result"
    }
   ],
   "source": [
    "number_tracks('Friday', 'Moscow')# количество прослушиваний в Москве по пятницам"
   ]
  },
  {
   "cell_type": "code",
   "execution_count": 26,
   "metadata": {
    "id": "8_yzFtW3_Zcu"
   },
   "outputs": [
    {
     "data": {
      "text/plain": [
       "5895"
      ]
     },
     "execution_count": 26,
     "metadata": {},
     "output_type": "execute_result"
    }
   ],
   "source": [
    "number_tracks('Friday', 'Saint-Petersburg')# количество прослушиваний в Санкт-Петербурге по пятницам"
   ]
  },
  {
   "cell_type": "markdown",
   "metadata": {
    "id": "7QXffbO-_Zcu"
   },
   "source": [
    "Создайте c помощью конструктора `pd.DataFrame` таблицу, где\n",
    "* названия колонок — `['city', 'monday', 'wednesday', 'friday']`;\n",
    "* данные — результаты, которые вы получили с помощью `number_tracks`."
   ]
  },
  {
   "cell_type": "code",
   "execution_count": 27,
   "metadata": {
    "id": "APAcLpOr_Zcu"
   },
   "outputs": [
    {
     "name": "stdout",
     "output_type": "stream",
     "text": [
      "               city  monday  wednesday  friday\n",
      "0            Moscow   15740      11056   15945\n",
      "1  Saint-Petersburg    5614       7003    5895\n"
     ]
    }
   ],
   "source": [
    "columns = ['city', 'monday', 'wednesday', 'friday']\n",
    "data = [['Moscow', 15740, 11056, 15945],\n",
    "       ['Saint-Petersburg', 5614, 7003, 5895]]\n",
    "\n",
    "results = pd.DataFrame(data=data, columns=columns)\n",
    "print(results) # Таблица с результатами"
   ]
  },
  {
   "cell_type": "markdown",
   "metadata": {
    "id": "-EgPIHYu_Zcu"
   },
   "source": [
    "**Выводы**\n",
    "\n",
    "Данные показывают разницу поведения пользователей:\n",
    "\n",
    "- В Москве пик прослушиваний приходится на понедельник и пятницу, а в среду заметен спад.\n",
    "- В Петербурге, наоборот, больше слушают музыку по средам. Активность в понедельник и пятницу здесь почти в равной мере уступает среде.\n",
    "\n",
    "Значит, данные говорят в пользу первой гипотезы."
   ]
  },
  {
   "cell_type": "markdown",
   "metadata": {
    "id": "atZAxtq4_Zcu"
   },
   "source": [
    "### Музыка в начале и в конце недели"
   ]
  },
  {
   "cell_type": "markdown",
   "metadata": {
    "id": "eXrQqXFH_Zcu"
   },
   "source": [
    "Согласно второй гипотезе, утром в понедельник в Москве преобладают одни жанры, а в Петербурге — другие. Так же и вечером пятницы преобладают разные жанры — в зависимости от города."
   ]
  },
  {
   "cell_type": "markdown",
   "metadata": {
    "id": "S8UcW6Hw_Zcu"
   },
   "source": [
    "Сохраните таблицы с данными в две переменные:\n",
    "* по Москве — в `moscow_general`;\n",
    "* по Санкт-Петербургу — в `spb_general`."
   ]
  },
  {
   "cell_type": "code",
   "execution_count": 28,
   "metadata": {
    "id": "qeaFfM_P_Zcu"
   },
   "outputs": [],
   "source": [
    "moscow_general = df[df['city'] == 'Moscow']\n",
    "# получение таблицы moscow_general из тех строк таблицы df, \n",
    "# для которых значение в столбце 'city' равно 'Moscow'\n"
   ]
  },
  {
   "cell_type": "code",
   "execution_count": 29,
   "metadata": {
    "id": "ORaVRKto_Zcu"
   },
   "outputs": [],
   "source": [
    "spb_general = df[df['city'] == 'Saint-Petersburg']\n",
    "# получение таблицы spb_general из тех строк таблицы df,\n",
    "# для которых значение в столбце 'city' равно 'Saint-Petersburg'\n"
   ]
  },
  {
   "cell_type": "markdown",
   "metadata": {
    "id": "MEJV-CX2_Zcu"
   },
   "source": [
    "Создайте функцию `genre_weekday()` с четырьмя параметрами:\n",
    "* таблица (датафрейм) с данными,\n",
    "* день недели,\n",
    "* начальная временная метка в формате 'hh:mm', \n",
    "* последняя временная метка в формате 'hh:mm'.\n",
    "\n",
    "Функция должна вернуть информацию о топ-10 жанров тех треков, которые прослушивали в указанный день, в промежутке между двумя отметками времени."
   ]
  },
  {
   "cell_type": "code",
   "execution_count": 30,
   "metadata": {
    "id": "laJT9BYl_Zcu"
   },
   "outputs": [],
   "source": [
    "def genre_weekday(table, day, time1, time2):\n",
    "    genre_df = table[(table['day'] == day)]\n",
    "    genre_df = genre_df[genre_df['time'] > time1]\n",
    "    genre_df = genre_df[genre_df['time'] < time2]\n",
    "    genre_df_count = genre_df.groupby('genre')['user_id'].count()\n",
    "    genre_df_sorted = genre_df_count.sort_values(ascending=False)\n",
    "    return genre_df_sorted.head(10)"
   ]
  },
  {
   "cell_type": "markdown",
   "metadata": {
    "id": "la2s2_PF_Zcu"
   },
   "source": [
    "Cравните результаты функции `genre_weekday()` для Москвы и Санкт-Петербурга в понедельник утром (с 7:00 до 11:00) и в пятницу вечером (с 17:00 до 23:00):"
   ]
  },
  {
   "cell_type": "code",
   "execution_count": 31,
   "metadata": {
    "id": "yz7itPUQ_Zcu"
   },
   "outputs": [
    {
     "data": {
      "text/plain": [
       "genre\n",
       "pop            781\n",
       "dance          549\n",
       "electronic     480\n",
       "rock           474\n",
       "hiphop         286\n",
       "ruspop         186\n",
       "world          181\n",
       "rusrap         175\n",
       "alternative    164\n",
       "unknown        161\n",
       "Name: user_id, dtype: int64"
      ]
     },
     "execution_count": 31,
     "metadata": {},
     "output_type": "execute_result"
    }
   ],
   "source": [
    "genre_weekday(moscow_general, 'Monday', '07:00', '11:00')"
   ]
  },
  {
   "cell_type": "code",
   "execution_count": 32,
   "metadata": {
    "id": "kwUcHPdy_Zcu"
   },
   "outputs": [
    {
     "data": {
      "text/plain": [
       "genre\n",
       "pop            218\n",
       "dance          182\n",
       "rock           162\n",
       "electronic     147\n",
       "hiphop          80\n",
       "ruspop          64\n",
       "alternative     58\n",
       "rusrap          55\n",
       "jazz            44\n",
       "classical       40\n",
       "Name: user_id, dtype: int64"
      ]
     },
     "execution_count": 32,
     "metadata": {},
     "output_type": "execute_result"
    }
   ],
   "source": [
    "genre_weekday(spb_general, 'Monday', '07:00', '11:00')# вызов функции для утра понедельника в Петербурге (вместо df — таблица spb_general)"
   ]
  },
  {
   "cell_type": "code",
   "execution_count": 33,
   "metadata": {
    "id": "EzXVRE1o_Zcu"
   },
   "outputs": [
    {
     "data": {
      "text/plain": [
       "genre\n",
       "pop            713\n",
       "rock           517\n",
       "dance          495\n",
       "electronic     482\n",
       "hiphop         273\n",
       "world          208\n",
       "ruspop         170\n",
       "alternative    163\n",
       "classical      163\n",
       "rusrap         142\n",
       "Name: user_id, dtype: int64"
      ]
     },
     "execution_count": 33,
     "metadata": {},
     "output_type": "execute_result"
    }
   ],
   "source": [
    "genre_weekday(moscow_general, 'Friday', '17:00', '23:00')# вызов функции для вечера пятницы в Москве"
   ]
  },
  {
   "cell_type": "code",
   "execution_count": 34,
   "metadata": {
    "id": "JZaEKu5v_Zcu",
    "scrolled": true
   },
   "outputs": [
    {
     "data": {
      "text/plain": [
       "genre\n",
       "pop            256\n",
       "electronic     216\n",
       "rock           216\n",
       "dance          210\n",
       "hiphop          97\n",
       "alternative     63\n",
       "jazz            61\n",
       "classical       60\n",
       "rusrap          59\n",
       "world           54\n",
       "Name: user_id, dtype: int64"
      ]
     },
     "execution_count": 34,
     "metadata": {},
     "output_type": "execute_result"
    }
   ],
   "source": [
    "genre_weekday(spb_general, 'Friday', '17:00', '23:00')# вызов функции для вечера пятницы в Петербурге"
   ]
  },
  {
   "cell_type": "markdown",
   "metadata": {
    "id": "wrCe4MNX_Zcu"
   },
   "source": [
    "**Выводы**\n",
    "\n",
    "Если сравнить топ-10 жанров в понедельник утром, можно сделать такие выводы:\n",
    "\n",
    "1. В Москве и Петербурге слушают похожую музыку. Единственное отличие — в московский рейтинг вошёл жанр “world”, а в петербургский — джаз и классика.\n",
    "\n",
    "2. В Москве пропущенных значений оказалось так много, что значение `'unknown'` заняло десятое место среди самых популярных жанров. Значит, пропущенные значения занимают существенную долю в данных и угрожают достоверности исследования.\n",
    "\n",
    "Вечер пятницы не меняет эту картину. Некоторые жанры поднимаются немного выше, другие спускаются, но в целом топ-10 остаётся тем же самым.\n",
    "\n",
    "Таким образом, вторая гипотеза подтвердилась лишь частично:\n",
    "* Пользователи слушают похожую музыку в начале недели и в конце.\n",
    "* Разница между Москвой и Петербургом не слишком выражена. В Москве чаще слушают русскую популярную музыку, в Петербурге — джаз.\n",
    "\n",
    "Однако пропуски в данных ставят под сомнение этот результат. В Москве их так много, что рейтинг топ-10 мог бы выглядеть иначе, если бы не утерянные  данные о жанрах."
   ]
  },
  {
   "cell_type": "markdown",
   "metadata": {
    "id": "JolODAqr_Zcu"
   },
   "source": [
    "### Жанровые предпочтения в Москве и Петербурге\n",
    "\n",
    "Гипотеза: Петербург — столица рэпа, музыку этого жанра там слушают чаще, чем в Москве.  А Москва — город контрастов, в котором, тем не менее, преобладает поп-музыка."
   ]
  },
  {
   "cell_type": "markdown",
   "metadata": {
    "id": "DlegSvaT_Zcu"
   },
   "source": [
    "Сгруппируйте таблицу `moscow_general` по жанру и посчитайте прослушивания треков каждого жанра методом `count()`. Затем отсортируйте результат в порядке убывания и сохраните его в таблице `moscow_genres`."
   ]
  },
  {
   "cell_type": "code",
   "execution_count": 35,
   "metadata": {
    "id": "r19lIPke_Zcu"
   },
   "outputs": [],
   "source": [
    "moscow_genres = moscow_general.groupby('genre')['genre'].count().sort_values(ascending = False)"
   ]
  },
  {
   "cell_type": "markdown",
   "metadata": {
    "id": "6kMuomxTiIr8"
   },
   "source": [
    "Выведите на экран первые десять строк `moscow_genres`:"
   ]
  },
  {
   "cell_type": "code",
   "execution_count": 36,
   "metadata": {
    "id": "WhCSooF8_Zcv"
   },
   "outputs": [
    {
     "data": {
      "text/plain": [
       "genre\n",
       "pop            5892\n",
       "dance          4435\n",
       "rock           3965\n",
       "electronic     3786\n",
       "hiphop         2096\n",
       "classical      1616\n",
       "world          1432\n",
       "alternative    1379\n",
       "ruspop         1372\n",
       "rusrap         1161\n",
       "Name: genre, dtype: int64"
      ]
     },
     "execution_count": 36,
     "metadata": {},
     "output_type": "execute_result"
    }
   ],
   "source": [
    "moscow_genres.head(10)\n",
    "# просмотр первых 10 строк moscow_genres"
   ]
  },
  {
   "cell_type": "markdown",
   "metadata": {
    "id": "cnPG2vnN_Zcv"
   },
   "source": [
    "Теперь повторите то же и для Петербурга.\n",
    "\n",
    "Сгруппируйте таблицу `spb_general` по жанру. Посчитайте прослушивания треков каждого жанра. Результат отсортируйте в порядке убывания и сохраните в таблице `spb_genres`:\n"
   ]
  },
  {
   "cell_type": "code",
   "execution_count": 37,
   "metadata": {
    "id": "gluLIpE7_Zcv"
   },
   "outputs": [],
   "source": [
    "spb_genres = spb_general.groupby('genre')['genre'].count().sort_values(ascending = False)"
   ]
  },
  {
   "cell_type": "markdown",
   "metadata": {
    "id": "5Doha_ODgyQ8"
   },
   "source": [
    "Выведите на экран первые десять строк `spb_genres`:"
   ]
  },
  {
   "cell_type": "code",
   "execution_count": 38,
   "metadata": {
    "id": "uaGJHjVU_Zcv"
   },
   "outputs": [
    {
     "data": {
      "text/plain": [
       "genre\n",
       "pop            2431\n",
       "dance          1932\n",
       "rock           1879\n",
       "electronic     1736\n",
       "hiphop          960\n",
       "alternative     649\n",
       "classical       646\n",
       "rusrap          564\n",
       "ruspop          538\n",
       "world           515\n",
       "Name: genre, dtype: int64"
      ]
     },
     "execution_count": 38,
     "metadata": {},
     "output_type": "execute_result"
    }
   ],
   "source": [
    "spb_genres.head(10) \n",
    "# просмотр первых 10 строк spb_genres"
   ]
  },
  {
   "cell_type": "markdown",
   "metadata": {
    "id": "RY51YJYu_Zcv"
   },
   "source": [
    "**Выводы**"
   ]
  },
  {
   "cell_type": "markdown",
   "metadata": {
    "id": "nVhnJEm__Zcv"
   },
   "source": [
    "Гипотеза частично подтвердилась:\n",
    "* Поп-музыка — самый популярный жанр в Москве, как и предполагала гипотеза. Более того, в топ-10 жанров встречается близкий жанр — русская популярная музыка.\n",
    "* Вопреки ожиданиям, рэп одинаково популярен в Москве и Петербурге. \n"
   ]
  },
  {
   "cell_type": "markdown",
   "metadata": {
    "id": "ykKQ0N65_Zcv"
   },
   "source": [
    "## Итоги исследования"
   ]
  },
  {
   "cell_type": "markdown",
   "metadata": {
    "id": "tjUwbHb3_Zcv"
   },
   "source": [
    "Вы проверили три гипотезы и установили:\n",
    "\n",
    "1. День недели по-разному влияет на активность пользователей в Москве и Петербурге. \n",
    "\n",
    "Первая гипотеза полностью подтвердилась.\n",
    "\n",
    "2. Музыкальные предпочтения не сильно меняются в течение недели — будь то Москва или Петербург. Небольшие различия заметны в начале недели, по понедельникам:\n",
    "* в Москве слушают музыку жанра “world”,\n",
    "* в Петербурге — джаз и классику.\n",
    "\n",
    "Таким образом, вторая гипотеза подтвердилась лишь отчасти. Этот результат мог оказаться иным, если бы не пропуски в данных.\n",
    "\n",
    "3. Во вкусах пользователей Москвы и Петербурга больше общего чем различий. Вопреки ожиданиям, предпочтения жанров в Петербурге напоминают московские.\n",
    "\n",
    "Третья гипотеза не подтвердилась. Если различия в предпочтениях и существуют, на основной массе пользователей они незаметны.\n",
    "\n",
    "**На практике исследования содержат проверки статистических гипотез.**\n",
    "Из данных одного сервиса не всегда можно сделать вывод о всех жителях города.\n",
    "Проверки статистических гипотез покажут, насколько они достоверны, исходя из имеющихся данных. \n",
    "С методами проверок гипотез вы ещё познакомитесь в следующих темах."
   ]
  }
 ],
 "metadata": {
  "ExecuteTimeLog": [
   {
    "duration": 379,
    "start_time": "2022-03-18T14:49:56.573Z"
   },
   {
    "duration": 130,
    "start_time": "2022-03-18T14:50:00.847Z"
   },
   {
    "duration": 118,
    "start_time": "2022-03-18T14:50:30.308Z"
   },
   {
    "duration": 128,
    "start_time": "2022-03-18T14:50:58.961Z"
   },
   {
    "duration": 7,
    "start_time": "2022-03-18T14:51:09.574Z"
   },
   {
    "duration": 7,
    "start_time": "2022-03-18T14:51:18.625Z"
   },
   {
    "duration": 217,
    "start_time": "2022-03-18T14:51:35.383Z"
   },
   {
    "duration": 8,
    "start_time": "2022-03-18T14:51:40.069Z"
   },
   {
    "duration": 1035,
    "start_time": "2022-03-18T14:51:49.543Z"
   },
   {
    "duration": 65,
    "start_time": "2022-03-18T14:51:55.918Z"
   },
   {
    "duration": 7,
    "start_time": "2022-03-18T14:52:16.078Z"
   },
   {
    "duration": 141,
    "start_time": "2022-03-18T14:54:33.449Z"
   },
   {
    "duration": 107,
    "start_time": "2022-03-18T14:54:43.074Z"
   },
   {
    "duration": 151,
    "start_time": "2022-03-18T14:55:02.370Z"
   },
   {
    "duration": 115,
    "start_time": "2022-03-18T14:55:42.030Z"
   },
   {
    "duration": 127,
    "start_time": "2022-03-18T14:56:02.492Z"
   },
   {
    "duration": 7,
    "start_time": "2022-03-18T14:56:18.462Z"
   },
   {
    "duration": 161,
    "start_time": "2022-03-18T14:56:30.737Z"
   },
   {
    "duration": 20,
    "start_time": "2022-03-18T14:56:37.845Z"
   },
   {
    "duration": 33,
    "start_time": "2022-03-18T14:57:15.238Z"
   },
   {
    "duration": 9,
    "start_time": "2022-03-18T15:00:31.094Z"
   },
   {
    "duration": 5,
    "start_time": "2022-03-18T15:01:58.294Z"
   },
   {
    "duration": 12,
    "start_time": "2022-03-18T15:08:15.132Z"
   },
   {
    "duration": 15,
    "start_time": "2022-03-18T15:08:18.899Z"
   },
   {
    "duration": 4,
    "start_time": "2022-03-18T15:09:03.066Z"
   },
   {
    "duration": 33,
    "start_time": "2022-03-18T15:19:42.474Z"
   },
   {
    "duration": 26,
    "start_time": "2022-03-18T15:20:03.029Z"
   },
   {
    "duration": 113,
    "start_time": "2022-03-18T15:24:23.743Z"
   },
   {
    "duration": 18,
    "start_time": "2022-03-18T15:24:32.367Z"
   },
   {
    "duration": 31,
    "start_time": "2022-03-18T15:24:50.208Z"
   },
   {
    "duration": 33,
    "start_time": "2022-03-18T15:25:03.039Z"
   },
   {
    "duration": 72,
    "start_time": "2022-03-18T15:26:29.408Z"
   },
   {
    "duration": 77,
    "start_time": "2022-03-18T15:28:37.455Z"
   },
   {
    "duration": 58,
    "start_time": "2022-03-18T15:28:53.310Z"
   },
   {
    "duration": 52,
    "start_time": "2022-03-18T15:29:19.630Z"
   },
   {
    "duration": 58,
    "start_time": "2022-03-18T15:29:24.149Z"
   },
   {
    "duration": 75,
    "start_time": "2022-03-18T15:29:30.652Z"
   },
   {
    "duration": 8,
    "start_time": "2022-03-18T15:33:27.368Z"
   },
   {
    "duration": 6,
    "start_time": "2022-03-18T15:40:47.577Z"
   },
   {
    "duration": 6,
    "start_time": "2022-03-18T15:40:53.294Z"
   },
   {
    "duration": 2,
    "start_time": "2022-03-18T15:41:03.573Z"
   },
   {
    "duration": 6,
    "start_time": "2022-03-18T15:41:06.375Z"
   },
   {
    "duration": 6,
    "start_time": "2022-03-18T15:41:10.581Z"
   },
   {
    "duration": 3,
    "start_time": "2022-03-18T15:50:49.697Z"
   },
   {
    "duration": 14,
    "start_time": "2022-03-18T15:54:44.242Z"
   },
   {
    "duration": 3,
    "start_time": "2022-03-18T16:03:54.617Z"
   },
   {
    "duration": 12,
    "start_time": "2022-03-18T16:04:06.108Z"
   },
   {
    "duration": 12,
    "start_time": "2022-03-18T16:05:40.403Z"
   },
   {
    "duration": 7,
    "start_time": "2022-03-18T16:06:55.227Z"
   },
   {
    "duration": 11,
    "start_time": "2022-03-18T16:07:03.605Z"
   },
   {
    "duration": 4,
    "start_time": "2022-03-18T16:07:07.308Z"
   },
   {
    "duration": 7,
    "start_time": "2022-03-18T16:09:35.406Z"
   },
   {
    "duration": 6,
    "start_time": "2022-03-18T16:10:00.913Z"
   },
   {
    "duration": 55,
    "start_time": "2022-03-18T16:13:58.073Z"
   },
   {
    "duration": 7,
    "start_time": "2022-03-18T19:01:48.285Z"
   },
   {
    "duration": 43,
    "start_time": "2022-03-18T19:01:51.299Z"
   },
   {
    "duration": 3,
    "start_time": "2022-03-18T19:03:13.329Z"
   },
   {
    "duration": 8,
    "start_time": "2022-03-18T19:03:14.251Z"
   },
   {
    "duration": 6,
    "start_time": "2022-03-18T19:17:16.180Z"
   },
   {
    "duration": 8,
    "start_time": "2022-03-18T19:18:46.886Z"
   },
   {
    "duration": 8,
    "start_time": "2022-03-18T19:22:40.530Z"
   },
   {
    "duration": 47,
    "start_time": "2022-03-18T19:32:28.776Z"
   },
   {
    "duration": 6,
    "start_time": "2022-03-18T19:38:30.777Z"
   },
   {
    "duration": 414,
    "start_time": "2022-03-18T19:38:45.921Z"
   },
   {
    "duration": 153,
    "start_time": "2022-03-18T19:39:10.052Z"
   },
   {
    "duration": 158,
    "start_time": "2022-03-18T19:39:18.907Z"
   },
   {
    "duration": 17,
    "start_time": "2022-03-18T19:39:21.207Z"
   },
   {
    "duration": 2,
    "start_time": "2022-03-18T19:39:41.916Z"
   },
   {
    "duration": 164,
    "start_time": "2022-03-18T19:39:46.090Z"
   },
   {
    "duration": 10,
    "start_time": "2022-03-18T19:39:48.611Z"
   },
   {
    "duration": 4,
    "start_time": "2022-03-18T19:39:59.358Z"
   },
   {
    "duration": 4,
    "start_time": "2022-03-18T19:40:02.176Z"
   },
   {
    "duration": 0,
    "start_time": "2022-03-18T19:40:12.077Z"
   },
   {
    "duration": 0,
    "start_time": "2022-03-18T19:40:23.704Z"
   },
   {
    "duration": 60,
    "start_time": "2022-03-18T19:40:37.049Z"
   },
   {
    "duration": 57,
    "start_time": "2022-03-18T19:41:08.759Z"
   },
   {
    "duration": 65,
    "start_time": "2022-03-18T19:41:12.608Z"
   },
   {
    "duration": 60,
    "start_time": "2022-03-18T19:41:21.565Z"
   },
   {
    "duration": 3,
    "start_time": "2022-03-18T19:41:31.873Z"
   },
   {
    "duration": 14,
    "start_time": "2022-03-18T19:41:36.402Z"
   },
   {
    "duration": 2111,
    "start_time": "2022-03-18T19:45:25.322Z"
   },
   {
    "duration": 2175,
    "start_time": "2022-03-18T19:52:09.016Z"
   },
   {
    "duration": 4,
    "start_time": "2022-03-18T19:52:41.976Z"
   },
   {
    "duration": 19,
    "start_time": "2022-03-18T19:52:46.778Z"
   },
   {
    "duration": 39,
    "start_time": "2022-03-18T19:59:02.464Z"
   },
   {
    "duration": 13,
    "start_time": "2022-03-18T19:59:19.064Z"
   },
   {
    "duration": 10,
    "start_time": "2022-03-18T20:01:08.516Z"
   },
   {
    "duration": 9,
    "start_time": "2022-03-18T20:01:14.099Z"
   },
   {
    "duration": 7,
    "start_time": "2022-03-18T20:01:53.731Z"
   },
   {
    "duration": 13,
    "start_time": "2022-03-18T20:16:00.263Z"
   },
   {
    "duration": 32,
    "start_time": "2022-03-18T20:20:04.766Z"
   },
   {
    "duration": 18,
    "start_time": "2022-03-18T20:21:06.465Z"
   },
   {
    "duration": 6,
    "start_time": "2022-03-18T20:30:50.186Z"
   },
   {
    "duration": 3,
    "start_time": "2022-03-18T20:34:18.647Z"
   },
   {
    "duration": 7,
    "start_time": "2022-03-18T20:35:27.744Z"
   },
   {
    "duration": 12,
    "start_time": "2022-03-18T20:35:40.805Z"
   },
   {
    "duration": 13,
    "start_time": "2022-03-18T20:36:06.938Z"
   },
   {
    "duration": 17,
    "start_time": "2022-03-18T20:36:20.829Z"
   },
   {
    "duration": 15,
    "start_time": "2022-03-18T20:36:57.167Z"
   },
   {
    "duration": 18,
    "start_time": "2022-03-18T20:37:06.478Z"
   },
   {
    "duration": 16,
    "start_time": "2022-03-18T20:37:57.070Z"
   },
   {
    "duration": 16,
    "start_time": "2022-03-18T20:38:00.214Z"
   },
   {
    "duration": 15,
    "start_time": "2022-03-18T20:38:12.983Z"
   },
   {
    "duration": 4,
    "start_time": "2022-03-18T20:49:46.146Z"
   },
   {
    "duration": 6,
    "start_time": "2022-03-18T20:53:32.706Z"
   },
   {
    "duration": 7,
    "start_time": "2022-03-18T20:56:50.496Z"
   },
   {
    "duration": 7,
    "start_time": "2022-03-18T20:57:36.481Z"
   },
   {
    "duration": 3,
    "start_time": "2022-03-18T21:07:52.473Z"
   },
   {
    "duration": 10,
    "start_time": "2022-03-18T21:08:54.569Z"
   },
   {
    "duration": 9,
    "start_time": "2022-03-18T21:10:32.799Z"
   },
   {
    "duration": 9,
    "start_time": "2022-03-18T21:10:53.046Z"
   },
   {
    "duration": 8,
    "start_time": "2022-03-18T21:11:28.170Z"
   },
   {
    "duration": 8,
    "start_time": "2022-03-18T21:11:53.810Z"
   },
   {
    "duration": 9,
    "start_time": "2022-03-18T21:13:51.962Z"
   },
   {
    "duration": 3,
    "start_time": "2022-03-18T21:14:07.371Z"
   },
   {
    "duration": 4,
    "start_time": "2022-03-18T21:17:58.917Z"
   },
   {
    "duration": 4,
    "start_time": "2022-03-18T21:18:22.796Z"
   },
   {
    "duration": 4,
    "start_time": "2022-03-18T21:18:33.587Z"
   },
   {
    "duration": 5,
    "start_time": "2022-03-18T21:19:16.018Z"
   },
   {
    "duration": 11,
    "start_time": "2022-03-18T21:21:49.541Z"
   },
   {
    "duration": 12,
    "start_time": "2022-03-18T21:24:50.011Z"
   },
   {
    "duration": 11,
    "start_time": "2022-03-18T21:25:18.236Z"
   },
   {
    "duration": 4,
    "start_time": "2022-03-18T21:31:47.357Z"
   },
   {
    "duration": 12,
    "start_time": "2022-03-18T21:31:52.170Z"
   },
   {
    "duration": 4,
    "start_time": "2022-03-18T21:32:22.948Z"
   },
   {
    "duration": 12,
    "start_time": "2022-03-18T21:32:27.018Z"
   },
   {
    "duration": 10,
    "start_time": "2022-03-18T21:36:42.754Z"
   },
   {
    "duration": 12,
    "start_time": "2022-03-18T21:37:24.954Z"
   },
   {
    "duration": 4,
    "start_time": "2022-03-18T21:42:21.219Z"
   },
   {
    "duration": 11,
    "start_time": "2022-03-18T21:42:25.521Z"
   },
   {
    "duration": 4,
    "start_time": "2022-03-18T21:43:20.763Z"
   },
   {
    "duration": 12,
    "start_time": "2022-03-18T21:43:25.473Z"
   },
   {
    "duration": 4,
    "start_time": "2022-03-18T21:47:17.282Z"
   },
   {
    "duration": 13,
    "start_time": "2022-03-18T21:47:19.045Z"
   },
   {
    "duration": 4,
    "start_time": "2022-03-18T21:48:53.515Z"
   },
   {
    "duration": 12,
    "start_time": "2022-03-18T21:48:54.929Z"
   },
   {
    "duration": 110,
    "start_time": "2022-03-18T21:50:31.708Z"
   },
   {
    "duration": 12,
    "start_time": "2022-03-18T21:50:35.086Z"
   },
   {
    "duration": 4,
    "start_time": "2022-03-18T21:50:49.553Z"
   },
   {
    "duration": 12,
    "start_time": "2022-03-18T21:55:34.007Z"
   },
   {
    "duration": 12,
    "start_time": "2022-03-18T22:10:22.733Z"
   },
   {
    "duration": 5,
    "start_time": "2022-03-18T22:11:26.879Z"
   },
   {
    "duration": 12,
    "start_time": "2022-03-18T22:11:30.169Z"
   },
   {
    "duration": 2,
    "start_time": "2022-03-18T22:12:07.377Z"
   },
   {
    "duration": 150,
    "start_time": "2022-03-18T22:12:09.103Z"
   },
   {
    "duration": 11,
    "start_time": "2022-03-18T22:12:10.455Z"
   },
   {
    "duration": 31,
    "start_time": "2022-03-18T22:12:12.174Z"
   },
   {
    "duration": 4,
    "start_time": "2022-03-18T22:12:14.967Z"
   },
   {
    "duration": 3,
    "start_time": "2022-03-18T22:12:16.565Z"
   },
   {
    "duration": 5,
    "start_time": "2022-03-18T22:12:17.514Z"
   },
   {
    "duration": 24,
    "start_time": "2022-03-18T22:12:18.731Z"
   },
   {
    "duration": 18,
    "start_time": "2022-03-18T22:12:23.766Z"
   },
   {
    "duration": 25,
    "start_time": "2022-03-18T22:12:25.361Z"
   },
   {
    "duration": 60,
    "start_time": "2022-03-18T22:12:27.453Z"
   },
   {
    "duration": 64,
    "start_time": "2022-03-18T22:12:29.085Z"
   },
   {
    "duration": 55,
    "start_time": "2022-03-18T22:12:30.472Z"
   },
   {
    "duration": 38,
    "start_time": "2022-03-18T22:12:48.268Z"
   },
   {
    "duration": 3,
    "start_time": "2022-03-18T22:12:51.661Z"
   },
   {
    "duration": 9,
    "start_time": "2022-03-18T22:12:52.709Z"
   },
   {
    "duration": 9,
    "start_time": "2022-03-18T22:12:54.256Z"
   },
   {
    "duration": 12,
    "start_time": "2022-03-18T22:12:57.350Z"
   },
   {
    "duration": 12,
    "start_time": "2022-03-18T22:13:00.656Z"
   },
   {
    "duration": 3,
    "start_time": "2022-03-18T22:13:03.670Z"
   },
   {
    "duration": 21,
    "start_time": "2022-03-18T22:13:17.376Z"
   },
   {
    "duration": 18,
    "start_time": "2022-03-18T22:13:17.901Z"
   },
   {
    "duration": 18,
    "start_time": "2022-03-18T22:13:18.271Z"
   },
   {
    "duration": 17,
    "start_time": "2022-03-18T22:13:18.726Z"
   },
   {
    "duration": 20,
    "start_time": "2022-03-18T22:13:19.056Z"
   },
   {
    "duration": 17,
    "start_time": "2022-03-18T22:13:19.543Z"
   },
   {
    "duration": 7,
    "start_time": "2022-03-18T22:13:20.637Z"
   },
   {
    "duration": 6,
    "start_time": "2022-03-18T22:13:26.168Z"
   },
   {
    "duration": 6,
    "start_time": "2022-03-18T22:13:26.615Z"
   },
   {
    "duration": 4,
    "start_time": "2022-03-18T22:13:27.591Z"
   },
   {
    "duration": 12,
    "start_time": "2022-03-18T22:13:30.181Z"
   },
   {
    "duration": 11,
    "start_time": "2022-03-18T22:13:30.959Z"
   },
   {
    "duration": 3,
    "start_time": "2022-03-18T22:13:32.038Z"
   },
   {
    "duration": 2,
    "start_time": "2022-03-18T22:13:34.566Z"
   },
   {
    "duration": 2,
    "start_time": "2022-03-18T22:15:12.521Z"
   },
   {
    "duration": 4,
    "start_time": "2022-03-18T22:19:40.302Z"
   },
   {
    "duration": 28,
    "start_time": "2022-03-18T22:19:44.551Z"
   },
   {
    "duration": 5,
    "start_time": "2022-03-18T22:20:11.193Z"
   },
   {
    "duration": 27,
    "start_time": "2022-03-18T22:20:21.389Z"
   },
   {
    "duration": 34,
    "start_time": "2022-03-18T22:21:58.429Z"
   },
   {
    "duration": 37,
    "start_time": "2022-03-18T22:22:05.685Z"
   },
   {
    "duration": 9,
    "start_time": "2022-03-18T22:22:07.124Z"
   },
   {
    "duration": 26,
    "start_time": "2022-03-18T22:22:43.143Z"
   },
   {
    "duration": 4,
    "start_time": "2022-03-18T22:23:06.783Z"
   },
   {
    "duration": 13,
    "start_time": "2022-03-18T22:23:10.786Z"
   },
   {
    "duration": 4,
    "start_time": "2022-03-18T22:23:36.642Z"
   },
   {
    "duration": 23,
    "start_time": "2022-03-18T22:23:39.453Z"
   },
   {
    "duration": 23,
    "start_time": "2022-03-18T22:23:43.076Z"
   },
   {
    "duration": 24,
    "start_time": "2022-03-18T22:23:44.467Z"
   },
   {
    "duration": 23,
    "start_time": "2022-03-18T22:23:45.431Z"
   },
   {
    "duration": 4,
    "start_time": "2022-03-18T22:25:21.886Z"
   },
   {
    "duration": 16,
    "start_time": "2022-03-18T22:25:23.908Z"
   },
   {
    "duration": 21,
    "start_time": "2022-03-18T22:25:26.049Z"
   },
   {
    "duration": 12,
    "start_time": "2022-03-18T22:25:27.915Z"
   },
   {
    "duration": 12,
    "start_time": "2022-03-18T22:25:28.972Z"
   },
   {
    "duration": 4,
    "start_time": "2022-03-18T22:26:41.441Z"
   },
   {
    "duration": 11,
    "start_time": "2022-03-18T22:26:42.886Z"
   },
   {
    "duration": 12,
    "start_time": "2022-03-18T22:26:50.365Z"
   },
   {
    "duration": 12,
    "start_time": "2022-03-18T22:26:51.453Z"
   },
   {
    "duration": 13,
    "start_time": "2022-03-18T22:30:25.660Z"
   },
   {
    "duration": 12,
    "start_time": "2022-03-18T22:30:51.563Z"
   },
   {
    "duration": 4,
    "start_time": "2022-03-18T22:30:53.565Z"
   },
   {
    "duration": 23,
    "start_time": "2022-03-18T22:30:55.453Z"
   },
   {
    "duration": 19,
    "start_time": "2022-03-18T22:30:56.761Z"
   },
   {
    "duration": 27,
    "start_time": "2022-03-18T22:30:57.367Z"
   },
   {
    "duration": 18,
    "start_time": "2022-03-18T22:30:57.844Z"
   },
   {
    "duration": 136,
    "start_time": "2022-03-18T22:44:26.363Z"
   },
   {
    "duration": 126,
    "start_time": "2022-03-18T22:44:54.171Z"
   },
   {
    "duration": 4,
    "start_time": "2022-03-18T22:45:26.363Z"
   },
   {
    "duration": 53,
    "start_time": "2022-03-18T22:45:31.734Z"
   },
   {
    "duration": 55,
    "start_time": "2022-03-18T22:45:38.764Z"
   },
   {
    "duration": 49,
    "start_time": "2022-03-18T22:45:40.167Z"
   },
   {
    "duration": 56,
    "start_time": "2022-03-18T22:45:41.051Z"
   },
   {
    "duration": 58,
    "start_time": "2022-03-18T22:46:09.970Z"
   },
   {
    "duration": 5,
    "start_time": "2022-03-18T22:52:12.419Z"
   },
   {
    "duration": 21,
    "start_time": "2022-03-18T22:52:14.223Z"
   },
   {
    "duration": 15,
    "start_time": "2022-03-18T22:52:17.688Z"
   },
   {
    "duration": 19,
    "start_time": "2022-03-18T22:52:18.840Z"
   },
   {
    "duration": 14,
    "start_time": "2022-03-18T22:52:19.920Z"
   },
   {
    "duration": 27,
    "start_time": "2022-03-18T23:00:18.355Z"
   },
   {
    "duration": 25,
    "start_time": "2022-03-18T23:00:40.627Z"
   },
   {
    "duration": 8,
    "start_time": "2022-03-18T23:01:06.706Z"
   },
   {
    "duration": 27,
    "start_time": "2022-03-18T23:03:57.082Z"
   },
   {
    "duration": 33,
    "start_time": "2022-03-18T23:04:11.689Z"
   },
   {
    "duration": 27,
    "start_time": "2022-03-18T23:04:34.385Z"
   },
   {
    "duration": 17,
    "start_time": "2022-03-18T23:05:40.872Z"
   },
   {
    "duration": 9,
    "start_time": "2022-03-18T23:06:18.272Z"
   },
   {
    "duration": 113,
    "start_time": "2022-03-19T05:48:09.839Z"
   },
   {
    "duration": 208,
    "start_time": "2022-03-19T08:29:48.223Z"
   },
   {
    "duration": 3,
    "start_time": "2022-03-19T08:30:07.435Z"
   },
   {
    "duration": 3,
    "start_time": "2022-03-19T08:30:14.112Z"
   },
   {
    "duration": 5,
    "start_time": "2022-03-19T08:32:03.519Z"
   },
   {
    "duration": 5,
    "start_time": "2022-03-19T08:32:33.234Z"
   },
   {
    "duration": 2,
    "start_time": "2022-03-19T08:34:55.538Z"
   },
   {
    "duration": 42,
    "start_time": "2022-03-19T08:36:59.748Z"
   },
   {
    "duration": 7,
    "start_time": "2022-03-19T08:41:27.323Z"
   },
   {
    "duration": 6,
    "start_time": "2022-03-19T08:44:24.697Z"
   },
   {
    "duration": 6,
    "start_time": "2022-03-19T08:44:35.457Z"
   },
   {
    "duration": 7,
    "start_time": "2022-03-19T08:44:46.089Z"
   },
   {
    "duration": 203,
    "start_time": "2022-03-19T08:44:53.319Z"
   },
   {
    "duration": 6,
    "start_time": "2022-03-19T08:45:01.752Z"
   },
   {
    "duration": 8,
    "start_time": "2022-03-19T09:03:50.075Z"
   },
   {
    "duration": 465,
    "start_time": "2022-03-19T09:04:07.651Z"
   },
   {
    "duration": 178,
    "start_time": "2022-03-19T09:04:09.762Z"
   },
   {
    "duration": 19,
    "start_time": "2022-03-19T09:04:12.362Z"
   },
   {
    "duration": 42,
    "start_time": "2022-03-19T09:04:16.837Z"
   },
   {
    "duration": 6,
    "start_time": "2022-03-19T09:04:17.066Z"
   },
   {
    "duration": 254,
    "start_time": "2022-03-19T09:04:39.068Z"
   },
   {
    "duration": 4,
    "start_time": "2022-03-19T09:05:14.451Z"
   },
   {
    "duration": 20,
    "start_time": "2022-03-19T09:05:43.716Z"
   },
   {
    "duration": 11,
    "start_time": "2022-03-19T09:06:01.021Z"
   },
   {
    "duration": 14,
    "start_time": "2022-03-19T09:06:10.342Z"
   },
   {
    "duration": 26,
    "start_time": "2022-03-19T09:07:27.078Z"
   },
   {
    "duration": 8,
    "start_time": "2022-03-19T09:08:24.837Z"
   },
   {
    "duration": 7,
    "start_time": "2022-03-19T09:08:32.771Z"
   },
   {
    "duration": 7,
    "start_time": "2022-03-19T09:08:50.348Z"
   },
   {
    "duration": 7,
    "start_time": "2022-03-19T09:11:01.284Z"
   },
   {
    "duration": 6,
    "start_time": "2022-03-19T09:11:03.729Z"
   },
   {
    "duration": 7,
    "start_time": "2022-03-19T09:11:58.714Z"
   },
   {
    "duration": 7,
    "start_time": "2022-03-19T09:12:08.156Z"
   },
   {
    "duration": 7,
    "start_time": "2022-03-19T09:14:16.397Z"
   },
   {
    "duration": 7,
    "start_time": "2022-03-19T09:14:52.169Z"
   },
   {
    "duration": 6,
    "start_time": "2022-03-19T09:15:01.325Z"
   },
   {
    "duration": 7,
    "start_time": "2022-03-19T09:15:21.144Z"
   },
   {
    "duration": 7,
    "start_time": "2022-03-19T09:15:26.538Z"
   },
   {
    "duration": 7,
    "start_time": "2022-03-19T09:15:42.778Z"
   },
   {
    "duration": 7,
    "start_time": "2022-03-19T09:17:18.830Z"
   },
   {
    "duration": 8,
    "start_time": "2022-03-19T09:17:56.279Z"
   },
   {
    "duration": 19,
    "start_time": "2022-03-19T09:18:10.673Z"
   },
   {
    "duration": 10,
    "start_time": "2022-03-19T09:18:11.384Z"
   },
   {
    "duration": 4,
    "start_time": "2022-03-19T09:18:23.461Z"
   },
   {
    "duration": 19,
    "start_time": "2022-03-19T09:18:25.395Z"
   },
   {
    "duration": 12,
    "start_time": "2022-03-19T09:18:27.124Z"
   },
   {
    "duration": 18,
    "start_time": "2022-03-19T09:18:27.406Z"
   },
   {
    "duration": 12,
    "start_time": "2022-03-19T09:18:27.977Z"
   },
   {
    "duration": 12,
    "start_time": "2022-03-19T09:18:33.854Z"
   },
   {
    "duration": 11,
    "start_time": "2022-03-19T09:18:37.218Z"
   },
   {
    "duration": 14,
    "start_time": "2022-03-19T09:19:01.228Z"
   },
   {
    "duration": 14,
    "start_time": "2022-03-19T09:19:11.595Z"
   },
   {
    "duration": 14,
    "start_time": "2022-03-19T09:19:26.098Z"
   },
   {
    "duration": 13,
    "start_time": "2022-03-19T09:31:19.384Z"
   },
   {
    "duration": 13,
    "start_time": "2022-03-19T09:31:51.484Z"
   },
   {
    "duration": 19,
    "start_time": "2022-03-19T09:31:59.215Z"
   },
   {
    "duration": 13,
    "start_time": "2022-03-19T09:32:11.748Z"
   },
   {
    "duration": 12,
    "start_time": "2022-03-19T09:58:04.590Z"
   },
   {
    "duration": 20,
    "start_time": "2022-03-19T10:15:33.507Z"
   },
   {
    "duration": 11,
    "start_time": "2022-03-19T10:21:57.243Z"
   },
   {
    "duration": 4,
    "start_time": "2022-03-19T10:22:06.249Z"
   },
   {
    "duration": 6,
    "start_time": "2022-03-19T10:22:24.639Z"
   },
   {
    "duration": 5,
    "start_time": "2022-03-19T10:22:31.985Z"
   },
   {
    "duration": 605,
    "start_time": "2022-03-20T15:16:00.627Z"
   },
   {
    "duration": 215,
    "start_time": "2022-03-20T15:16:01.235Z"
   },
   {
    "duration": 33,
    "start_time": "2022-03-20T15:16:01.453Z"
   },
   {
    "duration": 52,
    "start_time": "2022-03-20T15:16:01.489Z"
   },
   {
    "duration": 17,
    "start_time": "2022-03-20T15:16:01.543Z"
   },
   {
    "duration": 35,
    "start_time": "2022-03-20T15:16:01.563Z"
   },
   {
    "duration": 47,
    "start_time": "2022-03-20T15:16:01.600Z"
   },
   {
    "duration": 71,
    "start_time": "2022-03-20T15:16:01.649Z"
   },
   {
    "duration": 43,
    "start_time": "2022-03-20T15:16:01.723Z"
   },
   {
    "duration": 47,
    "start_time": "2022-03-20T15:16:01.770Z"
   },
   {
    "duration": 140,
    "start_time": "2022-03-20T15:16:01.819Z"
   },
   {
    "duration": 130,
    "start_time": "2022-03-20T15:16:01.961Z"
   },
   {
    "duration": 134,
    "start_time": "2022-03-20T15:16:02.093Z"
   },
   {
    "duration": 99,
    "start_time": "2022-03-20T15:16:02.229Z"
   },
   {
    "duration": 5,
    "start_time": "2022-03-20T15:16:02.331Z"
   },
   {
    "duration": 54,
    "start_time": "2022-03-20T15:16:02.339Z"
   },
   {
    "duration": 18,
    "start_time": "2022-03-20T15:16:02.395Z"
   },
   {
    "duration": 18,
    "start_time": "2022-03-20T15:16:02.416Z"
   },
   {
    "duration": 44,
    "start_time": "2022-03-20T15:16:02.436Z"
   },
   {
    "duration": 5,
    "start_time": "2022-03-20T15:16:02.482Z"
   },
   {
    "duration": 31,
    "start_time": "2022-03-20T15:16:02.490Z"
   },
   {
    "duration": 20,
    "start_time": "2022-03-20T15:16:02.523Z"
   },
   {
    "duration": 59,
    "start_time": "2022-03-20T15:16:02.545Z"
   },
   {
    "duration": 30,
    "start_time": "2022-03-20T15:16:02.607Z"
   },
   {
    "duration": 54,
    "start_time": "2022-03-20T15:16:02.640Z"
   },
   {
    "duration": 20,
    "start_time": "2022-03-20T15:16:02.696Z"
   },
   {
    "duration": 20,
    "start_time": "2022-03-20T15:16:02.719Z"
   },
   {
    "duration": 23,
    "start_time": "2022-03-20T15:16:02.773Z"
   },
   {
    "duration": 12,
    "start_time": "2022-03-20T15:16:02.800Z"
   },
   {
    "duration": 7,
    "start_time": "2022-03-20T15:16:02.815Z"
   },
   {
    "duration": 71,
    "start_time": "2022-03-20T15:16:02.825Z"
   },
   {
    "duration": 25,
    "start_time": "2022-03-20T15:16:02.899Z"
   },
   {
    "duration": 51,
    "start_time": "2022-03-20T15:16:02.926Z"
   },
   {
    "duration": 18,
    "start_time": "2022-03-20T15:16:02.979Z"
   },
   {
    "duration": 12,
    "start_time": "2022-03-20T15:16:03.000Z"
   },
   {
    "duration": 6,
    "start_time": "2022-03-20T15:16:03.014Z"
   },
   {
    "duration": 10,
    "start_time": "2022-03-20T15:16:03.022Z"
   },
   {
    "duration": 45,
    "start_time": "2022-03-20T15:16:03.034Z"
   }
  ],
  "colab": {
   "collapsed_sections": [
    "E0vqbgi9ay0H",
    "VUC88oWjTJw2"
   ],
   "name": "yandex_music_project_2021.2.ipynb",
   "provenance": []
  },
  "kernelspec": {
   "display_name": "Python 3 (ipykernel)",
   "language": "python",
   "name": "python3"
  },
  "language_info": {
   "codemirror_mode": {
    "name": "ipython",
    "version": 3
   },
   "file_extension": ".py",
   "mimetype": "text/x-python",
   "name": "python",
   "nbconvert_exporter": "python",
   "pygments_lexer": "ipython3",
   "version": "3.9.12"
  },
  "toc": {
   "base_numbering": 1,
   "nav_menu": {},
   "number_sections": true,
   "sideBar": true,
   "skip_h1_title": true,
   "title_cell": "Table of Contents",
   "title_sidebar": "Contents",
   "toc_cell": false,
   "toc_position": {},
   "toc_section_display": true,
   "toc_window_display": false
  }
 },
 "nbformat": 4,
 "nbformat_minor": 1
}
